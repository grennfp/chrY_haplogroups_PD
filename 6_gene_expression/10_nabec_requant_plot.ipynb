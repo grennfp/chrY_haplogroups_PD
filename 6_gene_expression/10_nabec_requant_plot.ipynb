{
 "cells": [
  {
   "cell_type": "markdown",
   "metadata": {},
   "source": [
    "# Plot Y Chromosome Gene Brain Expression From Requantified Data with Different Y Chromosome Haplogroups\n",
    "- **Author(s)** - Frank Grenn\n",
    "- **Quick Description:** Get NABEC requantified expression data, subset chrY genes and transcripts, and plot with haplogroup."
   ]
  },
  {
   "cell_type": "code",
   "execution_count": null,
   "metadata": {},
   "outputs": [],
   "source": [
    "\n",
    "import os\n",
    "\n",
    "import pandas as pd\n",
    "import mygene\n",
    "\n",
    "import matplotlib.pyplot as plt\n",
    "%matplotlib inline\n",
    "\n",
    "import seaborn as sns"
   ]
  },
  {
   "cell_type": "code",
   "execution_count": null,
   "metadata": {},
   "outputs": [],
   "source": [
    "WRKDIR = \"/PATH\"\n",
    "NABEC_DIR = \"/PATH/quants_default_ref\"\n"
   ]
  },
  {
   "cell_type": "markdown",
   "metadata": {},
   "source": [
    "## NABEC Frontal Cortex Data"
   ]
  },
  {
   "cell_type": "code",
   "execution_count": null,
   "metadata": {},
   "outputs": [],
   "source": [
    "nabec_counts  = pd.read_csv(f\"{NABEC_DIR}/quants_chrY_default_ref_matrix.csv\")\n",
    "nabec_counts = nabec_counts.set_index('Geneid')\n",
    "print(nabec_counts.shape)\n",
    "print(nabec_counts.iloc[0:5,0:5])"
   ]
  },
  {
   "cell_type": "code",
   "execution_count": null,
   "metadata": {},
   "outputs": [],
   "source": []
  },
  {
   "cell_type": "markdown",
   "metadata": {},
   "source": [
    "## Plot for a gene"
   ]
  },
  {
   "cell_type": "code",
   "execution_count": null,
   "metadata": {},
   "outputs": [],
   "source": [
    "#gene = \"ENSG00000184895\"\n",
    "gene = \"ENSG00000184895.8\""
   ]
  },
  {
   "cell_type": "code",
   "execution_count": null,
   "metadata": {},
   "outputs": [],
   "source": [
    "nabec_counts.loc[gene,].to_frame()"
   ]
  },
  {
   "cell_type": "code",
   "execution_count": null,
   "metadata": {
    "tags": []
   },
   "outputs": [],
   "source": [
    "#merge with haplogroup data\n",
    "nabec_haplo = pd.read_csv(f\"{WRKDIR}/chrY/output_nabec/nabec_haplos.csv\")\n",
    "nabec_haplo['id_fctx'] = nabec_haplo['new_id'] + 'fctx'\n",
    "print(nabec_haplo.shape)\n",
    "print(nabec_haplo.head())"
   ]
  },
  {
   "cell_type": "code",
   "execution_count": null,
   "metadata": {},
   "outputs": [],
   "source": [
    "\n",
    "merged_nabec = pd.merge(left = nabec_counts.loc[gene,].to_frame(), right = nabec_haplo, left_index=True, right_on = 'id_fctx')\n",
    "print(merged_nabec.shape)\n",
    "print(merged_nabec.head())\n",
    "print(merged_nabec.yhaplo_haplo_major.value_counts())"
   ]
  },
  {
   "cell_type": "code",
   "execution_count": null,
   "metadata": {},
   "outputs": [],
   "source": [
    "print(merged_nabec.shape)\n",
    "temp = merged_nabec[merged_nabec.yhaplo_haplo_major.isin(['E','G','I','J','R'])]\n",
    "print(temp.shape)"
   ]
  },
  {
   "cell_type": "code",
   "execution_count": null,
   "metadata": {},
   "outputs": [],
   "source": [
    "temp.head()"
   ]
  },
  {
   "cell_type": "code",
   "execution_count": null,
   "metadata": {},
   "outputs": [],
   "source": [
    "\n",
    "fig = plt.figure(figsize=(7, 5), dpi=80)\n",
    "fig.subplots_adjust(hspace=0.5, wspace=0.2)\n",
    "sns.set()\n",
    "\n",
    "\n",
    "data_subset = merged_nabec[[gene,'yhaplo_haplo_major']]\n",
    "data_subset = data_subset[data_subset.yhaplo_haplo_major.isin(['E','G','I','J','R'])]\n",
    "data_subset[gene] = data_subset[gene].astype('float64')\n",
    "print(data_subset.shape)\n",
    "print(data_subset.head())\n",
    "sns_plot = sns.violinplot(x='yhaplo_haplo_major',y = gene, data = data_subset, order=sorted(set(data_subset['yhaplo_haplo_major'].tolist())))\n",
    "sns_plot = sns.stripplot(palette=\"tab10\",linewidth=1,x='yhaplo_haplo_major', y=gene, data=data_subset,color=\".4\", order=sorted(set(data_subset['yhaplo_haplo_major'].tolist())))\n",
    "\n",
    "\n",
    "\n",
    "\n",
    "plt.xlabel(f\"Y Chromosome Haplogroup\")\n",
    "plt.ylabel(f\"Counts\")\n",
    "plt.title(f\"NABEC Cortex SRY (uc004fqg.1) Expression \")\n",
    "\n",
    "plt.show()\n",
    "sns_plot.get_figure().savefig(f\"{WRKDIR}/chrY/expression/nabec_sry_counts_plot.png\")"
   ]
  },
  {
   "cell_type": "code",
   "execution_count": null,
   "metadata": {},
   "outputs": [],
   "source": []
  }
 ],
 "metadata": {
  "kernelspec": {
   "display_name": "python/3.7",
   "language": "python",
   "name": "py3.7"
  },
  "language_info": {
   "codemirror_mode": {
    "name": "ipython",
    "version": 3
   },
   "file_extension": ".py",
   "mimetype": "text/x-python",
   "name": "python",
   "nbconvert_exporter": "python",
   "pygments_lexer": "ipython3",
   "version": "3.7.5"
  },
  "toc": {
   "base_numbering": 1,
   "nav_menu": {},
   "number_sections": true,
   "sideBar": true,
   "skip_h1_title": false,
   "title_cell": "Table of Contents",
   "title_sidebar": "Contents",
   "toc_cell": false,
   "toc_position": {},
   "toc_section_display": true,
   "toc_window_display": false
  }
 },
 "nbformat": 4,
 "nbformat_minor": 4
}
