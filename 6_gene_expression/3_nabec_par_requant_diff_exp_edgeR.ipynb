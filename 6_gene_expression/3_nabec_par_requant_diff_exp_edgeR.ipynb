{
 "cells": [
  {
   "cell_type": "markdown",
   "id": "ab17fc26-4b18-4c3e-a8be-8fb5f5e6bad0",
   "metadata": {},
   "source": [
    "# Chromosome Y Gene Differential Expression in between NABEC Y-PAR Masked and Unmasked Data\n",
    "- **Author(s)** - Frank Grenn\n",
    "- **Date Started** - August 2021\n",
    "- **Quick Description:** Differential gene expression between nabec data quantified with a reference genome with Y-PARs masked and with Y-PARs unmasked/included"
   ]
  },
  {
   "cell_type": "code",
   "execution_count": null,
   "id": "9f06432c-8281-46c8-879e-cc8060d42a4d",
   "metadata": {},
   "outputs": [],
   "source": [
    "library(data.table)\n",
    "library(dplyr)\n",
    "library(edgeR)\n"
   ]
  },
  {
   "cell_type": "code",
   "execution_count": null,
   "id": "ea0d5ca4-fcf3-4b10-85ff-abff95c19313",
   "metadata": {},
   "outputs": [],
   "source": [
    "WRKDIR <- \"$PATH/chrY\""
   ]
  },
  {
   "cell_type": "markdown",
   "id": "274a9d44-c30f-4de7-8587-2a23ccfb02ee",
   "metadata": {},
   "source": [
    "## Get sample list"
   ]
  },
  {
   "cell_type": "code",
   "execution_count": null,
   "id": "d7cca52a-cdf0-4a3a-a507-d8b494fafb0c",
   "metadata": {},
   "outputs": [],
   "source": [
    "samples <- list.files(\"$PATH/quants_PAR_masked\")\n",
    "samples <- samples[grepl(\"fctx\",samples)]"
   ]
  },
  {
   "cell_type": "markdown",
   "id": "a657e5a0-c449-4d78-80a7-28911583bff3",
   "metadata": {},
   "source": [
    "## Get PAR masked data"
   ]
  },
  {
   "cell_type": "code",
   "execution_count": null,
   "id": "cfd7c04f-d574-4fe6-9bad-565a001c3061",
   "metadata": {},
   "outputs": [],
   "source": [
    "counts_PAR_mask <- as.data.frame(fread(\"$PATH/quants_PAR_masked_matrix.csv\"))\n",
    "rownames(counts_PAR_mask) <- counts_PAR_mask$'Geneid'\n",
    "print(dim(counts_PAR_mask))\n",
    "print(counts_PAR_mask[1:5,1:5])\n",
    "\n"
   ]
  },
  {
   "cell_type": "markdown",
   "id": "c3f55e03-fb14-4133-b047-8fc925a78905",
   "metadata": {},
   "source": [
    "## Get PAR unmasked data"
   ]
  },
  {
   "cell_type": "code",
   "execution_count": null,
   "id": "4a8a1ce8-8f30-4137-b472-889993573859",
   "metadata": {},
   "outputs": [],
   "source": [
    "counts_default_ref <- as.data.frame(fread(\"$PATH/quants_default_ref_matrix.csv\"))\n",
    "rownames(counts_default_ref) <- counts_default_ref$'Geneid'\n",
    "print(dim(counts_default_ref))\n",
    "print(counts_default_ref[1:5,1:5])\n"
   ]
  },
  {
   "cell_type": "markdown",
   "id": "b4673a67-005e-4b2f-8fde-71eeb326d74b",
   "metadata": {},
   "source": [
    "## Get sample data and combine masked and unmasked datasets"
   ]
  },
  {
   "cell_type": "code",
   "execution_count": null,
   "id": "9b562d63-3da2-4b05-9332-71727cd27174",
   "metadata": {},
   "outputs": [],
   "source": [
    "\n",
    "#get the sample names from the pheno file\n",
    "covs <- fread(\"$PATH/sample_info_new_id.txt\")\n",
    "print(dim(covs))\n",
    "print(head(covs))"
   ]
  },
  {
   "cell_type": "code",
   "execution_count": null,
   "id": "5ac3b9f6-3a9d-43ab-bb70-5a0ca2f843c7",
   "metadata": {},
   "outputs": [],
   "source": [
    "print(length(covs$new_id))\n",
    "print(length(samples))\n",
    "\n",
    "dim((covs[which(covs$new_id %in% samples)]))\n",
    "\n",
    "print(unique(covs$Gender))\n",
    "\n",
    "print(dim(covs[covs$Gender==\"male\"]))\n",
    "print(dim(covs[covs$Gender==\"female\"]))\n",
    "\n",
    "male_covs <- covs[(which(covs$new_id %in% samples & covs$Gender == \"male\")),]\n",
    "print(dim(male_covs))\n",
    "print(head(male_covs))\n",
    "\n",
    "\n",
    "head(male_covs)"
   ]
  },
  {
   "cell_type": "code",
   "execution_count": null,
   "id": "9c6f0904-cdb6-4f6b-9b4d-616917081046",
   "metadata": {},
   "outputs": [],
   "source": [
    "#get male columns \n",
    "male_cols <- colnames(counts_PAR_mask)[(colnames(counts_PAR_mask) %in% male_covs$new_id)]\n",
    "#select male columns from counts\n",
    "counts_PAR_mask_male <- counts_PAR_mask[,male_cols]\n",
    "print(dim(counts_PAR_mask_male))\n",
    "\n",
    "#get male columns \n",
    "male_cols <- colnames(counts_default_ref)[(colnames(counts_default_ref) %in% male_covs$new_id)]\n",
    "#select male columns from counts\n",
    "counts_default_male <- counts_default_ref[,male_cols]\n",
    "print(dim(counts_default_male))\n"
   ]
  },
  {
   "cell_type": "code",
   "execution_count": null,
   "id": "3dd61ff9-33d0-4e6e-b846-507dc2fd828c",
   "metadata": {
    "tags": []
   },
   "outputs": [],
   "source": [
    "\n",
    "print(head(counts_PAR_mask_male))\n",
    "colnames(counts_PAR_mask_male) <- paste0(colnames(counts_PAR_mask_male),\"_PAR_mask\")\n",
    "print(head(counts_PAR_mask_male))\n",
    "\n",
    "print(head(counts_default_male))\n",
    "colnames(counts_default_male) <- paste0(colnames(counts_default_male),\"_default\")\n",
    "print(head(counts_default_male))\n"
   ]
  },
  {
   "cell_type": "code",
   "execution_count": null,
   "id": "3d95a66f-3c84-493f-8306-a5da780b3480",
   "metadata": {
    "tags": []
   },
   "outputs": [],
   "source": [
    "final_exp <- merge(counts_PAR_mask_male, counts_default_male, by=0, all= TRUE)\n",
    "rownames(final_exp) <- final_exp$'Row.names'\n",
    "print(dim(final_exp))\n",
    "print(head(final_exp))\n",
    "final_exp <- final_exp[,2:length(colnames(final_exp))]"
   ]
  },
  {
   "cell_type": "code",
   "execution_count": null,
   "id": "4061771d-5475-4c76-b10a-e44f61b35dd4",
   "metadata": {
    "tags": []
   },
   "outputs": [],
   "source": [
    "\n",
    "mask_covs <- male_covs\n",
    "mask_covs$new_id <- paste0(mask_covs$new_id,\"_PAR_mask\")\n",
    "mask_covs$masked <- \"PAR_masked\"\n",
    "def_covs <- male_covs\n",
    "def_covs$new_id <- paste0(def_covs$new_id,\"_default\")\n",
    "def_covs$masked <- \"default\"\n",
    "\n",
    "final_covs <- rbind(mask_covs, def_covs)\n",
    "rownames(final_covs) <- final_covs$new_id\n",
    "print(dim(final_covs))\n",
    "print(head(final_covs))\n",
    "print(tail(final_covs))\n",
    "\n",
    "#remove rows with all zeros\n",
    "print(\"how many after removing all zero rows\")\n",
    "print(dim(final_exp[rowSums(final_exp[])>0,]))\n",
    "final_exp <- final_exp[rowSums(final_exp[])>0,]"
   ]
  },
  {
   "cell_type": "code",
   "execution_count": null,
   "id": "de08cc90-f387-409b-9d25-aa04b0ce4371",
   "metadata": {},
   "outputs": [],
   "source": [
    "#use dplyr select to reorder columns \n",
    "final_exp <- final_exp %>% dplyr::select(final_covs$new_id)\n",
    "print(dim(final_exp))\n",
    "print(dim(final_covs))\n",
    "\n",
    "#check if colnames of cntTable match rownames of demogdiag metadata and if they are in the same order\n",
    "print(\"check if data cols are same as meta data rows\")\n",
    "print(all(colnames(final_exp) == rownames(final_covs)))"
   ]
  },
  {
   "cell_type": "markdown",
   "id": "6cbffb36-c3fe-427d-98b7-bd6bbbdde421",
   "metadata": {},
   "source": [
    "## Differential expression analysis with edgeR"
   ]
  },
  {
   "cell_type": "code",
   "execution_count": null,
   "id": "1fcdb934-7c02-43d3-999e-816ff6ca9bdd",
   "metadata": {},
   "outputs": [],
   "source": [
    "dge <- DGEList(counts=final_exp, samples = final_covs, group = final_covs$masked)\n"
   ]
  },
  {
   "cell_type": "code",
   "execution_count": null,
   "id": "8c9d14a1-b4c2-494c-9ad3-373b864b8fb4",
   "metadata": {},
   "outputs": [],
   "source": [
    "design <- model.matrix(~0+group,data = dge$samples)\n"
   ]
  },
  {
   "cell_type": "code",
   "execution_count": null,
   "id": "dff23ab5-2ba9-4107-9c74-960956fed6a3",
   "metadata": {},
   "outputs": [],
   "source": [
    "# filter out low expressed genes\n",
    "\n",
    "#print(dim(dge))\n",
    "#isexpr <- rowSums(cpm(final_exp) > 10) >= 2\n",
    "#dge <- dge[isexpr,]\n",
    "#print(dim(dge))\n",
    "\n",
    "keep <- filterByExpr(dge, design)\n",
    "print(table(keep))\n",
    "print(dim(dge$counts))\n",
    "dge <- dge[keep, , keep.lib.sizes=FALSE]\n",
    "print(dim(dge$counts))"
   ]
  },
  {
   "cell_type": "code",
   "execution_count": null,
   "id": "31aaf1fa-9df0-455a-b88e-b6be552468b3",
   "metadata": {},
   "outputs": [],
   "source": [
    "AveLogCPM <- aveLogCPM(dge)\n",
    "hist(AveLogCPM)"
   ]
  },
  {
   "cell_type": "code",
   "execution_count": null,
   "id": "b1a46ec9-5d67-4ca4-809f-93c580e22e3c",
   "metadata": {
    "tags": []
   },
   "outputs": [],
   "source": [
    "dge <- calcNormFactors(dge)\n",
    "print(head(dge$samples))"
   ]
  },
  {
   "cell_type": "code",
   "execution_count": null,
   "id": "b4e19781-9498-4d2a-9c01-c61ae386ceb1",
   "metadata": {},
   "outputs": [],
   "source": [
    "pch <- c(0,1)\n",
    "colors <- c(\"red\", \"blue\")\n",
    "plotMDS(dge, col=colors[dge$samples$group], pch = pch[dge$samples$group])\n",
    "\n",
    "legend(\"topleft\", legend=levels(dge$samples$group), pch = pch, col=colors, ncol=2)"
   ]
  },
  {
   "cell_type": "code",
   "execution_count": null,
   "id": "d4b9266d-ff4a-4c6f-a2cc-9b7844737ce3",
   "metadata": {},
   "outputs": [],
   "source": [
    "plotMD(dge, column=1)"
   ]
  },
  {
   "cell_type": "code",
   "execution_count": null,
   "id": "52a65356-aa3a-4028-80bd-e3afc58508b9",
   "metadata": {},
   "outputs": [],
   "source": [
    "dge <- estimateDisp(dge, design, robust=TRUE)"
   ]
  },
  {
   "cell_type": "code",
   "execution_count": null,
   "id": "b650661d-6e8d-4ae8-b0a8-b301eee0ec07",
   "metadata": {},
   "outputs": [],
   "source": [
    "plotBCV(dge)"
   ]
  },
  {
   "cell_type": "code",
   "execution_count": null,
   "id": "24e9a6f2-d351-48b0-97aa-c15754157999",
   "metadata": {},
   "outputs": [],
   "source": [
    "fit <- glmQLFit(dge, design, robust=TRUE)\n",
    "head(fit$coefficients)"
   ]
  },
  {
   "cell_type": "code",
   "execution_count": null,
   "id": "281683ad-5ef2-4663-8907-02cebd6d2bef",
   "metadata": {},
   "outputs": [],
   "source": [
    "plotQLDisp(fit)"
   ]
  },
  {
   "cell_type": "code",
   "execution_count": null,
   "id": "c9774398-c5c0-455c-81db-7bde9411f921",
   "metadata": {},
   "outputs": [],
   "source": [
    "summary(fit$df.prior)"
   ]
  },
  {
   "cell_type": "code",
   "execution_count": null,
   "id": "885d3b6b-f686-4f94-9008-94dc2a52d997",
   "metadata": {},
   "outputs": [],
   "source": [
    "head(dge$samples)"
   ]
  },
  {
   "cell_type": "code",
   "execution_count": null,
   "id": "a38ddf52-ec41-493e-be08-6010fb1f5dd7",
   "metadata": {
    "tags": []
   },
   "outputs": [],
   "source": [
    "head(design)"
   ]
  },
  {
   "cell_type": "code",
   "execution_count": null,
   "id": "0a748bf7-03ed-4ff7-8320-bc96641654ad",
   "metadata": {},
   "outputs": [],
   "source": [
    "contr.matrix <- makeContrasts(maskedvsdefault = groupPAR_masked-groupdefault,levels = colnames(design))\n",
    "print(contr.matrix)"
   ]
  },
  {
   "cell_type": "code",
   "execution_count": null,
   "id": "7595d575-8185-4154-bb94-0a69113f4df0",
   "metadata": {},
   "outputs": [],
   "source": [
    "res <- glmQLFTest(fit, contrast=contr.matrix)"
   ]
  },
  {
   "cell_type": "code",
   "execution_count": null,
   "id": "0698d713-ad18-483f-90a1-49fd4bf9eff7",
   "metadata": {
    "tags": []
   },
   "outputs": [],
   "source": [
    "topTagGene <- topTags(res,n=Inf)\n",
    "head(topTagGene$table)"
   ]
  },
  {
   "cell_type": "code",
   "execution_count": null,
   "id": "f533ac15-943a-4d3e-bd53-e44e52a479b9",
   "metadata": {},
   "outputs": [],
   "source": [
    "is.de <- decideTestsDGE(res)\n",
    "summary(is.de)"
   ]
  },
  {
   "cell_type": "code",
   "execution_count": null,
   "id": "064920b7-ed52-438e-b52f-939731239e5d",
   "metadata": {},
   "outputs": [],
   "source": [
    "plotMD(res, status=is.de)"
   ]
  },
  {
   "cell_type": "code",
   "execution_count": null,
   "id": "e7b1a1fe-c3e6-41e2-b9c1-8b4abca0ac95",
   "metadata": {},
   "outputs": [],
   "source": [
    "names(res)"
   ]
  },
  {
   "cell_type": "markdown",
   "id": "dbb0ed43-4c30-40a4-aa15-d88590aaa572",
   "metadata": {},
   "source": [
    "#### filter by logFC"
   ]
  },
  {
   "cell_type": "code",
   "execution_count": null,
   "id": "09ba0794-e181-4b9a-bea4-f38ba5a11f32",
   "metadata": {},
   "outputs": [],
   "source": [
    "#distribution of the log fold change\n",
    "summary(topTags(res,n=Inf)$table$logFC)"
   ]
  },
  {
   "cell_type": "code",
   "execution_count": null,
   "id": "40f65cbb-e49e-44ba-864f-efbbabafecc6",
   "metadata": {},
   "outputs": [],
   "source": [
    "#default, no logFC filter\n",
    "dim(topTagGene$table[which(topTagGene$table$FDR<0.05 & topTagGene$table$logFC < 0),])\n",
    "dim(topTagGene$table[which(topTagGene$table$FDR<0.05 & topTagGene$table$logFC > 0),])"
   ]
  },
  {
   "cell_type": "code",
   "execution_count": null,
   "id": "110b694f-9bb8-4686-96ec-637042ea5470",
   "metadata": {},
   "outputs": [],
   "source": [
    "#try with a logFC cutoff\n",
    "cutoff = 4\n",
    "print(log2(cutoff))\n",
    "is.de <- decideTestsDGE(res,lfc=log2(cutoff))\n",
    "print(summary(is.de))\n",
    "\n",
    "\n",
    "\n",
    "print(dim(topTagGene$table[which(topTagGene$table$FDR<0.05 & (topTagGene$table$logFC) > log2(cutoff)),]))\n",
    "print(dim(topTagGene$table[which(topTagGene$table$FDR<0.05 & (topTagGene$table$logFC) < -log2(cutoff)),]))"
   ]
  },
  {
   "cell_type": "markdown",
   "id": "b75b5194-839f-468b-8fd4-05b779fe3a7c",
   "metadata": {},
   "source": [
    "#### merge the group raw count means to the topTagGene$table"
   ]
  },
  {
   "cell_type": "code",
   "execution_count": null,
   "id": "3e1be4c6-7110-4ccb-8d7f-065fc1792254",
   "metadata": {},
   "outputs": [],
   "source": [
    "results <- topTagGene$table\n",
    "print(head(results))"
   ]
  },
  {
   "cell_type": "code",
   "execution_count": null,
   "id": "d7a8993e-f271-46e9-821d-967f7e5d9754",
   "metadata": {},
   "outputs": [],
   "source": [
    "temp_mask_exp <- counts_PAR_mask %>% select(male_covs$new_id)\n",
    "print(dim(temp_mask_exp))\n",
    "temp_mask_exp$PAR_masked_means <- rowMeans(temp_mask_exp)\n",
    "\n",
    "results <- merge(x = results, y = temp_mask_exp %>% select(\"PAR_masked_means\"),by.x = 0, by.y = 0)\n",
    "rownames(results) <- results$'Row.names'\n",
    "results <-results[,-which(names(results) %in% c(\"Row.names\"))]\n",
    "results <- results[order(results$\"FDR\"),]\n",
    "print(dim(results))\n",
    "print(head(results))"
   ]
  },
  {
   "cell_type": "code",
   "execution_count": null,
   "id": "2f5f69ee-b17c-454a-a844-022c55833a5a",
   "metadata": {},
   "outputs": [],
   "source": [
    "temp_ummask_exp <- counts_default_ref %>% select(male_covs$new_id)\n",
    "print(dim(temp_ummask_exp))\n",
    "temp_ummask_exp$PAR_ummasked_means <- rowMeans(temp_ummask_exp)\n",
    "\n",
    "results <- merge(x = results, y = temp_ummask_exp %>% select(\"PAR_ummasked_means\"),by.x = 0, by.y = 0)\n",
    "rownames(results) <- results$'Row.names'\n",
    "results <-results[,-which(names(results) %in% c(\"Row.names\"))]\n",
    "results <- results[order(results$\"FDR\"),]\n",
    "print(dim(results))\n",
    "print(head(results))"
   ]
  },
  {
   "cell_type": "code",
   "execution_count": null,
   "id": "1bf9714c-355e-4a38-9d13-5d36f8c0b1b4",
   "metadata": {},
   "outputs": [],
   "source": [
    "print(dim(results[which(results$FDR<0.05 & (results$logFC) > log2(cutoff)),]))\n",
    "\n",
    "\n",
    "print(head(results[which(results$FDR<0.05 & (results$logFC) > log2(cutoff)),]))\n",
    "print(dim(results[which(results$FDR<0.05 & (results$logFC) < -log2(cutoff)),]))\n",
    "print(head(results[which(results$FDR<0.05 & (results$logFC) < -log2(cutoff)),]))"
   ]
  },
  {
   "cell_type": "code",
   "execution_count": null,
   "id": "be95e5af-ac15-4ec2-ada5-d0fac936395b",
   "metadata": {},
   "outputs": [],
   "source": [
    "(results[which(results$FDR<0.05 & (results$logFC) > log2(cutoff)),])"
   ]
  },
  {
   "cell_type": "markdown",
   "id": "4037b7a9-46ad-4795-b96d-d66d6bd030bd",
   "metadata": {},
   "source": [
    "## (re)Run DE analysis with glmTreat to filter for logFC"
   ]
  },
  {
   "cell_type": "code",
   "execution_count": null,
   "id": "49c5d0c9-1876-408e-9161-533a29339f22",
   "metadata": {},
   "outputs": [],
   "source": [
    "treat <- glmTreat(fit,contrast = contr.matrix, lfc = log2(cutoff))"
   ]
  },
  {
   "cell_type": "code",
   "execution_count": null,
   "id": "d62098a6-5bc3-420d-a1f9-dd575a7090b6",
   "metadata": {},
   "outputs": [],
   "source": [
    "plotQLDisp(treat)"
   ]
  },
  {
   "cell_type": "code",
   "execution_count": null,
   "id": "d298cb33-d4e7-434c-8745-75785f8a3b67",
   "metadata": {},
   "outputs": [],
   "source": [
    "topTagGene_treat <- topTags(treat,n=Inf)\n",
    "head(topTagGene_treat$table)"
   ]
  },
  {
   "cell_type": "code",
   "execution_count": null,
   "id": "ae0f4268-3caa-44e3-b4ec-0ad75804cfb0",
   "metadata": {},
   "outputs": [],
   "source": [
    "is.de <- decideTestsDGE(treat)\n",
    "summary(is.de)"
   ]
  },
  {
   "cell_type": "code",
   "execution_count": null,
   "id": "d174f62d-00d2-45eb-b196-e8e556e451d7",
   "metadata": {},
   "outputs": [],
   "source": [
    "plotMD(treat, status=is.de)"
   ]
  },
  {
   "cell_type": "markdown",
   "id": "d21c66b7-4ca7-48dd-ad3a-ea18e3f773f2",
   "metadata": {},
   "source": [
    "#### merge with the p values before thresholded testing"
   ]
  },
  {
   "cell_type": "code",
   "execution_count": null,
   "id": "98ec4ea8-45c8-4709-9011-884692a1bf47",
   "metadata": {},
   "outputs": [],
   "source": [
    "results_treat <- topTagGene_treat$table\n",
    "print(head(results_treat))"
   ]
  },
  {
   "cell_type": "code",
   "execution_count": null,
   "id": "8bd724bc-4e92-4d81-a6c4-69c6f50b3b21",
   "metadata": {},
   "outputs": [],
   "source": [
    "treat_merge_vals <- results_treat %>% select(\"unshrunk.logFC\",\"PValue\",\"FDR\")\n",
    "colnames(treat_merge_vals) <- paste0(\"threshold_test_\",colnames(treat_merge_vals))\n",
    "print(head(treat_merge_vals))"
   ]
  },
  {
   "cell_type": "code",
   "execution_count": null,
   "id": "d075cad1-2df6-4ec3-82bc-cdcb0ecd4c2d",
   "metadata": {},
   "outputs": [],
   "source": [
    "merged_results <- merge(x = results, y = treat_merge_vals, by = 0)\n",
    "merged_results <- merged_results[order(merged_results$'FDR',merged_results$'threshold_test_FDR'),]\n",
    "\n",
    "rownames(merged_results) <- merged_results$'Row.names'\n",
    "\n",
    "merged_results <- merged_results[,2:length(colnames(merged_results))]\n",
    "\n",
    "\n",
    "print(dim(results))\n",
    "print(dim(treat_merge_vals))\n",
    "print(dim(merged_results))\n",
    "print(head(merged_results))"
   ]
  },
  {
   "cell_type": "code",
   "execution_count": null,
   "id": "cd5a1e84-2b02-4297-9cda-0ca6e45afe2c",
   "metadata": {},
   "outputs": [],
   "source": [
    "print(dim(merged_results[which(merged_results$FDR<0.05 & (merged_results$logFC) > log2(cutoff)),]))\n",
    "\n",
    "print(head(merged_results[which(merged_results$FDR<0.05 & (merged_results$logFC) > log2(cutoff)),]))\n",
    "print(dim(merged_results[which(merged_results$FDR<0.05 & (merged_results$logFC) < -log2(cutoff)),]))\n",
    "print(head(merged_results[which(merged_results$FDR<0.05 & (merged_results$logFC) < -log2(cutoff)),]))"
   ]
  },
  {
   "cell_type": "code",
   "execution_count": null,
   "id": "db9098aa-c8a8-4dcb-86a9-ebb37aebf7ca",
   "metadata": {},
   "outputs": [],
   "source": [
    "print(dim(merged_results[which(merged_results$threshold_test_FDR<0.05 & (merged_results$logFC) > log2(cutoff)),]))\n",
    "\n",
    "print(head(merged_results[which(merged_results$threshold_test_FDR<0.05 & (merged_results$logFC) > log2(cutoff)),]))\n",
    "print(dim(merged_results[which(merged_results$threshold_test_FDR<0.05 & (merged_results$logFC) < -log2(cutoff)),]))\n",
    "print(head(merged_results[which(merged_results$threshold_test_FDR<0.05 & (merged_results$logFC) < -log2(cutoff)),]))"
   ]
  },
  {
   "cell_type": "code",
   "execution_count": null,
   "id": "c63eed29-cb25-4108-bc37-87f2f5d47ea1",
   "metadata": {},
   "outputs": [],
   "source": [
    "write.csv(merged_results, paste0(WRKDIR,\"/expression/requant_diff_exp_edgeR_results.csv\"), row.names=TRUE)"
   ]
  },
  {
   "cell_type": "code",
   "execution_count": null,
   "id": "27b1b9ce-a69d-490a-8815-1b2400f8cf1c",
   "metadata": {},
   "outputs": [],
   "source": []
  }
 ],
 "metadata": {
  "kernelspec": {
   "display_name": "R/4.0",
   "language": "R",
   "name": "ir40"
  },
  "language_info": {
   "codemirror_mode": "r",
   "file_extension": ".r",
   "mimetype": "text/x-r-source",
   "name": "R",
   "pygments_lexer": "r",
   "version": "4.0.5"
  }
 },
 "nbformat": 4,
 "nbformat_minor": 5
}
