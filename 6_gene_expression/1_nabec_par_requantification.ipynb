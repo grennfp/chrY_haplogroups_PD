{
 "cells": [
  {
   "cell_type": "markdown",
   "id": "df546d82-3493-434a-a786-ca0760c99d7f",
   "metadata": {},
   "source": [
    "# Requantify NABEC Expression with Y PAR Masked and Unmasked Using FeatureCounts\n",
    "- **Author(s)** - Frank Grenn\n",
    "- **Quick Description:** generate two different reference transcriptomes, index them, setup scripts and run. Try to follow parameters used by amppd:   \n",
    "amp-pd github: https://github.com/amp-pd/amp-pd-workflows/tree/master/rna/rna-quantification  \n",
    "amp-pd overview: https://amp-pd.org/transcriptomics-data"
   ]
  },
  {
   "cell_type": "code",
   "execution_count": null,
   "id": "bcce139e-7592-4c47-9b04-d36e780c2a20",
   "metadata": {},
   "outputs": [],
   "source": [
    "import pandas as pd\n",
    "import os"
   ]
  },
  {
   "cell_type": "code",
   "execution_count": null,
   "id": "c1c45549-7221-402d-bd6d-78f668d16964",
   "metadata": {},
   "outputs": [],
   "source": []
  },
  {
   "cell_type": "code",
   "execution_count": null,
   "id": "d8ef56de-9a2b-4709-a35a-55053c95d3da",
   "metadata": {},
   "outputs": [],
   "source": [
    "WRKDIR = \"/PATH/chrY\"\n",
    "NABECDIR = \"/PATH/nabec\"\n",
    "OUTDIR = \"/PATH/requant/primaryassembly\"\n",
    "\n",
    "fastq_dir = \"/PATH/nabec/fastqs\""
   ]
  },
  {
   "cell_type": "markdown",
   "id": "84ef26ea-3d73-4130-911e-a1565885a2d3",
   "metadata": {},
   "source": [
    "## 1) Mask Y PARs in Gencode ref genome using [xyalign](https://github.com/SexChrLab/XYalign)\n",
    "mask the PAR regions (10001 - 2781479 for PAR1 and 56887903 - 57217415 for PAR2 on chr Y)"
   ]
  },
  {
   "cell_type": "markdown",
   "id": "daea11b5-3e07-4e9b-a37e-3e717c2546a8",
   "metadata": {},
   "source": [
    "`Y_PAR.bed` should contain this:\n",
    "```\n",
    "chrY    10000   2781479 PAR1\n",
    "chrY    56887902        57217415        PAR2\n",
    "```"
   ]
  },
  {
   "cell_type": "code",
   "execution_count": null,
   "id": "c2f2a085-7bdb-4906-ae57-005be63f6e23",
   "metadata": {},
   "outputs": [],
   "source": [
    "\n",
    "print(f\"module load samtools \\n\\\n",
    "xyalign --PREPARE_REFERENCE --ref /PATH/GRCh38.primary_assembly.genome.fa \\\n",
    "--xx_ref_out {OUTDIR}/xyalign_ref/reference.XXonly.fasta \\\n",
    "--xy_ref_out {OUTDIR}/xyalign_ref/reference.XY.fasta \\\n",
    "--reference_mask {OUTDIR}/../Y_PAR.bed \\\n",
    "--x_chromosome chrX \\\n",
    "--y_chromosome chrY \\\n",
    "--output_dir {OUTDIR}/xyalign_ref\")\n"
   ]
  },
  {
   "cell_type": "markdown",
   "id": "46ba8e4b-6c16-4f93-a22b-5cc9b67c8549",
   "metadata": {},
   "source": [
    "check if the YPAR was masked by manually checking the fasta files  \n",
    "if it worked then there should be more nucleotides marked with N's in the reference.XY.fasta"
   ]
  },
  {
   "cell_type": "code",
   "execution_count": null,
   "id": "17c8f310-3c86-4bf2-8f2a-08cc5466d1b4",
   "metadata": {},
   "outputs": [],
   "source": [
    "#check YPAR1 sequences in the original ref genome\n",
    "\n",
    "#find line number of chrY\n",
    "print(\"grep -n chrY /PATH/GRCh38.primary_assembly.genome.fa\")\n",
    "#line 50517410\n",
    "\n",
    "#find chrY in index\n",
    "print(\"grep -n chrY /PATH/GRCh38.primary_assembly.genome.fa.fai\")\n",
    "# ~60 nucleotides per line\n",
    "\n",
    "#we know YPAR1 starts at 10000\n",
    "#10000/60 = ~166\n",
    "#check a few lines earlier: 160\n",
    "#check 50517410 + 160 = 50517570\n",
    "print(\"more +50517570 /PATH/GRCh38.primary_assembly.genome.fa\")\n"
   ]
  },
  {
   "cell_type": "code",
   "execution_count": null,
   "id": "ae0fc79c-c390-451e-92ff-871d40f57e7e",
   "metadata": {},
   "outputs": [],
   "source": [
    "#check YPAR1 sequences in the masked ref genome\n",
    "\n",
    "#find line number of chrY\n",
    "print(f\"grep -n chrY {OUTDIR}/xyalign_ref/reference.XY.fasta\")\n",
    "#line 50517410\n",
    "\n",
    "#find chrY in index\n",
    "print(f\"grep -n chrY {OUTDIR}/xyalign_ref/reference.XY.fasta.fai\")\n",
    "# ~60 nucleotides per line\n",
    "\n",
    "#we know YPAR1 starts at 10000\n",
    "#10000/60 = ~166\n",
    "#check a few lines earlier: 160\n",
    "#check 50517410 + 160 = 50517570\n",
    "print(f\"more +50517570 {OUTDIR}/xyalign_ref/reference.XY.fasta\")"
   ]
  },
  {
   "cell_type": "markdown",
   "id": "3a86463f-021d-4198-b589-5299abd580b6",
   "metadata": {},
   "source": [
    "check the end of YPAR1 if you want"
   ]
  },
  {
   "cell_type": "code",
   "execution_count": null,
   "id": "3399419c-bb61-4b27-99dd-037eb0259be2",
   "metadata": {},
   "outputs": [],
   "source": [
    "#check YPAR1 sequences in the original ref genome\n",
    "\n",
    "\n",
    "#we know YPAR1 ends at 2781479\n",
    "#2781479/60 = ~46357\n",
    "#check a few lines earlier: 46350\n",
    "#check 50517410 + 46350 = 50563760\n",
    "print(\"more +50563760 /PATH/GRCh38.primary_assembly.genome.fa\")\n"
   ]
  },
  {
   "cell_type": "code",
   "execution_count": null,
   "id": "21c1de39-d83b-4e21-ac0b-f9166e8ce047",
   "metadata": {},
   "outputs": [],
   "source": [
    "#check YPAR1 sequences in the masked ref genome\n",
    "\n",
    "\n",
    "#we know YPAR1 ends at 2781479\n",
    "#2781479/60 = ~46357\n",
    "#check a few lines earlier: 46350\n",
    "#check 50517410 + 46350 = 50563760\n",
    "print(f\"more +50563760 {OUTDIR}/xyalign_ref/reference.XY.fasta\")"
   ]
  },
  {
   "cell_type": "markdown",
   "id": "ba24649c-861a-4cb2-8e48-aceedec9d685",
   "metadata": {},
   "source": []
  },
  {
   "cell_type": "markdown",
   "id": "154ad23f-3159-4486-9a85-ad770413ce97",
   "metadata": {},
   "source": [
    "## 2) Generate Y PAR Masked Ref Genome"
   ]
  },
  {
   "cell_type": "code",
   "execution_count": null,
   "id": "58a05f6f-c257-432c-ab10-b7d8d405afa7",
   "metadata": {},
   "outputs": [],
   "source": [
    "!mkdir {OUTDIR}/gencode_star_index_YPAR_masked"
   ]
  },
  {
   "cell_type": "code",
   "execution_count": null,
   "id": "2382c98a-d145-4c76-aebe-2f935914a5b8",
   "metadata": {},
   "outputs": [],
   "source": [
    "!echo \"#!/bin/bash\" >> {OUTDIR}/gencode_star_index_YPAR_masked/gencode_star_index_YPAR_masked.sh\n",
    "!echo \"module load STAR\" >> {OUTDIR}/gencode_star_index_YPAR_masked/gencode_star_index_YPAR_masked.sh\n",
    "!echo \"STAR --runThreadN 8 --runMode genomeGenerate \\\n",
    "--genomeDir {OUTDIR}/gencode_star_index_YPAR_masked \\\n",
    "--genomeFastaFiles {OUTDIR}/xyalign_ref/reference.XY.fasta \\\n",
    "--sjdbGTFfile /PATH/gencode.v38.primary_assembly.annotation.gtf \\\n",
    "--sjdbOverhang 100\" >> {OUTDIR}/gencode_star_index_YPAR_masked/gencode_star_index_YPAR_masked.sh"
   ]
  },
  {
   "cell_type": "code",
   "execution_count": null,
   "id": "6716da0e-497b-4bba-b518-023fd16b9b9c",
   "metadata": {},
   "outputs": [],
   "source": [
    "#sbatch --mem=50g --cpus-per-task=16 --time=1-0 gencode_star_index_YPAR_masked.sh"
   ]
  },
  {
   "cell_type": "markdown",
   "id": "3c78376c-ca07-4e47-a372-fd8b80da5898",
   "metadata": {},
   "source": [
    "## 3) Generate Default Ref Genome"
   ]
  },
  {
   "cell_type": "code",
   "execution_count": null,
   "id": "488a58c9-8627-4017-bed6-34449ab46451",
   "metadata": {},
   "outputs": [],
   "source": [
    "!mkdir {OUTDIR}/gencode_star_index_default"
   ]
  },
  {
   "cell_type": "code",
   "execution_count": null,
   "id": "45874245-83a7-4d21-86cb-40c8c7092432",
   "metadata": {},
   "outputs": [],
   "source": [
    "!echo \"#!/bin/bash\" >> {OUTDIR}/gencode_star_index_default/gencode_star_index_default.sh\n",
    "!echo \"module load STAR\" >> {OUTDIR}/gencode_star_index_default/gencode_star_index_default.sh\n",
    "!echo \"STAR --runThreadN 8 --runMode genomeGenerate \\\n",
    "--genomeDir {OUTDIR}/gencode_star_index_default \\\n",
    "--genomeFastaFiles /PATH/GRCh38.primary_assembly.genome.fa \\\n",
    "--sjdbGTFfile /PATH/gencode.v38.primary_assembly.annotation.gtf \\\n",
    "--sjdbOverhang 100\" >> {OUTDIR}/gencode_star_index_default/gencode_star_index_default.sh"
   ]
  },
  {
   "cell_type": "code",
   "execution_count": null,
   "id": "7e19c404-dd89-42f4-82cc-f7edb1eefbd3",
   "metadata": {},
   "outputs": [],
   "source": [
    "#sbatch --mem=50g --cpus-per-task=16 --time=1-0 gencode_star_index_default.sh"
   ]
  },
  {
   "cell_type": "markdown",
   "id": "c77a38ac-394c-46c0-87a5-f9155f1c1898",
   "metadata": {},
   "source": [
    "## 4) Identify samples we want to quantify  \n",
    "want males only and samples with haplogroups previously identified"
   ]
  },
  {
   "cell_type": "code",
   "execution_count": null,
   "id": "7e8a2da3-8288-40cb-ac2b-86d4259eaa65",
   "metadata": {},
   "outputs": [],
   "source": [
    "#get the haplogroup data, which should have the sample ids and should all be male\n",
    "haplos = pd.read_csv(f\"{WRKDIR}/output_nabec/nabec_haplos.csv\")\n",
    "haplos['new_id'] = haplos['new_id']+'fctx'\n",
    "print(haplos.head())"
   ]
  },
  {
   "cell_type": "code",
   "execution_count": null,
   "id": "3f9e4fb5-7b47-4dee-9a90-e25fafebac40",
   "metadata": {},
   "outputs": [],
   "source": [
    "#get the samples that we have fastqs for\n",
    "fastqs = os.listdir(f\"{NABECDIR}/fastqs\")\n",
    "print(len(fastqs))\n",
    "samples = list(set([s.replace(\"_R2.fastq.gz\",\"\").replace(\"_R1.fastq.gz\",\"\") for s in fastqs]))\n",
    "print(len(samples))\n",
    "print(samples[0:10])"
   ]
  },
  {
   "cell_type": "code",
   "execution_count": null,
   "id": "708d569a-7e9e-453a-9010-37e45c0374e9",
   "metadata": {},
   "outputs": [],
   "source": [
    "#combine these to get the samples we want to run through salmon\n",
    "samples_to_use = set(samples).intersection(set(haplos.new_id))\n",
    "print(len(samples_to_use))"
   ]
  },
  {
   "cell_type": "markdown",
   "id": "0f5b141a-9181-482f-ae7b-a3529e219611",
   "metadata": {},
   "source": [
    "## 5) Map with STAR "
   ]
  },
  {
   "cell_type": "code",
   "execution_count": null,
   "id": "a8aed5b2-a4e5-4a13-88c3-d0b8b952065b",
   "metadata": {},
   "outputs": [],
   "source": [
    "\n",
    "!mkdir {OUTDIR}/star_PAR_masked\n",
    "!mkdir {OUTDIR}/star_default_ref"
   ]
  },
  {
   "cell_type": "code",
   "execution_count": null,
   "id": "82f6286c-e832-4404-ae63-425ca7bab4fd",
   "metadata": {
    "tags": []
   },
   "outputs": [],
   "source": [
    "swarm = open(f\"{OUTDIR}/star_map_nabec.swarm\",\"w\")\n",
    "for s in samples_to_use:\n",
    "    print(s)\n",
    "    r1 = f\"{fastq_dir}/{s}_R1.fastq.gz\"\n",
    "    r2 = f\"{fastq_dir}/{s}_R2.fastq.gz\"\n",
    "    \n",
    "\n",
    "\n",
    "    if (os.path.isfile(r1) & os.path.isfile(r2)):\n",
    "        \n",
    "            \n",
    "        !mkdir {OUTDIR}/star_PAR_masked/{s}\n",
    "        out = f\"{OUTDIR}/star_PAR_masked/{s}/{s}\"\n",
    "        genomedir = f\"{OUTDIR}/gencode_star_index_YPAR_masked\"\n",
    "    \n",
    "        #swarm.write(f\"STAR --genomeDir {genomedir}/ --runThreadN 8 --readFilesIn {r1} {r2} --winAnchorMultimapNmax 100 --outFilterMultimapNmax 100 --outSAMtype BAM Unsorted --outFileNamePrefix {out} --readFilesCommand gunzip -c --outSAMstrandField intronMotif --outSAMunmapped Within --outFilterMismatchNmax 999 --outFilterMismatchNoverLmax 0.1\\n\")\n",
    "        swarm.write(f\"STAR \\\n",
    "--genomeDir {genomedir}/ \\\n",
    "--runMode alignReads \\\n",
    "--twopassMode Basic \\\n",
    "--outFileNamePrefix {out} \\\n",
    "--readFilesCommand gunzip -c \\\n",
    "--readFilesIn {r1} {r2} \\\n",
    "--outSAMtype BAM Unsorted \\\n",
    "--outFilterType BySJout \\\n",
    "--outFilterMultimapNmax 20 \\\n",
    "--outFilterMismatchNmax 999 \\\n",
    "--outFilterMismatchNoverLmax 0.1 \\\n",
    "--alignIntronMax 1000000 \\\n",
    "--alignMatesGapMax 1000000 \\\n",
    "--alignSJoverhangMin 8 \\\n",
    "--alignSJDBoverhangMin 1 \\\n",
    "--chimOutType Junctions \\\n",
    "--chimSegmentMin 15 \\\n",
    "--chimJunctionOverhangMin 15 \\\n",
    "--runThreadN 16 \\\n",
    "--outSAMstrandField intronMotif \\\n",
    "--outSAMunmapped Within\\n\")\n",
    "        \n",
    "        \n",
    "        !mkdir {OUTDIR}/star_default_ref/{s}\n",
    "        out = f\"{OUTDIR}/star_default_ref/{s}/{s}\"\n",
    "        genomedir = f\"{OUTDIR}/gencode_star_index_default\"\n",
    "    \n",
    "        #swarm.write(f\"STAR --genomeDir {genomedir}/ --runThreadN 8 --readFilesIn {r1} {r2} --winAnchorMultimapNmax 100 --outFilterMultimapNmax 100 --outSAMtype BAM Unsorted --outFileNamePrefix {out} --readFilesCommand gunzip -c --outSAMstrandField intronMotif --outSAMunmapped Within --outFilterMismatchNmax 999 --outFilterMismatchNoverLmax 0.1\\n\")\n",
    "        swarm.write(f\"STAR \\\n",
    "--genomeDir {genomedir}/ \\\n",
    "--runMode alignReads \\\n",
    "--twopassMode Basic \\\n",
    "--outFileNamePrefix {out} \\\n",
    "--readFilesCommand gunzip -c \\\n",
    "--readFilesIn {r1} {r2} \\\n",
    "--outSAMtype BAM Unsorted \\\n",
    "--outFilterType BySJout \\\n",
    "--outFilterMultimapNmax 20 \\\n",
    "--outFilterMismatchNmax 999 \\\n",
    "--outFilterMismatchNoverLmax 0.1 \\\n",
    "--alignIntronMax 1000000 \\\n",
    "--alignMatesGapMax 1000000 \\\n",
    "--alignSJoverhangMin 8 \\\n",
    "--alignSJDBoverhangMin 1 \\\n",
    "--chimOutType Junctions \\\n",
    "--chimSegmentMin 15 \\\n",
    "--chimJunctionOverhangMin 15 \\\n",
    "--runThreadN 16 \\\n",
    "--outSAMstrandField intronMotif \\\n",
    "--outSAMunmapped Within\\n\")\n",
    "        \n",
    "        \n",
    "\n",
    "    #break;\n",
    "    \n",
    "swarm.close()"
   ]
  },
  {
   "cell_type": "code",
   "execution_count": null,
   "id": "c7134361-79e4-4023-8203-5cca2c4590b1",
   "metadata": {},
   "outputs": [],
   "source": [
    "print(f\"swarm -g 50 -t 16 --module STAR --time 8:00:00 --dependency afterany:25556129,25556131 -f {OUTDIR}/star_map_nabec.swarm\")"
   ]
  },
  {
   "cell_type": "markdown",
   "id": "bcb6eb54-b66c-447e-8c85-bce050f8bca8",
   "metadata": {},
   "source": [
    "## 6) Sort and index BAMs"
   ]
  },
  {
   "cell_type": "code",
   "execution_count": null,
   "id": "64ca1d75-87a0-48be-8ede-1984543f31ae",
   "metadata": {
    "tags": []
   },
   "outputs": [],
   "source": [
    "swarm = open(f\"{OUTDIR}/sort_bams.swarm\",\"w\")\n",
    "for s in samples_to_use:\n",
    "    print(s)\n",
    "    \n",
    "    out = f\"{OUTDIR}/star_PAR_masked/{s}/{s}\"\n",
    "    swarm.write(f\"samtools sort -o '{out}Aligned.out.sorted.bam' -@ 10 '{out}Aligned.out.bam'\\n\")\n",
    "    \n",
    "    out = f\"{OUTDIR}/star_default_ref/{s}/{s}\"\n",
    "    swarm.write(f\"samtools sort -o '{out}Aligned.out.sorted.bam' -@ 10 '{out}Aligned.out.bam'\\n\")\n",
    "        \n",
    "        \n",
    "    #break;\n",
    "    \n",
    "swarm.close()"
   ]
  },
  {
   "cell_type": "code",
   "execution_count": null,
   "id": "edf4f8e7-63d4-46f3-9b82-4f1984a02f19",
   "metadata": {},
   "outputs": [],
   "source": [
    "print(f\"swarm -g 50 -t 20 --module samtools --time 8:00:00 --dependency afterany:25556787 -f {OUTDIR}/sort_bams.swarm\")"
   ]
  },
  {
   "cell_type": "code",
   "execution_count": null,
   "id": "cca34555-1a63-418c-9444-3e3645e583d3",
   "metadata": {
    "tags": []
   },
   "outputs": [],
   "source": [
    "swarm = open(f\"{OUTDIR}/index_bams.swarm\",\"w\")\n",
    "for s in samples_to_use:\n",
    "    print(s)\n",
    "\n",
    "    out = f\"{OUTDIR}/star_PAR_masked/{s}/{s}\"\n",
    "    swarm.write(f\"samtools index -b '{out}Aligned.out.sorted.bam'\\n\")\n",
    "        \n",
    "    out = f\"{OUTDIR}/star_default_ref/{s}/{s}\"\n",
    "    swarm.write(f\"samtools index -b '{out}Aligned.out.sorted.bam'\\n\")\n",
    "        \n",
    "    #break;\n",
    "    \n",
    "swarm.close()"
   ]
  },
  {
   "cell_type": "code",
   "execution_count": null,
   "id": "f92787bf-093d-4efd-a638-6540571b1fd5",
   "metadata": {},
   "outputs": [],
   "source": [
    "print(f\"swarm -g 50 -t 20 --module samtools --time 8:00:00 --dependency afterany:25557231 -f {OUTDIR}/index_bams.swarm\")"
   ]
  },
  {
   "cell_type": "markdown",
   "id": "96e84c38-3aee-478a-820d-b7158777c2e0",
   "metadata": {},
   "source": [
    "## 7) (Optional) Check strandedness of BAM before running featureCounts\n",
    "needed for the \"s\" option in featureCounts  \n",
    "get bed file from UCSC table browser (needs 12 columns)  \n",
    "interpret output [here](http://rseqc.sourceforge.net/)"
   ]
  },
  {
   "cell_type": "code",
   "execution_count": null,
   "id": "36b25f3d-8a57-4459-93f4-a8b87c68cacc",
   "metadata": {},
   "outputs": [],
   "source": [
    "print(\"module load rseqc\\n\\\n",
    "infer_experiment.py -r knownGene_Gencode_V38.bed -i UM5117fctxAligned.out.sorted.bam\")"
   ]
  },
  {
   "cell_type": "markdown",
   "id": "b1d123ee-68a4-428a-af93-8df6d71954b5",
   "metadata": {},
   "source": [
    "## 8) Run featureCounts"
   ]
  },
  {
   "cell_type": "code",
   "execution_count": null,
   "id": "37842d49-f43a-45f6-a5ff-86216de08c2b",
   "metadata": {},
   "outputs": [],
   "source": [
    "!mkdir {OUTDIR}/quants_PAR_masked\n",
    "!mkdir {OUTDIR}/quants_default_ref"
   ]
  },
  {
   "cell_type": "code",
   "execution_count": null,
   "id": "872d0a99-673e-4916-9f00-9cb003407bd3",
   "metadata": {
    "tags": []
   },
   "outputs": [],
   "source": [
    "swarm = open(f\"{OUTDIR}/run_featureCounts.swarm\",\"w\")\n",
    "for s in samples_to_use:\n",
    "    print(s)\n",
    "\n",
    "    genemap = \"/PATH/gencode.v38.primary_assembly.annotation.gtf\"\n",
    "    \n",
    "    star = f\"{OUTDIR}/star_PAR_masked/{s}/{s}\"\n",
    "    out = f\"{OUTDIR}/quants_PAR_masked/{s}\"\n",
    "    !mkdir {out}\n",
    "    swarm.write(f'featureCounts \\\n",
    "-T 2 \\\n",
    "-p \\\n",
    "-t exon \\\n",
    "-g gene_id \\\n",
    "-a \"{genemap}\" \\\n",
    "-s 2 \\\n",
    "-o \"{out}/{s}.featureCounts.tsv\" \\\n",
    "\"{star}Aligned.out.sorted.bam\"\\n')\n",
    "        \n",
    "    star = f\"{OUTDIR}/star_default_ref/{s}/{s}\"\n",
    "    out = f\"{OUTDIR}/quants_default_ref/{s}\"\n",
    "    !mkdir {out}\n",
    "    swarm.write(f'featureCounts \\\n",
    "-T 2 \\\n",
    "-p \\\n",
    "-t exon \\\n",
    "-g gene_id \\\n",
    "-a \"{genemap}\" \\\n",
    "-s 2 \\\n",
    "-o \"{out}/{s}.featureCounts.tsv\" \\\n",
    "\"{star}Aligned.out.sorted.bam\"\\n')\n",
    "        \n",
    "        \n",
    "        \n",
    "    #break;\n",
    "    \n",
    "swarm.close()"
   ]
  },
  {
   "cell_type": "code",
   "execution_count": null,
   "id": "de463097-f79b-44b5-bd02-c46a3522fc50",
   "metadata": {},
   "outputs": [],
   "source": [
    "#print(f\"swarm -g 50 -t 20 --module subread --time 8:00:00 --dependency afterany: -f {OUTDIR}/run_featureCounts.swarm\")\n",
    "print(f\"swarm -g 50 -t 20 --module subread --time 8:00:00 --dependency afterany:25557426 -f {OUTDIR}/run_featureCounts.swarm\")"
   ]
  },
  {
   "cell_type": "markdown",
   "id": "8e59114b-d1ac-4443-9dcf-a038ebd00195",
   "metadata": {},
   "source": [
    "## 9) Make Count Matrix"
   ]
  },
  {
   "cell_type": "code",
   "execution_count": null,
   "id": "3d1d6e0e-290a-43f7-92d6-af3b50840741",
   "metadata": {},
   "outputs": [],
   "source": []
  },
  {
   "cell_type": "code",
   "execution_count": null,
   "id": "b114fd4e-2b60-4cb8-b5c3-3065e871b8cb",
   "metadata": {},
   "outputs": [],
   "source": [
    "counts = pd.DataFrame()\n",
    "for s in samples_to_use:\n",
    "    print(s)\n",
    "    df = pd.read_table(f\"{OUTDIR}/quants_default_ref/{s}/{s}.featureCounts.tsv\",sep = \"\\s+\",skiprows = 1)\n",
    "    \n",
    "    #print(df.shape)\n",
    "    #print(df.head())\n",
    "    df = df.iloc[:,[0,6]]\n",
    "    df.columns = [\"Geneid\", s]\n",
    "    if(len(counts.index)==0):\n",
    "        counts = df\n",
    "    else:\n",
    "        counts = pd.merge(left = counts, right = df, left_on = \"Geneid\", right_on = \"Geneid\")\n",
    "    \n",
    "    #if(len(counts.columns) >4):\n",
    "        #break;\n",
    "counts.to_csv(f\"{OUTDIR}/quants_default_ref/quants_default_ref_matrix.csv\",index=None)"
   ]
  },
  {
   "cell_type": "code",
   "execution_count": null,
   "id": "47735ee6-a14a-4bd0-860a-8dc5a133c44b",
   "metadata": {},
   "outputs": [],
   "source": [
    "counts.shape"
   ]
  },
  {
   "cell_type": "code",
   "execution_count": null,
   "id": "909dec5f-81d8-470b-a9e1-7d0e6020c6a0",
   "metadata": {},
   "outputs": [],
   "source": [
    "counts.head()"
   ]
  },
  {
   "cell_type": "code",
   "execution_count": null,
   "id": "43ea8cf3-7400-4a07-8566-a1bc7ff29c78",
   "metadata": {},
   "outputs": [],
   "source": []
  }
 ],
 "metadata": {
  "kernelspec": {
   "display_name": "python/3.7",
   "language": "python",
   "name": "py3.7"
  },
  "language_info": {
   "codemirror_mode": {
    "name": "ipython",
    "version": 3
   },
   "file_extension": ".py",
   "mimetype": "text/x-python",
   "name": "python",
   "nbconvert_exporter": "python",
   "pygments_lexer": "ipython3",
   "version": "3.7.5"
  }
 },
 "nbformat": 4,
 "nbformat_minor": 5
}
