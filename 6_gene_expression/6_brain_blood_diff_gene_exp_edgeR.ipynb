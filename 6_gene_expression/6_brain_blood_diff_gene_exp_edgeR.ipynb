{
 "cells": [
  {
   "cell_type": "markdown",
   "metadata": {},
   "source": [
    "# Chromosome Y Gene Differential Expression in Blood (AMP-PD) and Brain (NABEC)\n",
    "- **Author(s)** - Frank Grenn\n",
    "- **Quick Description:** Differential gene expression between blood and brain in certain haplogroups. "
   ]
  },
  {
   "cell_type": "code",
   "execution_count": null,
   "metadata": {},
   "outputs": [],
   "source": [
    "library(\"edgeR\")\n",
    "library(data.table)\n",
    "# Load the tidyverse\n",
    "library(tidyverse)\n",
    "library(dplyr)\n"
   ]
  },
  {
   "cell_type": "code",
   "execution_count": null,
   "metadata": {},
   "outputs": [],
   "source": [
    "WRKDIR <- \"/PATH/chrY\""
   ]
  },
  {
   "cell_type": "markdown",
   "metadata": {},
   "source": [
    "## 1) Read and process AMP-PD chrY blood expression data from featureCounts"
   ]
  },
  {
   "cell_type": "code",
   "execution_count": null,
   "metadata": {},
   "outputs": [],
   "source": [
    "amp_counts <- as.data.frame(fread(paste0(WRKDIR,\"/expression/amppd_chrY_featureCounts.csv\")))\n",
    "print(dim(amp_counts))"
   ]
  },
  {
   "cell_type": "code",
   "execution_count": null,
   "metadata": {},
   "outputs": [],
   "source": [
    "#remove everything after the version in the Geneid and check if there are no duplicates\n",
    "s<-gsub(\"\\\\..*\",\"\",amp_counts$Geneid)\n",
    "print(length(amp_counts$Geneid))\n",
    "print(length(unique(amp_counts$Geneid)))\n",
    "print(length(unique(s)))"
   ]
  },
  {
   "cell_type": "code",
   "execution_count": null,
   "metadata": {},
   "outputs": [],
   "source": [
    "amp_counts$Geneid <- gsub(\"\\\\..*\",\"\",amp_counts$Geneid)"
   ]
  },
  {
   "cell_type": "code",
   "execution_count": null,
   "metadata": {},
   "outputs": [],
   "source": [
    "amp_counts[1:5,1:5]"
   ]
  },
  {
   "cell_type": "code",
   "execution_count": null,
   "metadata": {},
   "outputs": [],
   "source": [
    "rownames(amp_counts) <- amp_counts$Geneid\n",
    "counts <- amp_counts[ , -which(names(amp_counts) %in% c(\"Geneid\"))]"
   ]
  },
  {
   "cell_type": "code",
   "execution_count": null,
   "metadata": {},
   "outputs": [],
   "source": [
    "dim(counts)"
   ]
  },
  {
   "cell_type": "code",
   "execution_count": null,
   "metadata": {},
   "outputs": [],
   "source": [
    "amppd_exp_final <- counts\n",
    "colnames(amppd_exp_final) <- paste0(colnames(amppd_exp_final),\"_blood\")\n",
    "print(dim(amppd_exp_final))\n",
    "print(amppd_exp_final[1:5,1:5])"
   ]
  },
  {
   "cell_type": "code",
   "execution_count": null,
   "metadata": {},
   "outputs": [],
   "source": [
    "amppd_haplos <- fread(paste0(WRKDIR,\"/output_male_hemizygous_only_het_filter_run/chrY_meta.csv\"))\n",
    "amppd_haplos$id_tissue <- paste0(amppd_haplos$fid,'_blood')\n",
    "amppd_haplos$tissue <- 'blood'\n",
    "print(head(amppd_haplos))"
   ]
  },
  {
   "cell_type": "code",
   "execution_count": null,
   "metadata": {},
   "outputs": [],
   "source": [
    "amppd_haplos <- amppd_haplos[(amppd_haplos$pheno!=-9) & (amppd_haplos$genetic_carrier==0) & (amppd_haplos$InfPop==\"EUROPE\"),]\n",
    "print(dim(amppd_haplos))\n"
   ]
  },
  {
   "cell_type": "code",
   "execution_count": null,
   "metadata": {},
   "outputs": [],
   "source": [
    "print(dim(amppd_exp_final))\n",
    "print(dim(amppd_haplos))"
   ]
  },
  {
   "cell_type": "code",
   "execution_count": null,
   "metadata": {},
   "outputs": [],
   "source": [
    "amppd_exp_final <- amppd_exp_final[,which(colnames(amppd_exp_final) %in% amppd_haplos$id_tissue)]\n",
    "amppd_haplos <- amppd_haplos[which(amppd_haplos$id_tissue %in% colnames(amppd_exp_final)),]\n",
    "print(dim(amppd_exp_final))\n",
    "print(dim(amppd_haplos))\n"
   ]
  },
  {
   "cell_type": "markdown",
   "metadata": {},
   "source": [
    "## 2) Read and process NABEC chrY brain expression data"
   ]
  },
  {
   "cell_type": "code",
   "execution_count": null,
   "metadata": {},
   "outputs": [],
   "source": [
    "nabec_counts <- fread(\"/PATH/quants_chrY_default_ref_matrix.csv\")\n",
    "print(dim(nabec_counts))\n",
    "print(nabec_counts[1:4,1:4])"
   ]
  },
  {
   "cell_type": "code",
   "execution_count": null,
   "metadata": {},
   "outputs": [],
   "source": [
    "#remove everything after the version in the Geneid and check if there are no duplicates\n",
    "s<-gsub(\"\\\\..*\",\"\",nabec_counts$Geneid)\n",
    "print(length(nabec_counts$Geneid))\n",
    "print(length(unique(nabec_counts$Geneid)))\n",
    "print(length(unique(s)))"
   ]
  },
  {
   "cell_type": "code",
   "execution_count": null,
   "metadata": {},
   "outputs": [],
   "source": [
    "nabec_counts$Geneid <- gsub(\"\\\\..*\",\"\",nabec_counts$Geneid)"
   ]
  },
  {
   "cell_type": "code",
   "execution_count": null,
   "metadata": {},
   "outputs": [],
   "source": [
    "nabec_exp_final <- as.data.frame(nabec_counts)\n",
    "rownames(nabec_exp_final) <- nabec_exp_final$'Geneid'"
   ]
  },
  {
   "cell_type": "code",
   "execution_count": null,
   "metadata": {
    "tags": []
   },
   "outputs": [],
   "source": [
    "nabec_exp_final <- nabec_exp_final[,-which(names(nabec_exp_final) %in% c(\"Geneid\"))]\n",
    "colnames(nabec_exp_final) <- paste0(colnames(nabec_exp_final),'_brain')\n",
    "print(dim(nabec_exp_final))\n",
    "print(nabec_exp_final[0:5,0:7])"
   ]
  },
  {
   "cell_type": "code",
   "execution_count": null,
   "metadata": {},
   "outputs": [],
   "source": [
    "nabec_haplos <- as.data.frame(fread(paste0(WRKDIR,\"/output_nabec/nabec_haplos.csv\")))\n",
    "nabec_haplos$new_id <- paste0(nabec_haplos$new_id,\"fctx\")\n",
    "nabec_haplos$'id_tissue' <- paste0(nabec_haplos$new_id,'_brain')\n",
    "nabec_haplos$tissue <- 'brain'\n",
    "print(dim(nabec_haplos))\n",
    "print(head(nabec_haplos))"
   ]
  },
  {
   "cell_type": "code",
   "execution_count": null,
   "metadata": {},
   "outputs": [],
   "source": [
    "print(dim(nabec_exp_final))\n",
    "print(dim(nabec_haplos))"
   ]
  },
  {
   "cell_type": "code",
   "execution_count": null,
   "metadata": {},
   "outputs": [],
   "source": [
    "nabec_exp_final <- nabec_exp_final[,which(colnames(nabec_exp_final) %in% nabec_haplos$id_tissue)]\n",
    "nabec_haplos <- nabec_haplos[which(nabec_haplos$id_tissue %in% colnames(nabec_exp_final)),]\n",
    "print(dim(nabec_exp_final))\n",
    "print(dim(nabec_haplos))"
   ]
  },
  {
   "cell_type": "markdown",
   "metadata": {},
   "source": [
    "## 3) Setup data for DE analysis"
   ]
  },
  {
   "cell_type": "markdown",
   "metadata": {},
   "source": [
    "#### combine expression data"
   ]
  },
  {
   "cell_type": "code",
   "execution_count": null,
   "metadata": {},
   "outputs": [],
   "source": [
    "print(dim(amppd_exp_final))\n",
    "print(amppd_exp_final[1:5,1:5])\n",
    "print(dim(nabec_exp_final))\n",
    "print(nabec_exp_final[0:5,0:5])\n"
   ]
  },
  {
   "cell_type": "code",
   "execution_count": null,
   "metadata": {},
   "outputs": [],
   "source": [
    "print(dim(amppd_exp_final))\n",
    "print(dim(nabec_exp_final))\n",
    "merged <- merge(x = amppd_exp_final, y = nabec_exp_final,by.x = 0, by.y = 0)\n",
    "print(dim(merged))\n",
    "print(merged[1:5,1:5])"
   ]
  },
  {
   "cell_type": "code",
   "execution_count": null,
   "metadata": {},
   "outputs": [],
   "source": [
    "exp_final <- merged\n",
    "rownames(exp_final) <- exp_final$'Row.names'\n",
    "exp_final <- exp_final[,-which(names(exp_final) %in% c(\"Row.names\"))]\n",
    "print(dim(merged))\n",
    "print(dim(exp_final))"
   ]
  },
  {
   "cell_type": "code",
   "execution_count": null,
   "metadata": {},
   "outputs": [],
   "source": [
    "exp_final[1:4,1:4]"
   ]
  },
  {
   "cell_type": "code",
   "execution_count": null,
   "metadata": {},
   "outputs": [],
   "source": []
  },
  {
   "cell_type": "code",
   "execution_count": null,
   "metadata": {},
   "outputs": [],
   "source": []
  },
  {
   "cell_type": "markdown",
   "metadata": {},
   "source": [
    "#### combine sample data"
   ]
  },
  {
   "cell_type": "code",
   "execution_count": null,
   "metadata": {},
   "outputs": [],
   "source": [
    "print(dim(nabec_haplos))\n",
    "nabec_temp <- nabec_haplos%>% dplyr::select(\"new_id\",\"yhaplo_haplo_major\",\"tissue\")\n",
    "colnames(nabec_temp) <- c(\"id\",\"yhaplo_haplo_major\",\"tissue\")\n",
    "print(dim(nabec_temp))\n",
    "print(head(nabec_temp))\n",
    "\n"
   ]
  },
  {
   "cell_type": "code",
   "execution_count": null,
   "metadata": {},
   "outputs": [],
   "source": [
    "print(dim(amppd_haplos))\n",
    "amppd_temp <- as.data.frame(amppd_haplos) %>% dplyr::select(\"fid\",\"yhaplo_haplo_major\",\"tissue\")\n",
    "colnames(amppd_temp) <- c(\"id\",\"yhaplo_haplo_major\",\"tissue\")\n",
    "print(dim(amppd_temp))\n",
    "print(head(amppd_temp))"
   ]
  },
  {
   "cell_type": "code",
   "execution_count": null,
   "metadata": {},
   "outputs": [],
   "source": [
    "\n",
    "meta <- rbind(amppd_temp, nabec_temp)\n",
    "meta$'id_tissue' <- paste0(meta$id,'_',meta$tissue)\n",
    "print(dim(meta))\n",
    "print(head(meta))"
   ]
  },
  {
   "cell_type": "code",
   "execution_count": null,
   "metadata": {},
   "outputs": [],
   "source": [
    "exp_meta <- as.data.frame(meta[which(meta$id_tissue %in% colnames(exp_final)),])\n",
    "rownames(exp_meta) <- exp_meta$id_tissue\n",
    "print(dim(meta))\n",
    "print(dim(exp_final))\n",
    "print(dim(exp_meta))"
   ]
  },
  {
   "cell_type": "code",
   "execution_count": null,
   "metadata": {},
   "outputs": [],
   "source": [
    "table(exp_meta$tissue)"
   ]
  },
  {
   "cell_type": "code",
   "execution_count": null,
   "metadata": {},
   "outputs": [],
   "source": [
    "table(exp_meta$yhaplo_haplo_major)"
   ]
  },
  {
   "cell_type": "code",
   "execution_count": null,
   "metadata": {},
   "outputs": [],
   "source": [
    "print(table(exp_meta[exp_meta$tissue=='brain',]$yhaplo_haplo_major))\n",
    "print(table(exp_meta[exp_meta$tissue=='blood',]$yhaplo_haplo_major))"
   ]
  },
  {
   "cell_type": "code",
   "execution_count": null,
   "metadata": {},
   "outputs": [],
   "source": [
    "exp_final_subset <- exp_final %>% dplyr::select(exp_meta$id_tissue)\n",
    "print(dim(exp_final_subset))\n",
    "print(dim(exp_meta))"
   ]
  },
  {
   "cell_type": "code",
   "execution_count": null,
   "metadata": {},
   "outputs": [],
   "source": [
    "#any zero rows to remove?\n",
    "print(dim(exp_final_subset))\n",
    "print(dim(exp_final_subset[rowSums(exp_final_subset[])>0,]))"
   ]
  },
  {
   "cell_type": "code",
   "execution_count": null,
   "metadata": {},
   "outputs": [],
   "source": [
    "exp_final_subset <- exp_final_subset[rowSums(exp_final_subset[])>0,]\n",
    "print(dim(exp_final_subset))"
   ]
  },
  {
   "cell_type": "code",
   "execution_count": null,
   "metadata": {},
   "outputs": [],
   "source": []
  },
  {
   "cell_type": "code",
   "execution_count": null,
   "metadata": {},
   "outputs": [],
   "source": [
    "print(all(colnames(exp_final_subset) == rownames(exp_meta)))"
   ]
  },
  {
   "cell_type": "markdown",
   "metadata": {},
   "source": [
    "## 4) edgeR for differential expression"
   ]
  },
  {
   "cell_type": "code",
   "execution_count": null,
   "metadata": {},
   "outputs": [],
   "source": [
    "dge <- DGEList(counts=exp_final_subset, samples = exp_meta, group = exp_meta$tissue)\n"
   ]
  },
  {
   "cell_type": "code",
   "execution_count": null,
   "metadata": {},
   "outputs": [],
   "source": [
    "design <- model.matrix(~group+0+yhaplo_haplo_major,data = dge$samples)#"
   ]
  },
  {
   "cell_type": "code",
   "execution_count": null,
   "metadata": {},
   "outputs": [],
   "source": [
    "# filter out low expressed genes\n",
    "\n",
    "#print(dim(dge))\n",
    "#isexpr <- rowSums(cpm(final_exp) > 10) >= 2\n",
    "#dge <- dge[isexpr,]\n",
    "#print(dim(dge))\n",
    "\n",
    "keep <- filterByExpr(dge, design)\n",
    "print(table(keep))\n",
    "print(dim(dge$counts))\n",
    "dge <- dge[keep, , keep.lib.sizes=FALSE]\n",
    "print(dim(dge$counts))"
   ]
  },
  {
   "cell_type": "code",
   "execution_count": null,
   "metadata": {},
   "outputs": [],
   "source": [
    "AveLogCPM <- aveLogCPM(dge)\n",
    "hist(AveLogCPM)"
   ]
  },
  {
   "cell_type": "code",
   "execution_count": null,
   "metadata": {},
   "outputs": [],
   "source": [
    "dge <- calcNormFactors(dge)\n",
    "print(head(dge$samples))"
   ]
  },
  {
   "cell_type": "code",
   "execution_count": null,
   "metadata": {},
   "outputs": [],
   "source": [
    "pch <- c(0,1)\n",
    "colors <- c(\"red\", \"blue\")\n",
    "plotMDS(dge, col=colors[dge$samples$group], pch = pch[dge$samples$group])\n",
    "\n",
    "legend(\"topleft\", legend=levels(dge$samples$group), pch = pch, col=colors, ncol=2)"
   ]
  },
  {
   "cell_type": "code",
   "execution_count": null,
   "metadata": {},
   "outputs": [],
   "source": [
    "plotMD(dge, column=1)"
   ]
  },
  {
   "cell_type": "code",
   "execution_count": null,
   "metadata": {},
   "outputs": [],
   "source": [
    "dge <- estimateDisp(dge, design, robust=TRUE)"
   ]
  },
  {
   "cell_type": "code",
   "execution_count": null,
   "metadata": {},
   "outputs": [],
   "source": [
    "plotBCV(dge)"
   ]
  },
  {
   "cell_type": "code",
   "execution_count": null,
   "metadata": {},
   "outputs": [],
   "source": [
    "fit <- glmQLFit(dge, design, robust=TRUE)\n",
    "head(fit$coefficients)"
   ]
  },
  {
   "cell_type": "code",
   "execution_count": null,
   "metadata": {},
   "outputs": [],
   "source": [
    "plotQLDisp(fit)"
   ]
  },
  {
   "cell_type": "code",
   "execution_count": null,
   "metadata": {},
   "outputs": [],
   "source": [
    "summary(fit$df.prior)"
   ]
  },
  {
   "cell_type": "code",
   "execution_count": null,
   "metadata": {
    "tags": []
   },
   "outputs": [],
   "source": [
    "design"
   ]
  },
  {
   "cell_type": "code",
   "execution_count": null,
   "metadata": {
    "tags": []
   },
   "outputs": [],
   "source": [
    "contr.matrix <- makeContrasts(bloodvsbrain = groupblood-groupbrain,levels = colnames(design))\n",
    "print(contr.matrix)"
   ]
  },
  {
   "cell_type": "code",
   "execution_count": null,
   "metadata": {},
   "outputs": [],
   "source": [
    "res <- glmQLFTest(fit, contrast=contr.matrix)"
   ]
  },
  {
   "cell_type": "code",
   "execution_count": null,
   "metadata": {},
   "outputs": [],
   "source": [
    "names(res)"
   ]
  },
  {
   "cell_type": "code",
   "execution_count": null,
   "metadata": {},
   "outputs": [],
   "source": [
    "topTagGene <- topTags(res,n=Inf)\n",
    "print(head(topTagGene$table))"
   ]
  },
  {
   "cell_type": "code",
   "execution_count": null,
   "metadata": {},
   "outputs": [],
   "source": []
  },
  {
   "cell_type": "code",
   "execution_count": null,
   "metadata": {},
   "outputs": [],
   "source": [
    "is.de <- decideTestsDGE(res)\n",
    "summary(is.de)"
   ]
  },
  {
   "cell_type": "code",
   "execution_count": null,
   "metadata": {},
   "outputs": [],
   "source": [
    "plotMD(res, status=is.de)"
   ]
  },
  {
   "cell_type": "markdown",
   "metadata": {},
   "source": [
    "#### filter by logFC"
   ]
  },
  {
   "cell_type": "code",
   "execution_count": null,
   "metadata": {},
   "outputs": [],
   "source": [
    "#distribution of the log fold change\n",
    "summary(topTags(res,n=Inf)$table$logFC)"
   ]
  },
  {
   "cell_type": "code",
   "execution_count": null,
   "metadata": {},
   "outputs": [],
   "source": [
    "#default, no logFC filter\n",
    "dim(topTagGene$table[which(topTagGene$table$FDR<0.05 & topTagGene$table$logFC < 0),])\n",
    "dim(topTagGene$table[which(topTagGene$table$FDR<0.05 & topTagGene$table$logFC > 0),])"
   ]
  },
  {
   "cell_type": "code",
   "execution_count": null,
   "metadata": {},
   "outputs": [],
   "source": [
    "#try with a logFC cutoff\n",
    "cutoff = 4\n",
    "print(log2(cutoff))\n",
    "is.de <- decideTestsDGE(res,lfc=log2(cutoff))\n",
    "print(summary(is.de))\n",
    "\n",
    "\n",
    "\n",
    "print(dim(topTagGene$table[which(topTagGene$table$FDR<0.05 & (topTagGene$table$logFC) > log2(cutoff)),]))\n",
    "print(dim(topTagGene$table[which(topTagGene$table$FDR<0.05 & (topTagGene$table$logFC) < -log2(cutoff)),]))"
   ]
  },
  {
   "cell_type": "markdown",
   "metadata": {},
   "source": [
    "#### merge the group raw count means to the topTagGene$table"
   ]
  },
  {
   "cell_type": "code",
   "execution_count": null,
   "metadata": {},
   "outputs": [],
   "source": [
    "results <- topTagGene$table\n",
    "print(head(results))"
   ]
  },
  {
   "cell_type": "code",
   "execution_count": null,
   "metadata": {},
   "outputs": [],
   "source": [
    "nabec_exp <- exp_final_subset %>% dplyr::select(nabec_haplos$id_tissue)\n",
    "nabec_exp$nabec_raw_means <- rowMeans(nabec_exp)\n",
    "\n",
    "\n",
    "results <- merge(x = results, y = nabec_exp %>% select(\"nabec_raw_means\"),by.x = 0, by.y = 0)\n",
    "rownames(results) <- results$'Row.names'\n",
    "results <-results[,-which(names(results) %in% c(\"Row.names\"))]\n",
    "results <- results[order(results$\"FDR\"),]\n",
    "print(dim(results))\n",
    "print(head(results))"
   ]
  },
  {
   "cell_type": "code",
   "execution_count": null,
   "metadata": {},
   "outputs": [],
   "source": [
    "amppd_exp <- exp_final_subset %>% dplyr::select(amppd_haplos$id_tissue)\n",
    "amppd_exp$amppd_raw_means <- rowMeans(amppd_exp)\n",
    "\n",
    "\n",
    "results <- merge(x = results, y = amppd_exp %>% select(\"amppd_raw_means\"),by.x = 0, by.y = 0)\n",
    "rownames(results) <- results$'Row.names'\n",
    "results <-results[,-which(names(results) %in% c(\"Row.names\"))]\n",
    "results <- results[order(results$\"FDR\"),]\n",
    "print(dim(results))\n",
    "print(head(results))"
   ]
  },
  {
   "cell_type": "code",
   "execution_count": null,
   "metadata": {},
   "outputs": [],
   "source": [
    "print(dim(results[which(results$FDR<0.05 & (results$logFC) > log2(cutoff)),]))\n",
    "\n",
    "\n",
    "print(head(results[which(results$FDR<0.05 & (results$logFC) > log2(cutoff)),]))\n",
    "print(dim(results[which(results$FDR<0.05 & (results$logFC) < -log2(cutoff)),]))\n",
    "print(head(results[which(results$FDR<0.05 & (results$logFC) < -log2(cutoff)),]))"
   ]
  },
  {
   "cell_type": "code",
   "execution_count": null,
   "metadata": {},
   "outputs": [],
   "source": [
    "write.csv(results, paste0(WRKDIR,\"/expression/brain_blood_haplo_featureCounts_edgeR_diff_exp_results.csv\"), row.names=TRUE)"
   ]
  },
  {
   "cell_type": "markdown",
   "metadata": {},
   "source": [
    "## (re)Run DE analysis with glmTreat to filter for logFC"
   ]
  },
  {
   "cell_type": "code",
   "execution_count": null,
   "metadata": {},
   "outputs": [],
   "source": [
    "treat <- glmTreat(fit,contrast = contr.matrix, lfc = log2(cutoff))"
   ]
  },
  {
   "cell_type": "code",
   "execution_count": null,
   "metadata": {},
   "outputs": [],
   "source": [
    "plotQLDisp(treat)"
   ]
  },
  {
   "cell_type": "code",
   "execution_count": null,
   "metadata": {},
   "outputs": [],
   "source": [
    "topTagGene_treat <- topTags(treat,n=Inf)\n",
    "head(topTagGene_treat$table)"
   ]
  },
  {
   "cell_type": "code",
   "execution_count": null,
   "metadata": {},
   "outputs": [],
   "source": [
    "is.de <- decideTestsDGE(treat)\n",
    "summary(is.de)"
   ]
  },
  {
   "cell_type": "code",
   "execution_count": null,
   "metadata": {},
   "outputs": [],
   "source": [
    "plotMD(treat, status=is.de)"
   ]
  },
  {
   "cell_type": "markdown",
   "metadata": {},
   "source": [
    "#### merge with the p values before thresholded testing"
   ]
  },
  {
   "cell_type": "code",
   "execution_count": null,
   "metadata": {},
   "outputs": [],
   "source": [
    "results_treat <- topTagGene_treat$table\n",
    "print(head(results_treat))"
   ]
  },
  {
   "cell_type": "code",
   "execution_count": null,
   "metadata": {},
   "outputs": [],
   "source": [
    "treat_merge_vals <- results_treat %>% select(\"unshrunk.logFC\",\"PValue\",\"FDR\")\n",
    "colnames(treat_merge_vals) <- paste0(\"threshold_test_\",colnames(treat_merge_vals))\n",
    "print(head(treat_merge_vals))"
   ]
  },
  {
   "cell_type": "code",
   "execution_count": null,
   "metadata": {},
   "outputs": [],
   "source": [
    "merged_results <- merge(x = results, y = treat_merge_vals, by = 0)\n",
    "merged_results <- merged_results[order(merged_results$'FDR',merged_results$'threshold_test_FDR'),]\n",
    "\n",
    "rownames(merged_results) <- merged_results$'Row.names'\n",
    "\n",
    "merged_results <- merged_results[,2:length(colnames(merged_results))]\n",
    "\n",
    "\n",
    "print(dim(results))\n",
    "print(dim(treat_merge_vals))\n",
    "print(dim(merged_results))\n",
    "print(head(merged_results))"
   ]
  },
  {
   "cell_type": "code",
   "execution_count": null,
   "metadata": {},
   "outputs": [],
   "source": [
    "print(dim(merged_results[which(merged_results$FDR<0.05 & (merged_results$logFC) > log2(cutoff)),]))\n",
    "\n",
    "print(head(merged_results[which(merged_results$FDR<0.05 & (merged_results$logFC) > log2(cutoff)),]))\n",
    "print(dim(merged_results[which(merged_results$FDR<0.05 & (merged_results$logFC) < -log2(cutoff)),]))\n",
    "print(head(merged_results[which(merged_results$FDR<0.05 & (merged_results$logFC) < -log2(cutoff)),]))"
   ]
  },
  {
   "cell_type": "code",
   "execution_count": null,
   "metadata": {},
   "outputs": [],
   "source": [
    "print(dim(merged_results[which(merged_results$threshold_test_FDR<0.05 & (merged_results$logFC) > log2(cutoff)),]))\n",
    "\n",
    "print(head(merged_results[which(merged_results$threshold_test_FDR<0.05 & (merged_results$logFC) > log2(cutoff)),]))\n",
    "print(dim(merged_results[which(merged_results$threshold_test_FDR<0.05 & (merged_results$logFC) < -log2(cutoff)),]))\n",
    "print(head(merged_results[which(merged_results$threshold_test_FDR<0.05 & (merged_results$logFC) < -log2(cutoff)),]))"
   ]
  },
  {
   "cell_type": "code",
   "execution_count": null,
   "metadata": {},
   "outputs": [],
   "source": [
    "write.csv(merged_results, paste0(WRKDIR,\"/expression/brain_blood_haplo_featureCounts_edgeR_diff_exp_results.csv\"), row.names=TRUE)"
   ]
  },
  {
   "cell_type": "code",
   "execution_count": null,
   "metadata": {},
   "outputs": [],
   "source": []
  }
 ],
 "metadata": {
  "kernelspec": {
   "display_name": "R/3.5",
   "language": "R",
   "name": "ir35"
  },
  "language_info": {
   "codemirror_mode": "r",
   "file_extension": ".r",
   "mimetype": "text/x-r-source",
   "name": "R",
   "pygments_lexer": "r",
   "version": "3.5.2"
  },
  "toc": {
   "base_numbering": 1,
   "nav_menu": {},
   "number_sections": true,
   "sideBar": true,
   "skip_h1_title": false,
   "title_cell": "Table of Contents",
   "title_sidebar": "Contents",
   "toc_cell": false,
   "toc_position": {},
   "toc_section_display": true,
   "toc_window_display": false
  }
 },
 "nbformat": 4,
 "nbformat_minor": 4
}
