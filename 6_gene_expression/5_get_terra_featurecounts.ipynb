{
 "cells": [
  {
   "cell_type": "markdown",
   "metadata": {},
   "source": [
    "# Get Expression Data From AMP-PD Data on Terra\n",
    "- **Author(s)** - Frank Grenn\n",
    "- **Quick Description:** Run this on Terra. Query AMPPD data to get expression for the genes/transcripts and samples we want."
   ]
  },
  {
   "cell_type": "markdown",
   "metadata": {},
   "source": [
    "## Setup"
   ]
  },
  {
   "cell_type": "code",
   "execution_count": null,
   "metadata": {},
   "outputs": [],
   "source": [
    "library(tidyr)\n",
    "library(data.table)\n",
    "# Load the tidyverse\n",
    "library(tidyverse)\n",
    "\n",
    "# Load ggplot2 for graphs\n",
    "library(ggplot2)\n",
    "\n",
    "# Load biqrquery for interacting with BigQuery\n",
    "library(bigrquery)\n",
    "\n",
    "# Load reticulate for calling the FireCloud Python API\n",
    "library(reticulate)"
   ]
  },
  {
   "cell_type": "code",
   "execution_count": null,
   "metadata": {},
   "outputs": [],
   "source": [
    "# Utility routine for printing a shell command before executing it\n",
    "shell_do <- function(command) {\n",
    "    print(paste('Executing: ', command))\n",
    "    system(command, intern = TRUE)\n",
    "}\n",
    "\n",
    "# Utility routines for reading files from Google BigQuery\n",
    "bq_query <- function(query) {\n",
    "    # Return the contents of a query against BigQuery    \n",
    "    return(bigrquery::bq_table_download(\n",
    "        bigrquery::bq_project_query(BILLING_PROJECT_ID, query = query)))\n",
    "}\n",
    "\n",
    "# Initialize authorization for BigQuery operations\n",
    "bigrquery::bq_auth(path=Ronaldo::getServiceAccountKey())"
   ]
  },
  {
   "cell_type": "code",
   "execution_count": null,
   "metadata": {},
   "outputs": [],
   "source": [
    "WORKSPACE_BUCKET = 'gs://123'"
   ]
  },
  {
   "cell_type": "code",
   "execution_count": null,
   "metadata": {},
   "outputs": [],
   "source": [
    "BILLING_PROJECT_ID <- Sys.getenv('GOOGLE_PROJECT')\n",
    "WORKSPACE_NAMESPACE <- Sys.getenv('WORKSPACE_NAMESPACE')\n",
    "WORKSPACE_NAME <- Sys.getenv('WORKSPACE_NAME')\n",
    "\n",
    "print(BILLING_PROJECT_ID)\n",
    "print(WORKSPACE_NAMESPACE)\n",
    "print(WORKSPACE_NAME)\n",
    "\n"
   ]
  },
  {
   "cell_type": "markdown",
   "metadata": {},
   "source": [
    "## Identify samples to use"
   ]
  },
  {
   "cell_type": "code",
   "execution_count": null,
   "metadata": {},
   "outputs": [],
   "source": [
    "#pull the file containing the samples we want\n",
    "shell_do(str_glue(\"gsutil -u {BILLING_PROJECT_ID} cp {WORKSPACE_BUCKET}/chrY_meta.csv .\"))\n"
   ]
  },
  {
   "cell_type": "code",
   "execution_count": null,
   "metadata": {},
   "outputs": [],
   "source": [
    "meta <- fread(\"chrY_meta.csv\")\n",
    "print(dim(meta))"
   ]
  },
  {
   "cell_type": "code",
   "execution_count": null,
   "metadata": {},
   "outputs": [],
   "source": [
    "#subset\n",
    "samples_use <- (meta[which(meta$genetic_carrier==0 & meta$InfPop==\"EUROPE\" & meta$pheno!=-9),])\n",
    "print(dim(samples_use))\n",
    "print(head(samples_use))"
   ]
  },
  {
   "cell_type": "markdown",
   "metadata": {},
   "source": [
    "## Query featureCounts Data"
   ]
  },
  {
   "cell_type": "code",
   "execution_count": null,
   "metadata": {},
   "outputs": [],
   "source": [
    "#peek at the data\n",
    "bq_query(str_glue(\"\n",
    "  SELECT *\n",
    "  FROM `amp-pd-research.2021_v2_5release_0510_transcriptomics.feature_counts`\n",
    "LIMIT 10\"))"
   ]
  },
  {
   "cell_type": "code",
   "execution_count": null,
   "metadata": {},
   "outputs": [],
   "source": [
    "#want expression for baseline (BLM0T1) samples\n",
    "samples_use$sample_id <- paste0(samples_use$iid,'-BLM0T1')"
   ]
  },
  {
   "cell_type": "code",
   "execution_count": null,
   "metadata": {
    "scrolled": true
   },
   "outputs": [],
   "source": [
    "#make a string to use in the query to get the samples we want\n",
    "query_samples_string <- (paste(shQuote(c(samples_use$sample_id),type=\"cmd\"),collapse=\", \"))\n",
    "print(substr(query_samples_string,1,100))"
   ]
  },
  {
   "cell_type": "code",
   "execution_count": null,
   "metadata": {},
   "outputs": [],
   "source": [
    "#get the chrY expression data for the samples\n",
    "query_results <- bq_query(str_glue(\"\n",
    "  SELECT participant_id, Geneid, Value, Chr\n",
    "  FROM `amp-pd-research.2021_v2_5release_0510_transcriptomics.feature_counts`\n",
    "  WHERE sample_id IN ({query_samples_string}) AND Chr LIKE 'chrY%'\"))\n",
    "print(dim(query_results))"
   ]
  },
  {
   "cell_type": "code",
   "execution_count": null,
   "metadata": {},
   "outputs": [],
   "source": [
    "print(head(query_results))\n",
    "print(length(unique(query_results$participant_id)))\n",
    "print(length(unique(query_results$Geneid)))"
   ]
  },
  {
   "cell_type": "code",
   "execution_count": null,
   "metadata": {},
   "outputs": [],
   "source": [
    "print(tail(query_results))"
   ]
  },
  {
   "cell_type": "code",
   "execution_count": null,
   "metadata": {},
   "outputs": [],
   "source": [
    "#force it into a matrix\n",
    "count_df <- query_results %>% select(\"participant_id\",\"Geneid\",\"Value\")\n",
    "count_matrix <- pivot_wider(count_df, names_from = participant_id, values_from = Value)\n",
    "print(dim(count_matrix))\n",
    "print(count_matrix[1:5,1:5])\n",
    "write.csv(count_matrix,\"amppd_chrY_featureCounts.csv\",row.names=FALSE,quote=FALSE)"
   ]
  },
  {
   "cell_type": "code",
   "execution_count": null,
   "metadata": {},
   "outputs": [],
   "source": [
    "shell_do(str_glue(\"gsutil -u {BILLING_PROJECT_ID} cp amppd_chrY_featureCounts.csv {WORKSPACE_BUCKET}\"))"
   ]
  },
  {
   "cell_type": "markdown",
   "metadata": {},
   "source": [
    "## For Querying Specific Transcripts from Salmon"
   ]
  },
  {
   "cell_type": "code",
   "execution_count": null,
   "metadata": {},
   "outputs": [],
   "source": []
  },
  {
   "cell_type": "code",
   "execution_count": null,
   "metadata": {},
   "outputs": [],
   "source": [
    "#get the transcript we want\n",
    "shell_do(str_glue(\"gsutil -u {BILLING_PROJECT_ID} cp {WORKSPACE_BUCKET}/chrY_ids.txt .\"))\n"
   ]
  },
  {
   "cell_type": "code",
   "execution_count": null,
   "metadata": {
    "scrolled": true
   },
   "outputs": [],
   "source": [
    "chry <- fread(\"chrY_ids.txt\")\n",
    "print(dim(chry))\n",
    "\n",
    "chry <- chry[(chry$'hg19.knownToEnsembl.value'!='n/a'),]\n",
    "print(dim(chry))\n",
    "print(head(chry))"
   ]
  },
  {
   "cell_type": "code",
   "execution_count": null,
   "metadata": {},
   "outputs": [],
   "source": [
    "y_transcripts <- chry$'hg19.knownToEnsembl.value'\n",
    "print(length(y_transcripts))\n",
    "print(length(unique(y_transcripts)))\n",
    "y_transcripts <- unique(y_transcripts)\n",
    "print(y_transcripts[1:10])"
   ]
  },
  {
   "cell_type": "code",
   "execution_count": null,
   "metadata": {},
   "outputs": [],
   "source": [
    "samples_use$sample_id <- paste0(samples_use$iid,'-BLM0T1')\n"
   ]
  },
  {
   "cell_type": "code",
   "execution_count": null,
   "metadata": {
    "scrolled": true
   },
   "outputs": [],
   "source": [
    "#make a string to use in the query to get the samples we want\n",
    "query_samples_string <- (paste(shQuote(c(samples_use$sample_id),type=\"cmd\"),collapse=\", \"))\n",
    "print(query_samples_string)"
   ]
  },
  {
   "cell_type": "code",
   "execution_count": null,
   "metadata": {},
   "outputs": [],
   "source": [
    "#we are missing the \".#\" part of the transcript names so need to account for this in the query. Unfortunately it seems the best way to do this is with many OR LIKE statements\n",
    "query_transcripts_like <- paste(y_transcripts,collapse='.%\" OR Name LIKE \"')\n",
    "query_transcripts_like <- paste0('Name LIKE \"', query_transcripts_like, '.%\"')"
   ]
  },
  {
   "cell_type": "code",
   "execution_count": null,
   "metadata": {},
   "outputs": [],
   "source": [
    "#query_results <- bq_query(str_glue(\"\n",
    "#  SELECT participant_id, Name, TPM, NumReads, EffectiveLength\n",
    "#  FROM `amp-pd-research.2021_v2_5release_0510_transcriptomics.quantification_transcripts`\n",
    "#  WHERE sample_id IN ({query_samples_string}) AND Name IN ('ENST00000454978.2','ENST00000382407.1')\"))\n",
    "query_results <- bq_query(str_glue(\"\n",
    "  SELECT participant_id, Name, TPM, NumReads, EffectiveLength\n",
    "  FROM `amp-pd-research.2021_v2_5release_0510_transcriptomics.quantification_transcripts`\n",
    "  WHERE sample_id IN ({query_samples_string}) AND ({query_transcripts_like})\"))\n",
    "print(dim(query_results))"
   ]
  },
  {
   "cell_type": "code",
   "execution_count": null,
   "metadata": {},
   "outputs": [],
   "source": [
    "head(query_results)"
   ]
  },
  {
   "cell_type": "code",
   "execution_count": null,
   "metadata": {},
   "outputs": [],
   "source": [
    "print(length(unique(query_results$participant_id)))\n",
    "print(length(unique(query_results$Name)))"
   ]
  },
  {
   "cell_type": "code",
   "execution_count": null,
   "metadata": {
    "scrolled": true
   },
   "outputs": [],
   "source": [
    "query_results[query_results$Name==\"ENST00000383070.1\",]"
   ]
  },
  {
   "cell_type": "code",
   "execution_count": null,
   "metadata": {},
   "outputs": [],
   "source": [
    "counts_df <- query_results %>% select(\"participant_id\",\"Name\",\"NumReads\")"
   ]
  },
  {
   "cell_type": "code",
   "execution_count": null,
   "metadata": {},
   "outputs": [],
   "source": [
    "counts_matrix <- pivot_wider(counts_df, names_from = participant_id, values_from = NumReads)\n",
    "print(dim(counts_matrix))\n",
    "print(counts_matrix[1:5,1:5])\n",
    "write.csv(counts_matrix,\"amppd_chry_counts.csv\",row.names=FALSE,quote=FALSE)"
   ]
  },
  {
   "cell_type": "code",
   "execution_count": null,
   "metadata": {},
   "outputs": [],
   "source": [
    "abundance_df <- query_results %>% select(\"participant_id\",\"Name\",\"TPM\")\n",
    "abundance_matrix <- pivot_wider(abundance_df, names_from = participant_id, values_from = TPM)\n",
    "print(dim(abundance_matrix))\n",
    "print(abundance_matrix[1:5,1:5])\n",
    "write.csv(abundance_matrix,\"amppd_chry_abundance.csv\",row.names=FALSE,quote=FALSE)"
   ]
  },
  {
   "cell_type": "code",
   "execution_count": null,
   "metadata": {},
   "outputs": [],
   "source": [
    "length_df <- query_results %>% select(\"participant_id\",\"Name\",\"EffectiveLength\")\n",
    "length_matrix <- pivot_wider(length_df, names_from = participant_id, values_from = EffectiveLength)\n",
    "print(dim(length_matrix))\n",
    "print(length_matrix[1:5,1:5])\n",
    "write.csv(length_matrix,\"amppd_chry_length.csv\",row.names=FALSE,quote=FALSE)"
   ]
  },
  {
   "cell_type": "code",
   "execution_count": null,
   "metadata": {},
   "outputs": [],
   "source": [
    "shell_do(str_glue(\"gsutil -u {BILLING_PROJECT_ID} cp amppd_chry_counts.csv {WORKSPACE_BUCKET}\"))\n",
    "shell_do(str_glue(\"gsutil -u {BILLING_PROJECT_ID} cp amppd_chry_abundance.csv {WORKSPACE_BUCKET}\"))\n",
    "shell_do(str_glue(\"gsutil -u {BILLING_PROJECT_ID} cp amppd_chry_length.csv {WORKSPACE_BUCKET}\"))"
   ]
  }
 ],
 "metadata": {
  "kernelspec": {
   "display_name": "R",
   "language": "R",
   "name": "ir"
  },
  "language_info": {
   "codemirror_mode": "r",
   "file_extension": ".r",
   "mimetype": "text/x-r-source",
   "name": "R",
   "pygments_lexer": "r",
   "version": "4.1.1"
  },
  "toc": {
   "base_numbering": 1,
   "nav_menu": {},
   "number_sections": true,
   "sideBar": true,
   "skip_h1_title": false,
   "title_cell": "Table of Contents",
   "title_sidebar": "Contents",
   "toc_cell": false,
   "toc_position": {},
   "toc_section_display": true,
   "toc_window_display": false
  }
 },
 "nbformat": 4,
 "nbformat_minor": 4
}
