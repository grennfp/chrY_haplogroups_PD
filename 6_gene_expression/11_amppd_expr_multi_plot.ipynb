{
 "cells": [
  {
   "cell_type": "markdown",
   "metadata": {
    "tags": []
   },
   "source": [
    "# Plot Y Chromosome Gene Blood Expression From AMP-PD Data with Different Y Chromosome Haplogroups\n",
    "- **Author(s)** - Frank Grenn\n",
    "- **Quick Description:** Get AMP-PD expression data, plot with haplogroup and case/control status"
   ]
  },
  {
   "cell_type": "code",
   "execution_count": null,
   "metadata": {},
   "outputs": [],
   "source": [
    "\n",
    "import os\n",
    "\n",
    "import pandas as pd\n",
    "import mygene\n",
    "\n",
    "import matplotlib.pyplot as plt\n",
    "%matplotlib inline\n",
    "\n",
    "import seaborn as sns"
   ]
  },
  {
   "cell_type": "code",
   "execution_count": null,
   "metadata": {},
   "outputs": [],
   "source": [
    "WRKDIR = \"/PATH\"\n"
   ]
  },
  {
   "cell_type": "markdown",
   "metadata": {},
   "source": [
    "## AMP-PD Gene Expression Data"
   ]
  },
  {
   "cell_type": "code",
   "execution_count": null,
   "metadata": {},
   "outputs": [],
   "source": [
    "amp_counts = pd.read_csv(f\"{WRKDIR}/chrY/expression/amppd_chrY_featureCounts.csv\")\n",
    "amp_counts = amp_counts.set_index(\"Geneid\")\n",
    "print(amp_counts.shape)\n",
    "print(amp_counts.iloc[0:5,0:5])"
   ]
  },
  {
   "cell_type": "markdown",
   "metadata": {},
   "source": [
    "## Sample Data\n"
   ]
  },
  {
   "cell_type": "code",
   "execution_count": null,
   "metadata": {},
   "outputs": [],
   "source": [
    "meta = pd.read_csv(f\"{WRKDIR}/chrY/output_male_hemizygous_only_het_filter_run/chrY_meta.csv\")\n",
    "\n",
    "print(meta.shape)\n",
    "print(meta.head())"
   ]
  },
  {
   "cell_type": "markdown",
   "metadata": {},
   "source": [
    "## Get list of genes to plot"
   ]
  },
  {
   "cell_type": "code",
   "execution_count": null,
   "metadata": {},
   "outputs": [],
   "source": [
    "results = pd.read_csv(f\"{WRKDIR}/chrY/expression/amppd_haplogroup_G_diff_exp_edgeR_results.csv\")\n",
    "print(results.shape)\n",
    "print(results.head())"
   ]
  },
  {
   "cell_type": "code",
   "execution_count": null,
   "metadata": {},
   "outputs": [],
   "source": [
    "genes_to_plot = results.loc[(results.FDR<0.05) & (results.logFC>2),].iloc[:,0].tolist()\n",
    "print(len(genes_to_plot))"
   ]
  },
  {
   "cell_type": "code",
   "execution_count": null,
   "metadata": {},
   "outputs": [],
   "source": [
    "print(genes_to_plot)"
   ]
  },
  {
   "cell_type": "markdown",
   "metadata": {},
   "source": [
    "## Plot for a multiple genes"
   ]
  },
  {
   "cell_type": "code",
   "execution_count": null,
   "metadata": {},
   "outputs": [],
   "source": [
    "#rows and cols in plot grid. Need to be able to fit everything in ct list above\n",
    "rows = 2\n",
    "cols = 2\n",
    "\n",
    "#haplogroups to include in the plots\n",
    "haplos = ['R','I','J','E','G']"
   ]
  },
  {
   "cell_type": "code",
   "execution_count": null,
   "metadata": {
    "tags": []
   },
   "outputs": [],
   "source": [
    "\n",
    "\n",
    "gene_count = 0;\n",
    "subplot_count = 0\n",
    "fig = plt.figure(figsize=(12, 8), dpi=80)\n",
    "fig.subplots_adjust(hspace=0.5, wspace=0.5)\n",
    "\n",
    "for i in range(rows):\n",
    "    for j in range(cols):\n",
    "\n",
    "        gene = genes_to_plot[gene_count]\n",
    "        print(gene)\n",
    "        full_gene = [g for g in amp_counts.index if gene in g][0]\n",
    "        print(full_gene)\n",
    "        \n",
    "        gene_counts = amp_counts[[gene in i for i in amp_counts.index]].transpose()\n",
    "        print(gene_counts.shape)\n",
    "        \n",
    "        meta_quant = pd.merge(left = meta, left_on= 'fid',right = gene_counts, right_index=True)\n",
    "        meta_quant = meta_quant.rename(columns = {full_gene:'counts'})\n",
    "        print(meta_quant.shape)\n",
    "        print(meta_quant.head())\n",
    "\n",
    "        \n",
    "\n",
    "        #add subplot\n",
    "        ax = fig.add_subplot(rows,cols,subplot_count+1)\n",
    "\n",
    "        #plot\n",
    "        sns.set()\n",
    "\n",
    "\n",
    "        sns_plot = sns.violinplot(palette=\"tab10\",x='yhaplo_haplo_major', y='counts', data=meta_quant,inner = \"box\",order=sorted(haplos),hue='pheno',split=False)\n",
    "        sns_plot = sns.stripplot(palette=\"tab10\",linewidth=1,x='yhaplo_haplo_major', y='counts', data=meta_quant,color=\".4\",order=sorted(haplos),hue='pheno',dodge=True)\n",
    "        #sns_plot = sns.boxplot(palette=\"tab10\",x=\"yhaplo_haplo_major\", y=\"TPM\",color=\".4\",data=df, order=sorted(haplogroups),hue=\"pheno\" )\n",
    "\n",
    "        plt.xlabel(f\"Y Chromosome Haplogroup\")\n",
    "        plt.ylabel(f\"Counts\")\n",
    "        plt.title(f\"{full_gene}\")\n",
    "\n",
    "        handles, labels = sns_plot.get_legend_handles_labels()\n",
    "\n",
    "        labels = ['control','case','control','case']\n",
    "\n",
    "        # When creating the legend, only use the first two elements\n",
    "        # to effectively remove the last two.\n",
    "        l = plt.legend(handles[0:2], labels[0:2], bbox_to_anchor=(1.01, 1), loc=2, borderaxespad=0.)\n",
    "\n",
    "        subplot_count = subplot_count + 1 \n",
    "\n",
    "    \n",
    "\n",
    "        gene_count = gene_count + 1\n",
    "        if(gene_count >= len(genes_to_plot)):\n",
    "            break;\n",
    "            \n",
    "    if(gene_count >= len(genes_to_plot)):\n",
    "        break;\n",
    "\n",
    "\n",
    "\n",
    "fig.suptitle(f\"Genes Highly Expressed in AMP-PD Samples with Major Haplogroup G\")\n",
    "plt.show()\n",
    "sns_plot.get_figure().savefig(f\"{WRKDIR}/chrY/expression/haplo_g_amppd_counts_violin_multiplot.png\")   \n",
    "\n",
    "\n"
   ]
  },
  {
   "cell_type": "code",
   "execution_count": null,
   "metadata": {},
   "outputs": [],
   "source": [
    "amp_counts.loc[\"ENSG00000184895.7\",]"
   ]
  },
  {
   "cell_type": "code",
   "execution_count": null,
   "metadata": {
    "tags": []
   },
   "outputs": [],
   "source": [
    "\n",
    "\n",
    "\n",
    "gene_count = 0;\n",
    "subplot_count = 0\n",
    "fig = plt.figure(figsize=(10, 14), dpi=80)\n",
    "fig.subplots_adjust(hspace=0.5, wspace=0.5)\n",
    "\n",
    "for i in range(rows):\n",
    "    for j in range(cols):\n",
    "\n",
    "        gene = genes_to_plot[gene_count]\n",
    "        \n",
    "        var_geno = genos[genos.FID==variant].T\n",
    "        var_geno.columns = var_geno.iloc[0,:]\n",
    "        var_geno = var_geno.drop('FID',0)\n",
    "\n",
    "        #get expression data for the gene in a specific celltype\n",
    "        exp_data = pd.read_table(f\"{processing_output}/{celltype}_0025_15.txt\")\n",
    "        if(gene in exp_data.GENES.tolist()):\n",
    "            \n",
    "            #get pvalue\n",
    "            eqtl_output = pd.read_table(f\"{output_path}/{cistrans}_{celltype}_0025_15.txt\")\n",
    "            subplot_title = celltype\n",
    "            \n",
    "            eqtl_row = eqtl_output[(eqtl_output.snps==variant ) & (eqtl_output.gene==gene)]\n",
    "            if(len(eqtl_row)==1):\n",
    "                print(eqtl_row)\n",
    "                print(eqtl_row.pvalue)\n",
    "                print(eqtl_row.pvalue.values[0])\n",
    "                pval = eqtl_row.pvalue.values[0]\n",
    "                print(pval)\n",
    "                subplot_title = f\"{celltype} \\n eQTL pvalue:{pval}\"\n",
    "                print(f\"has pvalue:{pval}\")\n",
    "            \n",
    "            \n",
    "            print(f\"{gene} in {celltype} data\")\n",
    "            exp_data = exp_data[exp_data.GENES==gene].T\n",
    "            exp_data.columns = exp_data.iloc[0,:]\n",
    "            exp_data = exp_data.drop('GENES',0)\n",
    "\n",
    "            #merge\n",
    "            merged = pd.merge(left = var_geno, right = exp_data, left_index = True, right_index = True).astype('float64')\n",
    "            \n",
    "            #add subplot\n",
    "            ax = fig.add_subplot(rows,cols,subplot_count+1)\n",
    "               \n",
    "            #plot\n",
    "            sns.set()\n",
    "            #plt.figure(figsize=(10,10))\n",
    "\n",
    "            sns_plot = sns.violinplot(x=variant, y=gene, data=merged,inner = \"box\",ax = ax)\n",
    "            sns_plot = sns.stripplot(x=variant, y=gene, data=merged,color=\".4\",ax = ax)\n",
    "            plt.xlabel(f\"{variant} genotype\")\n",
    "            plt.ylabel(gene)\n",
    "            plt.title(f\"{subplot_title}\")\n",
    "            \n",
    "            subplot_count = subplot_count + 1 \n",
    "        else:\n",
    "            print(f\"{gene} not in {celltype} data\")\n",
    "\n",
    "        gene_count = gene_count + 1\n",
    "        if(celltype_count >= len(genes_to_plot)):\n",
    "            break;\n",
    "            \n",
    "    if(celltype_count >= len(genes_to_plot)):\n",
    "        break;\n",
    "\n",
    "\n",
    "fig.suptitle(f\"{variant} Genotypes and {gene} Expression\")\n",
    "plt.show()\n",
    "sns_plot.get_figure().savefig(f\"{combined_violin_plot_output}/{variant}_{cistrans}_eQTL_{gene}_{ctname}.png\")   \n",
    "\n",
    "\n",
    "\n"
   ]
  },
  {
   "cell_type": "code",
   "execution_count": null,
   "metadata": {},
   "outputs": [],
   "source": [
    "for g in genes_to_plot:\n",
    "    print(g)\n",
    "\n",
    "    print(amp_counts[[g in i for i in amp_counts.index]].shape)\n",
    "    print(amp_counts[[g in i for i in amp_counts.index]].transpose().iloc[0:5,0:5])"
   ]
  },
  {
   "cell_type": "code",
   "execution_count": null,
   "metadata": {},
   "outputs": [],
   "source": [
    "genes = [\"ENSG00000184895.7\"]"
   ]
  },
  {
   "cell_type": "code",
   "execution_count": null,
   "metadata": {},
   "outputs": [],
   "source": [
    "amp_counts.loc[gene,].to_frame()"
   ]
  },
  {
   "cell_type": "code",
   "execution_count": null,
   "metadata": {},
   "outputs": [],
   "source": [
    "amp_counts.loc[gene,].describe()"
   ]
  },
  {
   "cell_type": "code",
   "execution_count": null,
   "metadata": {},
   "outputs": [],
   "source": [
    "meta_quant = pd.merge(left = meta, left_on= 'fid',right = amp_counts.loc[gene,].to_frame(), right_index=True)\n",
    "meta_quant = meta_quant.rename(columns = {gene:'counts'})\n",
    "print(meta_quant.shape)\n",
    "print(meta_quant.head())"
   ]
  },
  {
   "cell_type": "code",
   "execution_count": null,
   "metadata": {},
   "outputs": [],
   "source": [
    "#check haplogroup counts to see which are worth plotting.\n",
    "meta_quant.yhaplo_haplo_major.value_counts()"
   ]
  },
  {
   "cell_type": "code",
   "execution_count": null,
   "metadata": {},
   "outputs": [],
   "source": [
    "haplos = ['R','I','J','E','G']"
   ]
  },
  {
   "cell_type": "code",
   "execution_count": null,
   "metadata": {},
   "outputs": [],
   "source": [
    "def haplogroup_violin_plot(df, title, haplogroups, save_file = None, combine_all=True):\n",
    "    \n",
    "\n",
    "    #if we want a violin plot with all data combined, the duplicate the df, set the haplo col to 'all_haplogroups' and add to the main dataframe\n",
    "    if (combine_all):\n",
    "        combine_df = df.copy()\n",
    "        #print(combine_df.yhaplo_haplo_major.value_counts())\n",
    "        combine_df = combine_df[combine_df.yhaplo_haplo_major.isin(haplogroups)]\n",
    "        #print(combine_df.yhaplo_haplo_major.value_counts())\n",
    "        combine_df.yhaplo_haplo_major = 'All Haplogroups'\n",
    "        df = df.append(combine_df, ignore_index=True)\n",
    "        haplogroups = haplogroups + ['All Haplogroups']\n",
    "    \n",
    "    #plot\n",
    "    plt.figure(figsize=(7, 5))\n",
    "    sns.set()\n",
    "\n",
    "    \n",
    "    sns_plot = sns.violinplot(palette=\"tab10\",x='yhaplo_haplo_major', y='counts', data=df,inner = \"box\",order=sorted(haplogroups),hue='pheno',split=False)\n",
    "    sns_plot = sns.stripplot(palette=\"tab10\",linewidth=1,x='yhaplo_haplo_major', y='counts', data=df,color=\".4\",order=sorted(haplogroups),hue='pheno',dodge=True)\n",
    "    #sns_plot = sns.boxplot(palette=\"tab10\",x=\"yhaplo_haplo_major\", y=\"TPM\",color=\".4\",data=df, order=sorted(haplogroups),hue=\"pheno\" )\n",
    "\n",
    "    plt.xlabel(f\"Y Chromosome Haplogroup\")\n",
    "    plt.ylabel(f\"Counts\")\n",
    "    plt.title(title)\n",
    "\n",
    "    handles, labels = sns_plot.get_legend_handles_labels()\n",
    "\n",
    "    labels = ['control','case','control','case']\n",
    "\n",
    "    # When creating the legend, only use the first two elements\n",
    "    # to effectively remove the last two.\n",
    "    l = plt.legend(handles[0:2], labels[0:2], bbox_to_anchor=(1.01, 1), loc=2, borderaxespad=0.)\n",
    "\n",
    "\n",
    "    plt.show()\n",
    "    if (save_file is not None):\n",
    "        sns_plot.get_figure().savefig(save_file,bbox_inches='tight')"
   ]
  },
  {
   "cell_type": "code",
   "execution_count": null,
   "metadata": {},
   "outputs": [],
   "source": [
    "haplogroup_violin_plot(meta_quant,f\"SRY ({gene}) Expression\", haplos, save_file = f\"{WRKDIR}/chrY/expression/amp_sry_counts_plot.png\",combine_all=True)"
   ]
  },
  {
   "cell_type": "code",
   "execution_count": null,
   "metadata": {},
   "outputs": [],
   "source": []
  }
 ],
 "metadata": {
  "kernelspec": {
   "display_name": "python/3.7",
   "language": "python",
   "name": "py3.7"
  },
  "language_info": {
   "codemirror_mode": {
    "name": "ipython",
    "version": 3
   },
   "file_extension": ".py",
   "mimetype": "text/x-python",
   "name": "python",
   "nbconvert_exporter": "python",
   "pygments_lexer": "ipython3",
   "version": "3.7.5"
  },
  "toc": {
   "base_numbering": 1,
   "nav_menu": {},
   "number_sections": true,
   "sideBar": true,
   "skip_h1_title": false,
   "title_cell": "Table of Contents",
   "title_sidebar": "Contents",
   "toc_cell": false,
   "toc_position": {},
   "toc_section_display": true,
   "toc_window_display": false
  }
 },
 "nbformat": 4,
 "nbformat_minor": 4
}
