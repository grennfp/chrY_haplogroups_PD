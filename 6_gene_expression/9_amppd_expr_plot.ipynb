{
 "cells": [
  {
   "cell_type": "markdown",
   "metadata": {},
   "source": [
    "# Plot Y Chromosome Gene Blood Expression From AMP-PD Data with Different Y Chromosome Haplogroups\n",
    "- **Author(s)** - Frank Grenn\n",
    "- **Date Started** - August  2021\n",
    "- **Quick Description:** Get AMP-PD expression data, plot with haplogroup and case/control status"
   ]
  },
  {
   "cell_type": "code",
   "execution_count": null,
   "metadata": {},
   "outputs": [],
   "source": [
    "\n",
    "import os\n",
    "\n",
    "import pandas as pd\n",
    "import mygene\n",
    "\n",
    "import matplotlib.pyplot as plt\n",
    "%matplotlib inline\n",
    "\n",
    "import seaborn as sns"
   ]
  },
  {
   "cell_type": "code",
   "execution_count": null,
   "metadata": {},
   "outputs": [],
   "source": [
    "WRKDIR = \"$PATH\"\n"
   ]
  },
  {
   "cell_type": "markdown",
   "metadata": {},
   "source": [
    "## AMP-PD Gene Expression Data"
   ]
  },
  {
   "cell_type": "code",
   "execution_count": null,
   "metadata": {},
   "outputs": [],
   "source": [
    "amp_counts = pd.read_csv(f\"{WRKDIR}/chrY/expression/amppd_chrY_featureCounts.csv\")\n",
    "amp_counts = amp_counts.set_index(\"Geneid\")\n",
    "print(amp_counts.shape)\n",
    "print(amp_counts.iloc[0:5,0:5])"
   ]
  },
  {
   "cell_type": "code",
   "execution_count": null,
   "metadata": {},
   "outputs": [],
   "source": []
  },
  {
   "cell_type": "code",
   "execution_count": null,
   "metadata": {},
   "outputs": [],
   "source": []
  },
  {
   "cell_type": "code",
   "execution_count": null,
   "metadata": {},
   "outputs": [],
   "source": []
  },
  {
   "cell_type": "code",
   "execution_count": null,
   "metadata": {},
   "outputs": [],
   "source": []
  },
  {
   "cell_type": "markdown",
   "metadata": {},
   "source": [
    "## Sample Data\n"
   ]
  },
  {
   "cell_type": "code",
   "execution_count": null,
   "metadata": {},
   "outputs": [],
   "source": [
    "meta = pd.read_csv(f\"{WRKDIR}/chrY/output_male_hemizygous_only_het_filter_run/chrY_meta.csv\")\n",
    "\n",
    "print(meta.shape)\n",
    "print(meta.head())"
   ]
  },
  {
   "cell_type": "markdown",
   "metadata": {},
   "source": [
    "## Plot for a gene"
   ]
  },
  {
   "cell_type": "code",
   "execution_count": null,
   "metadata": {},
   "outputs": [],
   "source": [
    "#gene = \"ENSG00000184895\"\n",
    "gene = \"ENSG00000184895.7\""
   ]
  },
  {
   "cell_type": "code",
   "execution_count": null,
   "metadata": {},
   "outputs": [],
   "source": [
    "amp_counts.loc[gene,].to_frame()"
   ]
  },
  {
   "cell_type": "code",
   "execution_count": null,
   "metadata": {},
   "outputs": [],
   "source": [
    "amp_counts.loc[gene,].describe()"
   ]
  },
  {
   "cell_type": "code",
   "execution_count": null,
   "metadata": {},
   "outputs": [],
   "source": [
    "meta_quant = pd.merge(left = meta, left_on= 'fid',right = amp_counts.loc[gene,].to_frame(), right_index=True)\n",
    "meta_quant = meta_quant.rename(columns = {gene:'counts'})\n",
    "print(meta_quant.shape)\n",
    "print(meta_quant.head())"
   ]
  },
  {
   "cell_type": "code",
   "execution_count": null,
   "metadata": {},
   "outputs": [],
   "source": [
    "#check haplogroup counts to see which are worth plotting.\n",
    "meta_quant.yhaplo_haplo_major.value_counts()"
   ]
  },
  {
   "cell_type": "code",
   "execution_count": null,
   "metadata": {},
   "outputs": [],
   "source": [
    "haplos = ['R','I','J','E','G']"
   ]
  },
  {
   "cell_type": "code",
   "execution_count": null,
   "metadata": {},
   "outputs": [],
   "source": [
    "def haplogroup_violin_plot(df, title, haplogroups, save_file = None, combine_all=True):\n",
    "    \n",
    "\n",
    "    #if we want a violin plot with all data combined, the duplicate the df, set the haplo col to 'all_haplogroups' and add to the main dataframe\n",
    "    if (combine_all):\n",
    "        combine_df = df.copy()\n",
    "        #print(combine_df.yhaplo_haplo_major.value_counts())\n",
    "        combine_df = combine_df[combine_df.yhaplo_haplo_major.isin(haplogroups)]\n",
    "        #print(combine_df.yhaplo_haplo_major.value_counts())\n",
    "        combine_df.yhaplo_haplo_major = 'All Haplogroups'\n",
    "        df = df.append(combine_df, ignore_index=True)\n",
    "        haplogroups = haplogroups + ['All Haplogroups']\n",
    "    \n",
    "    #plot\n",
    "    plt.figure(figsize=(7, 5))\n",
    "    sns.set()\n",
    "\n",
    "    \n",
    "    sns_plot = sns.violinplot(palette=\"tab10\",x='yhaplo_haplo_major', y='counts', data=df,inner = \"box\",order=sorted(haplogroups),hue='pheno',split=False)\n",
    "    sns_plot = sns.stripplot(palette=\"tab10\",linewidth=1,x='yhaplo_haplo_major', y='counts', data=df,color=\".4\",order=sorted(haplogroups),hue='pheno',dodge=True)\n",
    "    #sns_plot = sns.boxplot(palette=\"tab10\",x=\"yhaplo_haplo_major\", y=\"TPM\",color=\".4\",data=df, order=sorted(haplogroups),hue=\"pheno\" )\n",
    "\n",
    "    plt.xlabel(f\"Y Chromosome Haplogroup\")\n",
    "    plt.ylabel(f\"Counts\")\n",
    "    plt.title(title)\n",
    "\n",
    "    handles, labels = sns_plot.get_legend_handles_labels()\n",
    "\n",
    "    labels = ['control','case','control','case']\n",
    "\n",
    "    # When creating the legend, only use the first two elements\n",
    "    # to effectively remove the last two.\n",
    "    l = plt.legend(handles[0:2], labels[0:2], bbox_to_anchor=(1.01, 1), loc=2, borderaxespad=0.)\n",
    "\n",
    "\n",
    "    plt.show()\n",
    "    if (save_file is not None):\n",
    "        sns_plot.get_figure().savefig(save_file,bbox_inches='tight')"
   ]
  },
  {
   "cell_type": "code",
   "execution_count": null,
   "metadata": {},
   "outputs": [],
   "source": [
    "haplogroup_violin_plot(meta_quant,f\"SRY ({gene}) Expression\", haplos, save_file = f\"{WRKDIR}/chrY/expression/amp_sry_counts_plot.png\",combine_all=True)"
   ]
  },
  {
   "cell_type": "code",
   "execution_count": null,
   "metadata": {},
   "outputs": [],
   "source": []
  }
 ],
 "metadata": {
  "kernelspec": {
   "display_name": "python/3.7",
   "language": "python",
   "name": "py3.7"
  },
  "language_info": {
   "codemirror_mode": {
    "name": "ipython",
    "version": 3
   },
   "file_extension": ".py",
   "mimetype": "text/x-python",
   "name": "python",
   "nbconvert_exporter": "python",
   "pygments_lexer": "ipython3",
   "version": "3.7.12"
  },
  "toc": {
   "base_numbering": 1,
   "nav_menu": {},
   "number_sections": true,
   "sideBar": true,
   "skip_h1_title": false,
   "title_cell": "Table of Contents",
   "title_sidebar": "Contents",
   "toc_cell": false,
   "toc_position": {},
   "toc_section_display": true,
   "toc_window_display": false
  }
 },
 "nbformat": 4,
 "nbformat_minor": 4
}
