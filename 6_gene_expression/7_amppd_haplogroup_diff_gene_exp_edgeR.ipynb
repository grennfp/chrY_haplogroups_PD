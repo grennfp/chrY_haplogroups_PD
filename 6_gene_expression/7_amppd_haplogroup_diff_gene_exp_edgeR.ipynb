{
 "cells": [
  {
   "cell_type": "markdown",
   "metadata": {},
   "source": [
    "# Chromosome Y Gene Differential Expression in Haplogroups\n",
    "- **Author(s)** - Frank Grenn\n",
    "- **Date Started** - August 2021\n",
    "- **Quick Description:** Differential gene expression between haplogroups in AMPPD data."
   ]
  },
  {
   "cell_type": "code",
   "execution_count": null,
   "metadata": {},
   "outputs": [],
   "source": [
    "library(\"edgeR\")\n",
    "library(data.table)\n",
    "library(dplyr)\n",
    "\n"
   ]
  },
  {
   "cell_type": "code",
   "execution_count": null,
   "metadata": {},
   "outputs": [],
   "source": [
    "WRKDIR <- \"$PATH/chrY\""
   ]
  },
  {
   "cell_type": "code",
   "execution_count": null,
   "metadata": {},
   "outputs": [],
   "source": []
  },
  {
   "cell_type": "markdown",
   "metadata": {},
   "source": [
    "## Get data"
   ]
  },
  {
   "cell_type": "code",
   "execution_count": null,
   "metadata": {},
   "outputs": [],
   "source": [
    "amp_counts <- as.data.frame(fread(paste0(WRKDIR,\"/expression/amppd_chrY_featureCounts.csv\")))\n",
    "print(dim(amp_counts))"
   ]
  },
  {
   "cell_type": "code",
   "execution_count": null,
   "metadata": {},
   "outputs": [],
   "source": [
    "#remove everything after the version in the Geneid and check if there are no duplicates\n",
    "s<-gsub(\"\\\\..*\",\"\",amp_counts$Geneid)\n",
    "print(length(amp_counts$Geneid))\n",
    "print(length(unique(amp_counts$Geneid)))\n",
    "print(length(unique(s)))"
   ]
  },
  {
   "cell_type": "code",
   "execution_count": null,
   "metadata": {},
   "outputs": [],
   "source": [
    "amp_counts$Geneid <- gsub(\"\\\\..*\",\"\",amp_counts$Geneid)"
   ]
  },
  {
   "cell_type": "code",
   "execution_count": null,
   "metadata": {},
   "outputs": [],
   "source": [
    "amp_counts[1:5,1:5]"
   ]
  },
  {
   "cell_type": "code",
   "execution_count": null,
   "metadata": {},
   "outputs": [],
   "source": [
    "rownames(amp_counts) <- amp_counts$Geneid\n",
    "counts <- amp_counts[ , -which(names(amp_counts) %in% c(\"Geneid\"))]"
   ]
  },
  {
   "cell_type": "code",
   "execution_count": null,
   "metadata": {},
   "outputs": [],
   "source": [
    "dim(counts)"
   ]
  },
  {
   "cell_type": "code",
   "execution_count": null,
   "metadata": {},
   "outputs": [],
   "source": [
    "amppd_exp_final <- counts\n",
    "#colnames(amppd_exp_final) <- paste0(colnames(amppd_exp_final),\"_blood\")\n",
    "print(dim(amppd_exp_final))\n",
    "print(amppd_exp_final[1:5,1:5])"
   ]
  },
  {
   "cell_type": "code",
   "execution_count": null,
   "metadata": {},
   "outputs": [],
   "source": [
    "amppd_haplos <- fread(paste0(WRKDIR,\"/output_male_hemizygous_only_het_filter_run/chrY_meta.csv\"))\n",
    "amppd_haplos$id_tissue <- paste0(amppd_haplos$fid,'_blood')\n",
    "amppd_haplos$tissue <- 'blood'\n",
    "print(head(amppd_haplos))"
   ]
  },
  {
   "cell_type": "code",
   "execution_count": null,
   "metadata": {},
   "outputs": [],
   "source": [
    "amppd_haplos <- amppd_haplos[(amppd_haplos$pheno!=-9) & (amppd_haplos$genetic_carrier==0) & (amppd_haplos$InfPop==\"EUROPE\"),]\n",
    "print(dim(amppd_haplos))"
   ]
  },
  {
   "cell_type": "code",
   "execution_count": null,
   "metadata": {},
   "outputs": [],
   "source": [
    "print(dim(amppd_exp_final))\n",
    "print(dim(amppd_haplos))"
   ]
  },
  {
   "cell_type": "code",
   "execution_count": null,
   "metadata": {},
   "outputs": [],
   "source": [
    "amppd_exp_final <- amppd_exp_final[,which(colnames(amppd_exp_final) %in% amppd_haplos$fid)]\n",
    "amppd_haplos <- amppd_haplos[which(amppd_haplos$fid %in% colnames(amppd_exp_final)),]\n",
    "rownames(amppd_haplos) <- amppd_haplos$fid\n",
    "print(dim(amppd_exp_final))\n",
    "print(dim(amppd_haplos))"
   ]
  },
  {
   "cell_type": "code",
   "execution_count": null,
   "metadata": {},
   "outputs": [],
   "source": []
  },
  {
   "cell_type": "code",
   "execution_count": null,
   "metadata": {},
   "outputs": [],
   "source": [
    "print(dim(amppd_exp_final))\n",
    "print(dim(amppd_exp_final[rowSums(amppd_exp_final[])>0,]))\n",
    "amppd_exp_final <- amppd_exp_final[rowSums(amppd_exp_final[])>0,]"
   ]
  },
  {
   "cell_type": "code",
   "execution_count": null,
   "metadata": {},
   "outputs": [],
   "source": []
  },
  {
   "cell_type": "code",
   "execution_count": null,
   "metadata": {},
   "outputs": [],
   "source": [
    "final_exp <- amppd_exp_final %>% dplyr::select(amppd_haplos$fid)\n",
    "print(dim(final_exp))\n",
    "print(dim(amppd_haplos))"
   ]
  },
  {
   "cell_type": "code",
   "execution_count": null,
   "metadata": {},
   "outputs": [],
   "source": [
    "print(all(colnames(final_exp) == rownames(amppd_haplos)))"
   ]
  },
  {
   "cell_type": "markdown",
   "metadata": {},
   "source": [
    "### Case control differential expression with edgeR"
   ]
  },
  {
   "cell_type": "code",
   "execution_count": null,
   "metadata": {},
   "outputs": [],
   "source": [
    "dge <- DGEList(counts=final_exp, samples = amppd_haplos, group = amppd_haplos$pheno)"
   ]
  },
  {
   "cell_type": "code",
   "execution_count": null,
   "metadata": {},
   "outputs": [],
   "source": [
    "design <- model.matrix(~0+group+AGE_BASELINE+ltrack_haplo_major,data = dge$samples)\n",
    "#design <- model.matrix(~0+group,data = dge$samples)"
   ]
  },
  {
   "cell_type": "code",
   "execution_count": null,
   "metadata": {},
   "outputs": [],
   "source": [
    "# filter out low expressed genes\n",
    "\n",
    "#print(dim(dge))\n",
    "#isexpr <- rowSums(cpm(final_exp) > 10) >= 2\n",
    "#dge <- dge[isexpr,]\n",
    "#print(dim(dge))\n",
    "\n",
    "keep <- filterByExpr(dge, design)\n",
    "print(table(keep))\n",
    "print(dim(dge$counts))\n",
    "dge <- dge[keep, , keep.lib.sizes=FALSE]\n",
    "print(dim(dge$counts))"
   ]
  },
  {
   "cell_type": "code",
   "execution_count": null,
   "metadata": {},
   "outputs": [],
   "source": [
    "summary(dge$samples$group)"
   ]
  },
  {
   "cell_type": "code",
   "execution_count": null,
   "metadata": {},
   "outputs": [],
   "source": [
    "AveLogCPM <- aveLogCPM(dge)\n",
    "hist(AveLogCPM)"
   ]
  },
  {
   "cell_type": "code",
   "execution_count": null,
   "metadata": {
    "tags": []
   },
   "outputs": [],
   "source": [
    "dge <- calcNormFactors(dge)\n",
    "print(head(dge$samples))"
   ]
  },
  {
   "cell_type": "code",
   "execution_count": null,
   "metadata": {
    "tags": []
   },
   "outputs": [],
   "source": [
    "pch <- c(0,1)\n",
    "colors <- c(\"red\", \"blue\")\n",
    "plotMDS(dge, col=colors[dge$samples$group], pch = pch[dge$samples$group])\n",
    "\n",
    "legend(\"topleft\", legend=levels(dge$samples$group), pch = pch, col=colors, ncol=2)"
   ]
  },
  {
   "cell_type": "code",
   "execution_count": null,
   "metadata": {
    "tags": []
   },
   "outputs": [],
   "source": [
    "plotMD(dge, column=1)"
   ]
  },
  {
   "cell_type": "code",
   "execution_count": null,
   "metadata": {},
   "outputs": [],
   "source": [
    "dge <- estimateDisp(dge, design, robust=TRUE)"
   ]
  },
  {
   "cell_type": "code",
   "execution_count": null,
   "metadata": {},
   "outputs": [],
   "source": [
    "plotBCV(dge)"
   ]
  },
  {
   "cell_type": "code",
   "execution_count": null,
   "metadata": {},
   "outputs": [],
   "source": [
    "fit <- glmQLFit(dge, design, robust=TRUE)\n",
    "head(fit$coefficients)"
   ]
  },
  {
   "cell_type": "code",
   "execution_count": null,
   "metadata": {},
   "outputs": [],
   "source": [
    "plotQLDisp(fit)"
   ]
  },
  {
   "cell_type": "code",
   "execution_count": null,
   "metadata": {},
   "outputs": [],
   "source": [
    "summary(fit$df.prior)"
   ]
  },
  {
   "cell_type": "code",
   "execution_count": null,
   "metadata": {
    "tags": []
   },
   "outputs": [],
   "source": [
    "design"
   ]
  },
  {
   "cell_type": "code",
   "execution_count": null,
   "metadata": {},
   "outputs": [],
   "source": [
    "contr.matrix <- makeContrasts(casevsControl = group2-group1,levels = colnames(design))\n",
    "print(contr.matrix)"
   ]
  },
  {
   "cell_type": "code",
   "execution_count": null,
   "metadata": {},
   "outputs": [],
   "source": [
    "res <- glmQLFTest(fit, contrast=contr.matrix)"
   ]
  },
  {
   "cell_type": "code",
   "execution_count": null,
   "metadata": {},
   "outputs": [],
   "source": [
    "topTagGene <- topTags(res,n=Inf)\n",
    "print(head(topTagGene$table))"
   ]
  },
  {
   "cell_type": "code",
   "execution_count": null,
   "metadata": {},
   "outputs": [],
   "source": [
    "is.de <- decideTestsDGE(res)\n",
    "summary(is.de)"
   ]
  },
  {
   "cell_type": "code",
   "execution_count": null,
   "metadata": {},
   "outputs": [],
   "source": [
    "plotMD(res, status=is.de)"
   ]
  },
  {
   "cell_type": "code",
   "execution_count": null,
   "metadata": {},
   "outputs": [],
   "source": [
    "#default, no logFC filter\n",
    "dim(topTagGene$table[which(topTagGene$table$FDR<0.05 & topTagGene$table$logFC < 0),])\n",
    "dim(topTagGene$table[which(topTagGene$table$FDR<0.05 & topTagGene$table$logFC > 0),])\n",
    "\n",
    "#try with a logFC cutoff\n",
    "cutoff = 4\n",
    "print(log2(cutoff))\n",
    "is.de <- decideTestsDGE(res,lfc=log2(cutoff))\n",
    "print(summary(is.de))\n",
    "\n",
    "\n",
    "\n",
    "print(dim(topTagGene$table[which(topTagGene$table$FDR<0.05 & (topTagGene$table$logFC) > log2(cutoff)),]))\n",
    "print(dim(topTagGene$table[which(topTagGene$table$FDR<0.05 & (topTagGene$table$logFC) < -log2(cutoff)),]))\n"
   ]
  },
  {
   "cell_type": "code",
   "execution_count": null,
   "metadata": {},
   "outputs": [],
   "source": [
    "head(amppd_haplos)"
   ]
  },
  {
   "cell_type": "code",
   "execution_count": null,
   "metadata": {},
   "outputs": [],
   "source": [
    "results <- topTagGene$table\n",
    "#print(head(results))\n",
    "\n",
    "case_exp <- final_exp %>% dplyr::select(amppd_haplos[amppd_haplos$pheno ==2,]$fid)\n",
    "case_exp$case_means <- rowMeans(case_exp)\n",
    "\n",
    "results <- merge(x = results, y = case_exp %>% select(\"case_means\"),by.x = 0, by.y = 0)\n",
    "rownames(results) <- results$'Row.names'\n",
    "results <-results[,-which(names(results) %in% c(\"Row.names\"))]\n",
    "results <- results[order(results$\"FDR\"),]\n",
    "#print(dim(results))\n",
    "#print(head(results))\n",
    "\n",
    "control_exp <- final_exp %>% dplyr::select(amppd_haplos[amppd_haplos$pheno ==1,]$fid)\n",
    "control_exp$control_means <- rowMeans(control_exp)\n",
    "\n",
    "results <- merge(x = results, y = control_exp %>% select(\"control_means\"),by.x = 0, by.y = 0)\n",
    "rownames(results) <- results$'Row.names'\n",
    "results <-results[,-which(names(results) %in% c(\"Row.names\"))]\n",
    "results <- results[order(results$\"FDR\"),]\n",
    "print(dim(results))\n",
    "print(head(results))\n",
    "\n",
    "\n",
    "print(\"check with logFC cutoff:\")\n",
    "print(dim(results[which(results$FDR<0.05 & (results$logFC) > log2(cutoff)),]))\n",
    "\n",
    "\n",
    "print(head(results[which(results$FDR<0.05 & (results$logFC) > log2(cutoff)),]))\n",
    "print(dim(results[which(results$FDR<0.05 & (results$logFC) < -log2(cutoff)),]))\n",
    "print(head(results[which(results$FDR<0.05 & (results$logFC) < -log2(cutoff)),]))\n",
    "\n",
    "#write.csv(results, paste0(WRKDIR,\"/expression/amppd_case_control_diff_exp_edgeR_results.csv\"), row.names=TRUE)"
   ]
  },
  {
   "cell_type": "code",
   "execution_count": null,
   "metadata": {},
   "outputs": [],
   "source": [
    "\n",
    "\n",
    "# (re)Run DE analysis with glmTreat to filter for logFC\n",
    "\n",
    "treat <- glmTreat(fit,contrast = contr.matrix, lfc = log2(cutoff))\n",
    "\n",
    "topTagGene_treat <- topTags(treat,n=Inf)\n",
    "head(topTagGene_treat$table)\n",
    "\n",
    "is.de <- decideTestsDGE(treat)\n",
    "summary(is.de)\n",
    "\n",
    "# merge with the p values before thresholded testing\n",
    "\n",
    "results_treat <- topTagGene_treat$table\n",
    "\n",
    "\n",
    "treat_merge_vals <- results_treat %>% select(\"unshrunk.logFC\",\"PValue\",\"FDR\")\n",
    "colnames(treat_merge_vals) <- paste0(\"threshold_test_\",colnames(treat_merge_vals))\n",
    "print(head(treat_merge_vals))\n",
    "\n",
    "merged_results <- merge(x = results, y = treat_merge_vals, by = 0)\n",
    "merged_results <- merged_results[order(merged_results$'FDR',merged_results$'threshold_test_FDR'),]\n",
    "\n",
    "rownames(merged_results) <- merged_results$'Row.names'\n",
    "\n",
    "merged_results <- merged_results[,2:length(colnames(merged_results))]\n",
    "\n",
    "\n",
    "print(dim(results))\n",
    "print(dim(treat_merge_vals))\n",
    "print(dim(merged_results))\n",
    "print(head(merged_results))\n",
    "\n",
    "\n",
    "print(dim(merged_results[which(merged_results$FDR<0.05 & (merged_results$logFC) > log2(cutoff)),]))\n",
    "print(head(merged_results[which(merged_results$FDR<0.05 & (merged_results$logFC) > log2(cutoff)),]))\n",
    "print(dim(merged_results[which(merged_results$FDR<0.05 & (merged_results$logFC) < -log2(cutoff)),]))\n",
    "print(head(merged_results[which(merged_results$FDR<0.05 & (merged_results$logFC) < -log2(cutoff)),]))\n",
    "\n",
    "\n",
    "\n",
    "print(dim(merged_results[which(merged_results$threshold_test_FDR<0.05 & (merged_results$logFC) > log2(cutoff)),]))\n",
    "print(head(merged_results[which(merged_results$threshold_test_FDR<0.05 & (merged_results$logFC) > log2(cutoff)),]))\n",
    "print(dim(merged_results[which(merged_results$threshold_test_FDR<0.05 & (merged_results$logFC) < -log2(cutoff)),]))\n",
    "print(head(merged_results[which(merged_results$threshold_test_FDR<0.05 & (merged_results$logFC) < -log2(cutoff)),]))\n",
    "\n",
    "\n",
    "write.csv(merged_results, paste0(WRKDIR,\"/expression/amppd_case_control_diff_exp_edgeR_results.csv\"), row.names=TRUE)"
   ]
  },
  {
   "cell_type": "code",
   "execution_count": null,
   "metadata": {},
   "outputs": [],
   "source": []
  },
  {
   "cell_type": "markdown",
   "metadata": {},
   "source": [
    "### Major Haplogroup differential expression with edgeR"
   ]
  },
  {
   "cell_type": "code",
   "execution_count": null,
   "metadata": {},
   "outputs": [],
   "source": [
    "table(amppd_haplos$ltrack_haplo_major)\n",
    "#only use E, G, I, J and R because present in >40 samples"
   ]
  },
  {
   "cell_type": "code",
   "execution_count": null,
   "metadata": {},
   "outputs": [],
   "source": [
    "dge <- DGEList(counts=final_exp, samples = amppd_haplos, group = amppd_haplos$ltrack_haplo_major)"
   ]
  },
  {
   "cell_type": "code",
   "execution_count": null,
   "metadata": {},
   "outputs": [],
   "source": [
    "design <- model.matrix(~0+group+pheno,data = dge$samples)"
   ]
  },
  {
   "cell_type": "code",
   "execution_count": null,
   "metadata": {},
   "outputs": [],
   "source": [
    "# filter out low expressed genes\n",
    "\n",
    "#print(dim(dge))\n",
    "#isexpr <- rowSums(cpm(final_exp) > 10) >= 2\n",
    "#dge <- dge[isexpr,]\n",
    "#print(dim(dge))\n",
    "\n",
    "keep <- filterByExpr(dge, design)\n",
    "print(table(keep))\n",
    "print(dim(dge$counts))\n",
    "dge <- dge[keep, , keep.lib.sizes=FALSE]\n",
    "print(dim(dge$counts))"
   ]
  },
  {
   "cell_type": "code",
   "execution_count": null,
   "metadata": {},
   "outputs": [],
   "source": [
    "AveLogCPM <- aveLogCPM(dge)\n",
    "hist(AveLogCPM)"
   ]
  },
  {
   "cell_type": "code",
   "execution_count": null,
   "metadata": {
    "tags": []
   },
   "outputs": [],
   "source": [
    "dge <- calcNormFactors(dge)\n",
    "print(head(dge$samples))"
   ]
  },
  {
   "cell_type": "code",
   "execution_count": null,
   "metadata": {},
   "outputs": [],
   "source": [
    "pch <- c(0,1,0,1,0,1,0,1,0,1,0,1)\n",
    "colors <- c(\"red\", \"blue\",\"green\",\"yellow\",\"black\",\"grey\",\"violet\",\"cyan\",\"brown\",\"orange\",\"pink\",\"darkgreen\")\n",
    "plotMDS(dge, col=colors[dge$samples$group], pch = pch[dge$samples$group])\n",
    "\n",
    "legend(\"topleft\", legend=levels(dge$samples$group), pch = pch, col=colors, ncol=2)"
   ]
  },
  {
   "cell_type": "code",
   "execution_count": null,
   "metadata": {},
   "outputs": [],
   "source": [
    "plotMD(dge, column=1)"
   ]
  },
  {
   "cell_type": "code",
   "execution_count": null,
   "metadata": {},
   "outputs": [],
   "source": [
    "dge <- estimateDisp(dge, design, robust=TRUE)"
   ]
  },
  {
   "cell_type": "code",
   "execution_count": null,
   "metadata": {},
   "outputs": [],
   "source": [
    "plotBCV(dge)"
   ]
  },
  {
   "cell_type": "code",
   "execution_count": null,
   "metadata": {},
   "outputs": [],
   "source": [
    "fit <- glmQLFit(dge, design, robust=TRUE)\n",
    "head(fit$coefficients)"
   ]
  },
  {
   "cell_type": "code",
   "execution_count": null,
   "metadata": {},
   "outputs": [],
   "source": [
    "plotQLDisp(fit)"
   ]
  },
  {
   "cell_type": "code",
   "execution_count": null,
   "metadata": {},
   "outputs": [],
   "source": [
    "summary(fit$df.prior)"
   ]
  },
  {
   "cell_type": "markdown",
   "metadata": {},
   "source": [
    "## Major haplogroup specific DE analyses"
   ]
  },
  {
   "cell_type": "markdown",
   "metadata": {},
   "source": [
    "### R"
   ]
  },
  {
   "cell_type": "code",
   "execution_count": null,
   "metadata": {},
   "outputs": [],
   "source": [
    "#groupA,groupB,groupC,groupE,groupG,groupH,groupI,groupJ,groupL,groupN,groupO,groupQ,groupR,groupT\n",
    "\n",
    "#E, G, I, J and R\n",
    "contr.matrix <- makeContrasts(RvsEverything = groupR-(groupA+groupC+groupE+groupG+groupH+groupI+groupJ+groupL+groupN+groupQ+groupT)/11,levels = colnames(design))\n",
    "print(contr.matrix)\n",
    "\n",
    "res <- glmQLFTest(fit, contrast=contr.matrix)\n",
    "\n",
    "topTagGene <- topTags(res,n=Inf)\n",
    "print(head(topTagGene$table))\n",
    "\n",
    "is.de <- decideTestsDGE(res)\n",
    "summary(is.de)\n",
    "\n",
    "plotMD(res, status=is.de)"
   ]
  },
  {
   "cell_type": "code",
   "execution_count": null,
   "metadata": {},
   "outputs": [],
   "source": [
    "#default, no logFC filter\n",
    "dim(topTagGene$table[which(topTagGene$table$FDR<0.05 & topTagGene$table$logFC < 0),])\n",
    "dim(topTagGene$table[which(topTagGene$table$FDR<0.05 & topTagGene$table$logFC > 0),])\n",
    "\n",
    "#try with a logFC cutoff\n",
    "cutoff = 4\n",
    "print(log2(cutoff))\n",
    "is.de <- decideTestsDGE(res,lfc=log2(cutoff))\n",
    "print(summary(is.de))\n",
    "\n",
    "\n",
    "\n",
    "print(dim(topTagGene$table[which(topTagGene$table$FDR<0.05 & (topTagGene$table$logFC) > log2(cutoff)),]))\n",
    "print(dim(topTagGene$table[which(topTagGene$table$FDR<0.05 & (topTagGene$table$logFC) < -log2(cutoff)),]))\n",
    "\n"
   ]
  },
  {
   "cell_type": "code",
   "execution_count": null,
   "metadata": {
    "tags": []
   },
   "outputs": [],
   "source": [
    "results <- topTagGene$table\n",
    "#print(head(results))\n",
    "\n",
    "haplo_specific_exp <- final_exp %>% dplyr::select(amppd_haplos[amppd_haplos$ltrack_haplo_major =='R',]$fid)\n",
    "haplo_specific_exp$haplo_R_raw_means <- rowMeans(haplo_specific_exp)\n",
    "\n",
    "results <- merge(x = results, y = haplo_specific_exp %>% select(\"haplo_R_raw_means\"),by.x = 0, by.y = 0)\n",
    "rownames(results) <- results$'Row.names'\n",
    "results <-results[,-which(names(results) %in% c(\"Row.names\"))]\n",
    "results <- results[order(results$\"FDR\"),]\n",
    "#print(dim(results))\n",
    "#print(head(results))\n",
    "\n",
    "haplo_specific_exp <- final_exp %>% dplyr::select(amppd_haplos[amppd_haplos$ltrack_haplo_major !='R',]$fid)\n",
    "haplo_specific_exp$haplo_not_R_raw_means <- rowMeans(haplo_specific_exp)\n",
    "\n",
    "results <- merge(x = results, y = haplo_specific_exp %>% select(\"haplo_not_R_raw_means\"),by.x = 0, by.y = 0)\n",
    "rownames(results) <- results$'Row.names'\n",
    "results <-results[,-which(names(results) %in% c(\"Row.names\"))]\n",
    "results <- results[order(results$\"FDR\"),]\n",
    "print(dim(results))\n",
    "print(head(results))\n",
    "\n",
    "\n",
    "print(\"check with logFC cutoff:\")\n",
    "print(dim(results[which(results$FDR<0.05 & (results$logFC) > log2(cutoff)),]))\n",
    "\n",
    "\n",
    "print(head(results[which(results$FDR<0.05 & (results$logFC) > log2(cutoff)),]))\n",
    "print(dim(results[which(results$FDR<0.05 & (results$logFC) < -log2(cutoff)),]))\n",
    "print(head(results[which(results$FDR<0.05 & (results$logFC) < -log2(cutoff)),]))\n",
    "\n",
    "#write.csv(results, paste0(WRKDIR,\"/expression/amppd_haplogroup_R_diff_exp_edgeR_results.csv\"), row.names=TRUE)"
   ]
  },
  {
   "cell_type": "code",
   "execution_count": null,
   "metadata": {},
   "outputs": [],
   "source": [
    "# (re)Run DE analysis with glmTreat to filter for logFC\n",
    "\n",
    "treat <- glmTreat(fit,contrast = contr.matrix, lfc = log2(cutoff))\n",
    "\n",
    "topTagGene_treat <- topTags(treat,n=Inf)\n",
    "head(topTagGene_treat$table)\n",
    "\n",
    "is.de <- decideTestsDGE(treat)\n",
    "summary(is.de)\n",
    "\n",
    "# merge with the p values before thresholded testing\n",
    "\n",
    "results_treat <- topTagGene_treat$table\n",
    "\n",
    "\n",
    "treat_merge_vals <- results_treat %>% select(\"unshrunk.logFC\",\"PValue\",\"FDR\")\n",
    "colnames(treat_merge_vals) <- paste0(\"threshold_test_\",colnames(treat_merge_vals))\n",
    "print(head(treat_merge_vals))\n",
    "\n",
    "merged_results <- merge(x = results, y = treat_merge_vals, by = 0)\n",
    "merged_results <- merged_results[order(merged_results$'FDR',merged_results$'threshold_test_FDR'),]\n",
    "\n",
    "rownames(merged_results) <- merged_results$'Row.names'\n",
    "\n",
    "merged_results <- merged_results[,2:length(colnames(merged_results))]\n",
    "\n",
    "\n",
    "print(dim(results))\n",
    "print(dim(treat_merge_vals))\n",
    "print(dim(merged_results))\n",
    "print(head(merged_results))\n",
    "\n",
    "\n",
    "print(dim(merged_results[which(merged_results$FDR<0.05 & (merged_results$logFC) > log2(cutoff)),]))\n",
    "print(head(merged_results[which(merged_results$FDR<0.05 & (merged_results$logFC) > log2(cutoff)),]))\n",
    "print(dim(merged_results[which(merged_results$FDR<0.05 & (merged_results$logFC) < -log2(cutoff)),]))\n",
    "print(head(merged_results[which(merged_results$FDR<0.05 & (merged_results$logFC) < -log2(cutoff)),]))\n",
    "\n",
    "\n",
    "\n",
    "print(dim(merged_results[which(merged_results$threshold_test_FDR<0.05 & (merged_results$logFC) > log2(cutoff)),]))\n",
    "print(head(merged_results[which(merged_results$threshold_test_FDR<0.05 & (merged_results$logFC) > log2(cutoff)),]))\n",
    "print(dim(merged_results[which(merged_results$threshold_test_FDR<0.05 & (merged_results$logFC) < -log2(cutoff)),]))\n",
    "print(head(merged_results[which(merged_results$threshold_test_FDR<0.05 & (merged_results$logFC) < -log2(cutoff)),]))\n",
    "\n",
    "\n",
    "write.csv(merged_results, paste0(WRKDIR,\"/expression/amppd_haplogroup_R_diff_exp_edgeR_results.csv\"), row.names=TRUE)"
   ]
  },
  {
   "cell_type": "markdown",
   "metadata": {},
   "source": [
    "### E"
   ]
  },
  {
   "cell_type": "code",
   "execution_count": null,
   "metadata": {},
   "outputs": [],
   "source": [
    "#groupA,groupB,groupC,groupE,groupG,groupH,groupI,groupJ,groupL,groupN,groupO,groupQ,groupR,groupT\n",
    "\n",
    "#E, G, I, J and R\n",
    "contr.matrix <- makeContrasts(EvsEverything = groupE-(groupA+groupC+groupG+groupH+groupI+groupJ+groupL+groupN+groupQ+groupR+groupT)/11,\n",
    "                              levels = colnames(design))\n",
    "print(contr.matrix)\n",
    "\n",
    "res <- glmQLFTest(fit, contrast=contr.matrix)\n",
    "\n",
    "topTagGene <- topTags(res,n=Inf)\n",
    "print(head(topTagGene$table))\n",
    "\n",
    "is.de <- decideTestsDGE(res)\n",
    "summary(is.de)\n",
    "\n",
    "plotMD(res, status=is.de)"
   ]
  },
  {
   "cell_type": "code",
   "execution_count": null,
   "metadata": {},
   "outputs": [],
   "source": [
    "#default, no logFC filter\n",
    "dim(topTagGene$table[which(topTagGene$table$FDR<0.05 & topTagGene$table$logFC < 0),])\n",
    "dim(topTagGene$table[which(topTagGene$table$FDR<0.05 & topTagGene$table$logFC > 0),])\n",
    "\n",
    "#try with a logFC cutoff\n",
    "cutoff = 4\n",
    "print(log2(cutoff))\n",
    "is.de <- decideTestsDGE(res,lfc=log2(cutoff))\n",
    "print(summary(is.de))\n",
    "\n",
    "\n",
    "\n",
    "print(dim(topTagGene$table[which(topTagGene$table$FDR<0.05 & (topTagGene$table$logFC) > log2(cutoff)),]))\n",
    "print(dim(topTagGene$table[which(topTagGene$table$FDR<0.05 & (topTagGene$table$logFC) < -log2(cutoff)),]))"
   ]
  },
  {
   "cell_type": "code",
   "execution_count": null,
   "metadata": {},
   "outputs": [],
   "source": [
    "results <- topTagGene$table\n",
    "#print(head(results))\n",
    "\n",
    "haplo_specific_exp <- final_exp %>% dplyr::select(amppd_haplos[amppd_haplos$ltrack_haplo_major =='E',]$fid)\n",
    "haplo_specific_exp$haplo_E_raw_means <- rowMeans(haplo_specific_exp)\n",
    "\n",
    "results <- merge(x = results, y = haplo_specific_exp %>% select(\"haplo_E_raw_means\"),by.x = 0, by.y = 0)\n",
    "rownames(results) <- results$'Row.names'\n",
    "results <-results[,-which(names(results) %in% c(\"Row.names\"))]\n",
    "results <- results[order(results$\"FDR\"),]\n",
    "#print(dim(results))\n",
    "#print(head(results))\n",
    "\n",
    "haplo_specific_exp <- final_exp %>% dplyr::select(amppd_haplos[amppd_haplos$ltrack_haplo_major !='E',]$fid)\n",
    "haplo_specific_exp$haplo_not_E_raw_means <- rowMeans(haplo_specific_exp)\n",
    "\n",
    "results <- merge(x = results, y = haplo_specific_exp %>% select(\"haplo_not_E_raw_means\"),by.x = 0, by.y = 0)\n",
    "rownames(results) <- results$'Row.names'\n",
    "results <-results[,-which(names(results) %in% c(\"Row.names\"))]\n",
    "results <- results[order(results$\"FDR\"),]\n",
    "print(dim(results))\n",
    "print(head(results))\n",
    "\n",
    "\n",
    "print(\"check with logFC cutoff:\")\n",
    "print(dim(results[which(results$FDR<0.05 & (results$logFC) > log2(cutoff)),]))\n",
    "\n",
    "\n",
    "print(head(results[which(results$FDR<0.05 & (results$logFC) > log2(cutoff)),]))\n",
    "print(dim(results[which(results$FDR<0.05 & (results$logFC) < -log2(cutoff)),]))\n",
    "print(head(results[which(results$FDR<0.05 & (results$logFC) < -log2(cutoff)),]))\n"
   ]
  },
  {
   "cell_type": "code",
   "execution_count": null,
   "metadata": {},
   "outputs": [],
   "source": [
    "# (re)Run DE analysis with glmTreat to filter for logFC\n",
    "\n",
    "treat <- glmTreat(fit,contrast = contr.matrix, lfc = log2(cutoff))\n",
    "\n",
    "topTagGene_treat <- topTags(treat,n=Inf)\n",
    "head(topTagGene_treat$table)\n",
    "\n",
    "is.de <- decideTestsDGE(treat)\n",
    "summary(is.de)\n",
    "\n",
    "# merge with the p values before thresholded testing\n",
    "\n",
    "results_treat <- topTagGene_treat$table\n",
    "\n",
    "\n",
    "treat_merge_vals <- results_treat %>% select(\"unshrunk.logFC\",\"PValue\",\"FDR\")\n",
    "colnames(treat_merge_vals) <- paste0(\"threshold_test_\",colnames(treat_merge_vals))\n",
    "print(head(treat_merge_vals))\n",
    "\n",
    "merged_results <- merge(x = results, y = treat_merge_vals, by = 0)\n",
    "merged_results <- merged_results[order(merged_results$'FDR',merged_results$'threshold_test_FDR'),]\n",
    "\n",
    "rownames(merged_results) <- merged_results$'Row.names'\n",
    "\n",
    "merged_results <- merged_results[,2:length(colnames(merged_results))]\n",
    "\n",
    "\n",
    "print(dim(results))\n",
    "print(dim(treat_merge_vals))\n",
    "print(dim(merged_results))\n",
    "print(head(merged_results))\n",
    "\n",
    "\n",
    "print(dim(merged_results[which(merged_results$FDR<0.05 & (merged_results$logFC) > log2(cutoff)),]))\n",
    "print(head(merged_results[which(merged_results$FDR<0.05 & (merged_results$logFC) > log2(cutoff)),]))\n",
    "print(dim(merged_results[which(merged_results$FDR<0.05 & (merged_results$logFC) < -log2(cutoff)),]))\n",
    "print(head(merged_results[which(merged_results$FDR<0.05 & (merged_results$logFC) < -log2(cutoff)),]))\n",
    "\n",
    "\n",
    "\n",
    "print(dim(merged_results[which(merged_results$threshold_test_FDR<0.05 & (merged_results$logFC) > log2(cutoff)),]))\n",
    "print(head(merged_results[which(merged_results$threshold_test_FDR<0.05 & (merged_results$logFC) > log2(cutoff)),]))\n",
    "print(dim(merged_results[which(merged_results$threshold_test_FDR<0.05 & (merged_results$logFC) < -log2(cutoff)),]))\n",
    "print(head(merged_results[which(merged_results$threshold_test_FDR<0.05 & (merged_results$logFC) < -log2(cutoff)),]))\n",
    "\n",
    "\n",
    "write.csv(merged_results, paste0(WRKDIR,\"/expression/amppd_haplogroup_E_diff_exp_edgeR_results.csv\"), row.names=TRUE)"
   ]
  },
  {
   "cell_type": "markdown",
   "metadata": {},
   "source": [
    "### G"
   ]
  },
  {
   "cell_type": "code",
   "execution_count": null,
   "metadata": {},
   "outputs": [],
   "source": [
    "#groupA,groupB,groupC,groupE,groupG,groupH,groupI,groupJ,groupL,groupN,groupO,groupQ,groupR,groupT\n",
    "\n",
    "#E, G, I, J and R\n",
    "contr.matrix <- makeContrasts(GvsEverything = groupG-(groupA+groupC+groupE+groupH+groupI+groupJ+groupL+groupN+groupQ+groupR+groupT)/11,\n",
    "                              levels = colnames(design))\n",
    "print(contr.matrix)\n",
    "\n",
    "res <- glmQLFTest(fit, contrast=contr.matrix)\n",
    "\n",
    "topTagGene <- topTags(res,n=Inf)\n",
    "print(head(topTagGene$table))\n",
    "\n",
    "is.de <- decideTestsDGE(res)\n",
    "summary(is.de)\n",
    "\n",
    "plotMD(res, status=is.de)"
   ]
  },
  {
   "cell_type": "code",
   "execution_count": null,
   "metadata": {},
   "outputs": [],
   "source": [
    "#default, no logFC filter\n",
    "dim(topTagGene$table[which(topTagGene$table$FDR<0.05 & topTagGene$table$logFC < 0),])\n",
    "dim(topTagGene$table[which(topTagGene$table$FDR<0.05 & topTagGene$table$logFC > 0),])\n",
    "\n",
    "#try with a logFC cutoff\n",
    "cutoff = 4\n",
    "print(log2(cutoff))\n",
    "is.de <- decideTestsDGE(res,lfc=log2(cutoff))\n",
    "print(summary(is.de))\n",
    "\n",
    "\n",
    "\n",
    "print(dim(topTagGene$table[which(topTagGene$table$FDR<0.05 & (topTagGene$table$logFC) > log2(cutoff)),]))\n",
    "print(dim(topTagGene$table[which(topTagGene$table$FDR<0.05 & (topTagGene$table$logFC) < -log2(cutoff)),]))"
   ]
  },
  {
   "cell_type": "code",
   "execution_count": null,
   "metadata": {},
   "outputs": [],
   "source": [
    "results <- topTagGene$table\n",
    "#print(head(results))\n",
    "\n",
    "haplo_specific_exp <- final_exp %>% dplyr::select(amppd_haplos[amppd_haplos$ltrack_haplo_major =='G',]$fid)\n",
    "haplo_specific_exp$haplo_G_raw_means <- rowMeans(haplo_specific_exp)\n",
    "\n",
    "results <- merge(x = results, y = haplo_specific_exp %>% select(\"haplo_G_raw_means\"),by.x = 0, by.y = 0)\n",
    "rownames(results) <- results$'Row.names'\n",
    "results <-results[,-which(names(results) %in% c(\"Row.names\"))]\n",
    "results <- results[order(results$\"FDR\"),]\n",
    "#print(dim(results))\n",
    "#print(head(results))\n",
    "\n",
    "haplo_specific_exp <- final_exp %>% dplyr::select(amppd_haplos[amppd_haplos$ltrack_haplo_major !='G',]$fid)\n",
    "haplo_specific_exp$haplo_not_G_raw_means <- rowMeans(haplo_specific_exp)\n",
    "\n",
    "results <- merge(x = results, y = haplo_specific_exp %>% select(\"haplo_not_G_raw_means\"),by.x = 0, by.y = 0)\n",
    "rownames(results) <- results$'Row.names'\n",
    "results <-results[,-which(names(results) %in% c(\"Row.names\"))]\n",
    "results <- results[order(results$\"FDR\"),]\n",
    "print(dim(results))\n",
    "print(head(results))\n",
    "\n",
    "\n",
    "print(\"check with logFC cutoff:\")\n",
    "print(dim(results[which(results$FDR<0.05 & (results$logFC) > log2(cutoff)),]))\n",
    "\n",
    "\n",
    "print(head(results[which(results$FDR<0.05 & (results$logFC) > log2(cutoff)),]))\n",
    "print(dim(results[which(results$FDR<0.05 & (results$logFC) < -log2(cutoff)),]))\n",
    "print(head(results[which(results$FDR<0.05 & (results$logFC) < -log2(cutoff)),]))\n"
   ]
  },
  {
   "cell_type": "code",
   "execution_count": null,
   "metadata": {},
   "outputs": [],
   "source": [
    "# (re)Run DE analysis with glmTreat to filter for logFC\n",
    "\n",
    "treat <- glmTreat(fit,contrast = contr.matrix, lfc = log2(cutoff))\n",
    "\n",
    "topTagGene_treat <- topTags(treat,n=Inf)\n",
    "head(topTagGene_treat$table)\n",
    "\n",
    "is.de <- decideTestsDGE(treat)\n",
    "summary(is.de)\n",
    "\n",
    "# merge with the p values before thresholded testing\n",
    "\n",
    "results_treat <- topTagGene_treat$table\n",
    "\n",
    "\n",
    "treat_merge_vals <- results_treat %>% select(\"unshrunk.logFC\",\"PValue\",\"FDR\")\n",
    "colnames(treat_merge_vals) <- paste0(\"threshold_test_\",colnames(treat_merge_vals))\n",
    "print(head(treat_merge_vals))\n",
    "\n",
    "merged_results <- merge(x = results, y = treat_merge_vals, by = 0)\n",
    "merged_results <- merged_results[order(merged_results$'FDR',merged_results$'threshold_test_FDR'),]\n",
    "\n",
    "rownames(merged_results) <- merged_results$'Row.names'\n",
    "\n",
    "merged_results <- merged_results[,2:length(colnames(merged_results))]\n",
    "\n",
    "\n",
    "print(dim(results))\n",
    "print(dim(treat_merge_vals))\n",
    "print(dim(merged_results))\n",
    "print(head(merged_results))\n",
    "\n",
    "\n",
    "print(dim(merged_results[which(merged_results$FDR<0.05 & (merged_results$logFC) > log2(cutoff)),]))\n",
    "print(head(merged_results[which(merged_results$FDR<0.05 & (merged_results$logFC) > log2(cutoff)),]))\n",
    "print(dim(merged_results[which(merged_results$FDR<0.05 & (merged_results$logFC) < -log2(cutoff)),]))\n",
    "print(head(merged_results[which(merged_results$FDR<0.05 & (merged_results$logFC) < -log2(cutoff)),]))\n",
    "\n",
    "\n",
    "\n",
    "print(dim(merged_results[which(merged_results$threshold_test_FDR<0.05 & (merged_results$logFC) > log2(cutoff)),]))\n",
    "print(head(merged_results[which(merged_results$threshold_test_FDR<0.05 & (merged_results$logFC) > log2(cutoff)),]))\n",
    "print(dim(merged_results[which(merged_results$threshold_test_FDR<0.05 & (merged_results$logFC) < -log2(cutoff)),]))\n",
    "print(head(merged_results[which(merged_results$threshold_test_FDR<0.05 & (merged_results$logFC) < -log2(cutoff)),]))\n",
    "\n",
    "\n",
    "write.csv(merged_results, paste0(WRKDIR,\"/expression/amppd_haplogroup_G_diff_exp_edgeR_results.csv\"), row.names=TRUE)"
   ]
  },
  {
   "cell_type": "markdown",
   "metadata": {},
   "source": [
    "### I"
   ]
  },
  {
   "cell_type": "code",
   "execution_count": null,
   "metadata": {},
   "outputs": [],
   "source": [
    "#groupA,groupB,groupC,groupE,groupG,groupH,groupI,groupJ,groupL,groupN,groupO,groupQ,groupR,groupT\n",
    "\n",
    "#E, G, I, J and R\n",
    "contr.matrix <- makeContrasts(IvsEverything = groupI-(groupA+groupC+groupE+groupG+groupH+groupJ+groupL+groupN+groupQ+groupR+groupT)/11,\n",
    "                              levels = colnames(design))\n",
    "print(contr.matrix)\n",
    "\n",
    "res <- glmQLFTest(fit, contrast=contr.matrix)\n",
    "\n",
    "topTagGene <- topTags(res,n=Inf)\n",
    "print(head(topTagGene$table))\n",
    "\n",
    "is.de <- decideTestsDGE(res)\n",
    "summary(is.de)\n",
    "\n",
    "plotMD(res, status=is.de)"
   ]
  },
  {
   "cell_type": "code",
   "execution_count": null,
   "metadata": {},
   "outputs": [],
   "source": [
    "#default, no logFC filter\n",
    "dim(topTagGene$table[which(topTagGene$table$FDR<0.05 & topTagGene$table$logFC < 0),])\n",
    "dim(topTagGene$table[which(topTagGene$table$FDR<0.05 & topTagGene$table$logFC > 0),])\n",
    "\n",
    "#try with a logFC cutoff\n",
    "cutoff = 4\n",
    "print(log2(cutoff))\n",
    "is.de <- decideTestsDGE(res,lfc=log2(cutoff))\n",
    "print(summary(is.de))\n",
    "\n",
    "\n",
    "\n",
    "print(dim(topTagGene$table[which(topTagGene$table$FDR<0.05 & (topTagGene$table$logFC) > log2(cutoff)),]))\n",
    "print(dim(topTagGene$table[which(topTagGene$table$FDR<0.05 & (topTagGene$table$logFC) < -log2(cutoff)),]))"
   ]
  },
  {
   "cell_type": "code",
   "execution_count": null,
   "metadata": {},
   "outputs": [],
   "source": [
    "results <- topTagGene$table\n",
    "#print(head(results))\n",
    "\n",
    "haplo_specific_exp <- final_exp %>% dplyr::select(amppd_haplos[amppd_haplos$ltrack_haplo_major =='I',]$fid)\n",
    "haplo_specific_exp$haplo_I_raw_means <- rowMeans(haplo_specific_exp)\n",
    "\n",
    "results <- merge(x = results, y = haplo_specific_exp %>% select(\"haplo_I_raw_means\"),by.x = 0, by.y = 0)\n",
    "rownames(results) <- results$'Row.names'\n",
    "results <-results[,-which(names(results) %in% c(\"Row.names\"))]\n",
    "results <- results[order(results$\"FDR\"),]\n",
    "#print(dim(results))\n",
    "#print(head(results))\n",
    "\n",
    "haplo_specific_exp <- final_exp %>% dplyr::select(amppd_haplos[amppd_haplos$ltrack_haplo_major !='I',]$fid)\n",
    "haplo_specific_exp$haplo_not_I_raw_means <- rowMeans(haplo_specific_exp)\n",
    "\n",
    "results <- merge(x = results, y = haplo_specific_exp %>% select(\"haplo_not_I_raw_means\"),by.x = 0, by.y = 0)\n",
    "rownames(results) <- results$'Row.names'\n",
    "results <-results[,-which(names(results) %in% c(\"Row.names\"))]\n",
    "results <- results[order(results$\"FDR\"),]\n",
    "print(dim(results))\n",
    "print(head(results))\n",
    "\n",
    "\n",
    "print(\"check with logFC cutoff:\")\n",
    "print(dim(results[which(results$FDR<0.05 & (results$logFC) > log2(cutoff)),]))\n",
    "\n",
    "\n",
    "print(head(results[which(results$FDR<0.05 & (results$logFC) > log2(cutoff)),]))\n",
    "print(dim(results[which(results$FDR<0.05 & (results$logFC) < -log2(cutoff)),]))\n",
    "print(head(results[which(results$FDR<0.05 & (results$logFC) < -log2(cutoff)),]))\n"
   ]
  },
  {
   "cell_type": "code",
   "execution_count": null,
   "metadata": {},
   "outputs": [],
   "source": [
    "# (re)Run DE analysis with glmTreat to filter for logFC\n",
    "\n",
    "treat <- glmTreat(fit,contrast = contr.matrix, lfc = log2(cutoff))\n",
    "\n",
    "topTagGene_treat <- topTags(treat,n=Inf)\n",
    "head(topTagGene_treat$table)\n",
    "\n",
    "is.de <- decideTestsDGE(treat)\n",
    "summary(is.de)\n",
    "\n",
    "# merge with the p values before thresholded testing\n",
    "\n",
    "results_treat <- topTagGene_treat$table\n",
    "\n",
    "\n",
    "treat_merge_vals <- results_treat %>% select(\"unshrunk.logFC\",\"PValue\",\"FDR\")\n",
    "colnames(treat_merge_vals) <- paste0(\"threshold_test_\",colnames(treat_merge_vals))\n",
    "print(head(treat_merge_vals))\n",
    "\n",
    "merged_results <- merge(x = results, y = treat_merge_vals, by = 0)\n",
    "merged_results <- merged_results[order(merged_results$'FDR',merged_results$'threshold_test_FDR'),]\n",
    "\n",
    "rownames(merged_results) <- merged_results$'Row.names'\n",
    "\n",
    "merged_results <- merged_results[,2:length(colnames(merged_results))]\n",
    "\n",
    "\n",
    "print(dim(results))\n",
    "print(dim(treat_merge_vals))\n",
    "print(dim(merged_results))\n",
    "print(head(merged_results))\n",
    "\n",
    "\n",
    "print(dim(merged_results[which(merged_results$FDR<0.05 & (merged_results$logFC) > log2(cutoff)),]))\n",
    "print(head(merged_results[which(merged_results$FDR<0.05 & (merged_results$logFC) > log2(cutoff)),]))\n",
    "print(dim(merged_results[which(merged_results$FDR<0.05 & (merged_results$logFC) < -log2(cutoff)),]))\n",
    "print(head(merged_results[which(merged_results$FDR<0.05 & (merged_results$logFC) < -log2(cutoff)),]))\n",
    "\n",
    "\n",
    "\n",
    "print(dim(merged_results[which(merged_results$threshold_test_FDR<0.05 & (merged_results$logFC) > log2(cutoff)),]))\n",
    "print(head(merged_results[which(merged_results$threshold_test_FDR<0.05 & (merged_results$logFC) > log2(cutoff)),]))\n",
    "print(dim(merged_results[which(merged_results$threshold_test_FDR<0.05 & (merged_results$logFC) < -log2(cutoff)),]))\n",
    "print(head(merged_results[which(merged_results$threshold_test_FDR<0.05 & (merged_results$logFC) < -log2(cutoff)),]))\n",
    "\n",
    "\n",
    "write.csv(merged_results, paste0(WRKDIR,\"/expression/amppd_haplogroup_I_diff_exp_edgeR_results.csv\"), row.names=TRUE)"
   ]
  },
  {
   "cell_type": "markdown",
   "metadata": {},
   "source": [
    "### J"
   ]
  },
  {
   "cell_type": "code",
   "execution_count": null,
   "metadata": {},
   "outputs": [],
   "source": [
    "#groupA,groupB,groupC,groupE,groupG,groupH,groupI,groupJ,groupL,groupN,groupO,groupQ,groupR,groupT\n",
    "\n",
    "#E, G, I, J and R\n",
    "contr.matrix <- makeContrasts(JvsEverything = groupJ-(groupA+groupC+groupE+groupG+groupH+groupI+groupL+groupN+groupQ+groupR+groupT)/11,\n",
    "                              levels = colnames(design))\n",
    "print(contr.matrix)\n",
    "\n",
    "res <- glmQLFTest(fit, contrast=contr.matrix)\n",
    "\n",
    "topTagGene <- topTags(res,n=Inf)\n",
    "print(head(topTagGene$table))\n",
    "\n",
    "is.de <- decideTestsDGE(res)\n",
    "summary(is.de)\n",
    "\n",
    "plotMD(res, status=is.de)"
   ]
  },
  {
   "cell_type": "code",
   "execution_count": null,
   "metadata": {},
   "outputs": [],
   "source": [
    "#default, no logFC filter\n",
    "dim(topTagGene$table[which(topTagGene$table$FDR<0.05 & topTagGene$table$logFC < 0),])\n",
    "dim(topTagGene$table[which(topTagGene$table$FDR<0.05 & topTagGene$table$logFC > 0),])\n",
    "\n",
    "#try with a logFC cutoff\n",
    "cutoff = 4\n",
    "print(log2(cutoff))\n",
    "is.de <- decideTestsDGE(res,lfc=log2(cutoff))\n",
    "print(summary(is.de))\n",
    "\n",
    "\n",
    "\n",
    "print(dim(topTagGene$table[which(topTagGene$table$FDR<0.05 & (topTagGene$table$logFC) > log2(cutoff)),]))\n",
    "print(dim(topTagGene$table[which(topTagGene$table$FDR<0.05 & (topTagGene$table$logFC) < -log2(cutoff)),]))"
   ]
  },
  {
   "cell_type": "code",
   "execution_count": null,
   "metadata": {},
   "outputs": [],
   "source": [
    "results <- topTagGene$table\n",
    "#print(head(results))\n",
    "\n",
    "haplo_specific_exp <- final_exp %>% dplyr::select(amppd_haplos[amppd_haplos$ltrack_haplo_major =='J',]$fid)\n",
    "haplo_specific_exp$haplo_J_raw_means <- rowMeans(haplo_specific_exp)\n",
    "\n",
    "results <- merge(x = results, y = haplo_specific_exp %>% select(\"haplo_J_raw_means\"),by.x = 0, by.y = 0)\n",
    "rownames(results) <- results$'Row.names'\n",
    "results <-results[,-which(names(results) %in% c(\"Row.names\"))]\n",
    "results <- results[order(results$\"FDR\"),]\n",
    "#print(dim(results))\n",
    "#print(head(results))\n",
    "\n",
    "haplo_specific_exp <- final_exp %>% dplyr::select(amppd_haplos[amppd_haplos$ltrack_haplo_major !='J',]$fid)\n",
    "haplo_specific_exp$haplo_not_J_raw_means <- rowMeans(haplo_specific_exp)\n",
    "\n",
    "results <- merge(x = results, y = haplo_specific_exp %>% select(\"haplo_not_J_raw_means\"),by.x = 0, by.y = 0)\n",
    "rownames(results) <- results$'Row.names'\n",
    "results <-results[,-which(names(results) %in% c(\"Row.names\"))]\n",
    "results <- results[order(results$\"FDR\"),]\n",
    "print(dim(results))\n",
    "print(head(results))\n",
    "\n",
    "\n",
    "print(\"check with logFC cutoff:\")\n",
    "print(dim(results[which(results$FDR<0.05 & (results$logFC) > log2(cutoff)),]))\n",
    "\n",
    "\n",
    "print(head(results[which(results$FDR<0.05 & (results$logFC) > log2(cutoff)),]))\n",
    "print(dim(results[which(results$FDR<0.05 & (results$logFC) < -log2(cutoff)),]))\n",
    "print(head(results[which(results$FDR<0.05 & (results$logFC) < -log2(cutoff)),]))\n",
    "\n",
    "write.csv(results, paste0(WRKDIR,\"/expression/amppd_haplogroup_J_diff_exp_edgeR_results.csv\"), row.names=TRUE)"
   ]
  },
  {
   "cell_type": "code",
   "execution_count": null,
   "metadata": {},
   "outputs": [],
   "source": [
    "# (re)Run DE analysis with glmTreat to filter for logFC\n",
    "\n",
    "treat <- glmTreat(fit,contrast = contr.matrix, lfc = log2(cutoff))\n",
    "\n",
    "topTagGene_treat <- topTags(treat,n=Inf)\n",
    "head(topTagGene_treat$table)\n",
    "\n",
    "is.de <- decideTestsDGE(treat)\n",
    "summary(is.de)\n",
    "\n",
    "# merge with the p values before thresholded testing\n",
    "\n",
    "results_treat <- topTagGene_treat$table\n",
    "\n",
    "\n",
    "treat_merge_vals <- results_treat %>% select(\"unshrunk.logFC\",\"PValue\",\"FDR\")\n",
    "colnames(treat_merge_vals) <- paste0(\"threshold_test_\",colnames(treat_merge_vals))\n",
    "print(head(treat_merge_vals))\n",
    "\n",
    "merged_results <- merge(x = results, y = treat_merge_vals, by = 0)\n",
    "merged_results <- merged_results[order(merged_results$'FDR',merged_results$'threshold_test_FDR'),]\n",
    "\n",
    "rownames(merged_results) <- merged_results$'Row.names'\n",
    "\n",
    "merged_results <- merged_results[,2:length(colnames(merged_results))]\n",
    "\n",
    "\n",
    "print(dim(results))\n",
    "print(dim(treat_merge_vals))\n",
    "print(dim(merged_results))\n",
    "print(head(merged_results))\n",
    "\n",
    "\n",
    "print(dim(merged_results[which(merged_results$FDR<0.05 & (merged_results$logFC) > log2(cutoff)),]))\n",
    "print(head(merged_results[which(merged_results$FDR<0.05 & (merged_results$logFC) > log2(cutoff)),]))\n",
    "print(dim(merged_results[which(merged_results$FDR<0.05 & (merged_results$logFC) < -log2(cutoff)),]))\n",
    "print(head(merged_results[which(merged_results$FDR<0.05 & (merged_results$logFC) < -log2(cutoff)),]))\n",
    "\n",
    "\n",
    "\n",
    "print(dim(merged_results[which(merged_results$threshold_test_FDR<0.05 & (merged_results$logFC) > log2(cutoff)),]))\n",
    "print(head(merged_results[which(merged_results$threshold_test_FDR<0.05 & (merged_results$logFC) > log2(cutoff)),]))\n",
    "print(dim(merged_results[which(merged_results$threshold_test_FDR<0.05 & (merged_results$logFC) < -log2(cutoff)),]))\n",
    "print(head(merged_results[which(merged_results$threshold_test_FDR<0.05 & (merged_results$logFC) < -log2(cutoff)),]))\n",
    "\n",
    "\n",
    "write.csv(merged_results, paste0(WRKDIR,\"/expression/amppd_haplogroup_J_diff_exp_edgeR_results.csv\"), row.names=TRUE)"
   ]
  },
  {
   "cell_type": "code",
   "execution_count": null,
   "metadata": {},
   "outputs": [],
   "source": []
  }
 ],
 "metadata": {
  "kernelspec": {
   "display_name": "R/3.5",
   "language": "R",
   "name": "ir35"
  },
  "language_info": {
   "codemirror_mode": "r",
   "file_extension": ".r",
   "mimetype": "text/x-r-source",
   "name": "R",
   "pygments_lexer": "r",
   "version": "3.5.2"
  },
  "toc": {
   "base_numbering": 1,
   "nav_menu": {},
   "number_sections": true,
   "sideBar": true,
   "skip_h1_title": false,
   "title_cell": "Table of Contents",
   "title_sidebar": "Contents",
   "toc_cell": false,
   "toc_position": {},
   "toc_section_display": true,
   "toc_window_display": false
  }
 },
 "nbformat": 4,
 "nbformat_minor": 4
}
