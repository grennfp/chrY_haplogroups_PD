{
 "cells": [
  {
   "cell_type": "code",
   "execution_count": 28,
   "id": "9634764a-f1a6-4fcd-97d1-a10b85249051",
   "metadata": {
    "tags": []
   },
   "outputs": [],
   "source": [
    "library(rtracklayer)\n",
    "library(dplyr)"
   ]
  },
  {
   "cell_type": "code",
   "execution_count": 29,
   "id": "7c27d898-2215-41a3-95d9-a4a1200feba6",
   "metadata": {},
   "outputs": [],
   "source": [
    "library(data.table)\n",
    "library(stringr)"
   ]
  },
  {
   "cell_type": "code",
   "execution_count": 30,
   "id": "6bdd88db-3ea8-4408-8be6-093fc8f24bc1",
   "metadata": {
    "tags": []
   },
   "outputs": [
    {
     "name": "stdout",
     "output_type": "stream",
     "text": [
      "[1] 3150424      26\n",
      "  seqnames start   end width strand source       type score phase\n",
      "1     chr1 11869 14409  2541      + HAVANA       gene    NA    NA\n",
      "2     chr1 11869 14409  2541      + HAVANA transcript    NA    NA\n",
      "3     chr1 11869 12227   359      + HAVANA       exon    NA    NA\n",
      "4     chr1 12613 12721   109      + HAVANA       exon    NA    NA\n",
      "5     chr1 13221 14409  1189      + HAVANA       exon    NA    NA\n",
      "6     chr1 12010 13670  1661      + HAVANA transcript    NA    NA\n",
      "            gene_id                          gene_type gene_name level\n",
      "1 ENSG00000223972.5 transcribed_unprocessed_pseudogene   DDX11L1     2\n",
      "2 ENSG00000223972.5 transcribed_unprocessed_pseudogene   DDX11L1     2\n",
      "3 ENSG00000223972.5 transcribed_unprocessed_pseudogene   DDX11L1     2\n",
      "4 ENSG00000223972.5 transcribed_unprocessed_pseudogene   DDX11L1     2\n",
      "5 ENSG00000223972.5 transcribed_unprocessed_pseudogene   DDX11L1     2\n",
      "6 ENSG00000223972.5 transcribed_unprocessed_pseudogene   DDX11L1     2\n",
      "     hgnc_id          havana_gene     transcript_id\n",
      "1 HGNC:37102 OTTHUMG00000000961.2              <NA>\n",
      "2 HGNC:37102 OTTHUMG00000000961.2 ENST00000456328.2\n",
      "3 HGNC:37102 OTTHUMG00000000961.2 ENST00000456328.2\n",
      "4 HGNC:37102 OTTHUMG00000000961.2 ENST00000456328.2\n",
      "5 HGNC:37102 OTTHUMG00000000961.2 ENST00000456328.2\n",
      "6 HGNC:37102 OTTHUMG00000000961.2 ENST00000450305.2\n",
      "                     transcript_type transcript_name transcript_support_level\n",
      "1                               <NA>            <NA>                     <NA>\n",
      "2               processed_transcript     DDX11L1-202                        1\n",
      "3               processed_transcript     DDX11L1-202                        1\n",
      "4               processed_transcript     DDX11L1-202                        1\n",
      "5               processed_transcript     DDX11L1-202                        1\n",
      "6 transcribed_unprocessed_pseudogene     DDX11L1-201                       NA\n",
      "                tag    havana_transcript exon_number           exon_id\n",
      "1              <NA>                 <NA>        <NA>              <NA>\n",
      "2             basic OTTHUMT00000362751.1        <NA>              <NA>\n",
      "3             basic OTTHUMT00000362751.1           1 ENSE00002234944.1\n",
      "4             basic OTTHUMT00000362751.1           2 ENSE00003582793.1\n",
      "5             basic OTTHUMT00000362751.1           3 ENSE00002312635.1\n",
      "6 Ensembl_canonical OTTHUMT00000002844.2        <NA>              <NA>\n",
      "          ont protein_id ccdsid\n",
      "1        <NA>       <NA>   <NA>\n",
      "2        <NA>       <NA>   <NA>\n",
      "3        <NA>       <NA>   <NA>\n",
      "4        <NA>       <NA>   <NA>\n",
      "5        <NA>       <NA>   <NA>\n",
      "6 PGO:0000019       <NA>   <NA>\n"
     ]
    }
   ],
   "source": [
    "gtf <- rtracklayer::import(\"$PATH/gencode.v38.annotation.gtf\")\n",
    "gtf_df = as.data.frame(gtf)\n",
    "print(dim(gtf_df))\n",
    "print(head(gtf_df))"
   ]
  },
  {
   "cell_type": "code",
   "execution_count": 31,
   "id": "80940a83-bcfd-412e-840f-235538b55896",
   "metadata": {
    "tags": []
   },
   "outputs": [
    {
     "name": "stdout",
     "output_type": "stream",
     "text": [
      "  seqnames start   end width strand source       type score phase\n",
      "1     chr1 11869 14409  2541      + HAVANA       gene    NA    NA\n",
      "2     chr1 11869 14409  2541      + HAVANA transcript    NA    NA\n",
      "3     chr1 11869 12227   359      + HAVANA       exon    NA    NA\n",
      "4     chr1 12613 12721   109      + HAVANA       exon    NA    NA\n",
      "5     chr1 13221 14409  1189      + HAVANA       exon    NA    NA\n",
      "6     chr1 12010 13670  1661      + HAVANA transcript    NA    NA\n",
      "            gene_id                          gene_type gene_name level\n",
      "1 ENSG00000223972.5 transcribed_unprocessed_pseudogene   DDX11L1     2\n",
      "2 ENSG00000223972.5 transcribed_unprocessed_pseudogene   DDX11L1     2\n",
      "3 ENSG00000223972.5 transcribed_unprocessed_pseudogene   DDX11L1     2\n",
      "4 ENSG00000223972.5 transcribed_unprocessed_pseudogene   DDX11L1     2\n",
      "5 ENSG00000223972.5 transcribed_unprocessed_pseudogene   DDX11L1     2\n",
      "6 ENSG00000223972.5 transcribed_unprocessed_pseudogene   DDX11L1     2\n",
      "     hgnc_id          havana_gene     transcript_id\n",
      "1 HGNC:37102 OTTHUMG00000000961.2              <NA>\n",
      "2 HGNC:37102 OTTHUMG00000000961.2 ENST00000456328.2\n",
      "3 HGNC:37102 OTTHUMG00000000961.2 ENST00000456328.2\n",
      "4 HGNC:37102 OTTHUMG00000000961.2 ENST00000456328.2\n",
      "5 HGNC:37102 OTTHUMG00000000961.2 ENST00000456328.2\n",
      "6 HGNC:37102 OTTHUMG00000000961.2 ENST00000450305.2\n",
      "                     transcript_type transcript_name transcript_support_level\n",
      "1                               <NA>            <NA>                     <NA>\n",
      "2               processed_transcript     DDX11L1-202                        1\n",
      "3               processed_transcript     DDX11L1-202                        1\n",
      "4               processed_transcript     DDX11L1-202                        1\n",
      "5               processed_transcript     DDX11L1-202                        1\n",
      "6 transcribed_unprocessed_pseudogene     DDX11L1-201                       NA\n",
      "                tag    havana_transcript exon_number           exon_id\n",
      "1              <NA>                 <NA>        <NA>              <NA>\n",
      "2             basic OTTHUMT00000362751.1        <NA>              <NA>\n",
      "3             basic OTTHUMT00000362751.1           1 ENSE00002234944.1\n",
      "4             basic OTTHUMT00000362751.1           2 ENSE00003582793.1\n",
      "5             basic OTTHUMT00000362751.1           3 ENSE00002312635.1\n",
      "6 Ensembl_canonical OTTHUMT00000002844.2        <NA>              <NA>\n",
      "          ont protein_id ccdsid     gene_no_ver\n",
      "1        <NA>       <NA>   <NA> ENSG00000223972\n",
      "2        <NA>       <NA>   <NA> ENSG00000223972\n",
      "3        <NA>       <NA>   <NA> ENSG00000223972\n",
      "4        <NA>       <NA>   <NA> ENSG00000223972\n",
      "5        <NA>       <NA>   <NA> ENSG00000223972\n",
      "6 PGO:0000019       <NA>   <NA> ENSG00000223972\n"
     ]
    }
   ],
   "source": [
    "gtf_df$gene_no_ver <- str_split_fixed(gtf_df$gene_id, \"\\\\.\", 2)[,1]\n",
    "print(head(gtf_df))"
   ]
  },
  {
   "cell_type": "code",
   "execution_count": 32,
   "id": "0f44f29e-cb01-4b28-9f87-48e02c891b7c",
   "metadata": {},
   "outputs": [],
   "source": [
    "gtf_df <- gtf_df %>% select(\"gene_no_ver\",\"gene_name\")\n",
    "gtf_df<- gtf_df[!duplicated(gtf_df), ]"
   ]
  },
  {
   "cell_type": "code",
   "execution_count": 33,
   "id": "d22c4560-8075-4da0-9b35-7b5e4180d35b",
   "metadata": {},
   "outputs": [
    {
     "data": {
      "text/html": [
       "<table class=\"dataframe\">\n",
       "<caption>A data.frame: 6 × 2</caption>\n",
       "<thead>\n",
       "\t<tr><th></th><th scope=col>gene_no_ver</th><th scope=col>gene_name</th></tr>\n",
       "\t<tr><th></th><th scope=col>&lt;chr&gt;</th><th scope=col>&lt;chr&gt;</th></tr>\n",
       "</thead>\n",
       "<tbody>\n",
       "\t<tr><th scope=row>1</th><td>ENSG00000223972</td><td>DDX11L1    </td></tr>\n",
       "\t<tr><th scope=row>13</th><td>ENSG00000227232</td><td>WASH7P     </td></tr>\n",
       "\t<tr><th scope=row>26</th><td>ENSG00000278267</td><td>MIR6859-1  </td></tr>\n",
       "\t<tr><th scope=row>29</th><td>ENSG00000243485</td><td>MIR1302-2HG</td></tr>\n",
       "\t<tr><th scope=row>37</th><td>ENSG00000284332</td><td>MIR1302-2  </td></tr>\n",
       "\t<tr><th scope=row>40</th><td>ENSG00000237613</td><td>FAM138A    </td></tr>\n",
       "</tbody>\n",
       "</table>\n"
      ],
      "text/latex": [
       "A data.frame: 6 × 2\n",
       "\\begin{tabular}{r|ll}\n",
       "  & gene\\_no\\_ver & gene\\_name\\\\\n",
       "  & <chr> & <chr>\\\\\n",
       "\\hline\n",
       "\t1 & ENSG00000223972 & DDX11L1    \\\\\n",
       "\t13 & ENSG00000227232 & WASH7P     \\\\\n",
       "\t26 & ENSG00000278267 & MIR6859-1  \\\\\n",
       "\t29 & ENSG00000243485 & MIR1302-2HG\\\\\n",
       "\t37 & ENSG00000284332 & MIR1302-2  \\\\\n",
       "\t40 & ENSG00000237613 & FAM138A    \\\\\n",
       "\\end{tabular}\n"
      ],
      "text/markdown": [
       "\n",
       "A data.frame: 6 × 2\n",
       "\n",
       "| <!--/--> | gene_no_ver &lt;chr&gt; | gene_name &lt;chr&gt; |\n",
       "|---|---|---|\n",
       "| 1 | ENSG00000223972 | DDX11L1     |\n",
       "| 13 | ENSG00000227232 | WASH7P      |\n",
       "| 26 | ENSG00000278267 | MIR6859-1   |\n",
       "| 29 | ENSG00000243485 | MIR1302-2HG |\n",
       "| 37 | ENSG00000284332 | MIR1302-2   |\n",
       "| 40 | ENSG00000237613 | FAM138A     |\n",
       "\n"
      ],
      "text/plain": [
       "   gene_no_ver     gene_name  \n",
       "1  ENSG00000223972 DDX11L1    \n",
       "13 ENSG00000227232 WASH7P     \n",
       "26 ENSG00000278267 MIR6859-1  \n",
       "29 ENSG00000243485 MIR1302-2HG\n",
       "37 ENSG00000284332 MIR1302-2  \n",
       "40 ENSG00000237613 FAM138A    "
      ]
     },
     "metadata": {},
     "output_type": "display_data"
    }
   ],
   "source": [
    "head(gtf_df)"
   ]
  },
  {
   "cell_type": "code",
   "execution_count": 111,
   "id": "5976008f-d764-4776-9bfa-7991562dfc04",
   "metadata": {},
   "outputs": [
    {
     "name": "stdout",
     "output_type": "stream",
     "text": [
      "[1] 240  11\n",
      "               V1     logFC   logCPM        F      PValue       FDR\n",
      "1 ENSG00000092377 1.0290314 7.221287 4.493874 0.034250759 0.1837244\n",
      "2 ENSG00000168757 1.0545971 6.540259 5.437223 0.019900500 0.1837244\n",
      "3 ENSG00000169811 0.6884212 6.244234 7.639868 0.030357115 0.1837244\n",
      "4 ENSG00000185275 0.7997004 7.843440 7.724858 0.005543671 0.1837244\n",
      "5 ENSG00000188656 0.5217511 6.274627 5.323584 0.021233371 0.1837244\n",
      "6 ENSG00000214207 0.7687639 6.459536 5.773877 0.016439746 0.1837244\n",
      "  haplo_R_raw_means haplo_not_R_raw_means threshold_test_unshrunk.logFC\n",
      "1         2.7503805             3.3250689                      6.956289\n",
      "2         0.8188737             1.0165289                     10.999722\n",
      "3         0.2085236             0.3057851                     15.447619\n",
      "4         4.3835616             4.4545455                      2.568812\n",
      "5         0.3394216             0.2231405                      8.504426\n",
      "6         0.5951294             0.8044077                     10.821923\n",
      "  threshold_test_PValue threshold_test_FDR\n",
      "1            0.16553658           0.323142\n",
      "2            0.09279561           0.323142\n",
      "3            0.08793699           0.323142\n",
      "4            0.24808875           0.323142\n",
      "5            0.15073091           0.323142\n",
      "6            0.10261498           0.323142\n"
     ]
    }
   ],
   "source": [
    "data <- as.data.frame(fread(\"$PATH/amppd_haplogroup_R_diff_exp_edgeR_results.csv\"))\n",
    "print(dim(data))\n",
    "print(head(data))"
   ]
  },
  {
   "cell_type": "code",
   "execution_count": null,
   "id": "5a412176-4dbb-41f5-a190-4815b328b18c",
   "metadata": {},
   "outputs": [],
   "source": []
  },
  {
   "cell_type": "code",
   "execution_count": 112,
   "id": "c85481da-fa65-481f-8b42-0c8ccc1df52e",
   "metadata": {},
   "outputs": [
    {
     "name": "stdout",
     "output_type": "stream",
     "text": [
      "               V1     logFC   logCPM        F      PValue       FDR\n",
      "1 ENSG00000092377 1.0290314 7.221287 4.493874 0.034250759 0.1837244\n",
      "2 ENSG00000168757 1.0545971 6.540259 5.437223 0.019900500 0.1837244\n",
      "3 ENSG00000169811 0.6884212 6.244234 7.639868 0.030357115 0.1837244\n",
      "4 ENSG00000185275 0.7997004 7.843440 7.724858 0.005543671 0.1837244\n",
      "5 ENSG00000188656 0.5217511 6.274627 5.323584 0.021233371 0.1837244\n",
      "6 ENSG00000214207 0.7687639 6.459536 5.773877 0.016439746 0.1837244\n",
      "  haplo_R_raw_means haplo_not_R_raw_means threshold_test_unshrunk.logFC\n",
      "1         2.7503805             3.3250689                      6.956289\n",
      "2         0.8188737             1.0165289                     10.999722\n",
      "3         0.2085236             0.3057851                     15.447619\n",
      "4         4.3835616             4.4545455                      2.568812\n",
      "5         0.3394216             0.2231405                      8.504426\n",
      "6         0.5951294             0.8044077                     10.821923\n",
      "  threshold_test_PValue threshold_test_FDR     gene_no_ver\n",
      "1            0.16553658           0.323142 ENSG00000092377\n",
      "2            0.09279561           0.323142 ENSG00000168757\n",
      "3            0.08793699           0.323142 ENSG00000169811\n",
      "4            0.24808875           0.323142 ENSG00000185275\n",
      "5            0.15073091           0.323142 ENSG00000188656\n",
      "6            0.10261498           0.323142 ENSG00000214207\n"
     ]
    }
   ],
   "source": [
    "data$gene_no_ver <- str_split_fixed(data$V1, \"\\\\.\", 2)[,1]\n",
    "print(head(data))"
   ]
  },
  {
   "cell_type": "code",
   "execution_count": null,
   "id": "dcaf853e-c05f-44ec-b5f1-a5d6da8ea8b0",
   "metadata": {},
   "outputs": [],
   "source": []
  },
  {
   "cell_type": "code",
   "execution_count": 113,
   "id": "3c286317-2700-4eca-b1b2-a4bb01d33f59",
   "metadata": {},
   "outputs": [
    {
     "name": "stdout",
     "output_type": "stream",
     "text": [
      "[1] 233  13\n",
      "[1] 240  13\n"
     ]
    }
   ],
   "source": [
    "#try inner join to see if any missing\n",
    "print(dim(merge(x = data, y = gtf_df, by.x = 'gene_no_ver', by.y = 'gene_no_ver')))\n",
    "new_data <- merge(x = data, y = gtf_df, by.x = 'gene_no_ver', by.y = 'gene_no_ver',all.x=TRUE)\n",
    "print(dim(new_data))"
   ]
  },
  {
   "cell_type": "code",
   "execution_count": 114,
   "id": "ba5073b8-69ee-4b87-9a7d-92a9ca321c19",
   "metadata": {},
   "outputs": [
    {
     "data": {
      "text/html": [
       "<table class=\"dataframe\">\n",
       "<caption>A data.frame: 0 × 13</caption>\n",
       "<thead>\n",
       "\t<tr><th scope=col>gene_no_ver</th><th scope=col>V1</th><th scope=col>logFC</th><th scope=col>logCPM</th><th scope=col>F</th><th scope=col>PValue</th><th scope=col>FDR</th><th scope=col>haplo_R_raw_means</th><th scope=col>haplo_not_R_raw_means</th><th scope=col>threshold_test_unshrunk.logFC</th><th scope=col>threshold_test_PValue</th><th scope=col>threshold_test_FDR</th><th scope=col>gene_name</th></tr>\n",
       "\t<tr><th scope=col>&lt;chr&gt;</th><th scope=col>&lt;chr&gt;</th><th scope=col>&lt;dbl&gt;</th><th scope=col>&lt;dbl&gt;</th><th scope=col>&lt;dbl&gt;</th><th scope=col>&lt;dbl&gt;</th><th scope=col>&lt;dbl&gt;</th><th scope=col>&lt;dbl&gt;</th><th scope=col>&lt;dbl&gt;</th><th scope=col>&lt;dbl&gt;</th><th scope=col>&lt;dbl&gt;</th><th scope=col>&lt;dbl&gt;</th><th scope=col>&lt;chr&gt;</th></tr>\n",
       "</thead>\n",
       "<tbody>\n",
       "</tbody>\n",
       "</table>\n"
      ],
      "text/latex": [
       "A data.frame: 0 × 13\n",
       "\\begin{tabular}{lllllllllllll}\n",
       " gene\\_no\\_ver & V1 & logFC & logCPM & F & PValue & FDR & haplo\\_R\\_raw\\_means & haplo\\_not\\_R\\_raw\\_means & threshold\\_test\\_unshrunk.logFC & threshold\\_test\\_PValue & threshold\\_test\\_FDR & gene\\_name\\\\\n",
       " <chr> & <chr> & <dbl> & <dbl> & <dbl> & <dbl> & <dbl> & <dbl> & <dbl> & <dbl> & <dbl> & <dbl> & <chr>\\\\\n",
       "\\hline\n",
       "\\end{tabular}\n"
      ],
      "text/markdown": [
       "\n",
       "A data.frame: 0 × 13\n",
       "\n",
       "| gene_no_ver &lt;chr&gt; | V1 &lt;chr&gt; | logFC &lt;dbl&gt; | logCPM &lt;dbl&gt; | F &lt;dbl&gt; | PValue &lt;dbl&gt; | FDR &lt;dbl&gt; | haplo_R_raw_means &lt;dbl&gt; | haplo_not_R_raw_means &lt;dbl&gt; | threshold_test_unshrunk.logFC &lt;dbl&gt; | threshold_test_PValue &lt;dbl&gt; | threshold_test_FDR &lt;dbl&gt; | gene_name &lt;chr&gt; |\n",
       "|---|---|---|---|---|---|---|---|---|---|---|---|---|\n",
       "\n"
      ],
      "text/plain": [
       "     gene_no_ver V1 logFC logCPM F PValue FDR haplo_R_raw_means\n",
       "     haplo_not_R_raw_means threshold_test_unshrunk.logFC threshold_test_PValue\n",
       "     threshold_test_FDR gene_name"
      ]
     },
     "metadata": {},
     "output_type": "display_data"
    }
   ],
   "source": [
    "new_data[is.na(new_data$symbol),]"
   ]
  },
  {
   "cell_type": "code",
   "execution_count": 115,
   "id": "859c8bea-10bf-4cdd-a761-e40182a27b6f",
   "metadata": {},
   "outputs": [
    {
     "data": {
      "text/html": [
       "<table class=\"dataframe\">\n",
       "<caption>A data.frame: 7 × 12</caption>\n",
       "<thead>\n",
       "\t<tr><th></th><th scope=col>V1</th><th scope=col>logFC</th><th scope=col>logCPM</th><th scope=col>F</th><th scope=col>PValue</th><th scope=col>FDR</th><th scope=col>haplo_R_raw_means</th><th scope=col>haplo_not_R_raw_means</th><th scope=col>threshold_test_unshrunk.logFC</th><th scope=col>threshold_test_PValue</th><th scope=col>threshold_test_FDR</th><th scope=col>gene_no_ver</th></tr>\n",
       "\t<tr><th></th><th scope=col>&lt;chr&gt;</th><th scope=col>&lt;dbl&gt;</th><th scope=col>&lt;dbl&gt;</th><th scope=col>&lt;dbl&gt;</th><th scope=col>&lt;dbl&gt;</th><th scope=col>&lt;dbl&gt;</th><th scope=col>&lt;dbl&gt;</th><th scope=col>&lt;dbl&gt;</th><th scope=col>&lt;dbl&gt;</th><th scope=col>&lt;dbl&gt;</th><th scope=col>&lt;dbl&gt;</th><th scope=col>&lt;chr&gt;</th></tr>\n",
       "</thead>\n",
       "<tbody>\n",
       "\t<tr><th scope=row>12</th><td>ENSG00000226975</td><td>0.7358794</td><td> 6.212043</td><td>8.817461</td><td>0.02809502</td><td>0.1837244</td><td>  0.1750381</td><td>  0.1900826</td><td>14.8413563</td><td>0.08597259</td><td>0.323142</td><td>ENSG00000226975</td></tr>\n",
       "\t<tr><th scope=row>25</th><td>ENSG00000235691</td><td>0.6681303</td><td> 6.225357</td><td>6.788934</td><td>0.03255538</td><td>0.1837244</td><td>  0.2130898</td><td>  0.2066116</td><td>12.6984443</td><td>0.10696751</td><td>0.323142</td><td>ENSG00000235691</td></tr>\n",
       "\t<tr><th scope=row>26</th><td>ENSG00000235719</td><td>0.8850493</td><td> 6.454067</td><td>5.393913</td><td>0.02039842</td><td>0.1837244</td><td>  0.5966514</td><td>  0.7933884</td><td>10.9480120</td><td>0.10534929</td><td>0.323142</td><td>ENSG00000235719</td></tr>\n",
       "\t<tr><th scope=row>72</th><td>ENSG00000225520</td><td>0.4871136</td><td> 6.353285</td><td>3.905843</td><td>0.06865260</td><td>0.2263614</td><td>  0.3820396</td><td>  0.3966942</td><td> 8.1477030</td><td>0.17360692</td><td>0.323142</td><td>ENSG00000225520</td></tr>\n",
       "\t<tr><th scope=row>74</th><td>ENSG00000232348</td><td>0.5887438</td><td> 6.296436</td><td>4.325026</td><td>0.06834588</td><td>0.2263614</td><td>  0.3287671</td><td>  0.3966942</td><td>10.3529265</td><td>0.14678614</td><td>0.323142</td><td>ENSG00000232348</td></tr>\n",
       "\t<tr><th scope=row>78</th><td>ENSG00000235193</td><td>0.4501441</td><td> 6.238843</td><td>4.938277</td><td>0.07262253</td><td>0.2278203</td><td>  0.2328767</td><td>  0.2231405</td><td>10.3691072</td><td>0.14700291</td><td>0.323142</td><td>ENSG00000235193</td></tr>\n",
       "\t<tr><th scope=row>157</th><td>ENSG00000233864</td><td>0.1406397</td><td>14.299446</td><td>1.531289</td><td>0.21619544</td><td>0.3283981</td><td>566.4414003</td><td>560.4765840</td><td> 0.1406729</td><td>1.00000000</td><td>1.000000</td><td>ENSG00000233864</td></tr>\n",
       "</tbody>\n",
       "</table>\n"
      ],
      "text/latex": [
       "A data.frame: 7 × 12\n",
       "\\begin{tabular}{r|llllllllllll}\n",
       "  & V1 & logFC & logCPM & F & PValue & FDR & haplo\\_R\\_raw\\_means & haplo\\_not\\_R\\_raw\\_means & threshold\\_test\\_unshrunk.logFC & threshold\\_test\\_PValue & threshold\\_test\\_FDR & gene\\_no\\_ver\\\\\n",
       "  & <chr> & <dbl> & <dbl> & <dbl> & <dbl> & <dbl> & <dbl> & <dbl> & <dbl> & <dbl> & <dbl> & <chr>\\\\\n",
       "\\hline\n",
       "\t12 & ENSG00000226975 & 0.7358794 &  6.212043 & 8.817461 & 0.02809502 & 0.1837244 &   0.1750381 &   0.1900826 & 14.8413563 & 0.08597259 & 0.323142 & ENSG00000226975\\\\\n",
       "\t25 & ENSG00000235691 & 0.6681303 &  6.225357 & 6.788934 & 0.03255538 & 0.1837244 &   0.2130898 &   0.2066116 & 12.6984443 & 0.10696751 & 0.323142 & ENSG00000235691\\\\\n",
       "\t26 & ENSG00000235719 & 0.8850493 &  6.454067 & 5.393913 & 0.02039842 & 0.1837244 &   0.5966514 &   0.7933884 & 10.9480120 & 0.10534929 & 0.323142 & ENSG00000235719\\\\\n",
       "\t72 & ENSG00000225520 & 0.4871136 &  6.353285 & 3.905843 & 0.06865260 & 0.2263614 &   0.3820396 &   0.3966942 &  8.1477030 & 0.17360692 & 0.323142 & ENSG00000225520\\\\\n",
       "\t74 & ENSG00000232348 & 0.5887438 &  6.296436 & 4.325026 & 0.06834588 & 0.2263614 &   0.3287671 &   0.3966942 & 10.3529265 & 0.14678614 & 0.323142 & ENSG00000232348\\\\\n",
       "\t78 & ENSG00000235193 & 0.4501441 &  6.238843 & 4.938277 & 0.07262253 & 0.2278203 &   0.2328767 &   0.2231405 & 10.3691072 & 0.14700291 & 0.323142 & ENSG00000235193\\\\\n",
       "\t157 & ENSG00000233864 & 0.1406397 & 14.299446 & 1.531289 & 0.21619544 & 0.3283981 & 566.4414003 & 560.4765840 &  0.1406729 & 1.00000000 & 1.000000 & ENSG00000233864\\\\\n",
       "\\end{tabular}\n"
      ],
      "text/markdown": [
       "\n",
       "A data.frame: 7 × 12\n",
       "\n",
       "| <!--/--> | V1 &lt;chr&gt; | logFC &lt;dbl&gt; | logCPM &lt;dbl&gt; | F &lt;dbl&gt; | PValue &lt;dbl&gt; | FDR &lt;dbl&gt; | haplo_R_raw_means &lt;dbl&gt; | haplo_not_R_raw_means &lt;dbl&gt; | threshold_test_unshrunk.logFC &lt;dbl&gt; | threshold_test_PValue &lt;dbl&gt; | threshold_test_FDR &lt;dbl&gt; | gene_no_ver &lt;chr&gt; |\n",
       "|---|---|---|---|---|---|---|---|---|---|---|---|---|\n",
       "| 12 | ENSG00000226975 | 0.7358794 |  6.212043 | 8.817461 | 0.02809502 | 0.1837244 |   0.1750381 |   0.1900826 | 14.8413563 | 0.08597259 | 0.323142 | ENSG00000226975 |\n",
       "| 25 | ENSG00000235691 | 0.6681303 |  6.225357 | 6.788934 | 0.03255538 | 0.1837244 |   0.2130898 |   0.2066116 | 12.6984443 | 0.10696751 | 0.323142 | ENSG00000235691 |\n",
       "| 26 | ENSG00000235719 | 0.8850493 |  6.454067 | 5.393913 | 0.02039842 | 0.1837244 |   0.5966514 |   0.7933884 | 10.9480120 | 0.10534929 | 0.323142 | ENSG00000235719 |\n",
       "| 72 | ENSG00000225520 | 0.4871136 |  6.353285 | 3.905843 | 0.06865260 | 0.2263614 |   0.3820396 |   0.3966942 |  8.1477030 | 0.17360692 | 0.323142 | ENSG00000225520 |\n",
       "| 74 | ENSG00000232348 | 0.5887438 |  6.296436 | 4.325026 | 0.06834588 | 0.2263614 |   0.3287671 |   0.3966942 | 10.3529265 | 0.14678614 | 0.323142 | ENSG00000232348 |\n",
       "| 78 | ENSG00000235193 | 0.4501441 |  6.238843 | 4.938277 | 0.07262253 | 0.2278203 |   0.2328767 |   0.2231405 | 10.3691072 | 0.14700291 | 0.323142 | ENSG00000235193 |\n",
       "| 157 | ENSG00000233864 | 0.1406397 | 14.299446 | 1.531289 | 0.21619544 | 0.3283981 | 566.4414003 | 560.4765840 |  0.1406729 | 1.00000000 | 1.000000 | ENSG00000233864 |\n",
       "\n"
      ],
      "text/plain": [
       "    V1              logFC     logCPM    F        PValue     FDR      \n",
       "12  ENSG00000226975 0.7358794  6.212043 8.817461 0.02809502 0.1837244\n",
       "25  ENSG00000235691 0.6681303  6.225357 6.788934 0.03255538 0.1837244\n",
       "26  ENSG00000235719 0.8850493  6.454067 5.393913 0.02039842 0.1837244\n",
       "72  ENSG00000225520 0.4871136  6.353285 3.905843 0.06865260 0.2263614\n",
       "74  ENSG00000232348 0.5887438  6.296436 4.325026 0.06834588 0.2263614\n",
       "78  ENSG00000235193 0.4501441  6.238843 4.938277 0.07262253 0.2278203\n",
       "157 ENSG00000233864 0.1406397 14.299446 1.531289 0.21619544 0.3283981\n",
       "    haplo_R_raw_means haplo_not_R_raw_means threshold_test_unshrunk.logFC\n",
       "12    0.1750381         0.1900826           14.8413563                   \n",
       "25    0.2130898         0.2066116           12.6984443                   \n",
       "26    0.5966514         0.7933884           10.9480120                   \n",
       "72    0.3820396         0.3966942            8.1477030                   \n",
       "74    0.3287671         0.3966942           10.3529265                   \n",
       "78    0.2328767         0.2231405           10.3691072                   \n",
       "157 566.4414003       560.4765840            0.1406729                   \n",
       "    threshold_test_PValue threshold_test_FDR gene_no_ver    \n",
       "12  0.08597259            0.323142           ENSG00000226975\n",
       "25  0.10696751            0.323142           ENSG00000235691\n",
       "26  0.10534929            0.323142           ENSG00000235719\n",
       "72  0.17360692            0.323142           ENSG00000225520\n",
       "74  0.14678614            0.323142           ENSG00000232348\n",
       "78  0.14700291            0.323142           ENSG00000235193\n",
       "157 1.00000000            1.000000           ENSG00000233864"
      ]
     },
     "metadata": {},
     "output_type": "display_data"
    }
   ],
   "source": [
    "#which ones are missing?\n",
    "(data[!(data$gene_no_ver %in% gtf_df$gene_no_ver),])"
   ]
  },
  {
   "cell_type": "code",
   "execution_count": 116,
   "id": "8dab02a3-daee-4edb-a313-3b159d6bdf12",
   "metadata": {},
   "outputs": [
    {
     "data": {
      "text/html": [
       "<style>\n",
       ".list-inline {list-style: none; margin:0; padding: 0}\n",
       ".list-inline>li {display: inline-block}\n",
       ".list-inline>li:not(:last-child)::after {content: \"\\00b7\"; padding: 0 .5ex}\n",
       "</style>\n",
       "<ol class=list-inline><li>7</li><li>12</li></ol>\n"
      ],
      "text/latex": [
       "\\begin{enumerate*}\n",
       "\\item 7\n",
       "\\item 12\n",
       "\\end{enumerate*}\n"
      ],
      "text/markdown": [
       "1. 7\n",
       "2. 12\n",
       "\n",
       "\n"
      ],
      "text/plain": [
       "[1]  7 12"
      ]
     },
     "metadata": {},
     "output_type": "display_data"
    }
   ],
   "source": [
    "dim(data[!(data$gene_no_ver %in% gtf_df$gene_no_ver),])"
   ]
  },
  {
   "cell_type": "code",
   "execution_count": 117,
   "id": "72a61f0d-a96e-498c-9527-b164449a4885",
   "metadata": {},
   "outputs": [
    {
     "data": {
      "text/html": [
       "<table class=\"dataframe\">\n",
       "<caption>A data.frame: 6 × 13</caption>\n",
       "<thead>\n",
       "\t<tr><th></th><th scope=col>gene_no_ver</th><th scope=col>V1</th><th scope=col>logFC</th><th scope=col>logCPM</th><th scope=col>F</th><th scope=col>PValue</th><th scope=col>FDR</th><th scope=col>haplo_R_raw_means</th><th scope=col>haplo_not_R_raw_means</th><th scope=col>threshold_test_unshrunk.logFC</th><th scope=col>threshold_test_PValue</th><th scope=col>threshold_test_FDR</th><th scope=col>gene_name</th></tr>\n",
       "\t<tr><th></th><th scope=col>&lt;chr&gt;</th><th scope=col>&lt;chr&gt;</th><th scope=col>&lt;dbl&gt;</th><th scope=col>&lt;dbl&gt;</th><th scope=col>&lt;dbl&gt;</th><th scope=col>&lt;dbl&gt;</th><th scope=col>&lt;dbl&gt;</th><th scope=col>&lt;dbl&gt;</th><th scope=col>&lt;dbl&gt;</th><th scope=col>&lt;dbl&gt;</th><th scope=col>&lt;dbl&gt;</th><th scope=col>&lt;dbl&gt;</th><th scope=col>&lt;chr&gt;</th></tr>\n",
       "</thead>\n",
       "<tbody>\n",
       "\t<tr><th scope=row>1</th><td>ENSG00000012817</td><td>ENSG00000012817</td><td>0.09468980</td><td>16.868857</td><td>0.76486218</td><td>0.38201093</td><td>0.4630436</td><td>3310.9208524</td><td>3381.5454545</td><td>0.09469354</td><td>1.0000000</td><td>1.000000</td><td>KDM5D  </td></tr>\n",
       "\t<tr><th scope=row>2</th><td>ENSG00000067048</td><td>ENSG00000067048</td><td>0.01753738</td><td>16.802118</td><td>0.02323253</td><td>0.87888318</td><td>0.9030905</td><td>3213.6666667</td><td>3324.3223140</td><td>0.01753906</td><td>1.0000000</td><td>1.000000</td><td>DDX3Y  </td></tr>\n",
       "\t<tr><th scope=row>3</th><td>ENSG00000067646</td><td>ENSG00000067646</td><td>0.01928702</td><td>14.694768</td><td>0.02736150</td><td>0.86865062</td><td>0.8986041</td><td> 732.9071537</td><td> 786.4710744</td><td>0.01929373</td><td>1.0000000</td><td>1.000000</td><td>ZFY    </td></tr>\n",
       "\t<tr><th scope=row>4</th><td>ENSG00000092377</td><td>ENSG00000092377</td><td>1.02903143</td><td> 7.221287</td><td>4.49387367</td><td>0.03425076</td><td>0.1837244</td><td>   2.7503805</td><td>   3.3250689</td><td>6.95628919</td><td>0.1655366</td><td>0.323142</td><td>TBL1Y  </td></tr>\n",
       "\t<tr><th scope=row>5</th><td>ENSG00000099715</td><td>ENSG00000099715</td><td>0.45124357</td><td> 7.070093</td><td>1.32017634</td><td>0.25082200</td><td>0.3616918</td><td>   2.2130898</td><td>   2.7685950</td><td>4.18726134</td><td>0.2509508</td><td>0.323142</td><td>PCDH11Y</td></tr>\n",
       "\t<tr><th scope=row>6</th><td>ENSG00000099721</td><td>ENSG00000099721</td><td>0.03122675</td><td> 6.329256</td><td>1.25921736</td><td>0.31101384</td><td>0.4156141</td><td>   0.3546423</td><td>   0.4848485</td><td>5.75888363</td><td>0.2265184</td><td>0.323142</td><td>AMELY  </td></tr>\n",
       "</tbody>\n",
       "</table>\n"
      ],
      "text/latex": [
       "A data.frame: 6 × 13\n",
       "\\begin{tabular}{r|lllllllllllll}\n",
       "  & gene\\_no\\_ver & V1 & logFC & logCPM & F & PValue & FDR & haplo\\_R\\_raw\\_means & haplo\\_not\\_R\\_raw\\_means & threshold\\_test\\_unshrunk.logFC & threshold\\_test\\_PValue & threshold\\_test\\_FDR & gene\\_name\\\\\n",
       "  & <chr> & <chr> & <dbl> & <dbl> & <dbl> & <dbl> & <dbl> & <dbl> & <dbl> & <dbl> & <dbl> & <dbl> & <chr>\\\\\n",
       "\\hline\n",
       "\t1 & ENSG00000012817 & ENSG00000012817 & 0.09468980 & 16.868857 & 0.76486218 & 0.38201093 & 0.4630436 & 3310.9208524 & 3381.5454545 & 0.09469354 & 1.0000000 & 1.000000 & KDM5D  \\\\\n",
       "\t2 & ENSG00000067048 & ENSG00000067048 & 0.01753738 & 16.802118 & 0.02323253 & 0.87888318 & 0.9030905 & 3213.6666667 & 3324.3223140 & 0.01753906 & 1.0000000 & 1.000000 & DDX3Y  \\\\\n",
       "\t3 & ENSG00000067646 & ENSG00000067646 & 0.01928702 & 14.694768 & 0.02736150 & 0.86865062 & 0.8986041 &  732.9071537 &  786.4710744 & 0.01929373 & 1.0000000 & 1.000000 & ZFY    \\\\\n",
       "\t4 & ENSG00000092377 & ENSG00000092377 & 1.02903143 &  7.221287 & 4.49387367 & 0.03425076 & 0.1837244 &    2.7503805 &    3.3250689 & 6.95628919 & 0.1655366 & 0.323142 & TBL1Y  \\\\\n",
       "\t5 & ENSG00000099715 & ENSG00000099715 & 0.45124357 &  7.070093 & 1.32017634 & 0.25082200 & 0.3616918 &    2.2130898 &    2.7685950 & 4.18726134 & 0.2509508 & 0.323142 & PCDH11Y\\\\\n",
       "\t6 & ENSG00000099721 & ENSG00000099721 & 0.03122675 &  6.329256 & 1.25921736 & 0.31101384 & 0.4156141 &    0.3546423 &    0.4848485 & 5.75888363 & 0.2265184 & 0.323142 & AMELY  \\\\\n",
       "\\end{tabular}\n"
      ],
      "text/markdown": [
       "\n",
       "A data.frame: 6 × 13\n",
       "\n",
       "| <!--/--> | gene_no_ver &lt;chr&gt; | V1 &lt;chr&gt; | logFC &lt;dbl&gt; | logCPM &lt;dbl&gt; | F &lt;dbl&gt; | PValue &lt;dbl&gt; | FDR &lt;dbl&gt; | haplo_R_raw_means &lt;dbl&gt; | haplo_not_R_raw_means &lt;dbl&gt; | threshold_test_unshrunk.logFC &lt;dbl&gt; | threshold_test_PValue &lt;dbl&gt; | threshold_test_FDR &lt;dbl&gt; | gene_name &lt;chr&gt; |\n",
       "|---|---|---|---|---|---|---|---|---|---|---|---|---|---|\n",
       "| 1 | ENSG00000012817 | ENSG00000012817 | 0.09468980 | 16.868857 | 0.76486218 | 0.38201093 | 0.4630436 | 3310.9208524 | 3381.5454545 | 0.09469354 | 1.0000000 | 1.000000 | KDM5D   |\n",
       "| 2 | ENSG00000067048 | ENSG00000067048 | 0.01753738 | 16.802118 | 0.02323253 | 0.87888318 | 0.9030905 | 3213.6666667 | 3324.3223140 | 0.01753906 | 1.0000000 | 1.000000 | DDX3Y   |\n",
       "| 3 | ENSG00000067646 | ENSG00000067646 | 0.01928702 | 14.694768 | 0.02736150 | 0.86865062 | 0.8986041 |  732.9071537 |  786.4710744 | 0.01929373 | 1.0000000 | 1.000000 | ZFY     |\n",
       "| 4 | ENSG00000092377 | ENSG00000092377 | 1.02903143 |  7.221287 | 4.49387367 | 0.03425076 | 0.1837244 |    2.7503805 |    3.3250689 | 6.95628919 | 0.1655366 | 0.323142 | TBL1Y   |\n",
       "| 5 | ENSG00000099715 | ENSG00000099715 | 0.45124357 |  7.070093 | 1.32017634 | 0.25082200 | 0.3616918 |    2.2130898 |    2.7685950 | 4.18726134 | 0.2509508 | 0.323142 | PCDH11Y |\n",
       "| 6 | ENSG00000099721 | ENSG00000099721 | 0.03122675 |  6.329256 | 1.25921736 | 0.31101384 | 0.4156141 |    0.3546423 |    0.4848485 | 5.75888363 | 0.2265184 | 0.323142 | AMELY   |\n",
       "\n"
      ],
      "text/plain": [
       "  gene_no_ver     V1              logFC      logCPM    F          PValue    \n",
       "1 ENSG00000012817 ENSG00000012817 0.09468980 16.868857 0.76486218 0.38201093\n",
       "2 ENSG00000067048 ENSG00000067048 0.01753738 16.802118 0.02323253 0.87888318\n",
       "3 ENSG00000067646 ENSG00000067646 0.01928702 14.694768 0.02736150 0.86865062\n",
       "4 ENSG00000092377 ENSG00000092377 1.02903143  7.221287 4.49387367 0.03425076\n",
       "5 ENSG00000099715 ENSG00000099715 0.45124357  7.070093 1.32017634 0.25082200\n",
       "6 ENSG00000099721 ENSG00000099721 0.03122675  6.329256 1.25921736 0.31101384\n",
       "  FDR       haplo_R_raw_means haplo_not_R_raw_means\n",
       "1 0.4630436 3310.9208524      3381.5454545         \n",
       "2 0.9030905 3213.6666667      3324.3223140         \n",
       "3 0.8986041  732.9071537       786.4710744         \n",
       "4 0.1837244    2.7503805         3.3250689         \n",
       "5 0.3616918    2.2130898         2.7685950         \n",
       "6 0.4156141    0.3546423         0.4848485         \n",
       "  threshold_test_unshrunk.logFC threshold_test_PValue threshold_test_FDR\n",
       "1 0.09469354                    1.0000000             1.000000          \n",
       "2 0.01753906                    1.0000000             1.000000          \n",
       "3 0.01929373                    1.0000000             1.000000          \n",
       "4 6.95628919                    0.1655366             0.323142          \n",
       "5 4.18726134                    0.2509508             0.323142          \n",
       "6 5.75888363                    0.2265184             0.323142          \n",
       "  gene_name\n",
       "1 KDM5D    \n",
       "2 DDX3Y    \n",
       "3 ZFY      \n",
       "4 TBL1Y    \n",
       "5 PCDH11Y  \n",
       "6 AMELY    "
      ]
     },
     "metadata": {},
     "output_type": "display_data"
    }
   ],
   "source": [
    "head(new_data)"
   ]
  },
  {
   "cell_type": "code",
   "execution_count": 118,
   "id": "26793ff5-3640-4cbb-916c-b874901dc063",
   "metadata": {},
   "outputs": [],
   "source": [
    "new_data <- new_data[,c(1,13,3:12)]\n",
    "new_data <- new_data[order(new_data$FDR),]\n",
    "names(new_data)[names(new_data) == 'V1'] <- 'gene'\n",
    "names(new_data)[names(new_data) == 'gene_name'] <- 'gene_symbol'\n",
    "new_data$gene_symbol[is.na(new_data$gene_symbol)] <- \" \"\n",
    "write.csv(new_data,\"$PATH/amppd_haplogroup_R_diff_exp_edgeR_results_gene_symbol.csv\",row.names=FALSE)\n"
   ]
  },
  {
   "cell_type": "code",
   "execution_count": 119,
   "id": "9fa28779-8c15-43d4-b2d3-4a8326483d14",
   "metadata": {},
   "outputs": [
    {
     "data": {
      "text/html": [
       "<style>\n",
       ".list-inline {list-style: none; margin:0; padding: 0}\n",
       ".list-inline>li {display: inline-block}\n",
       ".list-inline>li:not(:last-child)::after {content: \"\\00b7\"; padding: 0 .5ex}\n",
       "</style>\n",
       "<ol class=list-inline><li>240</li><li>12</li></ol>\n"
      ],
      "text/latex": [
       "\\begin{enumerate*}\n",
       "\\item 240\n",
       "\\item 12\n",
       "\\end{enumerate*}\n"
      ],
      "text/markdown": [
       "1. 240\n",
       "2. 12\n",
       "\n",
       "\n"
      ],
      "text/plain": [
       "[1] 240  12"
      ]
     },
     "metadata": {},
     "output_type": "display_data"
    }
   ],
   "source": [
    "dim(new_data)"
   ]
  },
  {
   "cell_type": "code",
   "execution_count": 120,
   "id": "a8bbf1ec-a984-4dae-83cb-7df801936966",
   "metadata": {},
   "outputs": [
    {
     "data": {
      "text/html": [
       "<style>\n",
       ".list-inline {list-style: none; margin:0; padding: 0}\n",
       ".list-inline>li {display: inline-block}\n",
       ".list-inline>li:not(:last-child)::after {content: \"\\00b7\"; padding: 0 .5ex}\n",
       "</style>\n",
       "<ol class=list-inline><li>240</li><li>12</li></ol>\n"
      ],
      "text/latex": [
       "\\begin{enumerate*}\n",
       "\\item 240\n",
       "\\item 12\n",
       "\\end{enumerate*}\n"
      ],
      "text/markdown": [
       "1. 240\n",
       "2. 12\n",
       "\n",
       "\n"
      ],
      "text/plain": [
       "[1] 240  12"
      ]
     },
     "metadata": {},
     "output_type": "display_data"
    }
   ],
   "source": [
    "dim(data)"
   ]
  },
  {
   "cell_type": "code",
   "execution_count": 121,
   "id": "f6a3b2fa-c203-4a9a-bd3c-7d4ccec706ac",
   "metadata": {},
   "outputs": [
    {
     "data": {
      "text/html": [
       "<table class=\"dataframe\">\n",
       "<caption>A data.frame: 6 × 12</caption>\n",
       "<thead>\n",
       "\t<tr><th></th><th scope=col>gene_no_ver</th><th scope=col>gene_symbol</th><th scope=col>logFC</th><th scope=col>logCPM</th><th scope=col>F</th><th scope=col>PValue</th><th scope=col>FDR</th><th scope=col>haplo_R_raw_means</th><th scope=col>haplo_not_R_raw_means</th><th scope=col>threshold_test_unshrunk.logFC</th><th scope=col>threshold_test_PValue</th><th scope=col>threshold_test_FDR</th></tr>\n",
       "\t<tr><th></th><th scope=col>&lt;chr&gt;</th><th scope=col>&lt;chr&gt;</th><th scope=col>&lt;dbl&gt;</th><th scope=col>&lt;dbl&gt;</th><th scope=col>&lt;dbl&gt;</th><th scope=col>&lt;dbl&gt;</th><th scope=col>&lt;dbl&gt;</th><th scope=col>&lt;dbl&gt;</th><th scope=col>&lt;dbl&gt;</th><th scope=col>&lt;dbl&gt;</th><th scope=col>&lt;dbl&gt;</th><th scope=col>&lt;dbl&gt;</th></tr>\n",
       "</thead>\n",
       "<tbody>\n",
       "\t<tr><th scope=row>4</th><td>ENSG00000092377</td><td>TBL1Y   </td><td>1.0290314</td><td>7.221287</td><td>4.493874</td><td>0.034250759</td><td>0.1837244</td><td>2.7503805</td><td>3.3250689</td><td> 6.956289</td><td>0.16553658</td><td>0.323142</td></tr>\n",
       "\t<tr><th scope=row>13</th><td>ENSG00000168757</td><td>TSPY2   </td><td>1.0545971</td><td>6.540259</td><td>5.437223</td><td>0.019900500</td><td>0.1837244</td><td>0.8188737</td><td>1.0165289</td><td>10.999722</td><td>0.09279561</td><td>0.323142</td></tr>\n",
       "\t<tr><th scope=row>16</th><td>ENSG00000169811</td><td>RBMY1HP </td><td>0.6884212</td><td>6.244234</td><td>7.639868</td><td>0.030357115</td><td>0.1837244</td><td>0.2085236</td><td>0.3057851</td><td>15.447619</td><td>0.08793699</td><td>0.323142</td></tr>\n",
       "\t<tr><th scope=row>28</th><td>ENSG00000185275</td><td>CD24P4  </td><td>0.7997004</td><td>7.843440</td><td>7.724858</td><td>0.005543671</td><td>0.1837244</td><td>4.3835616</td><td>4.4545455</td><td> 2.568812</td><td>0.24808875</td><td>0.323142</td></tr>\n",
       "\t<tr><th scope=row>31</th><td>ENSG00000188656</td><td>TSPY7P  </td><td>0.5217511</td><td>6.274627</td><td>5.323584</td><td>0.021233371</td><td>0.1837244</td><td>0.3394216</td><td>0.2231405</td><td> 8.504426</td><td>0.15073091</td><td>0.323142</td></tr>\n",
       "\t<tr><th scope=row>37</th><td>ENSG00000214207</td><td>KRT18P10</td><td>0.7687639</td><td>6.459536</td><td>5.773877</td><td>0.016439746</td><td>0.1837244</td><td>0.5951294</td><td>0.8044077</td><td>10.821923</td><td>0.10261498</td><td>0.323142</td></tr>\n",
       "</tbody>\n",
       "</table>\n"
      ],
      "text/latex": [
       "A data.frame: 6 × 12\n",
       "\\begin{tabular}{r|llllllllllll}\n",
       "  & gene\\_no\\_ver & gene\\_symbol & logFC & logCPM & F & PValue & FDR & haplo\\_R\\_raw\\_means & haplo\\_not\\_R\\_raw\\_means & threshold\\_test\\_unshrunk.logFC & threshold\\_test\\_PValue & threshold\\_test\\_FDR\\\\\n",
       "  & <chr> & <chr> & <dbl> & <dbl> & <dbl> & <dbl> & <dbl> & <dbl> & <dbl> & <dbl> & <dbl> & <dbl>\\\\\n",
       "\\hline\n",
       "\t4 & ENSG00000092377 & TBL1Y    & 1.0290314 & 7.221287 & 4.493874 & 0.034250759 & 0.1837244 & 2.7503805 & 3.3250689 &  6.956289 & 0.16553658 & 0.323142\\\\\n",
       "\t13 & ENSG00000168757 & TSPY2    & 1.0545971 & 6.540259 & 5.437223 & 0.019900500 & 0.1837244 & 0.8188737 & 1.0165289 & 10.999722 & 0.09279561 & 0.323142\\\\\n",
       "\t16 & ENSG00000169811 & RBMY1HP  & 0.6884212 & 6.244234 & 7.639868 & 0.030357115 & 0.1837244 & 0.2085236 & 0.3057851 & 15.447619 & 0.08793699 & 0.323142\\\\\n",
       "\t28 & ENSG00000185275 & CD24P4   & 0.7997004 & 7.843440 & 7.724858 & 0.005543671 & 0.1837244 & 4.3835616 & 4.4545455 &  2.568812 & 0.24808875 & 0.323142\\\\\n",
       "\t31 & ENSG00000188656 & TSPY7P   & 0.5217511 & 6.274627 & 5.323584 & 0.021233371 & 0.1837244 & 0.3394216 & 0.2231405 &  8.504426 & 0.15073091 & 0.323142\\\\\n",
       "\t37 & ENSG00000214207 & KRT18P10 & 0.7687639 & 6.459536 & 5.773877 & 0.016439746 & 0.1837244 & 0.5951294 & 0.8044077 & 10.821923 & 0.10261498 & 0.323142\\\\\n",
       "\\end{tabular}\n"
      ],
      "text/markdown": [
       "\n",
       "A data.frame: 6 × 12\n",
       "\n",
       "| <!--/--> | gene_no_ver &lt;chr&gt; | gene_symbol &lt;chr&gt; | logFC &lt;dbl&gt; | logCPM &lt;dbl&gt; | F &lt;dbl&gt; | PValue &lt;dbl&gt; | FDR &lt;dbl&gt; | haplo_R_raw_means &lt;dbl&gt; | haplo_not_R_raw_means &lt;dbl&gt; | threshold_test_unshrunk.logFC &lt;dbl&gt; | threshold_test_PValue &lt;dbl&gt; | threshold_test_FDR &lt;dbl&gt; |\n",
       "|---|---|---|---|---|---|---|---|---|---|---|---|---|\n",
       "| 4 | ENSG00000092377 | TBL1Y    | 1.0290314 | 7.221287 | 4.493874 | 0.034250759 | 0.1837244 | 2.7503805 | 3.3250689 |  6.956289 | 0.16553658 | 0.323142 |\n",
       "| 13 | ENSG00000168757 | TSPY2    | 1.0545971 | 6.540259 | 5.437223 | 0.019900500 | 0.1837244 | 0.8188737 | 1.0165289 | 10.999722 | 0.09279561 | 0.323142 |\n",
       "| 16 | ENSG00000169811 | RBMY1HP  | 0.6884212 | 6.244234 | 7.639868 | 0.030357115 | 0.1837244 | 0.2085236 | 0.3057851 | 15.447619 | 0.08793699 | 0.323142 |\n",
       "| 28 | ENSG00000185275 | CD24P4   | 0.7997004 | 7.843440 | 7.724858 | 0.005543671 | 0.1837244 | 4.3835616 | 4.4545455 |  2.568812 | 0.24808875 | 0.323142 |\n",
       "| 31 | ENSG00000188656 | TSPY7P   | 0.5217511 | 6.274627 | 5.323584 | 0.021233371 | 0.1837244 | 0.3394216 | 0.2231405 |  8.504426 | 0.15073091 | 0.323142 |\n",
       "| 37 | ENSG00000214207 | KRT18P10 | 0.7687639 | 6.459536 | 5.773877 | 0.016439746 | 0.1837244 | 0.5951294 | 0.8044077 | 10.821923 | 0.10261498 | 0.323142 |\n",
       "\n"
      ],
      "text/plain": [
       "   gene_no_ver     gene_symbol logFC     logCPM   F        PValue     \n",
       "4  ENSG00000092377 TBL1Y       1.0290314 7.221287 4.493874 0.034250759\n",
       "13 ENSG00000168757 TSPY2       1.0545971 6.540259 5.437223 0.019900500\n",
       "16 ENSG00000169811 RBMY1HP     0.6884212 6.244234 7.639868 0.030357115\n",
       "28 ENSG00000185275 CD24P4      0.7997004 7.843440 7.724858 0.005543671\n",
       "31 ENSG00000188656 TSPY7P      0.5217511 6.274627 5.323584 0.021233371\n",
       "37 ENSG00000214207 KRT18P10    0.7687639 6.459536 5.773877 0.016439746\n",
       "   FDR       haplo_R_raw_means haplo_not_R_raw_means\n",
       "4  0.1837244 2.7503805         3.3250689            \n",
       "13 0.1837244 0.8188737         1.0165289            \n",
       "16 0.1837244 0.2085236         0.3057851            \n",
       "28 0.1837244 4.3835616         4.4545455            \n",
       "31 0.1837244 0.3394216         0.2231405            \n",
       "37 0.1837244 0.5951294         0.8044077            \n",
       "   threshold_test_unshrunk.logFC threshold_test_PValue threshold_test_FDR\n",
       "4   6.956289                     0.16553658            0.323142          \n",
       "13 10.999722                     0.09279561            0.323142          \n",
       "16 15.447619                     0.08793699            0.323142          \n",
       "28  2.568812                     0.24808875            0.323142          \n",
       "31  8.504426                     0.15073091            0.323142          \n",
       "37 10.821923                     0.10261498            0.323142          "
      ]
     },
     "metadata": {},
     "output_type": "display_data"
    }
   ],
   "source": [
    "head(new_data)"
   ]
  },
  {
   "cell_type": "code",
   "execution_count": null,
   "id": "d6d1816c-3d7b-4b96-9d26-b28ffa735b5d",
   "metadata": {},
   "outputs": [],
   "source": []
  },
  {
   "cell_type": "code",
   "execution_count": null,
   "id": "230963c8-288f-45c9-8efc-734c2f53b218",
   "metadata": {},
   "outputs": [],
   "source": []
  }
 ],
 "metadata": {
  "kernelspec": {
   "display_name": "R/4.0",
   "language": "R",
   "name": "ir40"
  },
  "language_info": {
   "codemirror_mode": "r",
   "file_extension": ".r",
   "mimetype": "text/x-r-source",
   "name": "R",
   "pygments_lexer": "r",
   "version": "4.0.5"
  }
 },
 "nbformat": 4,
 "nbformat_minor": 5
}
