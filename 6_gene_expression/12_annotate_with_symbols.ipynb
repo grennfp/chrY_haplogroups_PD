{
 "cells": [
  {
   "cell_type": "code",
   "execution_count": null,
   "id": "9634764a-f1a6-4fcd-97d1-a10b85249051",
   "metadata": {
    "tags": []
   },
   "outputs": [],
   "source": [
    "library(rtracklayer)\n",
    "library(dplyr)"
   ]
  },
  {
   "cell_type": "code",
   "execution_count": null,
   "id": "7c27d898-2215-41a3-95d9-a4a1200feba6",
   "metadata": {},
   "outputs": [],
   "source": [
    "library(data.table)\n",
    "library(stringr)"
   ]
  },
  {
   "cell_type": "code",
   "execution_count": null,
   "id": "6bdd88db-3ea8-4408-8be6-093fc8f24bc1",
   "metadata": {
    "tags": []
   },
   "outputs": [],
   "source": [
    "gtf <- rtracklayer::import(\"$PATH/gencode.v38.annotation.gtf\")\n",
    "gtf_df = as.data.frame(gtf)\n",
    "print(dim(gtf_df))\n",
    "print(head(gtf_df))"
   ]
  },
  {
   "cell_type": "code",
   "execution_count": null,
   "id": "80940a83-bcfd-412e-840f-235538b55896",
   "metadata": {
    "tags": []
   },
   "outputs": [],
   "source": [
    "gtf_df$gene_no_ver <- str_split_fixed(gtf_df$gene_id, \"\\\\.\", 2)[,1]\n",
    "print(head(gtf_df))"
   ]
  },
  {
   "cell_type": "code",
   "execution_count": null,
   "id": "0f44f29e-cb01-4b28-9f87-48e02c891b7c",
   "metadata": {},
   "outputs": [],
   "source": [
    "gtf_df <- gtf_df %>% select(\"gene_no_ver\",\"gene_name\")\n",
    "gtf_df<- gtf_df[!duplicated(gtf_df), ]"
   ]
  },
  {
   "cell_type": "code",
   "execution_count": null,
   "id": "d22c4560-8075-4da0-9b35-7b5e4180d35b",
   "metadata": {},
   "outputs": [],
   "source": [
    "head(gtf_df)"
   ]
  },
  {
   "cell_type": "code",
   "execution_count": null,
   "id": "5976008f-d764-4776-9bfa-7991562dfc04",
   "metadata": {},
   "outputs": [],
   "source": [
    "data <- as.data.frame(fread(\"$PATH/amppd_case_control_diff_exp_edgeR_results.csv\"))\n",
    "print(dim(data))\n",
    "print(head(data))"
   ]
  },
  {
   "cell_type": "code",
   "execution_count": null,
   "id": "5a412176-4dbb-41f5-a190-4815b328b18c",
   "metadata": {},
   "outputs": [],
   "source": []
  },
  {
   "cell_type": "code",
   "execution_count": null,
   "id": "c85481da-fa65-481f-8b42-0c8ccc1df52e",
   "metadata": {},
   "outputs": [],
   "source": [
    "data$gene_no_ver <- str_split_fixed(data$V1, \"\\\\.\", 2)[,1]\n",
    "print(head(data))"
   ]
  },
  {
   "cell_type": "code",
   "execution_count": null,
   "id": "dcaf853e-c05f-44ec-b5f1-a5d6da8ea8b0",
   "metadata": {},
   "outputs": [],
   "source": []
  },
  {
   "cell_type": "code",
   "execution_count": null,
   "id": "3c286317-2700-4eca-b1b2-a4bb01d33f59",
   "metadata": {},
   "outputs": [],
   "source": [
    "#try inner join to see if any missing\n",
    "print(dim(merge(x = data, y = gtf_df, by.x = 'gene_no_ver', by.y = 'gene_no_ver')))\n",
    "new_data <- merge(x = data, y = gtf_df, by.x = 'gene_no_ver', by.y = 'gene_no_ver',all.x=TRUE)\n",
    "print(dim(new_data))"
   ]
  },
  {
   "cell_type": "code",
   "execution_count": null,
   "id": "ba5073b8-69ee-4b87-9a7d-92a9ca321c19",
   "metadata": {},
   "outputs": [],
   "source": [
    "new_data[is.na(new_data$symbol),]"
   ]
  },
  {
   "cell_type": "code",
   "execution_count": null,
   "id": "859c8bea-10bf-4cdd-a761-e40182a27b6f",
   "metadata": {},
   "outputs": [],
   "source": [
    "#which ones are missing?\n",
    "(data[!(data$gene_no_ver %in% gtf_df$gene_no_ver),])"
   ]
  },
  {
   "cell_type": "code",
   "execution_count": null,
   "id": "8dab02a3-daee-4edb-a313-3b159d6bdf12",
   "metadata": {},
   "outputs": [],
   "source": [
    "dim(data[!(data$gene_no_ver %in% gtf_df$gene_no_ver),])"
   ]
  },
  {
   "cell_type": "code",
   "execution_count": null,
   "id": "72a61f0d-a96e-498c-9527-b164449a4885",
   "metadata": {},
   "outputs": [],
   "source": [
    "head(new_data)"
   ]
  },
  {
   "cell_type": "code",
   "execution_count": null,
   "id": "26793ff5-3640-4cbb-916c-b874901dc063",
   "metadata": {},
   "outputs": [],
   "source": [
    "new_data <- new_data[,c(1,13,3:12)]\n",
    "new_data <- new_data[order(new_data$FDR),]\n",
    "names(new_data)[names(new_data) == 'V1'] <- 'gene'\n",
    "names(new_data)[names(new_data) == 'gene_name'] <- 'gene_symbol'\n",
    "new_data$gene_symbol[is.na(new_data$gene_symbol)] <- \" \"\n",
    "write.csv(new_data,\"$PATH/amppd_case_control_diff_exp_edgeR_results_gene_symbol.csv\",row.names=FALSE)\n"
   ]
  },
  {
   "cell_type": "code",
   "execution_count": null,
   "id": "9fa28779-8c15-43d4-b2d3-4a8326483d14",
   "metadata": {},
   "outputs": [],
   "source": [
    "dim(new_data)"
   ]
  },
  {
   "cell_type": "code",
   "execution_count": null,
   "id": "a8bbf1ec-a984-4dae-83cb-7df801936966",
   "metadata": {},
   "outputs": [],
   "source": [
    "dim(data)"
   ]
  },
  {
   "cell_type": "code",
   "execution_count": null,
   "id": "f6a3b2fa-c203-4a9a-bd3c-7d4ccec706ac",
   "metadata": {},
   "outputs": [],
   "source": [
    "head(new_data)"
   ]
  },
  {
   "cell_type": "code",
   "execution_count": null,
   "id": "d6d1816c-3d7b-4b96-9d26-b28ffa735b5d",
   "metadata": {},
   "outputs": [],
   "source": []
  }
 ],
 "metadata": {
  "kernelspec": {
   "display_name": "R/4.0",
   "language": "R",
   "name": "ir40"
  },
  "language_info": {
   "codemirror_mode": "r",
   "file_extension": ".r",
   "mimetype": "text/x-r-source",
   "name": "R",
   "pygments_lexer": "r",
   "version": "4.0.5"
  }
 },
 "nbformat": 4,
 "nbformat_minor": 5
}
