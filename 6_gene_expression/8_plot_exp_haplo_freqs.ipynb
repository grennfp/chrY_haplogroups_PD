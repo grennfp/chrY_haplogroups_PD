{
 "cells": [
  {
   "cell_type": "markdown",
   "id": "8bdaf08a-0034-4bcb-9f48-f65a7d943aa4",
   "metadata": {},
   "source": [
    "# Plot Major Haplogroup Frequencies in Expression Samples\n",
    "- **Author(s)** - Frank Grenn\n",
    "- **Date Started** - September 2021\n",
    "- **Quick Description:** "
   ]
  },
  {
   "cell_type": "code",
   "execution_count": null,
   "id": "71cb8e56-ff1e-4a6d-b7b2-2dfaac2f578f",
   "metadata": {},
   "outputs": [],
   "source": [
    "import pandas as pd\n",
    "import matplotlib.pyplot as plt\n",
    "import seaborn as sns"
   ]
  },
  {
   "cell_type": "code",
   "execution_count": null,
   "id": "2cfb317f-9ffc-4cc6-abba-b5f40c64cb24",
   "metadata": {},
   "outputs": [],
   "source": [
    "WRKDIR = \"$PATH/chrY\""
   ]
  },
  {
   "cell_type": "markdown",
   "id": "6a1b6241-ba53-4b61-bda9-2d8934d0b9fd",
   "metadata": {},
   "source": [
    "## AMPPD"
   ]
  },
  {
   "cell_type": "code",
   "execution_count": null,
   "id": "953ed6c3-176a-4ce1-bc79-a98ff5a92d64",
   "metadata": {},
   "outputs": [],
   "source": [
    "amp = pd.read_csv(f\"{WRKDIR}/output_male_hemizygous_only_het_filter_run/chrY_meta.csv\")\n",
    "print(amp.shape)\n",
    "print(amp.head())"
   ]
  },
  {
   "cell_type": "code",
   "execution_count": null,
   "id": "19ff4f62-7478-4b5e-8bca-572860e8c823",
   "metadata": {},
   "outputs": [],
   "source": [
    "amp_exp_samples = pd.read_csv(f\"{WRKDIR}/expression/amppd_chrY_featureCounts.csv\",nrows=1).columns.tolist()\n",
    "amp_exp_samples.remove(\"Geneid\")\n",
    "print(len(amp_exp_samples))"
   ]
  },
  {
   "cell_type": "code",
   "execution_count": null,
   "id": "667b3a6c-3a20-406d-9c5f-eb41bc144b22",
   "metadata": {},
   "outputs": [],
   "source": [
    "amp_exp_samples_meta = amp[amp.fid.isin(amp_exp_samples)]\n",
    "print(amp_exp_samples_meta.shape)\n",
    "print(amp_exp_samples_meta.head())"
   ]
  },
  {
   "cell_type": "code",
   "execution_count": null,
   "id": "0c9c0099-6162-4636-867b-cf40781b4626",
   "metadata": {},
   "outputs": [],
   "source": []
  },
  {
   "cell_type": "markdown",
   "id": "eef021bb-088f-415b-b6da-85e9672fe3aa",
   "metadata": {},
   "source": [
    "## NABEC"
   ]
  },
  {
   "cell_type": "code",
   "execution_count": null,
   "id": "85e232c6-7ea1-4b16-bb3a-232d79c8bd07",
   "metadata": {},
   "outputs": [],
   "source": [
    "nabec = pd.read_csv(f\"{WRKDIR}/output_nabec/nabec_haplos.csv\")\n",
    "nabec['fid'] = nabec.new_id + \"fctx\"\n",
    "print(nabec.shape)\n",
    "print(nabec.head())"
   ]
  },
  {
   "cell_type": "code",
   "execution_count": null,
   "id": "06ddbad9-cec3-4227-a2ae-7c703dd18b6c",
   "metadata": {},
   "outputs": [],
   "source": [
    "nabec_exp_samples = pd.read_csv(f\"$PATH/quants_default_ref/quants_chrY_default_ref_matrix.csv\",nrows=1).columns.tolist()\n",
    "nabec_exp_samples.remove(\"Geneid\")\n",
    "print(len(nabec_exp_samples))"
   ]
  },
  {
   "cell_type": "code",
   "execution_count": null,
   "id": "c6f9f094-72ec-4aeb-a577-985aaf9b58e5",
   "metadata": {},
   "outputs": [],
   "source": [
    "nabec_exp_samples_meta = nabec[nabec.fid.isin(nabec_exp_samples)]\n",
    "print(nabec_exp_samples_meta.shape)\n",
    "print(nabec_exp_samples_meta.head())"
   ]
  },
  {
   "cell_type": "markdown",
   "id": "480c516b-91f3-429d-8e0e-3da4fcfebd18",
   "metadata": {},
   "source": [
    "## Get Counts"
   ]
  },
  {
   "cell_type": "code",
   "execution_count": null,
   "id": "feaded38-269d-4e6a-a7fe-c339caeeb228",
   "metadata": {},
   "outputs": [],
   "source": [
    "amp_counts = amp_exp_samples_meta.yhaplo_haplo_major.value_counts().to_frame()\n",
    "amp_counts['haplo_major'] = amp_counts.index\n",
    "amp_counts['dataset'] = 'AMP-PD'\n",
    "amp_counts.columns = ['haplo_count','haplo_major','dataset']\n",
    "print(amp_counts)"
   ]
  },
  {
   "cell_type": "code",
   "execution_count": null,
   "id": "4b2701eb-eaa3-4fba-80f1-3ff763098ef1",
   "metadata": {},
   "outputs": [],
   "source": [
    "nabec_counts = nabec_exp_samples_meta.yhaplo_haplo_major.value_counts().to_frame()\n",
    "nabec_counts['haplo_major'] = nabec_counts.index\n",
    "nabec_counts['dataset'] = 'NABEC'\n",
    "nabec_counts.columns = ['haplo_count','haplo_major','dataset']\n",
    "print(nabec_counts)"
   ]
  },
  {
   "cell_type": "code",
   "execution_count": null,
   "id": "1710bedb-191c-490e-acb5-a1c86d5eefe8",
   "metadata": {},
   "outputs": [],
   "source": [
    "exp_haplo = amp_counts.append(nabec_counts).sort_values(\"haplo_major\")\n",
    "print(exp_haplo)"
   ]
  },
  {
   "cell_type": "code",
   "execution_count": null,
   "id": "73a2300f-7296-4ee1-9b9c-d9ab203455fd",
   "metadata": {},
   "outputs": [],
   "source": [
    "exp_haplo.to_csv(f\"{WRKDIR}/expression/expression_samples_haplo_major_counts.csv\",index=None)"
   ]
  },
  {
   "cell_type": "markdown",
   "id": "bc56dd1c-bd57-45e2-841e-af49976feb3a",
   "metadata": {},
   "source": [
    "## Plot"
   ]
  },
  {
   "cell_type": "code",
   "execution_count": null,
   "id": "768b2f35-6142-4347-b1ca-edbc9efe0113",
   "metadata": {},
   "outputs": [],
   "source": [
    "fig = plt.figure(figsize=(6, 4), dpi=80)\n",
    "fig.subplots_adjust(hspace=0.5, wspace=0.2)\n",
    "sns.set()\n",
    "sns_plot = sns.barplot(x=\"haplo_major\", y=\"haplo_count\", hue=\"dataset\", data=exp_haplo)\n",
    "\n",
    "plt.xlabel(\"Major Haplogroup\")\n",
    "plt.ylabel(\"Sample Count\")\n",
    "plt.title(\"Expression Sample Major Haplogroups\")\n",
    "plt.show()\n",
    "sns_plot.get_figure().savefig(f\"{WRKDIR}/expression/expression_samples_haplo_major_counts.png\")#,bbox_inches='tight')  "
   ]
  },
  {
   "cell_type": "code",
   "execution_count": null,
   "id": "e9a08061-13b6-43b6-b1d1-82641d851499",
   "metadata": {},
   "outputs": [],
   "source": []
  }
 ],
 "metadata": {
  "kernelspec": {
   "display_name": "python/3.6",
   "language": "python",
   "name": "py3.6"
  },
  "language_info": {
   "codemirror_mode": {
    "name": "ipython",
    "version": 3
   },
   "file_extension": ".py",
   "mimetype": "text/x-python",
   "name": "python",
   "nbconvert_exporter": "python",
   "pygments_lexer": "ipython3",
   "version": "3.6.10"
  }
 },
 "nbformat": 4,
 "nbformat_minor": 5
}
