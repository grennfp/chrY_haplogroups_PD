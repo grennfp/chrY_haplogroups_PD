{
 "cells": [
  {
   "cell_type": "markdown",
   "metadata": {},
   "source": [
    "# AMP-PD ChrY HG38 to HG19\n",
    "- **Author(s)** - Frank Grenn\n",
    "- **Date Started** - February  2021\n",
    "- **Quick Description:** liftover amppd chry plink binaries from hg38 to hg19 for use in the chrY haplogroup caller tools"
   ]
  },
  {
   "cell_type": "markdown",
   "metadata": {},
   "source": [
    "#### 1) Try with UCSC liftover tool\n",
    "#### 2) Try with crossmap tool\n",
    "#### 3) Look at results"
   ]
  },
  {
   "cell_type": "code",
   "execution_count": null,
   "metadata": {},
   "outputs": [],
   "source": [
    "import pandas as pd"
   ]
  },
  {
   "cell_type": "code",
   "execution_count": null,
   "metadata": {},
   "outputs": [],
   "source": [
    "\n",
    "WRKDIR = \"$PATH/chrY\"\n",
    "BFILEDIR = f\"{WRKDIR}/y_male_only_bfiles\""
   ]
  },
  {
   "cell_type": "markdown",
   "metadata": {},
   "source": [
    "# 1) UCSC Liftover Tool"
   ]
  },
  {
   "cell_type": "markdown",
   "metadata": {},
   "source": [
    "## Make BED file for UCSC Liftover Tool"
   ]
  },
  {
   "cell_type": "code",
   "execution_count": null,
   "metadata": {},
   "outputs": [],
   "source": [
    "#hg38 = pd.read_csv(f\"{BFILEDIR}/chrY.bim\",sep=\"\\t\",header=None)\n",
    "hg38 = pd.read_csv(f\"{BFILEDIR}/chrY_male_hemizygous_only_het_filter.bim\",sep=\"\\t\",header=None)\n",
    "hg38.columns = ['chr','snp','idk','pos','alt','ref']\n",
    "print(hg38.shape)\n",
    "print(hg38.head())"
   ]
  },
  {
   "cell_type": "code",
   "execution_count": null,
   "metadata": {},
   "outputs": [],
   "source": [
    "set(hg38['chr'].to_list())"
   ]
  },
  {
   "cell_type": "code",
   "execution_count": null,
   "metadata": {},
   "outputs": [],
   "source": [
    "hg38_bed = pd.DataFrame(data = {'start':hg38['pos'], 'snp':hg38['snp']})\n",
    "hg38_bed['chr']  = 'chrY'\n",
    "hg38_bed['end'] = hg38_bed['start']+1\n",
    "hg38_bed = hg38_bed[['chr','start','end','snp']]\n",
    "print(hg38_bed.shape)\n",
    "print(hg38_bed.head())"
   ]
  },
  {
   "cell_type": "code",
   "execution_count": null,
   "metadata": {},
   "outputs": [],
   "source": [
    "hg38_bed.to_csv(f\"{BFILEDIR}/chrY_positions.bed\",header=None,sep=\"\\t\",index=None)"
   ]
  },
  {
   "cell_type": "markdown",
   "metadata": {},
   "source": [
    "## Liftover the HG38 Coordinates to HG19\n",
    "\n",
    "here: https://genome.ucsc.edu/cgi-bin/hgLiftOver\n",
    "\n",
    "get the list of variants that succeeded and failed in the liftover"
   ]
  },
  {
   "cell_type": "code",
   "execution_count": null,
   "metadata": {},
   "outputs": [],
   "source": [
    "lift_pass = pd.read_csv(f\"{BFILEDIR}/liftover_success.bed\",sep='\\t',header=None)\n",
    "lift_pass.columns = ['chr','start','end','snp']\n",
    "print(lift_pass.shape)\n",
    "print(lift_pass.head())"
   ]
  },
  {
   "cell_type": "markdown",
   "metadata": {},
   "source": [
    "remove 'Deleted' lines from the failed liftover file  \n",
    "`grep -v Deleted liftover_fail.txt > liftover_fail.bed`"
   ]
  },
  {
   "cell_type": "code",
   "execution_count": null,
   "metadata": {},
   "outputs": [],
   "source": [
    "\n",
    "lift_fail = pd.read_csv(f\"{BFILEDIR}/liftover_fail.bed\",sep='\\t',header=None)\n",
    "lift_fail.columns = ['chr','start','end','snp']\n",
    "print(lift_fail.shape)\n",
    "print(lift_fail.head())"
   ]
  },
  {
   "cell_type": "markdown",
   "metadata": {},
   "source": [
    "## Identify Failed Variants"
   ]
  },
  {
   "cell_type": "code",
   "execution_count": null,
   "metadata": {},
   "outputs": [],
   "source": [
    "lift_fail[['snp']].to_csv(f\"{BFILEDIR}/variants_to_exclude.txt\",header=None,index=None)"
   ]
  },
  {
   "cell_type": "markdown",
   "metadata": {},
   "source": [
    "## Remove the Failed Variants From Plink Binary Files"
   ]
  },
  {
   "cell_type": "markdown",
   "metadata": {},
   "source": [
    "```plink --bfile chrY_male_hemizygous_only_het_filter --exclude variants_to_exclude.txt --make-bed --out chrY_male_hemizygous_only_het_filter_hg19```"
   ]
  },
  {
   "cell_type": "code",
   "execution_count": null,
   "metadata": {},
   "outputs": [],
   "source": [
    "#check bim line counts. difference should be the number of lines in lift_fail df above\n",
    "\n",
    "\n",
    "!wc -l {BFILEDIR}/chrY_male_hemizygous_only_het_filter.bim\n",
    "!wc -l {BFILEDIR}/chrY_male_hemizygous_only_het_filter_hg19.bim"
   ]
  },
  {
   "cell_type": "markdown",
   "metadata": {},
   "source": [
    "## Now Convert the HG38 Positions to HG19 in the Files"
   ]
  },
  {
   "cell_type": "code",
   "execution_count": null,
   "metadata": {},
   "outputs": [],
   "source": [
    "temp_hg19 = pd.read_csv(f\"{BFILEDIR}/chrY_male_hemizygous_only_het_filter_hg19.bim\",sep=\"\\t\",header=None)\n",
    "temp_hg19.columns = ['chr','snp','pos','bp','alt','ref']\n",
    "print(temp_hg19.shape)\n",
    "print(temp_hg19.head())"
   ]
  },
  {
   "cell_type": "code",
   "execution_count": null,
   "metadata": {},
   "outputs": [],
   "source": [
    "temp_hg19.drop_duplicates().shape"
   ]
  },
  {
   "cell_type": "code",
   "execution_count": null,
   "metadata": {},
   "outputs": [],
   "source": [
    "lift_pass.drop_duplicates().shape"
   ]
  },
  {
   "cell_type": "code",
   "execution_count": null,
   "metadata": {},
   "outputs": [],
   "source": [
    "lift_pass.shape"
   ]
  },
  {
   "cell_type": "code",
   "execution_count": null,
   "metadata": {},
   "outputs": [],
   "source": [
    "merged_pass = pd.merge(left = temp_hg19, right = lift_pass, on = 'snp').drop_duplicates()\n",
    "print(merged_pass.shape)\n",
    "print(merged_pass.head())"
   ]
  },
  {
   "cell_type": "code",
   "execution_count": null,
   "metadata": {},
   "outputs": [],
   "source": [
    "new_hg19_bim = merged_pass[['chr_y','snp','pos','start','alt','ref']]\n",
    "new_hg19_bim.to_csv(f\"{BFILEDIR}/chrY_male_hemizygous_only_het_filter_hg19.bim\",sep=\"\\t\",header = None, index=None)"
   ]
  },
  {
   "cell_type": "markdown",
   "metadata": {},
   "source": [
    "## Check For Other Chromosomes And Filter"
   ]
  },
  {
   "cell_type": "code",
   "execution_count": null,
   "metadata": {},
   "outputs": [],
   "source": [
    "#do we have any non-chrY chromosomes?\n",
    "set(merged_pass['chr_y'].to_list())"
   ]
  },
  {
   "cell_type": "markdown",
   "metadata": {},
   "source": [
    "`plink --allow-extra-chr --bfile chrY_male_hemizygous_only_het_filter_hg19 --chr chrY --make-bed --out chrY_male_hemizygous_only_het_filter_hg19_final`"
   ]
  },
  {
   "cell_type": "code",
   "execution_count": null,
   "metadata": {},
   "outputs": [],
   "source": [
    "#and change 24 back to chrY\n",
    "final = pd.read_csv(f\"{BFILEDIR}/chrY_male_hemizygous_only_het_filter_hg19_final.bim\",sep=\"\\t\",header=None)\n",
    "final.columns = ['chr','snp','pos','bp','alt','ref']\n",
    "print(set(final['chr'].to_list()))\n",
    "print(final.head())\n",
    "final.chr = 'chrY'\n",
    "print(final.head())\n",
    "\n"
   ]
  },
  {
   "cell_type": "code",
   "execution_count": null,
   "metadata": {},
   "outputs": [],
   "source": [
    "final.to_csv(f\"{BFILEDIR}/chrY_male_hemizygous_only_het_filter_hg19_final.bim\",sep=\"\\t\",header=None, index=None)"
   ]
  },
  {
   "cell_type": "markdown",
   "metadata": {},
   "source": [
    "# 2) Crossmap Tool"
   ]
  },
  {
   "cell_type": "markdown",
   "metadata": {},
   "source": [
    "get chain file from: http://hgdownload.soe.ucsc.edu/goldenPath/hg38/liftOver/ or ftp://ftp.ensembl.org/pub/assembly_mapping/homo_sapiens/"
   ]
  },
  {
   "cell_type": "markdown",
   "metadata": {},
   "source": [
    "use bed file made in # 1 above  \n",
    "`module load crossmap   \n",
    "crossmap bed ../hg38ToHg19.over.chain.gz chrY_positions.bed > chrY_crossmap_hg19.bed  \n",
    "grep -v Unmap chrY_crossmap_hg19.bed > chrY_crossmap_hg19_pass.bed `"
   ]
  },
  {
   "cell_type": "code",
   "execution_count": null,
   "metadata": {},
   "outputs": [],
   "source": [
    "crossmap = pd.read_table(\"$PATH/chrY_crossmap_hg19_pass.bed\",sep=\"\\t\",header=None)\n",
    "crossmap.columns = ['hg38_chr','hg38_start','hg38_end','hg38_snp','arrow','hg19_chr','hg19_start','hg19_end','hg19_snp']\n",
    "print(crossmap.shape)\n",
    "print(crossmap.head())"
   ]
  },
  {
   "cell_type": "code",
   "execution_count": null,
   "metadata": {},
   "outputs": [],
   "source": [
    "set(crossmap['hg19_chr'].tolist())"
   ]
  },
  {
   "cell_type": "code",
   "execution_count": null,
   "metadata": {},
   "outputs": [],
   "source": []
  },
  {
   "cell_type": "markdown",
   "metadata": {},
   "source": [
    "try with Ensembl chain file\n",
    "`module load crossmap   \n",
    "crossmap bed ../GRCh38_to_GRCh37.chain.gz chrY_positions.bed > chrY_crossmap_ensembl_hg19.bed  \n",
    "grep -v Unmap chrY_crossmap_ensembl_hg19.bed > chrY_crossmap_ensembl_hg19_pass.bed`"
   ]
  },
  {
   "cell_type": "code",
   "execution_count": null,
   "metadata": {},
   "outputs": [],
   "source": [
    "crossmap_ensembl = pd.read_table(\"$PATH/chrY_crossmap_ensembl_hg19_pass.bed\",sep=\"\\t\",header=None)\n",
    "crossmap_ensembl.columns = ['hg38_chr','hg38_start','hg38_end','hg38_snp','arrow','hg19_chr','hg19_start','hg19_end','hg19_snp']\n",
    "print(crossmap_ensembl.shape)\n",
    "print(crossmap_ensembl.head())"
   ]
  },
  {
   "cell_type": "code",
   "execution_count": null,
   "metadata": {},
   "outputs": [],
   "source": [
    "set(crossmap_ensembl['hg19_chr'].tolist())"
   ]
  },
  {
   "cell_type": "markdown",
   "metadata": {},
   "source": [
    "check how much the liftover results using the two different chain files overlap"
   ]
  },
  {
   "cell_type": "code",
   "execution_count": null,
   "metadata": {},
   "outputs": [],
   "source": [
    "merge_liftover = pd.merge(left = crossmap, right = crossmap_ensembl, on = 'hg38_snp')\n",
    "print(merge_liftover.shape)\n",
    "print(merge_liftover.drop_duplicates().shape)"
   ]
  },
  {
   "cell_type": "code",
   "execution_count": null,
   "metadata": {},
   "outputs": [],
   "source": [
    "merge_liftover_results = pd.merge(left = crossmap.drop_duplicates(), right = crossmap_ensembl.drop_duplicates(), on = ['hg19_chr','hg19_start','hg19_end','hg19_snp'], how = 'right')\n",
    "print(merge_liftover_results.shape)"
   ]
  },
  {
   "cell_type": "markdown",
   "metadata": {},
   "source": [
    "# 3) Look at Liftover Results"
   ]
  },
  {
   "cell_type": "markdown",
   "metadata": {},
   "source": [
    "### Compare UCSC and Crossmap Results\n"
   ]
  },
  {
   "cell_type": "code",
   "execution_count": null,
   "metadata": {},
   "outputs": [],
   "source": [
    "print(temp_hg19.drop_duplicates().shape)\n",
    "print(crossmap.drop_duplicates().shape)\n",
    "test = pd.merge(left = temp_hg19, right = crossmap, left_on = 'snp', right_on = 'hg19_snp')\n",
    "print(test.drop_duplicates().shape)"
   ]
  },
  {
   "cell_type": "code",
   "execution_count": null,
   "metadata": {},
   "outputs": [],
   "source": [
    "test.head()"
   ]
  },
  {
   "cell_type": "code",
   "execution_count": null,
   "metadata": {},
   "outputs": [],
   "source": [
    "test2 = pd.merge(left = temp_hg19, right = crossmap, left_on = ['snp','chr','pos'], right_on = ['hg19_snp','hg19_chr','hg19_start'], how = \"inner\")\n",
    "print(test2.shape)\n",
    "print(test2.drop_duplicates().shape)"
   ]
  },
  {
   "cell_type": "code",
   "execution_count": null,
   "metadata": {},
   "outputs": [],
   "source": [
    "temp_hg19[temp_hg19['chr']!='chrY'].shape"
   ]
  },
  {
   "cell_type": "code",
   "execution_count": null,
   "metadata": {},
   "outputs": [],
   "source": [
    "crossmap[crossmap['hg19_chr']!='chrY'].shape"
   ]
  },
  {
   "cell_type": "markdown",
   "metadata": {},
   "source": [
    "### Plot Variants"
   ]
  },
  {
   "cell_type": "code",
   "execution_count": null,
   "metadata": {},
   "outputs": [],
   "source": [
    "temp_hg19 = pd.read_csv(f\"{BFILEDIR}/chrY_male_hemizygous_only_het_filter_hg19.bim\",sep=\"\\t\",header=None)\n",
    "temp_hg19.columns = ['chr','snp','pos','bp','alt','ref']\n",
    "print(temp_hg19.shape)\n",
    "print(temp_hg19.head())\n",
    "print(set(temp_hg19['chr'].tolist()))\n",
    "bad_chr = temp_hg19[temp_hg19['chr']!='chrY']\n",
    "print(bad_chr.shape)\n",
    "bad_chr_vars = bad_chr['snp'].tolist()"
   ]
  },
  {
   "cell_type": "code",
   "execution_count": null,
   "metadata": {},
   "outputs": [],
   "source": [
    "final = pd.read_csv(f\"{BFILEDIR}/chrY_male_hemizygous_only_het_filter_hg19_final.bim\",sep=\"\\t\",header=None)\n",
    "final.columns = ['chr','snp','pos','bp','alt','ref']\n",
    "print(final.shape)\n",
    "print(final.head())\n",
    "pass_vars = final['snp'].tolist()"
   ]
  },
  {
   "cell_type": "code",
   "execution_count": null,
   "metadata": {},
   "outputs": [],
   "source": []
  },
  {
   "cell_type": "code",
   "execution_count": null,
   "metadata": {},
   "outputs": [],
   "source": []
  },
  {
   "cell_type": "code",
   "execution_count": null,
   "metadata": {},
   "outputs": [],
   "source": [
    "allchrY = pd.read_csv(f\"{BFILEDIR}/chrY_male_hemizygous_only_het_filter.bim\",sep=\"\\t\",header=None)\n",
    "allchrY.columns = ['chr','snp','pos','bp','alt','ref']\n",
    "print(allchrY.shape)\n",
    "#0=pass, 1=failed, 2=converted to non Y chr\n",
    "allchrY['lift_code']='liftover success'\n",
    "\n"
   ]
  },
  {
   "cell_type": "code",
   "execution_count": null,
   "metadata": {},
   "outputs": [],
   "source": [
    "fail_vars = allchrY.loc[~allchrY['snp'].isin(pass_vars) & ~allchrY['snp'].isin(bad_chr_vars),]\n",
    "fail_vars = fail_vars['snp'].to_list()\n",
    "print(len(fail_vars))"
   ]
  },
  {
   "cell_type": "code",
   "execution_count": null,
   "metadata": {},
   "outputs": [],
   "source": []
  },
  {
   "cell_type": "code",
   "execution_count": null,
   "metadata": {},
   "outputs": [],
   "source": [
    "allchrY.loc[allchrY['snp'].isin(fail_vars),'lift_code'] = 'liftover failed'"
   ]
  },
  {
   "cell_type": "code",
   "execution_count": null,
   "metadata": {},
   "outputs": [],
   "source": [
    "allchrY.loc[allchrY['snp'].isin(bad_chr_vars),'lift_code'] = 'liftover to non-chrY'"
   ]
  },
  {
   "cell_type": "code",
   "execution_count": null,
   "metadata": {},
   "outputs": [],
   "source": [
    "allchrY.plot.scatter(x = 'bp',y = 'lift_code')"
   ]
  },
  {
   "cell_type": "markdown",
   "metadata": {},
   "source": [
    "### MAF of failed liftover variants"
   ]
  },
  {
   "cell_type": "markdown",
   "metadata": {},
   "source": [
    "`plink --bfile chrY_male_hemizygous_only_het_filter --freq --out chrY_male_hemizygous_only_het_filter`"
   ]
  },
  {
   "cell_type": "code",
   "execution_count": null,
   "metadata": {},
   "outputs": [],
   "source": [
    "mafs = pd.read_table(f\"{BFILEDIR}/chrY_male_hemizygous_only_het_filter.frq\",sep=\"\\s+\")\n",
    "print(mafs.shape)\n",
    "print(mafs.head())"
   ]
  },
  {
   "cell_type": "code",
   "execution_count": null,
   "metadata": {},
   "outputs": [],
   "source": [
    "mafs.describe()"
   ]
  },
  {
   "cell_type": "code",
   "execution_count": null,
   "metadata": {},
   "outputs": [],
   "source": [
    "pass_mafs = mafs[mafs.SNP.isin(pass_vars)]"
   ]
  },
  {
   "cell_type": "code",
   "execution_count": null,
   "metadata": {},
   "outputs": [],
   "source": [
    "pass_mafs.shape"
   ]
  },
  {
   "cell_type": "code",
   "execution_count": null,
   "metadata": {},
   "outputs": [],
   "source": [
    "pass_mafs.describe()"
   ]
  },
  {
   "cell_type": "code",
   "execution_count": null,
   "metadata": {},
   "outputs": [],
   "source": [
    "fail_mafs = mafs[mafs.SNP.isin(fail_vars)]"
   ]
  },
  {
   "cell_type": "code",
   "execution_count": null,
   "metadata": {},
   "outputs": [],
   "source": [
    "fail_mafs.shape"
   ]
  },
  {
   "cell_type": "code",
   "execution_count": null,
   "metadata": {},
   "outputs": [],
   "source": [
    "fail_mafs.describe()"
   ]
  },
  {
   "cell_type": "code",
   "execution_count": null,
   "metadata": {},
   "outputs": [],
   "source": [
    "fail_mafs.head()"
   ]
  },
  {
   "cell_type": "code",
   "execution_count": null,
   "metadata": {},
   "outputs": [],
   "source": [
    "mafs.head()"
   ]
  },
  {
   "cell_type": "code",
   "execution_count": null,
   "metadata": {},
   "outputs": [],
   "source": [
    "mafs[mafs['MAF'].isnull()].shape"
   ]
  },
  {
   "cell_type": "code",
   "execution_count": null,
   "metadata": {},
   "outputs": [],
   "source": [
    "mafs[mafs['MAF'].isnull()]"
   ]
  },
  {
   "cell_type": "code",
   "execution_count": null,
   "metadata": {},
   "outputs": [],
   "source": []
  }
 ],
 "metadata": {
  "kernelspec": {
   "display_name": "Python 3",
   "language": "python",
   "name": "python3"
  },
  "language_info": {
   "codemirror_mode": {
    "name": "ipython",
    "version": 3
   },
   "file_extension": ".py",
   "mimetype": "text/x-python",
   "name": "python",
   "nbconvert_exporter": "python",
   "pygments_lexer": "ipython3",
   "version": "3.6.7"
  }
 },
 "nbformat": 4,
 "nbformat_minor": 4
}
