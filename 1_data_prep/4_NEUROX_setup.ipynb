{
 "cells": [
  {
   "cell_type": "markdown",
   "id": "played-fever",
   "metadata": {},
   "source": [
    "# Setup NEUROX Y Chromosome Files for Y Haplogroup Tools\n",
    "- **Author(s)** - Frank Grenn\n",
    "- **Quick Description:** remove females from chrY data and calculate autosomal pcs for case-control NeuroX dataset"
   ]
  },
  {
   "cell_type": "code",
   "execution_count": null,
   "id": "grand-diesel",
   "metadata": {},
   "outputs": [],
   "source": [
    "import pandas as pd"
   ]
  },
  {
   "cell_type": "code",
   "execution_count": null,
   "id": "secure-buffer",
   "metadata": {},
   "outputs": [],
   "source": [
    "WRKDIR = \"/PATH/chrY\"\n",
    "BFILEDIR = f\"{WRKDIR}/y_neurox\"\n",
    "OUTDIR = f\"{WRKDIR}/y_neurox\""
   ]
  },
  {
   "cell_type": "markdown",
   "id": "32abaacb-5aa9-4bc0-94b7-57520c971594",
   "metadata": {},
   "source": [
    "### get samples to use from covariate file"
   ]
  },
  {
   "cell_type": "code",
   "execution_count": null,
   "id": "1479178a-b9ea-4d9d-8b0e-84909e8700ff",
   "metadata": {},
   "outputs": [],
   "source": [
    "covs = pd.read_table(\"/PATH/IPDGC_all_samples_covariates.txt\")\n",
    "print(covs.shape)\n",
    "print(covs.head())"
   ]
  },
  {
   "cell_type": "code",
   "execution_count": null,
   "id": "d89a257d-4f42-4c89-bb8f-21229654dbd9",
   "metadata": {},
   "outputs": [],
   "source": [
    "covs.columns"
   ]
  },
  {
   "cell_type": "code",
   "execution_count": null,
   "id": "556bddac-8810-4c92-94c1-6acfdd1ed557",
   "metadata": {},
   "outputs": [],
   "source": [
    "set(covs['PHENO_PLINK'])"
   ]
  },
  {
   "cell_type": "code",
   "execution_count": null,
   "id": "226b3a0d-0bff-465c-93d4-5c13ccec7f4c",
   "metadata": {},
   "outputs": [],
   "source": [
    "set(covs['PHENO'])"
   ]
  },
  {
   "cell_type": "code",
   "execution_count": null,
   "id": "59c7c89f-29a5-4276-96da-c5dedf834bbb",
   "metadata": {},
   "outputs": [],
   "source": [
    "neurox_fam = pd.read_table(\"/PATH/RawData_BinaryFormat.fam\")\n",
    "neurox_fam.columns = ['fid','iid','pid','mid','sex','pheno']\n",
    "print(neurox_fam.shape)\n",
    "print(neurox_fam.head())\n",
    "print(neurox_fam['pheno'].value_counts())"
   ]
  },
  {
   "cell_type": "code",
   "execution_count": null,
   "id": "cbc9802a-90d9-4233-aa9f-56684d8d8682",
   "metadata": {},
   "outputs": [],
   "source": []
  },
  {
   "cell_type": "code",
   "execution_count": null,
   "id": "10a55338-b5ce-4dba-8ddd-26169272b24b",
   "metadata": {},
   "outputs": [],
   "source": []
  },
  {
   "cell_type": "code",
   "execution_count": null,
   "id": "7ba891ad-150c-4d6f-b10f-39108457374a",
   "metadata": {},
   "outputs": [],
   "source": [
    "covs_neurox = covs[covs['DATASET']=='NEUROX_DBGAP']\n",
    "print(covs_neurox.shape)"
   ]
  },
  {
   "cell_type": "code",
   "execution_count": null,
   "id": "5898db0b-d3a9-4aec-a69d-9aca43a8a0cd",
   "metadata": {},
   "outputs": [],
   "source": [
    "print(covs_neurox.head())"
   ]
  },
  {
   "cell_type": "code",
   "execution_count": null,
   "id": "d4e8596f-8574-49d6-9f00-873309c52d64",
   "metadata": {},
   "outputs": [],
   "source": [
    "covs_neurox[['FID']].to_csv(f\"{OUTDIR}/samples_to_use.txt\", index=None, header=None)"
   ]
  },
  {
   "cell_type": "code",
   "execution_count": null,
   "id": "0f0b3623-9d26-4600-945a-e9ecfb0abb4b",
   "metadata": {},
   "outputs": [],
   "source": [
    "#use plink to subset binaries for only the samples we want\n",
    "print(f\"module load plink\")\n",
    "print(f\"plink --bfile /PATH/RawData_BinaryFormat --keep-fam {OUTDIR}/samples_to_use.txt --make-bed --out {OUTDIR}/neurox\")"
   ]
  },
  {
   "cell_type": "markdown",
   "id": "embedded-collar",
   "metadata": {},
   "source": [
    "### Remove females and non chr Y variants"
   ]
  },
  {
   "cell_type": "code",
   "execution_count": null,
   "id": "respected-confusion",
   "metadata": {},
   "outputs": [],
   "source": [
    "!(module load plink; plink --bfile {OUTDIR}/neurox --filter-males --chr 24 --make-bed --out {OUTDIR}/neurox_chrY_male_only)"
   ]
  },
  {
   "cell_type": "markdown",
   "id": "directed-piece",
   "metadata": {},
   "source": [
    "### Check Phenotypes"
   ]
  },
  {
   "cell_type": "code",
   "execution_count": null,
   "id": "smaller-latino",
   "metadata": {},
   "outputs": [],
   "source": [
    "fam = pd.read_table(f\"{OUTDIR}/neurox_chrY_male_only.fam\",sep=\"\\s+\",header=None)\n",
    "fam.columns = ['fid','iid','pid','mid','sex','pheno']\n",
    "print(fam.shape)\n",
    "print(fam.head())"
   ]
  },
  {
   "cell_type": "code",
   "execution_count": null,
   "id": "503da4c3-8a63-420d-a4d7-39e5acf19b41",
   "metadata": {},
   "outputs": [],
   "source": []
  },
  {
   "cell_type": "code",
   "execution_count": null,
   "id": "175a91a5-aa7c-4cc3-a8e2-d94e1ffd5531",
   "metadata": {},
   "outputs": [],
   "source": [
    "print(set(fam['sex']))\n",
    "print(set(fam['pheno']))"
   ]
  },
  {
   "cell_type": "code",
   "execution_count": null,
   "id": "e7d30419-3607-4ab2-b0d0-7fde1f6c4b15",
   "metadata": {},
   "outputs": [],
   "source": []
  },
  {
   "cell_type": "code",
   "execution_count": null,
   "id": "7732414e-a97b-4806-9aec-4e35401bc0e9",
   "metadata": {},
   "outputs": [],
   "source": [
    "merged = pd.merge(left = fam, right = covs, left_on = 'fid', right_on = 'FID', how = 'left')\n",
    "print(merged.shape)\n",
    "print(merged[merged['pheno']==merged['PHENO_PLINK']].shape)"
   ]
  },
  {
   "cell_type": "code",
   "execution_count": null,
   "id": "76f516fd-a3cc-4ca2-9906-86a5696a50e1",
   "metadata": {},
   "outputs": [],
   "source": [
    "merged['pheno'].value_counts()"
   ]
  },
  {
   "cell_type": "markdown",
   "id": "separate-welding",
   "metadata": {},
   "source": [
    "### Convert to VCF"
   ]
  },
  {
   "cell_type": "code",
   "execution_count": null,
   "id": "administrative-contest",
   "metadata": {},
   "outputs": [],
   "source": [
    "!(module load plink;plink --bfile {OUTDIR}/neurox_chrY_male_only --recode vcf --out {OUTDIR}/neurox_chrY_male_only)"
   ]
  },
  {
   "cell_type": "markdown",
   "id": "3b879cf8-d59c-456a-9a94-4fc9312f98f4",
   "metadata": {},
   "source": [
    "### Calculate Autosomal PCs"
   ]
  },
  {
   "cell_type": "code",
   "execution_count": null,
   "id": "86355d7e-def6-4ebf-929b-cfde5111b0e9",
   "metadata": {},
   "outputs": [],
   "source": [
    "#get the males from the binary file\n",
    "print(f\"cut -f 1,2 {OUTDIR}/neurox_chrY_male_only.fam > male_samples.txt\")"
   ]
  },
  {
   "cell_type": "code",
   "execution_count": null,
   "id": "d99a3507-e502-4f08-9a6d-3827151c69c7",
   "metadata": {},
   "outputs": [],
   "source": [
    "#prune\n",
    "print(f\"plink --bfile /PATH/RawData_BinaryFormat --keep-fam {OUTDIR}/male_samples.txt --indep-pairwise 1000 10 0.02 --out {OUTDIR}/neurox_case_control_allchr_pruning\")\n",
    "print(f\"plink --bfile /PATH/RawData_BinaryFormat --keep-fam {OUTDIR}/male_samples.txt --extract {OUTDIR}/neurox_case_control_allchr_pruning.prune.in --make-bed --out {OUTDIR}/neurox_case_control_allchr_pruned\")"
   ]
  },
  {
   "cell_type": "code",
   "execution_count": null,
   "id": "c2b10204-99cf-428e-b35a-b1ddf32421af",
   "metadata": {},
   "outputs": [],
   "source": [
    "#use plink to subset binaries for only the samples we want\n",
    "print(f\"module load plink\")\n",
    "print(f\"plink --bfile {OUTDIR}/neurox_case_control_allchr_pruned --keep-fam {OUTDIR}/male_samples.txt --must-have-sex --not-chr 23,24,25,26 --pca --make-bed --out {OUTDIR}/neurox_case_control_allchr_pruned_pcs\")"
   ]
  },
  {
   "cell_type": "code",
   "execution_count": null,
   "id": "5c8043d8-9ac8-4bff-bf2c-3fd718a0ca4c",
   "metadata": {},
   "outputs": [],
   "source": []
  }
 ],
 "metadata": {
  "kernelspec": {
   "display_name": "python/3.6",
   "language": "python",
   "name": "py3.6"
  },
  "language_info": {
   "codemirror_mode": {
    "name": "ipython",
    "version": 3
   },
   "file_extension": ".py",
   "mimetype": "text/x-python",
   "name": "python",
   "nbconvert_exporter": "python",
   "pygments_lexer": "ipython3",
   "version": "3.6.10"
  }
 },
 "nbformat": 4,
 "nbformat_minor": 5
}
