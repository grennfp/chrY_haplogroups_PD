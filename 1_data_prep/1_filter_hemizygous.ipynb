{
 "cells": [
  {
   "cell_type": "markdown",
   "metadata": {},
   "source": [
    "# Filter for Hemizygous Variants Only\n",
    "- **Author(s)** - Frank Grenn\n",
    "- **Date Started** - March  2021\n",
    "- **Quick Description:**  filter chrY AMP-PD data to only include males, hemizygous variant, and variants with low heterozygosity"
   ]
  },
  {
   "cell_type": "code",
   "execution_count": null,
   "metadata": {},
   "outputs": [],
   "source": [
    "import pandas as pd"
   ]
  },
  {
   "cell_type": "code",
   "execution_count": null,
   "metadata": {},
   "outputs": [],
   "source": [
    "WRKDIR = \"$PATH/chrY/y_male_only_bfiles\""
   ]
  },
  {
   "cell_type": "code",
   "execution_count": null,
   "metadata": {},
   "outputs": [],
   "source": [
    "#get the plink files\n",
    "!(module load plink; plink --bfile $PATH/bfile/chrY --make-bed --out {WRKDIR}/temp)"
   ]
  },
  {
   "cell_type": "markdown",
   "metadata": {},
   "source": [
    "### update sex and pheno in fam file"
   ]
  },
  {
   "cell_type": "code",
   "execution_count": null,
   "metadata": {},
   "outputs": [],
   "source": [
    "temp = pd.read_table(f\"{WRKDIR}/chrY.fam\",sep=\"\\s+\",header=None)\n",
    "temp.columns = ['fid','iid','pid','mid','sex','pheno']\n",
    "print(temp.shape)\n",
    "print(temp.head())"
   ]
  },
  {
   "cell_type": "code",
   "execution_count": null,
   "metadata": {},
   "outputs": [],
   "source": [
    "meta = pd.read_csv(\"$PATH/AMPPD_releasev2_covariates_Feb2021.csv\")\n",
    "print(meta.shape)\n",
    "print(meta.head())"
   ]
  },
  {
   "cell_type": "code",
   "execution_count": null,
   "metadata": {},
   "outputs": [],
   "source": [
    "tempm = pd.merge(left =temp, right = meta, left_on = 'fid', right_on = 'ID')\n",
    "print(tempm.shape)"
   ]
  },
  {
   "cell_type": "code",
   "execution_count": null,
   "metadata": {},
   "outputs": [],
   "source": [
    "tempm = tempm[['fid','iid','pid','mid','SEX','PHENO','LATEST_DX']]\n",
    "print(tempm.head())"
   ]
  },
  {
   "cell_type": "code",
   "execution_count": null,
   "metadata": {},
   "outputs": [],
   "source": [
    "tempm['PHENO'] = tempm['PHENO'].fillna(-9)\n",
    "tempm['PHENO'] = tempm['PHENO'].astype(int)\n",
    "set(tempm['PHENO'])"
   ]
  },
  {
   "cell_type": "code",
   "execution_count": null,
   "metadata": {},
   "outputs": [],
   "source": [
    "print(tempm[tempm.PHENO==1].shape)\n",
    "print(tempm[tempm.PHENO==2].shape)\n",
    "print(tempm[tempm.PHENO==-9].shape)"
   ]
  },
  {
   "cell_type": "code",
   "execution_count": null,
   "metadata": {},
   "outputs": [],
   "source": [
    "tempm[tempm.PHENO==-9]"
   ]
  },
  {
   "cell_type": "code",
   "execution_count": null,
   "metadata": {},
   "outputs": [],
   "source": [
    "tempm[tempm.PHENO==1].LATEST_DX.value_counts()"
   ]
  },
  {
   "cell_type": "code",
   "execution_count": null,
   "metadata": {},
   "outputs": [],
   "source": [
    "tempm[tempm.PHENO==2].LATEST_DX.value_counts()"
   ]
  },
  {
   "cell_type": "code",
   "execution_count": null,
   "metadata": {},
   "outputs": [],
   "source": [
    "tempm[tempm.PHENO==-9].LATEST_DX.value_counts()"
   ]
  },
  {
   "cell_type": "code",
   "execution_count": null,
   "metadata": {},
   "outputs": [],
   "source": [
    "tempm[['fid','iid','pid','mid','SEX','PHENO']].to_csv(f\"{WRKDIR}/temp.fam\",sep=\"\\t\",header=None,index=None)"
   ]
  },
  {
   "cell_type": "markdown",
   "metadata": {},
   "source": [
    "### give variants unique ids\n",
    "or at least set rsid variants ids to rsid_a1_a2"
   ]
  },
  {
   "cell_type": "code",
   "execution_count": null,
   "metadata": {},
   "outputs": [],
   "source": [
    "tempbim = pd.read_table(f\"{WRKDIR}/temp.bim\",sep=\"\\t\",header=None)\n",
    "tempbim.columns = ['chr','snp','pos','bp','a1','a2']\n",
    "print(tempbim.shape)\n",
    "print(tempbim.head())"
   ]
  },
  {
   "cell_type": "code",
   "execution_count": null,
   "metadata": {},
   "outputs": [],
   "source": [
    "#see which have duplicate snp values\n",
    "tempbim[tempbim.duplicated(subset = 'snp',keep=False)].sort_values('snp')"
   ]
  },
  {
   "cell_type": "code",
   "execution_count": null,
   "metadata": {},
   "outputs": [],
   "source": [
    "len(set(tempbim['snp']))"
   ]
  },
  {
   "cell_type": "code",
   "execution_count": null,
   "metadata": {},
   "outputs": [],
   "source": [
    "tempbim[tempbim['snp'].str.contains('rs')].head()"
   ]
  },
  {
   "cell_type": "code",
   "execution_count": null,
   "metadata": {},
   "outputs": [],
   "source": [
    "#set snp col values with rsids to rsid_a1_a2 to make them unique\n",
    "tempbim.loc[tempbim['snp'].str.contains('rs'),'snp'] = tempbim.loc[tempbim['snp'].str.contains('rs'),'snp'] + '_' + tempbim.loc[tempbim['snp'].str.contains('rs'),'a1'] + '_' + tempbim.loc[tempbim['snp'].str.contains('rs'),'a2']"
   ]
  },
  {
   "cell_type": "code",
   "execution_count": null,
   "metadata": {},
   "outputs": [],
   "source": [
    "#check if we no longer have duplicated snp values\n",
    "tempbim[tempbim.duplicated(subset = 'snp',keep=False)].sort_values('snp')"
   ]
  },
  {
   "cell_type": "code",
   "execution_count": null,
   "metadata": {},
   "outputs": [],
   "source": [
    "tempbim.head()"
   ]
  },
  {
   "cell_type": "code",
   "execution_count": null,
   "metadata": {},
   "outputs": [],
   "source": [
    "tempbim.tail()"
   ]
  },
  {
   "cell_type": "code",
   "execution_count": null,
   "metadata": {},
   "outputs": [],
   "source": [
    "print(tempbim.shape)\n",
    "print(len(set(tempbim['snp'].tolist())))"
   ]
  },
  {
   "cell_type": "code",
   "execution_count": null,
   "metadata": {},
   "outputs": [],
   "source": [
    "tempbim.to_csv(f\"{WRKDIR}/temp.bim\",sep=\"\\t\",header=None,index=None)\n"
   ]
  },
  {
   "cell_type": "code",
   "execution_count": null,
   "metadata": {},
   "outputs": [],
   "source": []
  },
  {
   "cell_type": "code",
   "execution_count": null,
   "metadata": {},
   "outputs": [],
   "source": []
  },
  {
   "cell_type": "markdown",
   "metadata": {},
   "source": [
    "### remove females"
   ]
  },
  {
   "cell_type": "code",
   "execution_count": null,
   "metadata": {},
   "outputs": [],
   "source": [
    "!(module load plink; plink --bfile {WRKDIR}/temp --filter-males --make-bed --out {WRKDIR}/temp_males)"
   ]
  },
  {
   "cell_type": "markdown",
   "metadata": {},
   "source": [
    "### check frequencies"
   ]
  },
  {
   "cell_type": "code",
   "execution_count": null,
   "metadata": {},
   "outputs": [],
   "source": [
    "!(module load plink; plink --bfile {WRKDIR}/temp_males --freqx --out {WRKDIR}/temp_males)"
   ]
  },
  {
   "cell_type": "code",
   "execution_count": null,
   "metadata": {},
   "outputs": [],
   "source": [
    "count = pd.read_table(f\"{WRKDIR}/temp_males.frqx\")\n",
    "print(count.shape)\n",
    "print(count.head())\n",
    "print(count.tail())"
   ]
  },
  {
   "cell_type": "markdown",
   "metadata": {},
   "source": [
    "### try --set-hh-missing"
   ]
  },
  {
   "cell_type": "code",
   "execution_count": null,
   "metadata": {
    "tags": []
   },
   "outputs": [],
   "source": [
    "!(module load plink; plink --bfile {WRKDIR}/temp_males --set-hh-missing --make-bed --out {WRKDIR}/temp_males_miss)"
   ]
  },
  {
   "cell_type": "code",
   "execution_count": null,
   "metadata": {
    "tags": []
   },
   "outputs": [],
   "source": [
    "!(module load plink; plink --bfile {WRKDIR}/temp_males_miss --freqx --out {WRKDIR}/temp_males_miss)"
   ]
  },
  {
   "cell_type": "code",
   "execution_count": null,
   "metadata": {},
   "outputs": [],
   "source": [
    "miss_count = pd.read_table(f\"{WRKDIR}/temp_males_miss.frqx\")\n",
    "print(miss_count.shape)\n",
    "print(miss_count.head())\n",
    "print(miss_count.tail())"
   ]
  },
  {
   "cell_type": "markdown",
   "metadata": {},
   "source": [
    "### do same, but change chr to autosomal to compare counts"
   ]
  },
  {
   "cell_type": "code",
   "execution_count": null,
   "metadata": {},
   "outputs": [],
   "source": [
    "!(module load plink; plink --bfile {WRKDIR}/temp --make-bed --out {WRKDIR}/temp22)"
   ]
  },
  {
   "cell_type": "code",
   "execution_count": null,
   "metadata": {},
   "outputs": [],
   "source": [
    "temp22bim = pd.read_table(f\"{WRKDIR}/temp22.bim\",sep=\"\\s+\",header=None)\n",
    "temp22bim.columns = ['chr','snp','pos','bp','a1','a2']\n",
    "print(temp22bim.shape)\n",
    "print(temp22bim.head())"
   ]
  },
  {
   "cell_type": "code",
   "execution_count": null,
   "metadata": {},
   "outputs": [],
   "source": [
    "temp22bim['chr']=22"
   ]
  },
  {
   "cell_type": "code",
   "execution_count": null,
   "metadata": {},
   "outputs": [],
   "source": [
    "temp22bim.to_csv(f\"{WRKDIR}/temp22.bim\",sep=\"\\t\",header=None,index=None)"
   ]
  },
  {
   "cell_type": "code",
   "execution_count": null,
   "metadata": {},
   "outputs": [],
   "source": [
    "!(module load plink; plink --bfile {WRKDIR}/temp22 --filter-males --make-bed --out {WRKDIR}/temp22_males)"
   ]
  },
  {
   "cell_type": "code",
   "execution_count": null,
   "metadata": {},
   "outputs": [],
   "source": [
    "!(module load plink; plink --bfile {WRKDIR}/temp22_males --freqx --out {WRKDIR}/temp22_males)"
   ]
  },
  {
   "cell_type": "code",
   "execution_count": null,
   "metadata": {},
   "outputs": [],
   "source": [
    "recode_count = pd.read_table(f\"{WRKDIR}/temp22_males.frqx\")\n",
    "print(recode_count.shape)\n",
    "print(recode_count.head())\n",
    "#print(recode_count.tail())"
   ]
  },
  {
   "cell_type": "code",
   "execution_count": null,
   "metadata": {},
   "outputs": [],
   "source": [
    "#compare with the --set-hh-missing results\n",
    "print(miss_count.shape)\n",
    "print(miss_count.head())"
   ]
  },
  {
   "cell_type": "markdown",
   "metadata": {},
   "source": [
    "#### so looks like the heterozygous variants were correctly set to missing"
   ]
  },
  {
   "cell_type": "code",
   "execution_count": null,
   "metadata": {},
   "outputs": [],
   "source": []
  },
  {
   "cell_type": "markdown",
   "metadata": {},
   "source": [
    "### Identify Variants with High Heterozygosity "
   ]
  },
  {
   "cell_type": "code",
   "execution_count": null,
   "metadata": {},
   "outputs": [],
   "source": [
    "#how many samples\n",
    "!wc -l {WRKDIR}/temp22_males.fam"
   ]
  },
  {
   "cell_type": "code",
   "execution_count": null,
   "metadata": {},
   "outputs": [],
   "source": [
    "#how many variants are heterozygous in 10% or more of the samples\n",
    "recode_count[recode_count['C(HET)']/5470>=0.1].shape"
   ]
  },
  {
   "cell_type": "code",
   "execution_count": null,
   "metadata": {},
   "outputs": [],
   "source": [
    "recode_count[recode_count['C(HET)']/5470>=0.1]"
   ]
  },
  {
   "cell_type": "code",
   "execution_count": null,
   "metadata": {},
   "outputs": [],
   "source": [
    "bad_variants = list(set(recode_count[recode_count['C(HET)']/5470>=0.1]['SNP']))"
   ]
  },
  {
   "cell_type": "code",
   "execution_count": null,
   "metadata": {},
   "outputs": [],
   "source": [
    "len(bad_variants)"
   ]
  },
  {
   "cell_type": "code",
   "execution_count": null,
   "metadata": {},
   "outputs": [],
   "source": [
    "len(set(bad_variants))"
   ]
  },
  {
   "cell_type": "code",
   "execution_count": null,
   "metadata": {},
   "outputs": [],
   "source": [
    "pd.DataFrame(data={'bad_variants':bad_variants}).to_csv(f\"{WRKDIR}/high_heterozygous_variants.txt\",index=None,header=None)"
   ]
  },
  {
   "cell_type": "code",
   "execution_count": null,
   "metadata": {},
   "outputs": [],
   "source": [
    "#drop the high heterozygous variants\n",
    "!(module load plink; plink --bfile {WRKDIR}/temp_males_miss --exclude {WRKDIR}/high_heterozygous_variants.txt --make-bed --out {WRKDIR}/chrY_male_hemizygous_only_het_filter)"
   ]
  },
  {
   "cell_type": "markdown",
   "metadata": {},
   "source": [
    "### cleanup"
   ]
  },
  {
   "cell_type": "code",
   "execution_count": null,
   "metadata": {},
   "outputs": [],
   "source": [
    "!(module load plink; plink --bfile {WRKDIR}/temp_males_miss --make-bed --out {WRKDIR}/chrY_male_hemizygous_only)"
   ]
  },
  {
   "cell_type": "code",
   "execution_count": null,
   "metadata": {},
   "outputs": [],
   "source": [
    "!rm {WRKDIR}/temp*"
   ]
  },
  {
   "cell_type": "code",
   "execution_count": null,
   "metadata": {},
   "outputs": [],
   "source": []
  }
 ],
 "metadata": {
  "kernelspec": {
   "display_name": "python/3.6",
   "language": "python",
   "name": "py3.6"
  },
  "language_info": {
   "codemirror_mode": {
    "name": "ipython",
    "version": 3
   },
   "file_extension": ".py",
   "mimetype": "text/x-python",
   "name": "python",
   "nbconvert_exporter": "python",
   "pygments_lexer": "ipython3",
   "version": "3.6.10"
  }
 },
 "nbformat": 4,
 "nbformat_minor": 4
}
