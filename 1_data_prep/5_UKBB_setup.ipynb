{
 "cells": [
  {
   "cell_type": "markdown",
   "id": "played-fever",
   "metadata": {},
   "source": [
    "# Setup UKBioBank Y Chromosome Files for Y Haplogroup Tools\n",
    "- **Author(s)** - Frank Grenn\n",
    "- **Date Started** - March  2021\n",
    "- **Quick Description:** remove females, identify cases and proxies, select random control samples for case-control and proxy-control datasets, and calculate autosomal pcs for case-control and proxy-control datasets. All for UKBB data"
   ]
  },
  {
   "cell_type": "code",
   "execution_count": null,
   "id": "grand-diesel",
   "metadata": {},
   "outputs": [],
   "source": [
    "import pandas as pd\n",
    "import random"
   ]
  },
  {
   "cell_type": "code",
   "execution_count": null,
   "id": "secure-buffer",
   "metadata": {},
   "outputs": [],
   "source": [
    "WRKDIR = \"$PATH/chrY\"\n",
    "BFILEDIR = f\"{WRKDIR}/y_ukbb\"\n",
    "OUTDIR = f\"{WRKDIR}/y_ukbb\"\n",
    "CARDDIR = \"$PATH\""
   ]
  },
  {
   "cell_type": "markdown",
   "id": "embedded-collar",
   "metadata": {},
   "source": [
    "### Remove females"
   ]
  },
  {
   "cell_type": "code",
   "execution_count": null,
   "id": "respected-confusion",
   "metadata": {},
   "outputs": [],
   "source": [
    "!(module load plink; plink --bed {BFILEDIR}/ukb_cal_chrY_v2.bed --bim {BFILEDIR}/ukb_snp_chrY_v2.bim --fam {BFILEDIR}/ukb33601_cal_chr1_v2_s488363.fam --filter-males --make-bed --out {BFILEDIR}/chrY_male_only)"
   ]
  },
  {
   "cell_type": "markdown",
   "id": "8c78e0ea-dd32-49dc-8f2e-b781fbe0b789",
   "metadata": {},
   "source": [
    "### Keep only European Samples"
   ]
  },
  {
   "cell_type": "code",
   "execution_count": null,
   "id": "b37eb8bb-cd3b-445e-94ad-7be89488911b",
   "metadata": {},
   "outputs": [],
   "source": [
    "anc = pd.read_table(\"$PATH/covariates_phenome_to_use.txt\")\n",
    "print(anc.shape)\n",
    "print(anc.head())"
   ]
  },
  {
   "cell_type": "code",
   "execution_count": null,
   "id": "562c0ebd-5000-4db9-941b-98abc8d50e42",
   "metadata": {},
   "outputs": [],
   "source": [
    "eur = anc[anc.EUROPEAN==1]\n",
    "print(eur.shape)\n",
    "#get list of cases and controls to keep\n",
    "eur[['FID','IID']].to_csv(f\"{BFILEDIR}/eur_samples.txt\",sep=\"\\t\",header=None, index=None)"
   ]
  },
  {
   "cell_type": "code",
   "execution_count": null,
   "id": "5fc334f2-cf0a-4dfe-a64e-c691784b61b7",
   "metadata": {},
   "outputs": [],
   "source": [
    "#subset plink binaries and calculate pcs\n",
    "print(f\"plink --bfile {BFILEDIR}/chrY_male_only --keep {BFILEDIR}/eur_samples.txt --make-bed --out {BFILEDIR}/chrY_eur_male_only\")"
   ]
  },
  {
   "cell_type": "markdown",
   "id": "directed-piece",
   "metadata": {},
   "source": [
    "### Update Phenotypes"
   ]
  },
  {
   "cell_type": "code",
   "execution_count": null,
   "id": "smaller-latino",
   "metadata": {},
   "outputs": [],
   "source": [
    "fam = pd.read_table(f\"{BFILEDIR}/chrY_eur_male_only.fam\",sep=\"\\s+\",header=None)\n",
    "fam.columns = ['fid','iid','pid','mid','sex','pheno']\n",
    "print(fam.shape)\n",
    "print(fam.head())"
   ]
  },
  {
   "cell_type": "code",
   "execution_count": null,
   "id": "34b75ec1-62dd-4475-91fb-824250ab7e08",
   "metadata": {},
   "outputs": [],
   "source": [
    "pd_ukbb_codes = pd.read_table(\"$PATH/parkinson_disease.txt\")\n",
    "print(pd_ukbb_codes.shape)\n",
    "print(pd_ukbb_codes.head())\n",
    "print(set(pd_ukbb_codes['131023-0.0']))"
   ]
  },
  {
   "cell_type": "code",
   "execution_count": null,
   "id": "6765c123-c666-4252-be4d-6a1250dd0bac",
   "metadata": {},
   "outputs": [],
   "source": []
  },
  {
   "cell_type": "code",
   "execution_count": null,
   "id": "ruled-sword",
   "metadata": {},
   "outputs": [],
   "source": [
    "pd_ukbb_phenos = pd.read_table(\"$PATH/parkinson_disease_plink.txt\",header=None)\n",
    "pd_ukbb_phenos.columns = ['fid','iid']\n",
    "print(pd_ukbb_phenos.shape)\n",
    "print(pd_ukbb_phenos.head())"
   ]
  },
  {
   "cell_type": "code",
   "execution_count": null,
   "id": "later-redhead",
   "metadata": {
    "tags": []
   },
   "outputs": [],
   "source": [
    "proxy = pd.read_csv(\"$PATH/disease_of_father.txt.csv\")\n",
    "print(proxy.shape)\n",
    "print(proxy.head())"
   ]
  },
  {
   "cell_type": "code",
   "execution_count": null,
   "id": "talented-oasis",
   "metadata": {},
   "outputs": [],
   "source": [
    "#11 is for PD\n",
    "pd_proxies = proxy.loc[(proxy==11).any(1)]"
   ]
  },
  {
   "cell_type": "code",
   "execution_count": null,
   "id": "descending-brazilian",
   "metadata": {},
   "outputs": [],
   "source": [
    "#how many PD cases also have PD fathers?\n",
    "len([i for i in pd_proxies.eid.tolist() if i in pd_ukbb_phenos.fid.tolist()])"
   ]
  },
  {
   "cell_type": "code",
   "execution_count": null,
   "id": "split-collectible",
   "metadata": {},
   "outputs": [],
   "source": [
    "#get the samples with PD fathers that don't have PD themselves\n",
    "pd_proxy_list = [i for i in pd_proxies.eid.tolist() if i not in pd_ukbb_phenos.fid.tolist()]"
   ]
  },
  {
   "cell_type": "code",
   "execution_count": null,
   "id": "dynamic-remains",
   "metadata": {},
   "outputs": [],
   "source": [
    "len(pd_proxy_list)"
   ]
  },
  {
   "cell_type": "markdown",
   "id": "identical-bulgaria",
   "metadata": {},
   "source": [
    "set phenotypes. 1 for control, 2 for PD case, 3 for father with PD"
   ]
  },
  {
   "cell_type": "code",
   "execution_count": null,
   "id": "adapted-poker",
   "metadata": {},
   "outputs": [],
   "source": [
    "#set to control by default\n",
    "fam.pheno = 1"
   ]
  },
  {
   "cell_type": "code",
   "execution_count": null,
   "id": "outer-motor",
   "metadata": {},
   "outputs": [],
   "source": [
    "fam.loc[fam.fid.isin(pd_ukbb_phenos.fid.tolist()),'pheno']=2"
   ]
  },
  {
   "cell_type": "code",
   "execution_count": null,
   "id": "productive-vampire",
   "metadata": {},
   "outputs": [],
   "source": [
    "fam.loc[fam.fid.isin(pd_proxy_list),'pheno']=3"
   ]
  },
  {
   "cell_type": "code",
   "execution_count": null,
   "id": "underlying-conservative",
   "metadata": {},
   "outputs": [],
   "source": [
    "fam[fam.pheno==2].shape#2170"
   ]
  },
  {
   "cell_type": "code",
   "execution_count": null,
   "id": "opponent-specific",
   "metadata": {},
   "outputs": [],
   "source": [
    "fam[fam.pheno==1].shape#217002"
   ]
  },
  {
   "cell_type": "code",
   "execution_count": null,
   "id": "noticed-aspect",
   "metadata": {},
   "outputs": [],
   "source": [
    "fam[fam.pheno==3].shape#4334"
   ]
  },
  {
   "cell_type": "code",
   "execution_count": null,
   "id": "ancient-liberia",
   "metadata": {},
   "outputs": [],
   "source": [
    "fam.to_csv(f\"{BFILEDIR}/chrY_eur_male_only.fam\",header=None, index = None, sep = \" \")"
   ]
  },
  {
   "cell_type": "markdown",
   "id": "contrary-september",
   "metadata": {},
   "source": [
    "### Check variant frequencies"
   ]
  },
  {
   "cell_type": "code",
   "execution_count": null,
   "id": "neural-click",
   "metadata": {},
   "outputs": [],
   "source": [
    "!(module load plink; plink --bfile {BFILEDIR}/chrY_male_only --freqx --out {BFILEDIR}/chrY_male_only)"
   ]
  },
  {
   "cell_type": "markdown",
   "id": "separate-welding",
   "metadata": {},
   "source": [
    "### Convert to VCF"
   ]
  },
  {
   "cell_type": "code",
   "execution_count": null,
   "id": "administrative-contest",
   "metadata": {},
   "outputs": [],
   "source": [
    "!(module load plink;plink --bfile {BFILEDIR}/chrY_male_only --recode vcf --out {BFILEDIR}/chrY_male_only)"
   ]
  },
  {
   "cell_type": "markdown",
   "id": "2f09d68c-2c9b-447e-9d53-85bacdd74d71",
   "metadata": {},
   "source": [
    "### Get Case-Control and Proxy-Control Sample List\n",
    "randomize controls"
   ]
  },
  {
   "cell_type": "code",
   "execution_count": null,
   "id": "242ba149-78fa-4fb1-9ca8-8aa72d353dee",
   "metadata": {},
   "outputs": [],
   "source": [
    "fam = pd.read_csv(f\"{BFILEDIR}/chrY_eur_male_only.fam\",header=None, sep = \"\\s+\")\n",
    "fam.columns = ['fid','iid','mat','pat','sex','pheno']\n",
    "print(fam.shape)\n",
    "print(fam.head())\n",
    "print(fam['pheno'].value_counts())"
   ]
  },
  {
   "cell_type": "code",
   "execution_count": null,
   "id": "2720f832-f65d-481b-a4cd-b9277fd2e389",
   "metadata": {},
   "outputs": [],
   "source": [
    "#how many controls, cases, and proxies do we have?\n",
    "print(fam[fam.pheno==1].shape)\n",
    "print(fam[fam.pheno==2].shape)\n",
    "print(fam[fam.pheno==3].shape)"
   ]
  },
  {
   "cell_type": "code",
   "execution_count": null,
   "id": "dd22b4d9-db5d-420e-b3df-c1d981c7cbc8",
   "metadata": {},
   "outputs": [],
   "source": [
    "num_controls = len(fam[fam.pheno==1].index) * 1/3\n",
    "num_controls"
   ]
  },
  {
   "cell_type": "code",
   "execution_count": null,
   "id": "e0a7091e-4f98-425b-ad80-508079fd07df",
   "metadata": {},
   "outputs": [],
   "source": [
    "#random sample the controls\n",
    "random_control_ids_for_case_control = random.sample(fam[fam.pheno==1].fid.tolist(),int(num_controls))\n",
    "print(len(random_control_ids_for_case_control))\n",
    "print(random_control_ids_for_case_control[0:10])"
   ]
  },
  {
   "cell_type": "code",
   "execution_count": null,
   "id": "d2830b46-63e1-4545-ba23-8116fba7b68f",
   "metadata": {},
   "outputs": [],
   "source": [
    "#use the rest for the proxy-control analysis\n",
    "temp = set(fam[fam.pheno==1].fid.tolist()) ^ set(random_control_ids_for_case_control)\n",
    "\n",
    "random_control_ids_for_proxy_control = list(temp)\n",
    "print(len(random_control_ids_for_proxy_control))\n",
    "print(random_control_ids_for_proxy_control[0:10])"
   ]
  },
  {
   "cell_type": "code",
   "execution_count": null,
   "id": "4e4b25c9-f1e5-40e7-ab44-179239005fa3",
   "metadata": {},
   "outputs": [],
   "source": [
    "case_control_df = fam[(fam.pheno==2) | (fam.fid.isin(random_control_ids_for_case_control))]\n",
    "print(set(case_control_df.pheno))\n",
    "print(case_control_df.shape)\n",
    "print(case_control_df.head())"
   ]
  },
  {
   "cell_type": "code",
   "execution_count": null,
   "id": "5f8cb449-90b0-488f-8a0f-f400ccf29ea4",
   "metadata": {},
   "outputs": [],
   "source": [
    "case_control_df[['fid','iid']].to_csv(f\"{BFILEDIR}/ukbb_case_control_samples.txt\",sep=\"\\t\",index=None,header=None)\n"
   ]
  },
  {
   "cell_type": "code",
   "execution_count": null,
   "id": "4d0c8cc9-2c42-4469-9c2b-b7e7647b7d72",
   "metadata": {},
   "outputs": [],
   "source": [
    "proxy_control_df = fam[(fam.pheno==3) | (fam.fid.isin(random_control_ids_for_proxy_control))]\n",
    "print(set(proxy_control_df.pheno))\n",
    "print(proxy_control_df.shape)\n",
    "print(proxy_control_df.head())"
   ]
  },
  {
   "cell_type": "code",
   "execution_count": null,
   "id": "136a39b0-ad23-46c2-a4bd-bc70a47eefc2",
   "metadata": {},
   "outputs": [],
   "source": [
    "proxy_control_df[['fid','iid']].to_csv(f\"{BFILEDIR}/ukbb_proxy_control_samples.txt\",sep=\"\\t\",index=None,header=None)"
   ]
  },
  {
   "cell_type": "markdown",
   "id": "be53d6cb-4002-458a-87ec-373b252b9d0b",
   "metadata": {},
   "source": [
    "### Calculate Autosomal PCs"
   ]
  },
  {
   "cell_type": "markdown",
   "id": "4ece93b5-a3c9-485d-b4f3-aa326fa467c3",
   "metadata": {},
   "source": [
    "#### case control"
   ]
  },
  {
   "cell_type": "code",
   "execution_count": null,
   "id": "3ff04803-4058-4fe5-ad26-d54f41058540",
   "metadata": {
    "tags": []
   },
   "outputs": [],
   "source": [
    "#subset all chromosomes and combine\n",
    "for i in range(1,23):\n",
    "    print(i)\n",
    "    !echo plink --bed {CARDDIR}/UKBIOBANK/GENOTYPE_DATA/ukb_cal_chr{i}_v2.bed --bim {CARDDIR}/UKBIOBANK/GENOTYPE_DATA/ukb_snp_chr{i}_v2.bim --fam {CARDDIR}/UKBIOBANK/GENOTYPE_DATA/ukb33601_cal_chr1_v2_s488363.fam --keep-fam {BFILEDIR}/ukbb_case_control_samples.txt --make-bed --out {CARDDIR}/projects/chromosome_y_expression/ukbb/chr{i}_case_control >> {CARDDIR}/projects/chromosome_y_expression/ukbb/subset_chr.swarm\n",
    "    !echo {CARDDIR}/projects/chromosome_y_expression/ukbb/chr{i}_case_control >> {CARDDIR}/projects/chromosome_y_expression/ukbb/merge_list.txt"
   ]
  },
  {
   "cell_type": "code",
   "execution_count": null,
   "id": "131b081a-4e23-482b-8254-04c52dc9e1cd",
   "metadata": {},
   "outputs": [],
   "source": [
    "!wc -l {BFILEDIR}/ukbb_case_control_samples.txt"
   ]
  },
  {
   "cell_type": "code",
   "execution_count": null,
   "id": "1dfdb538-a9fe-4200-8e80-0029c060ea2d",
   "metadata": {},
   "outputs": [],
   "source": [
    "#merge\n",
    "print(f\"plink --merge-list {CARDDIR}/projects/chromosome_y_expression/ukbb/merge_list.txt --make-bed --out {CARDDIR}/projects/chromosome_y_expression/ukbb/ukbb_case_control_allchr\")"
   ]
  },
  {
   "cell_type": "code",
   "execution_count": null,
   "id": "9c66b21a-8ab2-4405-ae77-77e1823c61cd",
   "metadata": {},
   "outputs": [],
   "source": [
    "#prune\n",
    "print(f\"plink --bfile {CARDDIR}/projects/chromosome_y_expression/ukbb/ukbb_case_control_allchr --indep-pairwise 1000 10 0.02 --out {CARDDIR}/projects/chromosome_y_expression/ukbb/ukbb_case_control_allchr_pruning\")\n",
    "print(f\"plink --bfile {CARDDIR}/projects/chromosome_y_expression/ukbb/ukbb_case_control_allchr --extract {CARDDIR}/projects/chromosome_y_expression/ukbb/ukbb_case_control_allchr_pruning.prune.in --make-bed --out {CARDDIR}/projects/chromosome_y_expression/ukbb/ukbb_case_control_allchr_pruned\")\n"
   ]
  },
  {
   "cell_type": "code",
   "execution_count": null,
   "id": "76d69a68-09e7-4539-8bb2-7214269c666e",
   "metadata": {},
   "outputs": [],
   "source": [
    "#use flash pca\n",
    "print(f\"module load flashpca\\n\\\n",
    "flashpca --bfile {CARDDIR}/projects/chromosome_y_expression/ukbb/ukbb_case_control_allchr_pruned --suffix _case_control_pca.txt --numthreads 28\")"
   ]
  },
  {
   "cell_type": "code",
   "execution_count": null,
   "id": "52346b40-15f7-449a-937f-a918eb8bae7e",
   "metadata": {},
   "outputs": [],
   "source": []
  },
  {
   "cell_type": "code",
   "execution_count": null,
   "id": "0b07adca-68f5-4c7e-8ea5-dfe5af8763af",
   "metadata": {},
   "outputs": [],
   "source": [
    "#or use plink (slow)\n",
    "print(f\"plink --bfile {CARDDIR}/projects/chromosome_y_expression/ukbb/ukbb_case_control_allchr_pruned --not-chr 23,24,25,26 --pca 5 --out {CARDDIR}/projects/chromosome_y_expression/ukbb/ukbb_case_control_allchr_pruned_pcs\")"
   ]
  },
  {
   "cell_type": "code",
   "execution_count": null,
   "id": "b45428f9-55aa-4144-b71e-2ae2c9c49eba",
   "metadata": {},
   "outputs": [],
   "source": []
  },
  {
   "cell_type": "markdown",
   "id": "691061f5-a529-47e8-95a2-2c1039340b94",
   "metadata": {},
   "source": [
    "#### proxy control"
   ]
  },
  {
   "cell_type": "code",
   "execution_count": null,
   "id": "cd1152b7-75e1-44b1-a7c5-dfb646af7eea",
   "metadata": {},
   "outputs": [],
   "source": [
    "#subset all chromosomes and combine\n",
    "for i in range(1,23):\n",
    "    print(i)\n",
    "    !echo plink --bed {CARDDIR}/UKBIOBANK/GENOTYPE_DATA/ukb_cal_chr{i}_v2.bed --bim {CARDDIR}/UKBIOBANK/GENOTYPE_DATA/ukb_snp_chr{i}_v2.bim --fam {CARDDIR}/UKBIOBANK/GENOTYPE_DATA/ukb33601_cal_chr1_v2_s488363.fam --keep-fam {BFILEDIR}/ukbb_proxy_control_samples.txt --make-bed --out {CARDDIR}/projects/chromosome_y_expression/ukbb/chr{i}_proxy_control >> {CARDDIR}/projects/chromosome_y_expression/ukbb/subset_chr.swarm\n",
    "    !echo {CARDDIR}/projects/chromosome_y_expression/ukbb/chr{i}_proxy_control >> {CARDDIR}/projects/chromosome_y_expression/ukbb/merge_list.txt"
   ]
  },
  {
   "cell_type": "code",
   "execution_count": null,
   "id": "99addcb8-b205-4a7c-9b7f-afacf5fc2425",
   "metadata": {},
   "outputs": [],
   "source": [
    "#merge\n",
    "print(f\"plink --merge-list {CARDDIR}/projects/chromosome_y_expression/ukbb/merge_list.txt --make-bed --out {CARDDIR}/projects/chromosome_y_expression/ukbb/ukbb_proxy_control_allchr\")"
   ]
  },
  {
   "cell_type": "code",
   "execution_count": null,
   "id": "863afff3-70d9-482f-8c41-75cca08baf01",
   "metadata": {},
   "outputs": [],
   "source": [
    "#prune\n",
    "print(f\"plink --bfile {CARDDIR}/projects/chromosome_y_expression/ukbb/ukbb_proxy_control_allchr --indep-pairwise 1000 10 0.02 --out {CARDDIR}/projects/chromosome_y_expression/ukbb/ukbb_proxy_control_allchr_pruning\")\n",
    "print(f\"plink --bfile {CARDDIR}/projects/chromosome_y_expression/ukbb/ukbb_proxy_control_allchr --extract {CARDDIR}/projects/chromosome_y_expression/ukbb/ukbb_proxy_control_allchr_pruning.prune.in --make-bed --out {CARDDIR}/projects/chromosome_y_expression/ukbb/ukbb_proxy_control_allchr_pruned\")\n"
   ]
  },
  {
   "cell_type": "code",
   "execution_count": null,
   "id": "3e086e81-8b6d-4696-b0ca-51cce2ca8a33",
   "metadata": {},
   "outputs": [],
   "source": [
    "#use flash pca\n",
    "print(f\"module load flashpca\\n\\\n",
    "flashpca --bfile {CARDDIR}/projects/chromosome_y_expression/ukbb/ukbb_proxy_control_allchr_pruned --suffix _proxy_control_pca.txt --numthreads 28\")"
   ]
  },
  {
   "cell_type": "code",
   "execution_count": null,
   "id": "255a9775-40e6-43b4-8e13-752b08f525c6",
   "metadata": {},
   "outputs": [],
   "source": [
    "#or use plink (slow)\n",
    "print(f\"plink --bfile {CARDDIR}/projects/chromosome_y_expression/ukbb/ukbb_proxy_control_allchr_pruned --not-chr 23,24,25,26 --pca --out {CARDDIR}/projects/chromosome_y_expression/ukbb/ukbb_proxy_control_allchr_pruned_pcs\")"
   ]
  },
  {
   "cell_type": "code",
   "execution_count": null,
   "id": "d3c47f03-1793-4f23-91da-bd43e88b4d25",
   "metadata": {},
   "outputs": [],
   "source": []
  },
  {
   "cell_type": "code",
   "execution_count": null,
   "id": "6175d944-7e64-4ee7-967c-9e0d9475a102",
   "metadata": {},
   "outputs": [],
   "source": []
  }
 ],
 "metadata": {
  "kernelspec": {
   "display_name": "python/3.6",
   "language": "python",
   "name": "py3.6"
  },
  "language_info": {
   "codemirror_mode": {
    "name": "ipython",
    "version": 3
   },
   "file_extension": ".py",
   "mimetype": "text/x-python",
   "name": "python",
   "nbconvert_exporter": "python",
   "pygments_lexer": "ipython3",
   "version": "3.6.10"
  }
 },
 "nbformat": 4,
 "nbformat_minor": 5
}
