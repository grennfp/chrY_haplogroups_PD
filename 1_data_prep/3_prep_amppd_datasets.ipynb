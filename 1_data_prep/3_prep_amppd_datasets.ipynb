{
 "cells": [
  {
   "cell_type": "markdown",
   "id": "8cd987f2-bafe-488d-ae71-af96061a26df",
   "metadata": {},
   "source": [
    "# Subset AMP-PD Data for PD Case Control and LBD Case Control and Calculate PCs\n",
    "- **Author(s)** - Frank Grenn\n",
    "- **Quick Description:** subset amppd data into PD and LBD datasets"
   ]
  },
  {
   "cell_type": "code",
   "execution_count": null,
   "id": "5ac1d577-7118-4c1e-8461-f6f43150fd76",
   "metadata": {
    "tags": []
   },
   "outputs": [],
   "source": [
    "import pandas as pd"
   ]
  },
  {
   "cell_type": "code",
   "execution_count": null,
   "id": "c4151511-4e0c-437c-8b3c-739256d3f506",
   "metadata": {},
   "outputs": [],
   "source": [
    "WRKDIR = \"/PATH/chrY\""
   ]
  },
  {
   "cell_type": "code",
   "execution_count": null,
   "id": "b29e2edd-75c7-45f1-882b-a6b6138f8c05",
   "metadata": {},
   "outputs": [],
   "source": []
  },
  {
   "cell_type": "code",
   "execution_count": null,
   "id": "0830d06b-8637-459e-a8e1-d9aa0330dd43",
   "metadata": {},
   "outputs": [],
   "source": [
    "samples = pd.read_csv(f\"{WRKDIR}/y_male_only_bfiles/chrY_male_hemizygous_only_het_filter_hg19_final.fam\",sep=\"\\s+\",header=None)\n",
    "samples.columns = ['fid','iid','pid','mid','sex','pheno']\n",
    "print(samples.shape)\n",
    "print(samples.head())"
   ]
  },
  {
   "cell_type": "code",
   "execution_count": null,
   "id": "ab54aef2-c8b1-4c65-86e0-675b8e77a64d",
   "metadata": {},
   "outputs": [],
   "source": [
    "meta = pd.read_csv(\"/PATH/AMPPD_releasev2_covariates_Feb2021.csv\")\n",
    "print(meta.shape)\n",
    "print(meta.head())"
   ]
  },
  {
   "cell_type": "code",
   "execution_count": null,
   "id": "d6f4d7c0-aa83-4d94-baf6-62366282624e",
   "metadata": {},
   "outputs": [],
   "source": [
    "meta_merge = pd.merge(left = samples, right = meta, left_on = 'fid', right_on = 'ID')\n",
    "print(meta_merge.shape)\n",
    "print(meta_merge.head())"
   ]
  },
  {
   "cell_type": "code",
   "execution_count": null,
   "id": "9c21219a-e04f-49b9-98d4-b4128ce61451",
   "metadata": {},
   "outputs": [],
   "source": [
    "print(meta_merge.LATEST_DX.value_counts())"
   ]
  },
  {
   "cell_type": "code",
   "execution_count": null,
   "id": "d08fabfe-c02a-42c7-8662-1d420d792951",
   "metadata": {},
   "outputs": [],
   "source": [
    "ppmi_meta = meta_merge[meta_merge.ID.str.contains('PP-')]"
   ]
  },
  {
   "cell_type": "code",
   "execution_count": null,
   "id": "d3499cef-74a0-4374-9df4-b6196b2edcfe",
   "metadata": {},
   "outputs": [],
   "source": [
    "ppmi_meta['PATNO'] = ppmi_meta['ID'].str.split('-').str[1]"
   ]
  },
  {
   "cell_type": "code",
   "execution_count": null,
   "id": "d65ebace-147b-4a11-ac22-7c46b461261a",
   "metadata": {},
   "outputs": [],
   "source": [
    "ppmi_meta.shape"
   ]
  },
  {
   "cell_type": "code",
   "execution_count": null,
   "id": "0a9624ca-ade1-40f7-9f7d-ff84484b78b6",
   "metadata": {},
   "outputs": [],
   "source": [
    "#5 digit patnos should be genetic carriers, so remove those\n",
    "ppmi_meta[ppmi_meta.PATNO.str.len()==5].shape"
   ]
  },
  {
   "cell_type": "code",
   "execution_count": null,
   "id": "3a5e6d89-df63-4bbe-98a0-aa79f9ff4d99",
   "metadata": {},
   "outputs": [],
   "source": [
    "gc_ids = (ppmi_meta[ppmi_meta.PATNO.str.len()==5]['ID']).tolist()\n",
    "print(len(gc_ids))\n",
    "print(gc_ids[1:10])"
   ]
  },
  {
   "cell_type": "code",
   "execution_count": null,
   "id": "1264b335-b7b8-4d1b-96ec-7c7f744d6238",
   "metadata": {},
   "outputs": [],
   "source": [
    "samples_no_gcs = meta_merge[~meta_merge.ID.isin(gc_ids)]\n",
    "print(samples_no_gcs.shape)"
   ]
  },
  {
   "cell_type": "code",
   "execution_count": null,
   "id": "a4b9a5d7-a718-4af8-a36d-6a50f6dc659b",
   "metadata": {},
   "outputs": [],
   "source": [
    "anc = pd.read_csv(\"/PATH/genetic_ancestry_all_pca.csv\")\n",
    "print(anc.shape)\n",
    "print(anc.head())"
   ]
  },
  {
   "cell_type": "code",
   "execution_count": null,
   "id": "aedc91ee-4ee1-47df-b90e-84777e7831c0",
   "metadata": {},
   "outputs": [],
   "source": [
    "eur_samples_no_gcs = pd.merge(left = samples_no_gcs, right = anc, left_on = \"ID\", right_on = \"IID\")\n",
    "print(eur_samples_no_gcs.shape)\n",
    "\n",
    "eur_samples_no_gcs = eur_samples_no_gcs[eur_samples_no_gcs.InfPop==\"EUROPE\"]\n",
    "print(eur_samples_no_gcs.shape)\n",
    "print(eur_samples_no_gcs.head())"
   ]
  },
  {
   "cell_type": "code",
   "execution_count": null,
   "id": "62eb707d-ee4f-4839-a637-5863e2873d98",
   "metadata": {},
   "outputs": [],
   "source": [
    "eur_samples_no_gcs.columns"
   ]
  },
  {
   "cell_type": "code",
   "execution_count": null,
   "id": "26e6acae-9c38-45a7-9a4a-e05467fa4f7c",
   "metadata": {},
   "outputs": [],
   "source": []
  },
  {
   "cell_type": "markdown",
   "id": "f5a7a969-bfbb-49ad-875b-f7749c5b7a31",
   "metadata": {},
   "source": [
    "## AMP-PD Case Control"
   ]
  },
  {
   "cell_type": "code",
   "execution_count": null,
   "id": "64b511fd-9606-446a-ba19-2600c1a3471f",
   "metadata": {
    "tags": []
   },
   "outputs": [],
   "source": [
    "print(eur_samples_no_gcs.LATEST_DX.value_counts())"
   ]
  },
  {
   "cell_type": "code",
   "execution_count": null,
   "id": "37a55e36-ad41-4cf1-81d8-1fc7b8201e71",
   "metadata": {
    "tags": []
   },
   "outputs": [],
   "source": [
    "print(eur_samples_no_gcs[eur_samples_no_gcs.pheno==1].LATEST_DX.value_counts())\n",
    "print(eur_samples_no_gcs[eur_samples_no_gcs.pheno==2].LATEST_DX.value_counts())\n",
    "print(eur_samples_no_gcs[eur_samples_no_gcs.pheno==-9].LATEST_DX.value_counts())\n",
    "\n"
   ]
  },
  {
   "cell_type": "code",
   "execution_count": null,
   "id": "9614e243-0bf2-4e0a-83f3-302eca9bb792",
   "metadata": {
    "tags": []
   },
   "outputs": [],
   "source": [
    "#get list of cases and controls to keep\n",
    "cc = eur_samples_no_gcs[(eur_samples_no_gcs.pheno==1) | (eur_samples_no_gcs.pheno==2)]\n",
    "print(cc.head())\n",
    "cc[['fid','iid']].to_csv(f\"{WRKDIR}/y_male_only_bfiles/pd_eur_case_control_samples.txt\",sep=\"\\t\",header=None, index=None)"
   ]
  },
  {
   "cell_type": "code",
   "execution_count": null,
   "id": "887d49cb-a9c8-4352-84ed-7201e6720068",
   "metadata": {},
   "outputs": [],
   "source": [
    "#subset plink binaries and calculate pcs\n",
    "print(f\"plink --bfile {WRKDIR}/y_male_only_bfiles/chrY_male_hemizygous_only_het_filter_hg19_final --keep {WRKDIR}/y_male_only_bfiles/pd_eur_case_control_samples.txt --make-bed --out {WRKDIR}/y_male_only_bfiles/amppd_case_control_nogcs\")"
   ]
  },
  {
   "cell_type": "code",
   "execution_count": null,
   "id": "f1b3541f-a696-4b7b-8601-d8aab70a74eb",
   "metadata": {},
   "outputs": [],
   "source": [
    "#calc pcs of autosomes\n",
    "print(f\"plink --bfile /PATH/pruned_data --keep {WRKDIR}/y_male_only_bfiles/pd_eur_case_control_samples.txt --not-chr 23,24,25 --pca --make-bed --out {WRKDIR}/y_male_only_bfiles/amppd_case_control_autosome_pcs\")"
   ]
  },
  {
   "cell_type": "markdown",
   "id": "4b99f4f5-6127-4dbe-b4b0-b6540dbdcfaa",
   "metadata": {},
   "source": [
    "## AMP-PD LBD Case Control"
   ]
  },
  {
   "cell_type": "code",
   "execution_count": null,
   "id": "006f2770-094e-48e1-8744-f2c67eb89859",
   "metadata": {},
   "outputs": [],
   "source": [
    "print(eur_samples_no_gcs[eur_samples_no_gcs.pheno==1].LATEST_DX.value_counts())\n",
    "print(eur_samples_no_gcs[eur_samples_no_gcs.pheno==2].LATEST_DX.value_counts())\n",
    "print(eur_samples_no_gcs[eur_samples_no_gcs.pheno==-9].LATEST_DX.value_counts())"
   ]
  },
  {
   "cell_type": "code",
   "execution_count": null,
   "id": "6b92eab4-8fea-4773-9eaa-d11bd26d000a",
   "metadata": {},
   "outputs": [],
   "source": [
    "lbd_samples = eur_samples_no_gcs[(eur_samples_no_gcs.LATEST_DX=='LBD') | (eur_samples_no_gcs.LATEST_DX=='Dementia With Lewy Bodies')]\n",
    "print(len(lbd_samples))"
   ]
  },
  {
   "cell_type": "code",
   "execution_count": null,
   "id": "ac6cfb8a-71b6-4d51-9c1d-7a75931ebe64",
   "metadata": {},
   "outputs": [],
   "source": [
    "control_samples = eur_samples_no_gcs[eur_samples_no_gcs.LATEST_DX=='No PD Nor Other Neurological Disorder']\n",
    "print(len(control_samples))"
   ]
  },
  {
   "cell_type": "code",
   "execution_count": null,
   "id": "e34d671c-9e04-4466-ae60-15635b0c66d9",
   "metadata": {},
   "outputs": [],
   "source": [
    "lbd_cc = eur_samples_no_gcs[(eur_samples_no_gcs.fid.isin(lbd_samples.fid)) | (eur_samples_no_gcs.fid.isin(control_samples.fid))]\n",
    "lbd_cc.pheno = -9\n",
    "lbd_cc.loc[lbd_cc.fid.isin(lbd_samples.fid.tolist()),'pheno'] = 2\n",
    "lbd_cc.loc[lbd_cc.fid.isin(control_samples.fid.tolist()),'pheno'] = 1\n",
    "print(lbd_cc.shape)\n"
   ]
  },
  {
   "cell_type": "code",
   "execution_count": null,
   "id": "f621f040-b8d5-4d1f-9a7a-9e0158b3779d",
   "metadata": {},
   "outputs": [],
   "source": []
  },
  {
   "cell_type": "code",
   "execution_count": null,
   "id": "265b1736-b14e-45e0-a260-d07920e65e76",
   "metadata": {},
   "outputs": [],
   "source": [
    "lbd_cc['pheno'].value_counts()"
   ]
  },
  {
   "cell_type": "code",
   "execution_count": null,
   "id": "54880537-c05d-4017-921b-8364559605d0",
   "metadata": {},
   "outputs": [],
   "source": [
    "#get list of lbd cases and controls to keep\n",
    "lbd_cc[['fid','iid']].to_csv(f\"{WRKDIR}/y_male_only_bfiles/lbd_eur_case_control_samples.txt\",sep=\"\\t\",header=None, index=None)"
   ]
  },
  {
   "cell_type": "code",
   "execution_count": null,
   "id": "0a69a31e-9748-4df6-a9c8-853cf6c979b4",
   "metadata": {},
   "outputs": [],
   "source": [
    "#subset plink binaries and calculate pcs\n",
    "print(f\"plink --bfile {WRKDIR}/y_male_only_bfiles/chrY_male_hemizygous_only_het_filter_hg19_final --keep {WRKDIR}/y_male_only_bfiles/lbd_eur_case_control_samples.txt --make-bed --out {WRKDIR}/y_male_only_bfiles/amppd_lbd_case_control_nogcs\")"
   ]
  },
  {
   "cell_type": "code",
   "execution_count": null,
   "id": "c5b0d032-af8a-48e5-a1a2-a754791e528d",
   "metadata": {},
   "outputs": [],
   "source": [
    "#calc pcs of autosomes\n",
    "print(f\"plink --bfile /PATH/pruned_data --keep {WRKDIR}/y_male_only_bfiles/lbd_eur_case_control_samples.txt --not-chr 23,24,25 --pca --make-bed --out {WRKDIR}/y_male_only_bfiles/amppd_lbd_case_control_autosome_pcs\")"
   ]
  },
  {
   "cell_type": "code",
   "execution_count": null,
   "id": "de981874-1b3b-407f-a898-4fa596e51b35",
   "metadata": {},
   "outputs": [],
   "source": [
    "#recode the lbd phenotypes\n",
    "fam = pd.read_table(f\"{WRKDIR}/y_male_only_bfiles/amppd_lbd_case_control_nogcs.fam\",sep=\"\\s+\",header=None)\n",
    "fam.columns = ['fid','iid','pid','mid','sex','pheno']\n",
    "print(fam.shape)\n",
    "print(fam.head())\n",
    "print(fam.pheno.value_counts())"
   ]
  },
  {
   "cell_type": "code",
   "execution_count": null,
   "id": "d53f69c2-c9e3-493b-a9a1-7a105a81bb94",
   "metadata": {},
   "outputs": [],
   "source": [
    "fam.loc[fam.fid.isin(lbd_samples.fid.tolist()),'pheno']=2\n",
    "fam.loc[fam.fid.isin(control_samples.fid.tolist()),'pheno']=1\n",
    "print(fam.pheno.value_counts())"
   ]
  },
  {
   "cell_type": "code",
   "execution_count": null,
   "id": "841a0554-c873-48b0-8336-febdaeed36a3",
   "metadata": {},
   "outputs": [],
   "source": [
    "fam.to_csv(f\"{WRKDIR}/y_male_only_bfiles/amppd_lbd_case_control_nogcs.fam\",header=None, index = None, sep = \" \")"
   ]
  },
  {
   "cell_type": "code",
   "execution_count": null,
   "id": "ba0251fa-6c4a-4567-93c5-80d9b3464b4d",
   "metadata": {},
   "outputs": [],
   "source": []
  },
  {
   "cell_type": "code",
   "execution_count": null,
   "id": "383d4a19-e64f-4e02-8c13-930577ed4671",
   "metadata": {},
   "outputs": [],
   "source": []
  },
  {
   "cell_type": "code",
   "execution_count": null,
   "id": "01499583-edac-45f6-8e98-877ec4dd33eb",
   "metadata": {},
   "outputs": [],
   "source": [
    "pdcc = pd.read_csv(f\"{WRKDIR}/y_male_only_bfiles/amppd_case_control_nogcs.fam\",sep=\"\\s+\",header=None)\n",
    "pdcc.columns = ['fid','iid','pid','mid','sex','pheno']\n",
    "\n",
    "print(pdcc.shape)\n",
    "print(pdcc.head())\n",
    "print(pdcc.pheno.value_counts())"
   ]
  },
  {
   "cell_type": "code",
   "execution_count": null,
   "id": "c6e0d936-ef72-4644-804a-f51342bdd7dd",
   "metadata": {},
   "outputs": [],
   "source": [
    "lbdcc = pd.read_csv(f\"{WRKDIR}/y_male_only_bfiles/amppd_lbd_case_control_nogcs.fam\",sep=\"\\s+\",header=None)\n",
    "lbdcc.columns = ['fid','iid','pid','mid','sex','pheno']\n",
    "\n",
    "print(lbdcc.shape)\n",
    "print(lbdcc.head())\n",
    "print(lbdcc.pheno.value_counts())"
   ]
  },
  {
   "cell_type": "code",
   "execution_count": null,
   "id": "65dbb36c-8ae3-4e01-89d4-ccd1c9cad530",
   "metadata": {},
   "outputs": [],
   "source": []
  }
 ],
 "metadata": {
  "kernelspec": {
   "display_name": "python/3.6",
   "language": "python",
   "name": "py3.6"
  },
  "language_info": {
   "codemirror_mode": {
    "name": "ipython",
    "version": 3
   },
   "file_extension": ".py",
   "mimetype": "text/x-python",
   "name": "python",
   "nbconvert_exporter": "python",
   "pygments_lexer": "ipython3",
   "version": "3.6.10"
  }
 },
 "nbformat": 4,
 "nbformat_minor": 5
}
