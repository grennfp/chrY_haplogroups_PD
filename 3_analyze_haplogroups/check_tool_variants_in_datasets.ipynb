{
 "cells": [
  {
   "cell_type": "markdown",
   "id": "00970259-29c4-471b-ae31-3062e031282b",
   "metadata": {},
   "source": [
    "# Check Haplogroup Calling Tool Variants in Our Chromosome Y Datasets\n",
    "- **Author(s)** - Frank Grenn\n",
    "- **Quick Description:** check to see if most of the variants used in each tool are actually availble in our datasets. May give some insight as to how reliable/accurate the results are in some cases"
   ]
  },
  {
   "cell_type": "code",
   "execution_count": null,
   "id": "0251991e-f3e6-4dea-9ea0-54e58eeeefc5",
   "metadata": {},
   "outputs": [],
   "source": [
    "import pandas as pd\n",
    "import matplotlib.pyplot as plt\n",
    "import seaborn as sns"
   ]
  },
  {
   "cell_type": "code",
   "execution_count": null,
   "id": "420d68ea-7373-44a1-921a-0d6bcf200bd0",
   "metadata": {},
   "outputs": [],
   "source": [
    "WRKDIR = \"/PATH/chrY\""
   ]
  },
  {
   "cell_type": "code",
   "execution_count": null,
   "id": "e32df091-e44f-4576-a50b-df31c56e693d",
   "metadata": {},
   "outputs": [],
   "source": [
    "counts_df = pd.DataFrame()"
   ]
  },
  {
   "cell_type": "markdown",
   "id": "3e397673-b665-4ffd-b84e-79429fd4e9a3",
   "metadata": {},
   "source": [
    "## 1) Snappy Tool"
   ]
  },
  {
   "cell_type": "code",
   "execution_count": null,
   "id": "4dface04-7fff-4f80-bc28-0c29056be7d2",
   "metadata": {},
   "outputs": [],
   "source": [
    "snappy_vars = pd.read_csv(f\"{WRKDIR}/snappy/ref_files/pos_to_allele.txt\", sep = \"\\s+\", names = [\"pos\", \"ref\",\"alt\"], skiprows=1)\n",
    "\n",
    "\n",
    "#some positions are a range (ex: 14036721-14036724) so move original positions to another col and split to get start position\n",
    "snappy_vars['pos_original'] = snappy_vars['pos']\n",
    "snappy_vars['pos'] = snappy_vars['pos_original'].str.split(\"-\").str[0]\n",
    "snappy_vars['pos'] = snappy_vars['pos'].astype('int64')\n",
    "print(snappy_vars.shape)\n",
    "print(snappy_vars.head())"
   ]
  },
  {
   "cell_type": "code",
   "execution_count": null,
   "id": "f93311f8-2361-43cb-a980-3f0c98aadb47",
   "metadata": {},
   "outputs": [],
   "source": [
    "snappy_vars2 = pd.read_csv(f\"{WRKDIR}/snappy/ref_files/pos_to_allele.txt\", sep = \"\\s+\", names = [\"pos\", \"alt\",\"ref\"], skiprows=1)\n",
    "\n",
    "\n",
    "#some positions are a range (ex: 14036721-14036724) so move original positions to another col and split to get start position\n",
    "snappy_vars2['pos_original'] = snappy_vars2['pos']\n",
    "snappy_vars2['pos'] = snappy_vars2['pos_original'].str.split(\"-\").str[0]\n",
    "snappy_vars2['pos'] = snappy_vars2['pos'].astype('int64')\n",
    "print(snappy_vars2.shape)\n",
    "print(snappy_vars2.head())"
   ]
  },
  {
   "cell_type": "code",
   "execution_count": null,
   "id": "38806019-a5e0-4d81-a5b6-cdc1ceb0edc9",
   "metadata": {},
   "outputs": [],
   "source": []
  },
  {
   "cell_type": "markdown",
   "id": "41861bf8-9fb2-47c6-8ce2-311fdc019009",
   "metadata": {},
   "source": [
    "#### AMP PD"
   ]
  },
  {
   "cell_type": "code",
   "execution_count": null,
   "id": "c81819d9-a059-49b5-a30f-4b43f51822bd",
   "metadata": {},
   "outputs": [],
   "source": [
    "amppd = pd.read_table(f\"{WRKDIR}/y_male_only_bfiles/chrY_male_hemizygous_only_het_filter_hg19_final.bim\",header=None)\n",
    "amppd.columns = ['chr','snp','idk','pos','alt','ref']\n",
    "print(amppd.shape)\n",
    "print(amppd.head())"
   ]
  },
  {
   "cell_type": "code",
   "execution_count": null,
   "id": "48e85dff-7875-4247-a28d-9879b339f3a9",
   "metadata": {},
   "outputs": [],
   "source": [
    "merge_amp = pd.merge(left = snappy_vars, right = amppd, left_on = ['pos','ref','alt'], right_on = ['pos','ref','alt'], how = 'inner')\n",
    "print(merge_amp.shape)\n",
    "print(pd.merge(left = snappy_vars2, right = amppd, left_on = ['pos','ref','alt'], right_on = ['pos','ref','alt'], how = 'inner').shape)"
   ]
  },
  {
   "cell_type": "markdown",
   "id": "9bd9f1ee-9043-4f4b-a99e-86d10bc74794",
   "metadata": {},
   "source": [
    "#### UKBB"
   ]
  },
  {
   "cell_type": "code",
   "execution_count": null,
   "id": "740e65eb-5861-46d6-898b-c0b5cd3e8403",
   "metadata": {},
   "outputs": [],
   "source": [
    "ukbb = pd.read_table(f\"{WRKDIR}/y_ukbb/chrY_male_only.bim\",header=None)\n",
    "ukbb.columns = ['chr','snp','idk','pos','alt','ref']\n",
    "print(ukbb.shape)\n",
    "print(ukbb.head())"
   ]
  },
  {
   "cell_type": "code",
   "execution_count": null,
   "id": "4da792f9-38c1-44d5-b617-ea87cfa98186",
   "metadata": {},
   "outputs": [],
   "source": [
    "merge_ukbb = pd.merge(left = snappy_vars, right = ukbb, left_on = ['pos','ref','alt'], right_on = ['pos','ref','alt'], how = 'inner')\n",
    "print(merge_ukbb.shape)\n",
    "print(pd.merge(left = snappy_vars2, right = ukbb, left_on = ['pos','ref','alt'], right_on = ['pos','ref','alt'], how = 'inner').shape)"
   ]
  },
  {
   "cell_type": "markdown",
   "id": "fec32368-2cdc-463d-a196-984e54a8eafa",
   "metadata": {},
   "source": [
    "#### NABEC"
   ]
  },
  {
   "cell_type": "code",
   "execution_count": null,
   "id": "ab8eec32-20a7-41d3-8844-34dfe3ea1ca5",
   "metadata": {},
   "outputs": [],
   "source": [
    "nabec = pd.read_table(f\"{WRKDIR}/y_nabec_files/nabec_males_only_hg19_chrY.bim\",header=None)\n",
    "nabec.columns = ['chr','snp','idk','pos','alt','ref']\n",
    "print(nabec.shape)\n",
    "print(nabec.head())"
   ]
  },
  {
   "cell_type": "code",
   "execution_count": null,
   "id": "ea5ebdde-559c-46a5-b285-a4e75334da80",
   "metadata": {},
   "outputs": [],
   "source": [
    "merge_nabec = pd.merge(left = snappy_vars, right = nabec, left_on = ['pos','ref','alt'], right_on = ['pos','ref','alt'], how = 'inner')\n",
    "print(merge_nabec.shape)\n",
    "print(pd.merge(left = snappy_vars2, right = nabec, left_on = ['pos','ref','alt'], right_on = ['pos','ref','alt'], how = 'inner').shape)"
   ]
  },
  {
   "cell_type": "markdown",
   "id": "c08972d6-a69b-4b0d-9b18-0a15190217f6",
   "metadata": {},
   "source": [
    "#### NEUROX"
   ]
  },
  {
   "cell_type": "code",
   "execution_count": null,
   "id": "d28c3ad6-a98b-41b4-9b51-64b49305f9f3",
   "metadata": {},
   "outputs": [],
   "source": [
    "neurox = pd.read_table(f\"{WRKDIR}/y_neurox/neurox_chrY_male_only.bim\",header=None)\n",
    "neurox.columns = ['chr','snp','idk','pos','alt','ref']\n",
    "print(neurox.shape)\n",
    "print(neurox.head())"
   ]
  },
  {
   "cell_type": "code",
   "execution_count": null,
   "id": "84948985-3976-43a4-979d-5ad32ab058e1",
   "metadata": {},
   "outputs": [],
   "source": [
    "merge_neurox = pd.merge(left = snappy_vars, right = neurox, left_on = ['pos','ref','alt'], right_on = ['pos','ref','alt'], how = 'inner')\n",
    "print(merge_neurox.shape)\n",
    "print(pd.merge(left = snappy_vars2, right = neurox, left_on = ['pos','ref','alt'], right_on = ['pos','ref','alt'], how = 'inner').shape)"
   ]
  },
  {
   "cell_type": "code",
   "execution_count": null,
   "id": "eb68d94a-a371-4f3f-a4e5-248dd5665669",
   "metadata": {},
   "outputs": [],
   "source": [
    "count_df = pd.DataFrame({'tool':['snappy'],'tool_var_count':[len(snappy_vars.index)],'AMPPD_var_count':[len(merge_amp.index)],'UKBB_var_count':[len(merge_ukbb.index)],'NABEC_var_count':[len(merge_nabec.index)],'NEUROX_var_count':[len(merge_neurox.index)]})\n",
    "count_df"
   ]
  },
  {
   "cell_type": "markdown",
   "id": "ef62e2c0-8fac-4e9e-bfe2-64ebd18f1844",
   "metadata": {},
   "source": [
    "## 2) Yhaplo Tool"
   ]
  },
  {
   "cell_type": "code",
   "execution_count": null,
   "id": "a942abb8-35b2-4024-a5af-884dc856dcb4",
   "metadata": {
    "tags": []
   },
   "outputs": [],
   "source": [
    "yhaplo_vars = pd.read_table(f\"{WRKDIR}/yhaplo/yhaplo/input/isogg.2016.01.04.txt\", error_bad_lines = False)\n",
    "\n",
    "yhaplo_vars['ref'] = yhaplo_vars['Mutation'].str.split('->').str[0]\n",
    "yhaplo_vars['alt'] = yhaplo_vars['Mutation'].str.split('->').str[1]\n",
    "\n",
    "#format the positions\n",
    "yhaplo_vars['pos'] = yhaplo_vars['Y-position (GRCh37)'].str.strip()\n",
    "print(yhaplo_vars.shape)\n",
    "yhaplo_vars= yhaplo_vars[yhaplo_vars['pos']!=\"\"]\n",
    "print(yhaplo_vars.loc[yhaplo_vars['pos'].str.contains(\";\"),'pos'].shape)\n",
    "print(yhaplo_vars.loc[yhaplo_vars['pos'].str.contains(\"\\.\\.\"),'pos'].shape)\n",
    "print(yhaplo_vars.loc[yhaplo_vars['pos'].str.contains(\"-\"),'pos'].shape)\n",
    "\n",
    "yhaplo_vars.loc[yhaplo_vars['pos'].str.contains(\";\"),'pos'] = yhaplo_vars.loc[yhaplo_vars['pos'].str.contains(\";\"),'pos'].str.split(\";\").str[0]\n",
    "yhaplo_vars.loc[yhaplo_vars['pos'].str.contains(\"\\.\\.\"),'pos'] = yhaplo_vars.loc[yhaplo_vars['pos'].str.contains(\"\\.\\.\"),'pos'].str.split(\"\\.\\.\").str[0]\n",
    "yhaplo_vars.loc[yhaplo_vars['pos'].str.contains(\"-\"),'pos'] = yhaplo_vars.loc[yhaplo_vars['pos'].str.contains(\"-\"),'pos'].str.split(\"-\").str[0]\n",
    "print(yhaplo_vars[yhaplo_vars['pos']==\"\"])\n",
    "\n",
    "yhaplo_vars['pos'] = yhaplo_vars['pos'].astype('int64')\n",
    "\n",
    "print(yhaplo_vars.shape)\n",
    "print(yhaplo_vars.head())\n",
    "print(yhaplo_vars.tail())"
   ]
  },
  {
   "cell_type": "code",
   "execution_count": null,
   "id": "192d2a48-4829-4c62-9b94-0dd97b584278",
   "metadata": {},
   "outputs": [],
   "source": [
    "yhaplo_vars2 = pd.read_table(f\"{WRKDIR}/yhaplo/yhaplo/input/isogg.2016.01.04.txt\", error_bad_lines = False)\n",
    "\n",
    "yhaplo_vars2['alt'] = yhaplo_vars2['Mutation'].str.split('->').str[0]\n",
    "yhaplo_vars2['ref'] = yhaplo_vars2['Mutation'].str.split('->').str[1]\n",
    "\n",
    "#format the positions\n",
    "yhaplo_vars2['pos'] = yhaplo_vars2['Y-position (GRCh37)'].str.strip()\n",
    "\n",
    "yhaplo_vars2= yhaplo_vars2[yhaplo_vars2['pos']!=\"\"]\n",
    "\n",
    "\n",
    "yhaplo_vars2.loc[yhaplo_vars2['pos'].str.contains(\";\"),'pos'] = yhaplo_vars2.loc[yhaplo_vars2['pos'].str.contains(\";\"),'pos'].str.split(\";\").str[0]\n",
    "yhaplo_vars2.loc[yhaplo_vars2['pos'].str.contains(\"\\.\\.\"),'pos'] = yhaplo_vars2.loc[yhaplo_vars2['pos'].str.contains(\"\\.\\.\"),'pos'].str.split(\"\\.\\.\").str[0]\n",
    "yhaplo_vars2.loc[yhaplo_vars2['pos'].str.contains(\"-\"),'pos'] = yhaplo_vars2.loc[yhaplo_vars2['pos'].str.contains(\"-\"),'pos'].str.split(\"-\").str[0]\n",
    "\n",
    "\n",
    "yhaplo_vars2['pos'] = yhaplo_vars2['pos'].astype('int64')\n"
   ]
  },
  {
   "cell_type": "code",
   "execution_count": null,
   "id": "60a29516-ed90-4a8f-9079-f38d548f8c5a",
   "metadata": {},
   "outputs": [],
   "source": [
    "# AMPPD\n",
    "merge_amp = pd.merge(left = yhaplo_vars, right = amppd, left_on = ['pos','ref','alt'], right_on = ['pos','ref','alt'], how = 'inner')\n",
    "print(merge_amp.shape)\n",
    "print(pd.merge(left = yhaplo_vars2, right = amppd, left_on = ['pos','ref','alt'], right_on = ['pos','ref','alt'], how = 'inner').shape)"
   ]
  },
  {
   "cell_type": "code",
   "execution_count": null,
   "id": "1a913bcd-1916-4c91-b3dd-b3976c32d4d1",
   "metadata": {},
   "outputs": [],
   "source": [
    "merge_ukbb = pd.merge(left = yhaplo_vars, right = ukbb, left_on = ['pos','ref','alt'], right_on = ['pos','ref','alt'], how = 'inner')\n",
    "print(merge_ukbb.shape)\n",
    "print(pd.merge(left = yhaplo_vars2, right = ukbb, left_on = ['pos','ref','alt'], right_on = ['pos','ref','alt'], how = 'inner').shape)"
   ]
  },
  {
   "cell_type": "code",
   "execution_count": null,
   "id": "ca5026ec-87f8-4de8-8dff-eff46f161c01",
   "metadata": {},
   "outputs": [],
   "source": [
    "merge_nabec = pd.merge(left = yhaplo_vars, right = nabec, left_on = ['pos','ref','alt'], right_on = ['pos','ref','alt'], how = 'inner')\n",
    "print(merge_nabec.shape)\n",
    "print(pd.merge(left = yhaplo_vars2, right = nabec, left_on = ['pos','ref','alt'], right_on = ['pos','ref','alt'], how = 'inner').shape)"
   ]
  },
  {
   "cell_type": "code",
   "execution_count": null,
   "id": "dc59e8bf-dda0-4fee-8618-fc47248feed3",
   "metadata": {},
   "outputs": [],
   "source": [
    "merge_neurox = pd.merge(left = yhaplo_vars, right = neurox, left_on = ['pos','ref','alt'], right_on = ['pos','ref','alt'], how = 'inner')\n",
    "print(merge_neurox.shape)\n",
    "print(pd.merge(left = yhaplo_vars2, right = neurox, left_on = ['pos','ref','alt'], right_on = ['pos','ref','alt'], how = 'inner').shape)"
   ]
  },
  {
   "cell_type": "code",
   "execution_count": null,
   "id": "3f361f6d-310f-4e83-a34a-9cf0f6d8a5d2",
   "metadata": {},
   "outputs": [],
   "source": [
    "count_df = count_df.append(pd.DataFrame({'tool':['yhaplo'],'tool_var_count':[len(yhaplo_vars.index)],'AMPPD_var_count':[len(merge_amp.index)],'UKBB_var_count':[len(merge_ukbb.index)],'NABEC_var_count':[len(merge_nabec.index)],'NEUROX_var_count':[len(merge_neurox.index)]}))\n",
    "count_df"
   ]
  },
  {
   "cell_type": "code",
   "execution_count": null,
   "id": "6e533298-dfbc-4df8-891e-f5b4b98dd3da",
   "metadata": {},
   "outputs": [],
   "source": []
  },
  {
   "cell_type": "markdown",
   "id": "931fa9d4-ee8e-4095-884d-b6674e4762da",
   "metadata": {},
   "source": [
    "## 3) YLineageTracker Tool"
   ]
  },
  {
   "cell_type": "code",
   "execution_count": null,
   "id": "32efefc6-4533-42f8-9c93-d142fdd2da41",
   "metadata": {},
   "outputs": [],
   "source": [
    "ltrack_vars = pd.read_csv(f\"{WRKDIR}/../Y-LineageTracker/LineageTracker/Data/HaplogroupInfo.csv\")\n",
    "\n",
    "ltrack_vars['pos'] = ltrack_vars['Build37']\n",
    "ltrack_vars['ref'] = ltrack_vars['MutationInfo'].str.split(\"->\").str[0]\n",
    "ltrack_vars['alt'] = ltrack_vars['MutationInfo'].str.split(\"->\").str[1]\n",
    "\n",
    "print(ltrack_vars.dtypes)\n",
    "print(ltrack_vars.shape)\n",
    "print(ltrack_vars.head())"
   ]
  },
  {
   "cell_type": "code",
   "execution_count": null,
   "id": "b83b97ae-3a28-4758-b892-93dd54467a34",
   "metadata": {},
   "outputs": [],
   "source": [
    "ltrack_vars2 = pd.read_csv(f\"{WRKDIR}/../Y-LineageTracker/LineageTracker/Data/HaplogroupInfo.csv\")\n",
    "\n",
    "ltrack_vars2['pos'] = ltrack_vars2['Build37']\n",
    "ltrack_vars2['alt'] = ltrack_vars2['MutationInfo'].str.split(\"->\").str[0]\n",
    "ltrack_vars2['ref'] = ltrack_vars2['MutationInfo'].str.split(\"->\").str[1]\n",
    "\n",
    "print(ltrack_vars2.dtypes)\n",
    "print(ltrack_vars2.shape)\n",
    "print(ltrack_vars2.head())"
   ]
  },
  {
   "cell_type": "code",
   "execution_count": null,
   "id": "5614dfbc-694f-4eb4-954e-59c2dbd18e24",
   "metadata": {},
   "outputs": [],
   "source": [
    "# AMPPD\n",
    "merge_amp = pd.merge(left = ltrack_vars, right = amppd, left_on = ['pos','ref','alt'], right_on = ['pos','ref','alt'], how = 'inner')\n",
    "print(merge_amp.shape)\n",
    "print(pd.merge(left = ltrack_vars2, right = amppd, left_on = ['pos','ref','alt'], right_on = ['pos','ref','alt'], how = 'inner').shape)"
   ]
  },
  {
   "cell_type": "code",
   "execution_count": null,
   "id": "4337515d-d12c-48eb-86c4-b0439d5f0099",
   "metadata": {},
   "outputs": [],
   "source": [
    "merge_ukbb = pd.merge(left = ltrack_vars, right = ukbb, left_on = ['pos','ref','alt'], right_on = ['pos','ref','alt'], how = 'inner')\n",
    "print(merge_ukbb.shape)\n",
    "print(pd.merge(left = ltrack_vars2, right = ukbb, left_on = ['pos','ref','alt'], right_on = ['pos','ref','alt'], how = 'inner').shape)"
   ]
  },
  {
   "cell_type": "code",
   "execution_count": null,
   "id": "285b7aa9-5ed4-41cd-acd2-f65a416d9c4c",
   "metadata": {},
   "outputs": [],
   "source": [
    "merge_nabec = pd.merge(left = ltrack_vars, right = nabec, left_on = ['pos','ref','alt'], right_on = ['pos','ref','alt'], how = 'inner')\n",
    "print(merge_nabec.shape)\n",
    "print(pd.merge(left = ltrack_vars2, right = nabec, left_on = ['pos','ref','alt'], right_on = ['pos','ref','alt'], how = 'inner').shape)"
   ]
  },
  {
   "cell_type": "code",
   "execution_count": null,
   "id": "28785cee-5082-4b00-919b-05226ae2cd47",
   "metadata": {},
   "outputs": [],
   "source": [
    "merge_neurox = pd.merge(left = ltrack_vars, right = neurox, left_on = ['pos','ref','alt'], right_on = ['pos','ref','alt'], how = 'inner')\n",
    "print(merge_neurox.shape)\n",
    "print(pd.merge(left = ltrack_vars2, right = neurox, left_on = ['pos','ref','alt'], right_on = ['pos','ref','alt'], how = 'inner').shape)"
   ]
  },
  {
   "cell_type": "code",
   "execution_count": null,
   "id": "145cf872-5da3-4b69-8002-5dba79e9af9f",
   "metadata": {},
   "outputs": [],
   "source": [
    "count_df = count_df.append(pd.DataFrame({'tool':['ltrack'],'tool_var_count':[len(ltrack_vars.index)],'AMPPD_var_count':[len(merge_amp.index)],'UKBB_var_count':[len(merge_ukbb.index)],'NABEC_var_count':[len(merge_nabec.index)],'NEUROX_var_count':[len(merge_neurox.index)]}))\n",
    "count_df"
   ]
  },
  {
   "cell_type": "code",
   "execution_count": null,
   "id": "99df36d2-cbf4-4d8b-b76d-18f8bad66ac2",
   "metadata": {},
   "outputs": [],
   "source": [
    "#add dataset variant counts\n",
    "count_df = count_df.append(pd.DataFrame({'tool':['NA'],'tool_var_count':['NA'],'AMPPD_var_count':[len(amppd.index)],'UKBB_var_count':[len(ukbb.index)],'NABEC_var_count':[len(nabec.index)],'NEUROX_var_count':[len(neurox.index)]}))\n",
    "count_df"
   ]
  },
  {
   "cell_type": "code",
   "execution_count": null,
   "id": "3aef11f5-6c93-4a40-9f13-3c04f2f14eb4",
   "metadata": {},
   "outputs": [],
   "source": [
    "count_df"
   ]
  },
  {
   "cell_type": "code",
   "execution_count": null,
   "id": "5bd9f082-b8cd-48ff-9092-1593f7cb917f",
   "metadata": {},
   "outputs": [],
   "source": [
    "temp_df = count_df[['tool','AMPPD_var_count']]\n",
    "temp_df.columns = ['tool','variant count']\n",
    "temp_df['Cohort'] = 'AMPPD'\n",
    "print(temp_df)\n",
    "\n",
    "plot_df = temp_df.copy()\n",
    "\n",
    "\n",
    "temp_df = count_df[['tool','UKBB_var_count']]\n",
    "temp_df.columns = ['tool','variant count']\n",
    "temp_df['Cohort'] = 'UKBB'\n",
    "print(temp_df)\n",
    "\n",
    "plot_df = plot_df.append(temp_df)\n",
    "\n",
    "temp_df = count_df[['tool','NABEC_var_count']]\n",
    "temp_df.columns = ['tool','variant count']\n",
    "temp_df['Cohort'] = 'NABEC'\n",
    "print(temp_df)\n",
    "\n",
    "plot_df = plot_df.append(temp_df)\n",
    "\n",
    "temp_df = count_df[['tool','NEUROX_var_count']]\n",
    "temp_df.columns = ['tool','variant count']\n",
    "temp_df['Cohort'] = 'NEUROX'\n",
    "print(temp_df)\n",
    "\n",
    "plot_df = plot_df.append(temp_df)\n",
    "\n",
    "temp_df = count_df[['tool','tool_var_count']]\n",
    "temp_df.columns = ['tool','variant count']\n",
    "temp_df['Cohort'] = 'tool'\n",
    "print(temp_df)\n",
    "\n",
    "plot_df = plot_df.append(temp_df)\n",
    "\n",
    "plot_df.loc[plot_df['tool']=='NA','tool']='Cohort'\n",
    "plot_df.loc[plot_df['variant count']=='NA','variant count']=0\n",
    "\n",
    "plot_df_dataset_count = plot_df.copy()\n",
    "plot_df = plot_df.loc[plot_df['tool']!='Cohort']\n",
    "\n",
    "print(plot_df)"
   ]
  },
  {
   "cell_type": "code",
   "execution_count": null,
   "id": "7562d381-ece7-41c4-a1fc-21579d03449a",
   "metadata": {},
   "outputs": [],
   "source": [
    "plot_df['variant count'] = plot_df['variant count'].astype('int32')"
   ]
  },
  {
   "cell_type": "code",
   "execution_count": null,
   "id": "b7c23333-29a7-4063-ab6d-b6d72716382d",
   "metadata": {},
   "outputs": [],
   "source": [
    "plot_df"
   ]
  },
  {
   "cell_type": "code",
   "execution_count": null,
   "id": "dc3ec744-8779-44eb-9396-395e6516463d",
   "metadata": {},
   "outputs": [],
   "source": [
    "dataset_count_df = plot_df_dataset_count.loc[(plot_df_dataset_count['tool']=='Cohort') & (plot_df_dataset_count['Cohort']!='tool')]\n",
    "dataset_count_df = dataset_count_df[dataset_count_df['Cohort']!='NABEC']\n",
    "print(dataset_count_df)"
   ]
  },
  {
   "cell_type": "code",
   "execution_count": null,
   "id": "339ad51a-ba71-4696-a39b-2b12b243785f",
   "metadata": {},
   "outputs": [],
   "source": [
    "tool_total_df = plot_df.loc[plot_df['Cohort']=='tool']\n",
    "print(tool_total_df)"
   ]
  },
  {
   "cell_type": "code",
   "execution_count": null,
   "id": "fcc40916-4d12-41e7-b38e-bb430a93c51e",
   "metadata": {},
   "outputs": [],
   "source": [
    "percent_df = plot_df.copy()\n",
    "percent_df['percent tool variants'] =0\n",
    "percent_df.loc[percent_df['tool']=='snappy','percent tool variants'] = percent_df.loc[percent_df['tool']=='snappy','variant count']/29586 * 100\n",
    "percent_df.loc[percent_df['tool']=='yhaplo','percent tool variants'] = percent_df.loc[percent_df['tool']=='yhaplo','variant count']/20771 * 100\n",
    "percent_df.loc[percent_df['tool']=='ltrack','percent tool variants'] = percent_df.loc[percent_df['tool']=='ltrack','variant count']/74569 * 100\n",
    "\n",
    "\n",
    "print(percent_df)\n",
    "percent_df = percent_df.loc[(percent_df['Cohort']!='tool') &(percent_df['Cohort']!='NABEC')]\n",
    "print(percent_df)\n"
   ]
  },
  {
   "cell_type": "code",
   "execution_count": null,
   "id": "c10a825b-66e1-4e6c-b996-5ebc638df060",
   "metadata": {},
   "outputs": [],
   "source": [
    "no_total_count_df = plot_df.copy()\n",
    "no_total_count_df = no_total_count_df.loc[(no_total_count_df['Cohort']!='tool') & (no_total_count_df['Cohort']!='NABEC')]\n",
    "print(no_total_count_df)"
   ]
  },
  {
   "cell_type": "markdown",
   "id": "fb2b7f6c-cc55-4d8d-aae3-56d93b516f0d",
   "metadata": {},
   "source": [
    "## 4) Plot"
   ]
  },
  {
   "cell_type": "code",
   "execution_count": null,
   "id": "bc29ec93-040b-4dc7-b996-e8b7c402cc4e",
   "metadata": {},
   "outputs": [],
   "source": []
  },
  {
   "cell_type": "code",
   "execution_count": null,
   "id": "49d15104-5045-4818-bc41-0b2b63819860",
   "metadata": {},
   "outputs": [],
   "source": [
    "fig = plt.figure(figsize=(14, 8), dpi=80)\n",
    "fig.subplots_adjust(hspace=0.5, wspace=0.2)\n",
    "\n",
    "sns.set()\n",
    " #add subplot\n",
    "ax1 = fig.add_subplot(2,2,1)\n",
    "\n",
    "#plot\n",
    "sns.set()\n",
    "#plt.figure(figsize=(10,10))\n",
    "\n",
    "sns_plot = sns.barplot(x=\"Cohort\", y=\"variant count\", data=dataset_count_df)\n",
    "#sns_plot.get_legend().remove()\n",
    "\n",
    "plt.xlabel(\"Cohort\")\n",
    "plt.ylabel(\"Variant Count\")\n",
    "plt.title(\"Number of Chromosome Y Variants Per Cohort\")\n",
    "\n",
    "\n",
    "\n",
    "#annotate axis = seaborn axis\n",
    "for p in sns_plot.patches:\n",
    "    sns_plot.annotate(\"%.0f\" % p.get_height(), (p.get_x() + p.get_width() / 2., p.get_height()/2),\n",
    "                ha='center', va='center', fontsize=11, color='black', xytext=(0, 20),\n",
    "                textcoords='offset points')\n",
    "#_ = g.set_ylim(0,120) #To make space for the annotations\n",
    "\n",
    "\n",
    "\n",
    "sns.set()\n",
    " #add subplot\n",
    "ax2 = fig.add_subplot(2,2,2)\n",
    "\n",
    "sns_plot = sns.barplot(x=\"tool\", y=\"variant count\", data=tool_total_df)\n",
    "#sns_plot.get_legend().remove()\n",
    "\n",
    "plt.xlabel(\"Tool\")\n",
    "plt.ylabel(\"Variant Count\")\n",
    "plt.title(\"Number of Chromosome Y Variants in Tool Reference\")\n",
    "\n",
    "\n",
    "sns.set()\n",
    " #add subplot\n",
    "ax3 = fig.add_subplot(2,2,3)\n",
    "\n",
    "sns_plot = sns.barplot(x=\"tool\", y=\"variant count\", hue=\"Cohort\", data=no_total_count_df)\n",
    "\n",
    "plt.xlabel(\"Tool\")\n",
    "plt.ylabel(\"Variants Count\")\n",
    "plt.title(\"Number of Cohort Variants Found in Tool Reference\")\n",
    "\n",
    "\n",
    "#plot\n",
    "sns.set()\n",
    "ax4 = fig.add_subplot(2,2,4)\n",
    "\n",
    "\n",
    "\n",
    "\n",
    "sns_plot = sns.barplot(x=\"tool\", y=\"percent tool variants\", hue=\"Cohort\", data=percent_df)\n",
    "#sns_plot.get_legend().remove()\n",
    "\n",
    "plt.xlabel(\"Tool\")\n",
    "plt.ylabel(\"Percent\")\n",
    "plt.title(\"Percent of Cohort Variants Included in Tool Reference\")\n",
    "\n",
    "\n",
    "            \n",
    "fig.suptitle(\"Y Chromosome Variant Counts in Cohorts and Haplogroup Calling Tools\")\n",
    "\n",
    "sns_plot.get_figure().savefig(f\"{WRKDIR}/dataset_tool_variant_counts.png\",bbox_inches='tight') "
   ]
  },
  {
   "cell_type": "code",
   "execution_count": null,
   "id": "c76d4f01-601c-45c8-8f19-60d69894275f",
   "metadata": {},
   "outputs": [],
   "source": []
  }
 ],
 "metadata": {
  "kernelspec": {
   "display_name": "python/3.7",
   "language": "python",
   "name": "py3.7"
  },
  "language_info": {
   "codemirror_mode": {
    "name": "ipython",
    "version": 3
   },
   "file_extension": ".py",
   "mimetype": "text/x-python",
   "name": "python",
   "nbconvert_exporter": "python",
   "pygments_lexer": "ipython3",
   "version": "3.7.5"
  }
 },
 "nbformat": 4,
 "nbformat_minor": 5
}
