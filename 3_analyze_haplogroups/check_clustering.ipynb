{
 "cells": [
  {
   "cell_type": "markdown",
   "metadata": {},
   "source": [
    "# Check PCA Clustering\n",
    "- **Author(s)** - Frank Grenn\n",
    "- **Date Started** - March  2021\n",
    "- **Quick Description:** calculate principal components for AMP-PD chrY data and plot to visualize clustering."
   ]
  },
  {
   "cell_type": "code",
   "execution_count": null,
   "metadata": {},
   "outputs": [],
   "source": [
    "import matplotlib.pyplot as plt\n",
    "import numpy as np\n",
    "import pandas as pd\n",
    "import seaborn as sns"
   ]
  },
  {
   "cell_type": "code",
   "execution_count": null,
   "metadata": {},
   "outputs": [],
   "source": [
    "WRKDIR = \"$PATH/chrY\"\n",
    "BFILEDIR = f\"{WRKDIR}/y_male_only_bfiles\"\n",
    "OUTDIR = f\"{WRKDIR}/output_male_hemizygous_only_het_filter_run\"\n",
    "CARDDIR = \"$PATH\""
   ]
  },
  {
   "cell_type": "markdown",
   "metadata": {},
   "source": [
    "### Get European Samples"
   ]
  },
  {
   "cell_type": "code",
   "execution_count": null,
   "metadata": {},
   "outputs": [],
   "source": [
    "anc = pd.read_csv(f\"{CARDDIR}/PD/AMP-PD/Plink/2021_v2_5release/euro_king_pca_v2.5_July2021/genetic_ancestry_all_pca.csv\")\n",
    "print(anc.shape)\n",
    "print(anc.head())"
   ]
  },
  {
   "cell_type": "code",
   "execution_count": null,
   "metadata": {},
   "outputs": [],
   "source": [
    "anc[anc.InfPop==\"EUROPE\"][['#FID','IID']].to_csv(f\"{BFILEDIR}/eur_samples.txt\",header=None,index=None,sep=\"\\t\")"
   ]
  },
  {
   "cell_type": "markdown",
   "metadata": {},
   "source": [
    "### Get PCs with Plink\n"
   ]
  },
  {
   "cell_type": "code",
   "execution_count": null,
   "metadata": {},
   "outputs": [],
   "source": [
    "print(f\"plink --bfile {BFILEDIR}/chrY_male_hemizygous_only_het_filter_hg19_final --keep {BFILEDIR}/eur_samples.txt --make-bed --out amppd_male_eur\")"
   ]
  },
  {
   "cell_type": "code",
   "execution_count": null,
   "metadata": {},
   "outputs": [],
   "source": [
    "temp = pd.read_csv(f\"{BFILEDIR}/amppd_male_eur.bim\",sep = \"\\t\",header=None)\n",
    "temp.columns = ['chr','snp','pos','bp','ref','alt']\n",
    "print(temp.shape)\n",
    "print(temp.head())"
   ]
  },
  {
   "cell_type": "code",
   "execution_count": null,
   "metadata": {},
   "outputs": [],
   "source": [
    "temp['chr'] = 22\n",
    "\n",
    "temp.to_csv(f\"{BFILEDIR}/amppd_male_eur.bim\",sep = \"\\t\",header=None,index=None)"
   ]
  },
  {
   "cell_type": "code",
   "execution_count": null,
   "metadata": {},
   "outputs": [],
   "source": [
    "print(f\"plink --bfile {BFILEDIR}/amppd_male_eur --pca --out amppd_male_eur\")"
   ]
  },
  {
   "cell_type": "code",
   "execution_count": null,
   "metadata": {},
   "outputs": [],
   "source": []
  },
  {
   "cell_type": "code",
   "execution_count": null,
   "metadata": {},
   "outputs": [],
   "source": [
    "#read .eigenvec file\n",
    "\n",
    "pcs = pd.read_table(f\"{BFILEDIR}/amppd_male_eur.eigenvec\",sep=\"\\s+\",header=None)\n",
    "pcs.columns = ['fid','iid']+['pc'+str(x) for x in list(range(1,21))]\n",
    "print(pcs.shape)\n",
    "print(pcs.head())"
   ]
  },
  {
   "cell_type": "code",
   "execution_count": null,
   "metadata": {},
   "outputs": [],
   "source": [
    "yhaplo = pd.read_csv(f\"{OUTDIR}/output_yhaplo/haplogroups.chrY_male_hemizygous_only_het_filter_hg19_final.txt\",sep=\"\\s+\",header=None)\n",
    "yhaplo.columns = ['id','haplo_short','haplo_short_rep_snp','haplo']\n",
    "yhaplo['haplo_major'] = yhaplo['haplo'].str[0]\n",
    "yhaplo['id'] = [i[:len(i)//2] for i in yhaplo.id]\n",
    "\n",
    "\n",
    "print(yhaplo.shape)\n",
    "print(yhaplo.head())\n",
    "\n",
    "yhaplo = yhaplo[['id','haplo','haplo_major']]\n",
    "yhaplo.columns = ['id','yhaplo_haplo','yhaplo_haplo_major']"
   ]
  },
  {
   "cell_type": "code",
   "execution_count": null,
   "metadata": {},
   "outputs": [],
   "source": [
    "#use Ylineagetracker haplogroups since that tool assigned the most unique haplogroups compared to other tools\n",
    "ltrack = pd.read_csv(f\"{OUTDIR}/output_ltracker/ltrack_hg19.hapresult.hg\",sep=\"\\s+\")\n",
    "ltrack.columns = ['id','haplo']#['id','haplo_short','haplo_short_rep_snp','haplo_long']\n",
    "ltrack['haplo_major'] = ltrack['haplo'].str[0]\n",
    "ltrack['id'] = [i[:len(i)//2] for i in ltrack.id]\n",
    "print(ltrack.shape)\n",
    "print(ltrack.head())\n",
    "print(len(set(ltrack.haplo)))\n",
    "\n",
    "\n",
    "ltrack = ltrack[['id','haplo','haplo_major']]\n",
    "ltrack.columns = ['id','ltrack_haplo','ltrack_haplo_major']"
   ]
  },
  {
   "cell_type": "code",
   "execution_count": null,
   "metadata": {},
   "outputs": [],
   "source": [
    "#snappy data\n",
    "snappy = pd.read_csv(f\"{OUTDIR}/chrY_hgs_snappy.out\",sep=\"\\t\",header=None)\n",
    "snappy.columns = ['id','haplo','haplo_score','info_alleles']\n",
    "\n",
    "#some samples, like \"PD-PDNZ095VCJ\" have extra data in the \"haplo\" column, like \"B2a1a M109,M152/Page60,P32,P50\", and we only want the \"B2a1a\"\n",
    "snappy['haplo']= snappy['haplo'].str.split(\" \").str[0]\n",
    "snappy['haplo_major'] = snappy['haplo'].str[0]\n",
    "print(snappy.shape)\n",
    "print(snappy.head())\n",
    "\n",
    "snappy = snappy[['id','haplo','haplo_major']]\n",
    "snappy.columns = ['id','snappy_haplo','snappy_haplo_major']"
   ]
  },
  {
   "cell_type": "code",
   "execution_count": null,
   "metadata": {},
   "outputs": [],
   "source": [
    "sample_haplos = pd.merge(left = yhaplo, right = ltrack, on = ['id'])\n",
    "sample_haplos = pd.merge(left = sample_haplos, right = snappy, on = ['id'])\n",
    "print(sample_haplos.shape)\n",
    "print(sample_haplos.head())"
   ]
  },
  {
   "cell_type": "code",
   "execution_count": null,
   "metadata": {},
   "outputs": [],
   "source": [
    "#merge\n",
    "meta_merge = pd.merge(left = pcs[['fid','iid','pc1','pc2','pc3','pc4','pc5']], right = sample_haplos, left_on = ['fid'], right_on = ['id'])\n",
    "\n",
    "print(meta_merge.shape)\n",
    "print(meta_merge.head())"
   ]
  },
  {
   "cell_type": "code",
   "execution_count": null,
   "metadata": {},
   "outputs": [],
   "source": [
    "ltrack_groups = meta_merge.groupby('ltrack_haplo_major')\n",
    "yhaplo_groups = meta_merge.groupby('yhaplo_haplo_major')\n",
    "snappy_groups = meta_merge.groupby('snappy_haplo_major')"
   ]
  },
  {
   "cell_type": "code",
   "execution_count": null,
   "metadata": {},
   "outputs": [],
   "source": [
    "#change colors\n",
    "fig, ax = plt.subplots()\n",
    "\n",
    "colors = {'A':'black','B':'pink','C':'orange', 'E':'blue', 'G':'turquoise','H':'yellow','I':'purple','J':'cyan','L':'brown','N':'grey','O':'magenta','Q':'green','R':'red','T':'violet'}\n",
    "\n",
    "for key, group in groups:\n",
    "    group.plot(ax=ax, kind='scatter', x='pc1', y='pc2', label=key, color=colors[key])\n",
    "ax.legend(loc='best',bbox_to_anchor=(1.2,1))\n",
    "#plt.savefig(f\"{OUTDIR}/haplo_major_pc_no_prune_biplot2.png\")\n",
    "plt.show()"
   ]
  },
  {
   "cell_type": "code",
   "execution_count": null,
   "metadata": {},
   "outputs": [],
   "source": [
    "# Plot ltrack\n",
    "fig, ax = plt.subplots()\n",
    "\n",
    "colors = {'A':'black','B':'pink','C':'orange', 'E':'blue', 'G':'turquoise','H':'yellow','I':'purple','J':'cyan','L':'brown','N':'grey','O':'magenta','Q':'green','R':'red','T':'violet'}\n",
    "\n",
    "ax.margins(0.05) # Optional, just adds 5% padding to the autoscaling\n",
    "for name, group in ltrack_groups:\n",
    "    ax.plot(group.pc1, group.pc2, marker='o', linestyle='', ms=5, label=name)\n",
    "ax.legend(loc='best',bbox_to_anchor=(1.2,1))\n",
    "\n",
    "#plt.savefig(f\"{OUTDIR}/haplo_major_pc_no_prune_biplot.png\")\n",
    "plt.show()"
   ]
  },
  {
   "cell_type": "code",
   "execution_count": null,
   "metadata": {},
   "outputs": [],
   "source": [
    "#change colors\n",
    "fig, ax = plt.subplots()\n",
    "\n",
    "colors = {'A':'black','B':'pink','C':'orange', 'E':'blue', 'G':'turquoise','H':'yellow','I':'purple','J':'cyan','K':'lightgreen','L':'brown','N':'grey','O':'magenta','Q':'green','R':'red','T':'violet'}\n",
    "\n",
    "for key, group in ltrack_groups:\n",
    "    group.plot(ax=ax, kind='scatter', x='pc1', y='pc2', label=key, color=colors[key])\n",
    "ax.legend(loc='best',bbox_to_anchor=(1.2,1))\n",
    "#plt.savefig(f\"{OUTDIR}/haplo_major_pc_no_prune_biplot2.png\")\n",
    "plt.show()"
   ]
  },
  {
   "cell_type": "code",
   "execution_count": null,
   "metadata": {},
   "outputs": [],
   "source": [
    "# Plot yhaplo\n",
    "fig, ax = plt.subplots()\n",
    "ax.margins(0.05) # Optional, just adds 5% padding to the autoscaling\n",
    "for name, group in yhaplo_groups:\n",
    "    ax.plot(group.pc1, group.pc2, marker='o', linestyle='', ms=5, label=name)\n",
    "ax.legend(loc='best',bbox_to_anchor=(1.2,1))\n",
    "\n",
    "#plt.savefig(f\"{OUTDIR}/haplo_major_pc_no_prune_biplot.png\")\n",
    "plt.show()"
   ]
  },
  {
   "cell_type": "code",
   "execution_count": null,
   "metadata": {},
   "outputs": [],
   "source": [
    "#change colors\n",
    "fig, ax = plt.subplots()\n",
    "\n",
    "colors = {'A':'black','B':'pink','C':'orange', 'E':'blue', 'G':'turquoise','H':'yellow','I':'purple','J':'cyan','K':'lightgreen','L':'brown','N':'grey','O':'magenta','Q':'green','R':'red','T':'violet'}\n",
    "\n",
    "for key, group in yhaplo_groups:\n",
    "    group.plot(ax=ax, kind='scatter', x='pc1', y='pc2', label=key, color=colors[key])\n",
    "ax.legend(loc='best',bbox_to_anchor=(1.2,1))\n",
    "#plt.savefig(f\"{OUTDIR}/haplo_major_pc_no_prune_biplot2.png\")\n",
    "plt.show()"
   ]
  },
  {
   "cell_type": "code",
   "execution_count": null,
   "metadata": {},
   "outputs": [],
   "source": [
    "# Plot snappy\n",
    "fig, ax = plt.subplots()\n",
    "ax.margins(0.05) # Optional, just adds 5% padding to the autoscaling\n",
    "for name, group in snappy_groups:\n",
    "    ax.plot(group.pc1, group.pc2, marker='o', linestyle='', ms=5, label=name)\n",
    "ax.legend(loc='best',bbox_to_anchor=(1.2,1))\n",
    "\n",
    "#plt.savefig(f\"{OUTDIR}/haplo_major_pc_no_prune_biplot.png\")\n",
    "plt.show()"
   ]
  },
  {
   "cell_type": "code",
   "execution_count": null,
   "metadata": {},
   "outputs": [],
   "source": [
    "#change colors\n",
    "fig, ax = plt.subplots()\n",
    "\n",
    "colors = {'A':'black','B':'pink','C':'orange', 'D':'lightgrey','E':'blue', 'G':'turquoise','H':'yellow','I':'purple','J':'cyan','K':'lightgreen','L':'brown','N':'grey','O':'magenta','P':'darkred','Q':'green','R':'red','T':'violet'}\n",
    "\n",
    "for key, group in snappy_groups:\n",
    "    group.plot(ax=ax, kind='scatter', x='pc1', y='pc2', label=key, color=colors[key])\n",
    "ax.legend(loc='best',bbox_to_anchor=(1.2,1))\n",
    "#plt.savefig(f\"{OUTDIR}/haplo_major_pc_no_prune_biplot2.png\")\n",
    "plt.show()"
   ]
  },
  {
   "cell_type": "markdown",
   "metadata": {},
   "source": [
    "### maybe drop some outlier haplotypes to improve plot"
   ]
  },
  {
   "cell_type": "code",
   "execution_count": null,
   "metadata": {},
   "outputs": [],
   "source": [
    "haplo_drop = ['A','B']"
   ]
  },
  {
   "cell_type": "code",
   "execution_count": null,
   "metadata": {},
   "outputs": [],
   "source": [
    "#which samples are outliers?\n",
    "print(meta_merge.loc[meta_merge.ltrack_haplo_major.isin(haplo_drop),'fid'])\n",
    "print(meta_merge.loc[meta_merge.snappy_haplo_major.isin(haplo_drop),'fid'])\n",
    "print(meta_merge.loc[meta_merge.yhaplo_haplo_major.isin(haplo_drop),'fid'])"
   ]
  },
  {
   "cell_type": "code",
   "execution_count": null,
   "metadata": {},
   "outputs": [],
   "source": [
    "#samples we may want to remove from some of the plots\n",
    "samples_to_remove = ['PD-PDRK310ZWB']"
   ]
  },
  {
   "cell_type": "code",
   "execution_count": null,
   "metadata": {},
   "outputs": [],
   "source": [
    "print(sorted(set(meta_merge.ltrack_haplo_major)))\n",
    "print(sorted(set(meta_merge.yhaplo_haplo_major)))\n",
    "print(sorted(set(meta_merge.snappy_haplo_major)))"
   ]
  },
  {
   "cell_type": "code",
   "execution_count": null,
   "metadata": {},
   "outputs": [],
   "source": [
    "palette = {'A':'black','B':'grey','C':'darkred', 'D':'brown','E':'red', 'G':'orange','H':'yellow','I':'lightgreen','J':'green','K':'turquoise','L':'blue','N':'lightgrey','P':'purple','Q':'violet','R':'pink','T':'cyan'}\n",
    "#order to draw colors if we want certain ones to display on top of others\n",
    "hue_order = ['A', 'B', 'C', 'D', 'E', 'G', 'H', 'I', 'J', 'L', 'N', 'Q', 'P', 'R', 'T']"
   ]
  },
  {
   "cell_type": "code",
   "execution_count": null,
   "metadata": {},
   "outputs": [],
   "source": [
    "#palette = ['black','grey','darkred','red','orange','yellow','lightgreen','green','blue','lightgrey','violet','pink','cyan']#,'teal']\n",
    "#14, 8\n",
    "fig = plt.figure(figsize=(12, 12), dpi=80)\n",
    "fig.subplots_adjust(hspace=0.3, wspace=0.2)\n",
    "\n",
    "#add subplot\n",
    "ax1 = fig.add_subplot(3,2,1)\n",
    "               \n",
    "#plot\n",
    "sns.set()\n",
    "#plt.figure(figsize=(10,10))\n",
    "\n",
    "temp = meta_merge.sort_values(by=['ltrack_haplo_major'])\n",
    "\n",
    "sns_plot = sns.scatterplot(data = temp, x = \"pc1\", y = \"pc2\", hue = \"ltrack_haplo_major\",  palette = palette, ax = ax1)\n",
    "sns_plot.get_legend().remove()\n",
    "#plt.legend(bbox_to_anchor=(2.4, 1),borderaxespad=0)\n",
    "plt.xlabel(\"PC1\")\n",
    "plt.ylabel(\"PC2\")\n",
    "plt.title(\"All Y-LineageTracker Major Haplogroups\")\n",
    "            \n",
    "\n",
    "    \n",
    "ax2 = fig.add_subplot(3,2,2)\n",
    "               \n",
    "#plot\n",
    "sns.set()\n",
    "#plt.figure(figsize=(10,10))\n",
    "\n",
    "temp = meta_merge.sort_values(by=['ltrack_haplo_major'])\n",
    "temp = temp[~temp.ltrack_haplo_major.isin(haplo_drop)]\n",
    "#samples_to_remove\n",
    "temp = temp[~temp.fid.isin(samples_to_remove)]\n",
    "\n",
    "sns_plot = sns.scatterplot(data = temp, x = \"pc1\", y = \"pc2\", hue = \"ltrack_haplo_major\",  palette = palette, ax = ax2)\n",
    "sns_plot.get_legend().remove()\n",
    "\n",
    "plt.xlabel(\"PC1\")\n",
    "plt.ylabel(\"PC2\")\n",
    "plt.title(\"Y-LineageTracker Major Haplogroups With A and B Removed\")\n",
    "\n",
    " #add subplot\n",
    "ax3 = fig.add_subplot(3,2,3)\n",
    "               \n",
    "#plot\n",
    "sns.set()\n",
    "#plt.figure(figsize=(10,10))\n",
    "\n",
    "temp = meta_merge.sort_values(by=['yhaplo_haplo_major'])\n",
    "\n",
    "sns_plot = sns.scatterplot(data = temp, x = \"pc1\", y = \"pc2\", hue = \"yhaplo_haplo_major\",  palette = palette, ax = ax3)\n",
    "sns_plot.get_legend().remove()\n",
    "#plt.legend(bbox_to_anchor=(2.4, 1),borderaxespad=0)\n",
    "plt.xlabel(\"PC1\")\n",
    "plt.ylabel(\"PC2\")\n",
    "plt.title(\"All Yhaplo Major Haplogroups\")\n",
    "            \n",
    "ax4 = fig.add_subplot(3,2,4)\n",
    "               \n",
    "#plot\n",
    "sns.set()\n",
    "#plt.figure(figsize=(10,10))\n",
    "\n",
    "temp = meta_merge.sort_values(by=['yhaplo_haplo_major'])\n",
    "temp = temp[~temp.yhaplo_haplo_major.isin(haplo_drop)]\n",
    "\n",
    "sns_plot = sns.scatterplot(data = temp, x = \"pc1\", y = \"pc2\", hue = \"yhaplo_haplo_major\",  palette = palette, ax = ax4)\n",
    "sns_plot.get_legend().remove()\n",
    "\n",
    "plt.xlabel(\"PC1\")\n",
    "plt.ylabel(\"PC2\")\n",
    "plt.title(\"Yhaplo Major Haplogroups With A and B Removed\")\n",
    "\n",
    " #add subplot\n",
    "ax5 = fig.add_subplot(3,2,5)\n",
    "               \n",
    "#plot\n",
    "sns.set()\n",
    "#plt.figure(figsize=(10,10))\n",
    "\n",
    "temp = meta_merge.sort_values(by=['snappy_haplo_major'])\n",
    "\n",
    "sns_plot = sns.scatterplot(data = temp, x = \"pc1\", y = \"pc2\", hue = \"snappy_haplo_major\",  palette = palette, ax = ax5)\n",
    "sns_plot.get_legend().remove()\n",
    "#plt.legend(bbox_to_anchor=(2.4, 1),borderaxespad=0)\n",
    "plt.xlabel(\"PC1\")\n",
    "plt.ylabel(\"PC2\")\n",
    "plt.title(\"All Snappy Major Haplogroups\")\n",
    "            \n",
    "ax6 = fig.add_subplot(3,2,6)\n",
    "               \n",
    "#plot\n",
    "sns.set()\n",
    "#plt.figure(figsize=(10,10))\n",
    "\n",
    "temp = meta_merge.sort_values(by=['snappy_haplo_major'])\n",
    "temp = temp[~temp.snappy_haplo_major.isin(haplo_drop)]\n",
    "temp = temp.sort_values('snappy_haplo_major', key=np.vectorize(hue_order.index))\n",
    "sns_plot = sns.scatterplot(data = temp, x = \"pc1\", y = \"pc2\", hue = \"snappy_haplo_major\",  palette = palette, ax = ax6)#, hue_order = ['A', 'B', 'C', 'D', 'E', 'G', 'H', 'J', 'I', 'L', 'N', 'Q', 'P', 'R', 'T'])\n",
    "sns_plot.get_legend().remove()\n",
    "\n",
    "plt.xlabel(\"PC1\")\n",
    "plt.ylabel(\"PC2\")\n",
    "plt.title(\"Snappy Major Haplogroups With A and B Removed\")\n",
    "\n",
    "h1,l1 = ax1.get_legend_handles_labels()\n",
    "df1 = pd.DataFrame({'handles':h1,'labels':l1})\n",
    "print(df1.head())\n",
    "h3,l3 = ax3.get_legend_handles_labels()\n",
    "df3 = pd.DataFrame({'handles':h3,'labels':l3})\n",
    "print(df3.head())\n",
    "h5,l5 = ax5.get_legend_handles_labels()\n",
    "df5 = pd.DataFrame({'handles':h5,'labels':l5})\n",
    "print(df5.head())\n",
    "\n",
    "df_legend = df1.append(df3).append(df5)\n",
    "print(df_legend.shape)\n",
    "df_legend = df_legend.drop_duplicates(subset = ['labels'],keep = 'first').sort_values(['labels'])\n",
    "print(df_legend.shape)\n",
    "\n",
    "ax1.legend(list(df_legend['handles']),list(df_legend['labels']),title=\"\",bbox_to_anchor=(2.4, 1),borderaxespad=0)\n",
    "#ax1.legend(list(set(h1+h3+h5)),list(set(l1+l3+l5)),title=\"new legend\",bbox_to_anchor=(2.4, 1),borderaxespad=0)\n",
    "\n",
    "\n",
    "fig.suptitle(\"AMP-PD Major Haplogroup Principal Components\")\n",
    "plt.show()\n",
    "sns_plot.get_figure().savefig(f\"{WRKDIR}/major_haplogroup_all_tools_pc_plot.png\")  "
   ]
  },
  {
   "cell_type": "code",
   "execution_count": null,
   "metadata": {},
   "outputs": [],
   "source": []
  },
  {
   "cell_type": "code",
   "execution_count": null,
   "metadata": {},
   "outputs": [],
   "source": [
    "#palette = ['black','grey','darkred','red','orange','yellow','lightgreen','green','blue','lightgrey','violet','pink','cyan']#,'teal']\n",
    "#14, 8\n",
    "fig = plt.figure(figsize=(14, 8), dpi=80)\n",
    "fig.subplots_adjust(hspace=0.5, wspace=0.2)\n",
    "\n",
    "#add subplot\n",
    "ax1 = fig.add_subplot(1,2,1)\n",
    "               \n",
    "#plot\n",
    "sns.set()\n",
    "#plt.figure(figsize=(10,10))\n",
    "\n",
    "temp = meta_merge.sort_values(by=['ltrack_haplo_major'])\n",
    "\n",
    "sns_plot = sns.scatterplot(data = temp, x = \"pc1\", y = \"pc2\", hue = \"ltrack_haplo_major\",  palette = palette, ax = ax1)\n",
    "#sns_plot.get_legend().remove()\n",
    "plt.legend(bbox_to_anchor=(2.4, 1),borderaxespad=0)\n",
    "plt.xlabel(\"PC1\")\n",
    "plt.ylabel(\"PC2\")\n",
    "plt.title(\"All Y-LineageTracker Major Haplogroups\")\n",
    "            \n",
    "\n",
    "    \n",
    "ax2 = fig.add_subplot(1,2,2)\n",
    "               \n",
    "#plot\n",
    "sns.set()\n",
    "#plt.figure(figsize=(10,10))\n",
    "\n",
    "temp = meta_merge.sort_values(by=['ltrack_haplo_major'])\n",
    "temp = temp[~temp.ltrack_haplo_major.isin(haplo_drop)]\n",
    "#samples_to_remove\n",
    "temp = temp[~temp.fid.isin(samples_to_remove)]\n",
    "\n",
    "sns_plot = sns.scatterplot(data = temp, x = \"pc1\", y = \"pc2\", hue = \"ltrack_haplo_major\",  palette = palette, ax = ax2)\n",
    "sns_plot.get_legend().remove()\n",
    "\n",
    "plt.xlabel(\"PC1\")\n",
    "plt.ylabel(\"PC2\")\n",
    "plt.title(\"Major Haplogroups With A, B and Outliers Removed\")\n",
    "\n",
    "\n",
    "\n",
    "fig.suptitle(\"AMP-PD Major Haplogroup Principal Components\")\n",
    "plt.show()\n",
    "sns_plot.get_figure().savefig(f\"{WRKDIR}/major_haplogroup_pc_plot.png\")  "
   ]
  }
 ],
 "metadata": {
  "kernelspec": {
   "display_name": "python/3.6",
   "language": "python",
   "name": "py3.6"
  },
  "language_info": {
   "codemirror_mode": {
    "name": "ipython",
    "version": 3
   },
   "file_extension": ".py",
   "mimetype": "text/x-python",
   "name": "python",
   "nbconvert_exporter": "python",
   "pygments_lexer": "ipython3",
   "version": "3.6.10"
  }
 },
 "nbformat": 4,
 "nbformat_minor": 4
}
