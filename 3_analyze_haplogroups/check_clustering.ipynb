{
 "cells": [
  {
   "cell_type": "markdown",
   "metadata": {},
   "source": [
    "# Check PCA Clustering\n",
    "- **Author(s)** - Frank Grenn\n",
    "- **Date Started** - March  2021\n",
    "- **Quick Description:** calculate principal components for AMP-PD chrY data and plot to visualize clustering."
   ]
  },
  {
   "cell_type": "code",
   "execution_count": null,
   "metadata": {},
   "outputs": [],
   "source": [
    "import matplotlib.pyplot as plt\n",
    "import numpy as np\n",
    "import pandas as pd\n",
    "import seaborn as sns"
   ]
  },
  {
   "cell_type": "code",
   "execution_count": null,
   "metadata": {},
   "outputs": [],
   "source": [
    "WRKDIR = \"$PATH/chrY\"\n",
    "BFILEDIR = f\"{WRKDIR}/y_male_only_bfiles\"\n",
    "OUTDIR = f\"{WRKDIR}/output_male_hemizygous_only_het_filter_run\"\n",
    "CARDDIR = \"$PATH\""
   ]
  },
  {
   "cell_type": "markdown",
   "metadata": {},
   "source": [
    "### Get European Samples"
   ]
  },
  {
   "cell_type": "code",
   "execution_count": null,
   "metadata": {},
   "outputs": [],
   "source": [
    "anc = pd.read_csv(f\"{CARDDIR}/PD/AMP-PD/Plink/2021_v2_5release/euro_king_pca_v2.5_July2021/genetic_ancestry_all_pca.csv\")\n",
    "print(anc.shape)\n",
    "print(anc.head())"
   ]
  },
  {
   "cell_type": "code",
   "execution_count": null,
   "metadata": {},
   "outputs": [],
   "source": [
    "anc[anc.InfPop==\"EUROPE\"][['#FID','IID']].to_csv(f\"{BFILEDIR}/eur_samples.txt\",header=None,index=None,sep=\"\\t\")"
   ]
  },
  {
   "cell_type": "markdown",
   "metadata": {},
   "source": [
    "### Get PCs with Plink\n"
   ]
  },
  {
   "cell_type": "code",
   "execution_count": null,
   "metadata": {},
   "outputs": [],
   "source": [
    "print(f\"plink --bfile {BFILEDIR}/chrY_male_hemizygous_only_het_filter_hg19_final --keep {BFILEDIR}/eur_samples.txt --make-bed --out amppd_male_eur\")"
   ]
  },
  {
   "cell_type": "code",
   "execution_count": null,
   "metadata": {},
   "outputs": [],
   "source": [
    "temp = pd.read_csv(f\"{BFILEDIR}/amppd_male_eur.bim\",sep = \"\\t\",header=None)\n",
    "temp.columns = ['chr','snp','pos','bp','ref','alt']\n",
    "print(temp.shape)\n",
    "print(temp.head())"
   ]
  },
  {
   "cell_type": "code",
   "execution_count": null,
   "metadata": {},
   "outputs": [],
   "source": [
    "temp['chr'] = 22\n",
    "\n",
    "temp.to_csv(f\"{BFILEDIR}/amppd_male_eur.bim\",sep = \"\\t\",header=None,index=None)"
   ]
  },
  {
   "cell_type": "code",
   "execution_count": null,
   "metadata": {},
   "outputs": [],
   "source": [
    "print(f\"plink --bfile {BFILEDIR}/amppd_male_eur --pca --out amppd_male_eur\")"
   ]
  },
  {
   "cell_type": "code",
   "execution_count": null,
   "metadata": {},
   "outputs": [],
   "source": []
  },
  {
   "cell_type": "code",
   "execution_count": null,
   "metadata": {},
   "outputs": [],
   "source": [
    "#read .eigenvec file\n",
    "\n",
    "pcs = pd.read_table(f\"{BFILEDIR}/amppd_male_eur.eigenvec\",sep=\"\\s+\",header=None)\n",
    "pcs.columns = ['fid','iid']+['pc'+str(x) for x in list(range(1,21))]\n",
    "print(pcs.shape)\n",
    "print(pcs.head())"
   ]
  },
  {
   "cell_type": "code",
   "execution_count": null,
   "metadata": {},
   "outputs": [],
   "source": [
    "#just get yhaplo data for now because first character of haplogroup for all samples is the same between the yhaplo and snappy tools\n",
    "yhaplo = pd.read_csv(f\"{OUTDIR}/output_yhaplo/haplogroups.chrY_male_hemizygous_only_het_filter_hg19_final.txt\",sep=\"\\s+\",header=None)\n",
    "yhaplo.columns = ['id','haplo_short','haplo_short_rep_snp','haplo']\n",
    "yhaplo['haplo_major'] = yhaplo['haplo'].str[0]\n",
    "yhaplo['id'] = [i[:len(i)//2] for i in yhaplo.id]\n",
    "#yhaplo = yhaplo[yhaplo['haplo_long']!='A']#assume samples with \"A\" haplogroup were not assigned one.\n",
    "print(yhaplo.shape)\n",
    "print(yhaplo.head())"
   ]
  },
  {
   "cell_type": "code",
   "execution_count": null,
   "metadata": {},
   "outputs": [],
   "source": [
    "#merge\n",
    "meta_merge = pd.merge(left = pcs[['fid','iid','pc1','pc2','pc3','pc4','pc5']], right = yhaplo[['id','haplo_major']], left_on = ['fid'], right_on = ['id'])\n",
    "\n",
    "meta_merge = meta_merge[['fid','iid','pc1','pc2','pc3','pc4','pc5','haplo_major']].sort_values(by=['haplo_major'])\n",
    "print(meta_merge.shape)\n",
    "print(meta_merge.head())"
   ]
  },
  {
   "cell_type": "code",
   "execution_count": null,
   "metadata": {},
   "outputs": [],
   "source": [
    "groups = meta_merge.groupby('haplo_major')"
   ]
  },
  {
   "cell_type": "code",
   "execution_count": null,
   "metadata": {},
   "outputs": [],
   "source": [
    "# Plot\n",
    "fig, ax = plt.subplots()\n",
    "ax.margins(0.05) # Optional, just adds 5% padding to the autoscaling\n",
    "for name, group in groups:\n",
    "    ax.plot(group.pc1, group.pc2, marker='o', linestyle='', ms=5, label=name)\n",
    "ax.legend(loc='best',bbox_to_anchor=(1.2,1))\n",
    "\n",
    "#plt.savefig(f\"{OUTDIR}/haplo_major_pc_no_prune_biplot.png\")\n",
    "plt.show()"
   ]
  },
  {
   "cell_type": "code",
   "execution_count": null,
   "metadata": {},
   "outputs": [],
   "source": [
    "#change colors\n",
    "fig, ax = plt.subplots()\n",
    "\n",
    "colors = {'A':'black','B':'pink','C':'orange', 'E':'blue', 'G':'turquoise','H':'yellow','I':'purple','J':'cyan','L':'brown','N':'grey','O':'magenta','Q':'green','R':'red','T':'violet'}\n",
    "\n",
    "for key, group in groups:\n",
    "    group.plot(ax=ax, kind='scatter', x='pc1', y='pc2', label=key, color=colors[key])\n",
    "ax.legend(loc='best',bbox_to_anchor=(1.2,1))\n",
    "#plt.savefig(f\"{OUTDIR}/haplo_major_pc_no_prune_biplot2.png\")\n",
    "plt.show()"
   ]
  },
  {
   "cell_type": "markdown",
   "metadata": {},
   "source": [
    "### maybe drop some outlier haplotypes to improve plot"
   ]
  },
  {
   "cell_type": "code",
   "execution_count": null,
   "metadata": {},
   "outputs": [],
   "source": [
    "haplo_drop = ['A','B']"
   ]
  },
  {
   "cell_type": "code",
   "execution_count": null,
   "metadata": {},
   "outputs": [],
   "source": [
    "temp = meta_merge.copy()\n",
    "temp = temp[~temp.haplo_major.isin(haplo_drop)]\n",
    "groups = temp.groupby('haplo_major')\n"
   ]
  },
  {
   "cell_type": "code",
   "execution_count": null,
   "metadata": {},
   "outputs": [],
   "source": [
    "set(meta_merge.haplo_major)"
   ]
  },
  {
   "cell_type": "code",
   "execution_count": null,
   "metadata": {},
   "outputs": [],
   "source": [
    "sns.set_style(\"darkgrid\")\n",
    "g = sns.scatterplot(data = temp, x = \"pc1\", y = \"pc2\", hue = \"haplo_major\",  palette = sns.color_palette(\"Paired\", 11))\n",
    "plt.legend(bbox_to_anchor=(1.2, 1),borderaxespad=0)"
   ]
  },
  {
   "cell_type": "code",
   "execution_count": null,
   "metadata": {},
   "outputs": [],
   "source": [
    "palette = ['black','grey','darkred','red','orange','yellow','lightgreen','green','blue','lightgrey','violet','pink','cyan']#,'teal']\n",
    "fig = plt.figure(figsize=(14, 8), dpi=80)\n",
    "fig.subplots_adjust(hspace=0.5, wspace=0.2)\n",
    "\n",
    "\n",
    " #add subplot\n",
    "ax1 = fig.add_subplot(1,2,1)\n",
    "               \n",
    "#plot\n",
    "sns.set()\n",
    "#plt.figure(figsize=(10,10))\n",
    "\n",
    "sns_plot = sns.scatterplot(data = meta_merge, x = \"pc1\", y = \"pc2\", hue = \"haplo_major\",  palette = palette, ax = ax1)\n",
    "\n",
    "plt.legend(bbox_to_anchor=(2.4, 1),borderaxespad=0)\n",
    "plt.xlabel(\"PC1\")\n",
    "plt.ylabel(\"PC2\")\n",
    "plt.title(\"All Major Haplogroups\")\n",
    "            \n",
    "ax2 = fig.add_subplot(1,2,2)\n",
    "               \n",
    "#plot\n",
    "sns.set()\n",
    "#plt.figure(figsize=(10,10))\n",
    "\n",
    "sns_plot = sns.scatterplot(data = temp, x = \"pc1\", y = \"pc2\", hue = \"haplo_major\",  palette = palette[2:14], ax = ax2)\n",
    "sns_plot.get_legend().remove()\n",
    "\n",
    "plt.xlabel(\"PC1\")\n",
    "plt.ylabel(\"PC2\")\n",
    "plt.title(\"Major Haplogroups A and B Removed\")\n",
    "            \n",
    "            \n",
    "fig.suptitle(\"AMP-PD Major Haplogroup Principal Components\")\n",
    "plt.show()\n",
    "sns_plot.get_figure().savefig(f\"{WRKDIR}/major_haplogroup_pc_plot.png\")  "
   ]
  },
  {
   "cell_type": "code",
   "execution_count": null,
   "metadata": {},
   "outputs": [],
   "source": []
  },
  {
   "cell_type": "code",
   "execution_count": null,
   "metadata": {},
   "outputs": [],
   "source": []
  }
 ],
 "metadata": {
  "kernelspec": {
   "display_name": "python/3.6",
   "language": "python",
   "name": "py3.6"
  },
  "language_info": {
   "codemirror_mode": {
    "name": "ipython",
    "version": 3
   },
   "file_extension": ".py",
   "mimetype": "text/x-python",
   "name": "python",
   "nbconvert_exporter": "python",
   "pygments_lexer": "ipython3",
   "version": "3.6.10"
  }
 },
 "nbformat": 4,
 "nbformat_minor": 4
}
