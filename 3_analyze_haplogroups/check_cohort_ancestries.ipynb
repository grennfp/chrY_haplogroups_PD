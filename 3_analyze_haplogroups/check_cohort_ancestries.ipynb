{
 "cells": [
  {
   "cell_type": "markdown",
   "id": "3354a8a2-72df-47c8-b2d8-7b78cfe57c8e",
   "metadata": {},
   "source": [
    "# Check Cohort Sample Ancestries\n",
    "- **Author(s)** - Frank Grenn\n"
   ]
  },
  {
   "cell_type": "code",
   "execution_count": null,
   "id": "37a3c6eb-ba23-45cb-8696-70aec0692224",
   "metadata": {},
   "outputs": [],
   "source": [
    "import pandas as pd"
   ]
  },
  {
   "cell_type": "code",
   "execution_count": null,
   "id": "934203bd-e4b5-4d6a-931f-83301fccdd86",
   "metadata": {},
   "outputs": [],
   "source": [
    "WRKDIR = \"/PATH/chrY\""
   ]
  },
  {
   "cell_type": "markdown",
   "id": "10972c95-68e3-4c33-ad7c-f5e069c597d8",
   "metadata": {},
   "source": [
    "## AMP-PD"
   ]
  },
  {
   "cell_type": "code",
   "execution_count": null,
   "id": "f5a06649-683d-448b-bbce-3c7be47eaa3f",
   "metadata": {},
   "outputs": [],
   "source": [
    "amppd = pd.read_table(f\"{WRKDIR}/y_male_only_bfiles/chrY_male_hemizygous_only_het_filter_hg19_final.fam\",header=None,sep=\"\\s+\")\n",
    "amppd.columns = ['fid','iid','pat','mat','sex','pheno']\n",
    "print(amppd.shape)\n",
    "print(amppd.head())"
   ]
  },
  {
   "cell_type": "code",
   "execution_count": null,
   "id": "6a6559f4-24be-4ce9-a195-d6ef1c7d7cf4",
   "metadata": {},
   "outputs": [],
   "source": [
    "temp = pd.read_csv(\"/PATH/genetic_ancestry_all_pca.csv\")\n",
    "print(temp.shape)\n",
    "print(temp.head())"
   ]
  },
  {
   "cell_type": "code",
   "execution_count": null,
   "id": "35737dc8-9a0e-4f54-8908-44bd009d2eb0",
   "metadata": {},
   "outputs": [],
   "source": [
    "amppd_anc = pd.merge(left = amppd, right = temp, left_on = 'fid', right_on = '#FID', how = 'inner')\n",
    "print(amppd_anc.shape)"
   ]
  },
  {
   "cell_type": "code",
   "execution_count": null,
   "id": "f54e0b7e-4f04-43bf-91cb-0350d563c575",
   "metadata": {},
   "outputs": [],
   "source": [
    "amppd_anc['InfPop'].value_counts()"
   ]
  },
  {
   "cell_type": "markdown",
   "id": "0670e130-d028-4292-8394-d34fedfda517",
   "metadata": {},
   "source": [
    "## UKBB"
   ]
  },
  {
   "cell_type": "code",
   "execution_count": null,
   "id": "edca9719-0640-4c8e-b721-97108d5fe918",
   "metadata": {},
   "outputs": [],
   "source": [
    "ukbb = pd.read_table(f\"{WRKDIR}/y_ukbb/chrY_male_only.fam\",header=None,sep=\"\\s+\")\n",
    "\n",
    "ukbb.columns = ['fid','iid','pat','mat','sex','pheno']\n",
    "print(ukbb.shape)\n",
    "print(ukbb.head())"
   ]
  },
  {
   "cell_type": "code",
   "execution_count": null,
   "id": "b6600cb5-e464-4025-a6f7-08dc7b21b4de",
   "metadata": {},
   "outputs": [],
   "source": [
    "len(set(ukbb['fid'].tolist()))"
   ]
  },
  {
   "cell_type": "code",
   "execution_count": null,
   "id": "15110010-0cfd-4111-9ec0-d3cee045cb7c",
   "metadata": {},
   "outputs": [],
   "source": [
    "temp = pd.read_table(\"/PATH/covariates_phenome_to_use.txt\")\n",
    "print(temp.shape)\n",
    "print(temp.head())"
   ]
  },
  {
   "cell_type": "code",
   "execution_count": null,
   "id": "d56ed5f0-d702-4854-ad6a-a89f607708c9",
   "metadata": {},
   "outputs": [],
   "source": [
    "ukbb_anc = pd.merge(left = ukbb, right = temp, left_on = \"fid\", right_on = \"FID\", how = \"inner\")\n",
    "print(ukbb_anc.shape)"
   ]
  },
  {
   "cell_type": "code",
   "execution_count": null,
   "id": "8cc36a9d-4f9f-4a28-85d5-98b51995cd03",
   "metadata": {},
   "outputs": [],
   "source": [
    "ukbb_anc['EUROPEAN'].value_counts()"
   ]
  },
  {
   "cell_type": "markdown",
   "id": "78b83432-ae79-41ed-bd26-a245f102fc39",
   "metadata": {},
   "source": [
    "## NEUROX"
   ]
  },
  {
   "cell_type": "code",
   "execution_count": null,
   "id": "481b45c7-4361-4ebb-9d89-845ff8287ee8",
   "metadata": {},
   "outputs": [],
   "source": [
    "#all of these should have European ancestry\n",
    "temp = pd.read_table(\"/PATH/IPDGC_all_samples_covariates.txt\")\n",
    "print(temp.shape)\n",
    "print(temp.head())"
   ]
  },
  {
   "cell_type": "code",
   "execution_count": null,
   "id": "c12ecbad-9882-4938-ad1d-5ebc61ce5ab6",
   "metadata": {},
   "outputs": [],
   "source": [
    "neurox = pd.read_table(f\"{WRKDIR}/y_neurox/neurox_chrY_male_only.fam\",header=None,sep=\"\\s+\")\n",
    "\n",
    "neurox.columns = ['fid','iid','pat','mat','sex','pheno']\n",
    "print(neurox.shape)\n",
    "print(neurox.head())"
   ]
  },
  {
   "cell_type": "code",
   "execution_count": null,
   "id": "4975d02a-537c-4fc6-802f-392ba76f8e27",
   "metadata": {},
   "outputs": [],
   "source": [
    "neurox_anc = pd.merge(left = neurox, right = temp, left_on = \"fid\", right_on = \"FID\", how = \"inner\")\n",
    "print(neurox_anc.shape)"
   ]
  },
  {
   "cell_type": "code",
   "execution_count": null,
   "id": "e716609b-30e0-4790-b68b-e8a0a18870bc",
   "metadata": {
    "tags": []
   },
   "outputs": [],
   "source": [
    "set(neurox_anc['fid']) ^ set(neurox['fid'])"
   ]
  },
  {
   "cell_type": "code",
   "execution_count": null,
   "id": "9c8d9f1e-84ce-4f09-9079-46ab40d0052e",
   "metadata": {},
   "outputs": [],
   "source": [
    "print(neurox_anc['ancestry'].value_counts())"
   ]
  },
  {
   "cell_type": "code",
   "execution_count": null,
   "id": "87997d12-0722-4d79-920f-4de39e05705c",
   "metadata": {},
   "outputs": [],
   "source": [
    "covs = pd.read_table(\"/PATH/IPDGC_all_samples_covariates.txt\")\n",
    "print(covs.shape)\n",
    "print(covs.head())"
   ]
  },
  {
   "cell_type": "code",
   "execution_count": null,
   "id": "a4385568-ac05-4d8a-89fd-65f74fefa092",
   "metadata": {},
   "outputs": [],
   "source": [
    "covs.columns"
   ]
  },
  {
   "cell_type": "code",
   "execution_count": null,
   "id": "ebc0ac7f-42a0-41ba-a737-342a67198ac0",
   "metadata": {},
   "outputs": [],
   "source": [
    "BFILEDIR = f\"{WRKDIR}/y_neurox\"\n",
    "OUTDIR = f\"{WRKDIR}/y_neurox\"\n",
    "fam = pd.read_table(f\"{OUTDIR}/neurox_chrY_male_only.fam\",sep=\"\\s+\",header=None)\n",
    "fam.columns = ['fid','iid','pid','mid','sex','pheno']\n",
    "print(fam.shape)\n",
    "print(fam.head())"
   ]
  },
  {
   "cell_type": "code",
   "execution_count": null,
   "id": "59d0f485-4e44-4593-af43-ac64ecdc81ce",
   "metadata": {},
   "outputs": [],
   "source": [
    "ids = fam['fid'].str.split(\"_\").str[0]"
   ]
  },
  {
   "cell_type": "code",
   "execution_count": null,
   "id": "77d57cc9-7705-45e6-8a24-8a5db7c26e39",
   "metadata": {},
   "outputs": [],
   "source": [
    "fam.tail()"
   ]
  },
  {
   "cell_type": "code",
   "execution_count": null,
   "id": "6c138a39-22b7-4a67-8668-a36db654b679",
   "metadata": {
    "tags": []
   },
   "outputs": [],
   "source": [
    "set(ids)"
   ]
  },
  {
   "cell_type": "code",
   "execution_count": null,
   "id": "e3aff5d7-a471-4441-96fb-deb4b388ea4b",
   "metadata": {},
   "outputs": [],
   "source": []
  }
 ],
 "metadata": {
  "kernelspec": {
   "display_name": "python/3.6",
   "language": "python",
   "name": "py3.6"
  },
  "language_info": {
   "codemirror_mode": {
    "name": "ipython",
    "version": 3
   },
   "file_extension": ".py",
   "mimetype": "text/x-python",
   "name": "python",
   "nbconvert_exporter": "python",
   "pygments_lexer": "ipython3",
   "version": "3.6.10"
  }
 },
 "nbformat": 4,
 "nbformat_minor": 5
}
