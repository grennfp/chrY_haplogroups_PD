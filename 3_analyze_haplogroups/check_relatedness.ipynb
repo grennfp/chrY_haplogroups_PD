{
 "cells": [
  {
   "cell_type": "markdown",
   "metadata": {},
   "source": [
    "# Check Related Samples\n",
    "- **Author(s)** - Frank Grenn\n",
    "- **Quick Description:** use chr1 to identify related male samples. Then see if they are in the same chrY haplogroup. Also check results from King tool."
   ]
  },
  {
   "cell_type": "code",
   "execution_count": null,
   "metadata": {},
   "outputs": [],
   "source": [
    "import matplotlib.pyplot as plt\n",
    "import numpy as np\n",
    "import pandas as pd"
   ]
  },
  {
   "cell_type": "code",
   "execution_count": null,
   "metadata": {},
   "outputs": [],
   "source": [
    "WRKDIR = \"/PATH/chrY\"\n",
    "BFILEDIR = f\"{WRKDIR}/y_male_only_bfiles\"\n",
    "OUTDIR = f\"{WRKDIR}/output_male_hemizygous_only_het_filter_run\""
   ]
  },
  {
   "cell_type": "markdown",
   "metadata": {},
   "source": [
    "\n",
    "\n",
    "Prune snps   \n",
    "`plink --bfile /PATH/chr1 --indep-pairwise 1000 10 0.02 --out /PATH/pruned_chr1_data`   \n",
    " Extract pruned SNPs  \n",
    "`plink --bfile /PATH/chr1 --extract /PATH/pruned_chr1_data.prune.in --make-bed --out /PATH/chr1_pruned `    \n",
    " MAF filter and relatedness calculations  \n",
    "`plink --bfile /PATH/chr1_pruned --maf 0.05 --genome --min 0.2 --out /PATH/chr1_pruned_genome`    \n"
   ]
  },
  {
   "cell_type": "code",
   "execution_count": null,
   "metadata": {},
   "outputs": [],
   "source": [
    "#read genome file\n",
    "related = pd.read_table(f\"{WRKDIR}/chr1_pruned_genome.genome\",sep='\\s+')\n",
    "related['ID1_double'] = related['FID1']+'_'+related['IID1']\n",
    "related['ID2_double'] = related['FID2']+'_'+related['IID2']\n",
    "print(related.shape)#(2023323, 16)\n",
    "print(related.head())"
   ]
  },
  {
   "cell_type": "code",
   "execution_count": null,
   "metadata": {},
   "outputs": [],
   "source": [
    "set(related['RT'])"
   ]
  },
  {
   "cell_type": "code",
   "execution_count": null,
   "metadata": {},
   "outputs": [],
   "source": [
    "#get haplogroup data\n",
    "samples = pd.read_csv(f\"{BFILEDIR}/chrY_male_hemizygous_only_het_filter_hg19_final.fam\",sep=\"\\s\",header=None)\n",
    "samples.columns = ['fid','iid','pid','mid','sex','pheno']\n",
    "print(samples.shape)\n",
    "print(samples.head())"
   ]
  },
  {
   "cell_type": "code",
   "execution_count": null,
   "metadata": {},
   "outputs": [],
   "source": [
    "meta = pd.read_csv(\"/PATH/AMPPD_releasev2_covariates_Feb2021.csv\")\n",
    "print(meta.shape)\n",
    "print(meta.head())"
   ]
  },
  {
   "cell_type": "code",
   "execution_count": null,
   "metadata": {},
   "outputs": [],
   "source": [
    "meta_merge = pd.merge(left = samples, right = meta, left_on = 'fid', right_on = 'ID')\n",
    "print(meta_merge.shape)"
   ]
  },
  {
   "cell_type": "code",
   "execution_count": null,
   "metadata": {},
   "outputs": [],
   "source": [
    "males = meta_merge[meta_merge['SEX']==1]['ID'].tolist()\n",
    "print(len(males))"
   ]
  },
  {
   "cell_type": "code",
   "execution_count": null,
   "metadata": {},
   "outputs": [],
   "source": [
    "males_double_id = [iid+\"_\"+iid for iid in males]\n",
    "print(len(males_double_id))\n",
    "print(males_double_id[0:10])"
   ]
  },
  {
   "cell_type": "code",
   "execution_count": null,
   "metadata": {},
   "outputs": [],
   "source": []
  },
  {
   "cell_type": "code",
   "execution_count": null,
   "metadata": {},
   "outputs": [],
   "source": [
    "#filter down the related df to only include males\n",
    "print(related.shape)\n",
    "related = related[related['FID1'].isin(males)]\n",
    "print(related.shape)\n",
    "related = related[related['FID2'].isin(males)]\n",
    "print(related.shape)"
   ]
  },
  {
   "cell_type": "code",
   "execution_count": null,
   "metadata": {},
   "outputs": [],
   "source": [
    "yhaplo = pd.read_csv(f\"{OUTDIR}/output_yhaplo/haplogroups.chrY_male_hemizygous_only_het_filter_hg19_final.txt\",sep=\"\\s+\",header=None)\n",
    "yhaplo.columns = ['id','haplo_short','haplo_short_rep_snp','haplo_long']\n",
    "print(yhaplo.shape)\n",
    "print(yhaplo.head())"
   ]
  },
  {
   "cell_type": "code",
   "execution_count": null,
   "metadata": {},
   "outputs": [],
   "source": [
    "#assume samples with \"A\" haplogroup were not assigned one.\n",
    "yhaplo_pass = yhaplo[yhaplo['haplo_long']!='A']\n",
    "print(yhaplo_pass.shape)\n",
    "print(yhaplo_pass.head())"
   ]
  },
  {
   "cell_type": "code",
   "execution_count": null,
   "metadata": {},
   "outputs": [],
   "source": [
    "yhaplo_male = yhaplo_pass[yhaplo_pass.id.isin(males_double_id)]\n",
    "yhaplo_male['haplo_major'] = yhaplo_male['haplo_long'].str[0]\n",
    "print(yhaplo_male.shape)\n",
    "print(yhaplo_male.head())"
   ]
  },
  {
   "cell_type": "code",
   "execution_count": null,
   "metadata": {},
   "outputs": [],
   "source": [
    "id1_haplo_df = yhaplo_male.copy()[['id','haplo_major']]\n",
    "id1_haplo_df.columns = ['id1','id1_haplo_major']\n",
    "\n",
    "print(related.shape)\n",
    "related_1_haplo = pd.merge(left = related, right = id1_haplo_df, left_on = 'ID1_double', right_on = 'id1', how = 'left')\n",
    "print(related_1_haplo.shape)\n",
    "\n",
    "id2_haplo_df = yhaplo_male.copy()[['id','haplo_major']]\n",
    "id2_haplo_df.columns = ['id2','id2_haplo_major']\n",
    "\n",
    "related_haplos = pd.merge(left = related_1_haplo, right = id2_haplo_df, left_on = 'ID2_double', right_on = 'id2', how = 'left')\n",
    "print(related_haplos.shape)#(659923, 20)\n",
    "\n",
    "related_haplos = related_haplos.drop(['ID1_double', 'ID2_double','id1','id2'], axis=1)"
   ]
  },
  {
   "cell_type": "code",
   "execution_count": null,
   "metadata": {},
   "outputs": [],
   "source": [
    "print(related_haplos.head())"
   ]
  },
  {
   "cell_type": "code",
   "execution_count": null,
   "metadata": {},
   "outputs": [],
   "source": [
    "#where do the haplotypes differ?\n",
    "related_haplos['haplo_diff'] = 'diff'\n",
    "related_haplos['haplo_diff'].loc[related_haplos['id1_haplo_major'] ==  related_haplos['id2_haplo_major']] = 'same'"
   ]
  },
  {
   "cell_type": "code",
   "execution_count": null,
   "metadata": {},
   "outputs": [],
   "source": [
    "print(related_haplos[related_haplos['haplo_diff']=='same'].shape)\n",
    "print(related_haplos[related_haplos['haplo_diff']=='same'].head())\n",
    "print(related_haplos[related_haplos['haplo_diff']=='same'].tail())"
   ]
  },
  {
   "cell_type": "code",
   "execution_count": null,
   "metadata": {},
   "outputs": [],
   "source": [
    "related_haplos[related_haplos['haplo_diff']=='diff']"
   ]
  },
  {
   "cell_type": "code",
   "execution_count": null,
   "metadata": {},
   "outputs": [],
   "source": [
    "related_haplos.loc[related_haplos['id1_haplo_major'] !=  related_haplos['id2_haplo_major']].drop(columns=['haplo_diff','IID1','IID2'])"
   ]
  },
  {
   "cell_type": "code",
   "execution_count": null,
   "metadata": {},
   "outputs": [],
   "source": [
    "related_haplos.loc[related_haplos['id1_haplo_major'] !=  related_haplos['id2_haplo_major']].drop(columns=['haplo_diff']).to_csv(f\"{OUTDIR}/related_mismatches.csv\",index=None)"
   ]
  },
  {
   "cell_type": "markdown",
   "metadata": {},
   "source": [
    "## Check results from King tool"
   ]
  },
  {
   "cell_type": "code",
   "execution_count": null,
   "metadata": {},
   "outputs": [],
   "source": [
    "king = pd.read_table(\"/PATH/king_all_chr.kin0\")\n",
    "king['ID1_double'] = king['ID1']+'_'+king['ID1']\n",
    "king['ID2_double'] = king['ID2']+'_'+king['ID2']\n",
    "print(king.shape)\n",
    "print(king.head())"
   ]
  },
  {
   "cell_type": "code",
   "execution_count": null,
   "metadata": {},
   "outputs": [],
   "source": [
    "#filter down the related df to only include males\n",
    "print(king.shape)\n",
    "king = king[king['ID1'].isin(males)]\n",
    "print(king.shape)\n",
    "king = king[king['ID2'].isin(males)]\n",
    "print(king.shape)"
   ]
  },
  {
   "cell_type": "code",
   "execution_count": null,
   "metadata": {},
   "outputs": [],
   "source": [
    "min(king.KINSHIP)"
   ]
  },
  {
   "cell_type": "code",
   "execution_count": null,
   "metadata": {},
   "outputs": [],
   "source": [
    "id1_haplo_df = yhaplo_male.copy()[['id','haplo_major']]\n",
    "id1_haplo_df.columns = ['id1','id1_haplo_major']\n",
    "\n",
    "print(king.shape)\n",
    "related_1_haplo = pd.merge(left = king, right = id1_haplo_df, left_on = 'ID1_double', right_on = 'id1')#, how = 'left')\n",
    "print(related_1_haplo.shape)\n",
    "\n",
    "id2_haplo_df = yhaplo_male.copy()[['id','haplo_major']]\n",
    "id2_haplo_df.columns = ['id2','id2_haplo_major']\n",
    "\n",
    "related_haplos = pd.merge(left = related_1_haplo, right = id2_haplo_df, left_on = 'ID2_double', right_on = 'id2')#, how = 'left')\n",
    "print(related_haplos.shape)#(659923, 20)\n",
    "\n",
    "related_haplos = related_haplos.drop(['ID1_double', 'ID2_double','id1','id2'], axis=1)"
   ]
  },
  {
   "cell_type": "code",
   "execution_count": null,
   "metadata": {},
   "outputs": [],
   "source": [
    "#where do the haplotypes differ?\n",
    "related_haplos['haplo_diff'] = 'diff'\n",
    "related_haplos['haplo_diff'].loc[related_haplos['id1_haplo_major'] ==  related_haplos['id2_haplo_major']] = 'same'"
   ]
  },
  {
   "cell_type": "code",
   "execution_count": null,
   "metadata": {},
   "outputs": [],
   "source": [
    "print(related_haplos[related_haplos['haplo_diff']=='same'].shape)\n",
    "print(related_haplos[related_haplos['haplo_diff']=='same'].head())\n",
    "print(related_haplos[related_haplos['haplo_diff']=='same'].tail())"
   ]
  },
  {
   "cell_type": "code",
   "execution_count": null,
   "metadata": {},
   "outputs": [],
   "source": [
    "related_haplos[related_haplos['haplo_diff']=='diff']"
   ]
  },
  {
   "cell_type": "code",
   "execution_count": null,
   "metadata": {},
   "outputs": [],
   "source": []
  }
 ],
 "metadata": {
  "kernelspec": {
   "display_name": "python/3.6",
   "language": "python",
   "name": "py3.6"
  },
  "language_info": {
   "codemirror_mode": {
    "name": "ipython",
    "version": 3
   },
   "file_extension": ".py",
   "mimetype": "text/x-python",
   "name": "python",
   "nbconvert_exporter": "python",
   "pygments_lexer": "ipython3",
   "version": "3.6.10"
  }
 },
 "nbformat": 4,
 "nbformat_minor": 4
}
