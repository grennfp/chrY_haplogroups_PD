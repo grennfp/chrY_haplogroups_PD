{
 "cells": [
  {
   "cell_type": "markdown",
   "metadata": {},
   "source": [
    "# Calculate Haplogroup Frequencies in Samples\n",
    "- **Author(s)** - Frank Grenn\n",
    "- **Date Started** - February  2021\n",
    "- **Quick Description:** check counts from the snappy, yhaplo and y-lineagetracker tools in the AMP-PD, NeuroX and UKBB samples "
   ]
  },
  {
   "cell_type": "code",
   "execution_count": null,
   "metadata": {},
   "outputs": [],
   "source": [
    "import pandas as pd\n",
    "import matplotlib.pyplot as plt\n",
    "import seaborn as sns\n",
    "import string"
   ]
  },
  {
   "cell_type": "code",
   "execution_count": null,
   "metadata": {},
   "outputs": [],
   "source": [
    "WRKDIR = \"$PATH/chrY\"\n",
    "AMPDIR = \"$PATH/PD/AMP-PD\"\n",
    "\n",
    "UKBB_BFILE = f\"{WRKDIR}/y_ukbb\"\n",
    "AMPPD_BFILE = f\"{WRKDIR}/y_male_only_bfiles\"\n",
    "NABEC_BFILE = f\"{WRKDIR}/y_nabec_files\"\n",
    "NEUROX_BFILE = f\"{WRKDIR}/y_neurox\"\n",
    "\n",
    "UKBB_OUT = f\"{WRKDIR}/output_ukbb\"\n",
    "AMPPD_OUT = f\"{WRKDIR}/output_male_hemizygous_only_het_filter_run\"\n",
    "NABEC_OUT = f\"{WRKDIR}/output_nabec\"\n",
    "NEUROX_OUT = f\"{WRKDIR}/output_neurox\""
   ]
  },
  {
   "cell_type": "markdown",
   "metadata": {},
   "source": [
    "# 1) Get sample names for the various datasets"
   ]
  },
  {
   "cell_type": "code",
   "execution_count": null,
   "metadata": {},
   "outputs": [],
   "source": [
    "#AMP-PD\n",
    "samples = pd.read_csv(f\"{AMPPD_BFILE}/chrY_male_hemizygous_only_het_filter_hg19_final.fam\",sep=\"\\s\",header=None)\n",
    "samples.columns = ['fid','iid','pid','mid','sex','pheno']\n",
    "print(samples.shape)\n",
    "print(samples.head())\n",
    "\n",
    "anc = pd.read_csv(\"$PATH/genetic_ancestry_all_pca.csv\")\n",
    "print(anc.shape)\n",
    "print(anc.head())\n",
    "\n",
    "eur_samples = pd.merge(left = samples, right = anc, left_on = \"fid\", right_on = \"IID\")\n",
    "eur_samples = eur_samples[eur_samples.InfPop==\"EUROPE\"]\n",
    "print(eur_samples.shape)\n",
    "print(eur_samples.head())\n",
    "\n",
    "amp_males = list(map(str, eur_samples[eur_samples.sex==1]['fid'].tolist()))\n",
    "print(len(amp_males))\n",
    "\n",
    "amp_males_double_id = [iid+\"_\"+iid for iid in amp_males]\n",
    "print(len(amp_males_double_id))\n",
    "print(amp_males_double_id[0:10])"
   ]
  },
  {
   "cell_type": "code",
   "execution_count": null,
   "metadata": {},
   "outputs": [],
   "source": [
    "#UKBB\n",
    "samples = pd.read_csv(f\"{UKBB_BFILE}/chrY_male_only.fam\",sep=\"\\s\",header=None)\n",
    "samples.columns = ['fid','iid','pid','mid','sex','pheno']\n",
    "print(samples.shape)\n",
    "print(samples.head())\n",
    "\n",
    "anc = pd.read_table(\"$PATH/covariates_phenome_to_use.txt\")\n",
    "print(anc.shape)\n",
    "print(anc.head())\n",
    "\n",
    "eur_samples = pd.merge(left = samples, right = anc, left_on = \"fid\", right_on = \"IID\")\n",
    "eur_samples = eur_samples[eur_samples.EUROPEAN==1]\n",
    "print(eur_samples.shape)\n",
    "print(eur_samples.head())\n",
    "\n",
    "ukbb_males = list(map(str, eur_samples[eur_samples.sex==1]['fid'].tolist()))\n",
    "print(len(ukbb_males))\n",
    "\n",
    "ukbb_males_double_id = [iid+\"_\"+iid for iid in ukbb_males]\n",
    "print(len(ukbb_males_double_id))\n",
    "print(ukbb_males_double_id[0:10])"
   ]
  },
  {
   "cell_type": "code",
   "execution_count": null,
   "metadata": {},
   "outputs": [],
   "source": [
    "#NABEC\n",
    "samples = pd.read_csv(f\"{NABEC_BFILE}/nabec_males_only_hg19_chrY.fam\",sep=\"\\s\",header=None)\n",
    "samples.columns = ['fid','iid','pid','mid','sex','pheno']\n",
    "print(samples.shape)\n",
    "print(samples.head())\n",
    "\n",
    "nabec_males = list(map(str, samples[samples.sex==1]['fid'].tolist()))\n",
    "print(len(nabec_males))\n",
    "\n",
    "nabec_males_double_id = [iid+\"_\"+iid for iid in nabec_males]\n",
    "print(len(nabec_males_double_id))"
   ]
  },
  {
   "cell_type": "code",
   "execution_count": null,
   "metadata": {},
   "outputs": [],
   "source": [
    "#NEUROX\n",
    "samples = pd.read_csv(f\"{NEUROX_BFILE}/neurox_chrY_male_only.fam\",sep=\"\\s\",header=None)\n",
    "samples.columns = ['fid','iid','pid','mid','sex','pheno']\n",
    "print(samples.shape)\n",
    "print(samples.head())\n",
    "\n",
    "neurox_males = list(map(str, samples[samples.sex==1]['fid'].tolist()))\n",
    "print(len(neurox_males))\n",
    "\n",
    "neurox_males_double_id = [iid+\"_\"+iid for iid in neurox_males]\n",
    "print(len(neurox_males_double_id))"
   ]
  },
  {
   "cell_type": "markdown",
   "metadata": {},
   "source": [
    "## 2) SNAPPY results"
   ]
  },
  {
   "cell_type": "code",
   "execution_count": null,
   "metadata": {},
   "outputs": [],
   "source": [
    "def get_snappy_frequencies(out_path, haplo_file, sample_names):\n",
    "   # !grep -v \"no match\" {haplo_file} > {out_path}/chrY_hgs_snappy_matches.out\n",
    "#chrY_hgs_snappy.out\n",
    "    snappy = pd.read_csv(f\"{haplo_file}\",sep=\"\\t\",header=None)\n",
    "    #snappy = pd.read_csv(f\"{out_path}/chrY_hgs_snappy_matches.out\",sep=\"\\t\",header=None)\n",
    "    snappy.columns = ['id','haplo','haplo_score','info_alleles']\n",
    "\n",
    "    \n",
    "    #some samples, like \"PD-PDNZ095VCJ\" have extra data in the \"haplo\" column, like \"B2a1a M109,M152/Page60,P32,P50\", and we only want the \"B2a1a\"\n",
    "    #snappy['haplo']= snappy['haplo'].str.split(\" \").str[0]\n",
    "    snappy.loc[snappy.haplo!=\"no match\",\"haplo\"] = snappy.loc[snappy.haplo!=\"no match\",\"haplo\"].str.split(\" \").str[0]\n",
    "\n",
    "    snappy_male = snappy[snappy.id.isin(sample_names)]\n",
    "    print(sample_names[0:10])\n",
    "    #get major haplogroups, or first character of the haplogroups\n",
    "    snappy_male['snappy_haplo_major'] = snappy_male['haplo'].str[0]\n",
    "    snappy_male.loc[snappy_male.haplo!=\"no match\",\"snappy_haplo_major\"] = snappy_male.loc[snappy_male.haplo!=\"no match\",\"haplo\"].str[0]\n",
    "    snappy_male.loc[snappy_male.haplo==\"no match\",\"snappy_haplo_major\"] = \"no match\"\n",
    "    print(snappy_male.shape)\n",
    "    print(snappy_male.head())\n",
    "\n",
    "    #get counts and percents for full haplogroups\n",
    "    snappy_haplo_freqs = snappy_male['haplo'].value_counts().to_frame()\n",
    "    snappy_haplo_freqs.columns = ['snappy_haplo_count']\n",
    "    snappy_haplo_freqs['haplo']=snappy_haplo_freqs.index\n",
    "\n",
    "    snappy_haplo_freqs['snappy_haplo_percent'] = snappy_haplo_freqs['snappy_haplo_count'] / len(snappy_male.index) * 100\n",
    "\n",
    "\n",
    "    print(snappy_haplo_freqs.shape)\n",
    "    print(snappy_haplo_freqs.head())\n",
    "\n",
    "    #get counts and percents for major haplogroups\n",
    "    snappy_haplo_major_freqs = snappy_male['snappy_haplo_major'].value_counts().to_frame()\n",
    "    snappy_haplo_major_freqs.columns = ['snappy_haplo_major_count']\n",
    "    snappy_haplo_major_freqs['haplo_major']=snappy_haplo_major_freqs.index\n",
    "\n",
    "    snappy_haplo_major_freqs['snappy_haplo_major_percent'] = snappy_haplo_major_freqs['snappy_haplo_major_count'] / len(snappy_male.index) * 100\n",
    "\n",
    "\n",
    "    print(snappy_haplo_major_freqs.shape)\n",
    "    print(snappy_haplo_major_freqs.head())\n",
    "    \n",
    "    return snappy_haplo_freqs, snappy_haplo_major_freqs"
   ]
  },
  {
   "cell_type": "code",
   "execution_count": null,
   "metadata": {},
   "outputs": [],
   "source": []
  },
  {
   "cell_type": "code",
   "execution_count": null,
   "metadata": {},
   "outputs": [],
   "source": []
  },
  {
   "cell_type": "code",
   "execution_count": null,
   "metadata": {},
   "outputs": [],
   "source": [
    "#NEUROX\n",
    "neurox_snappy_haplo_freqs, neurox_snappy_haplo_major_freqs = get_snappy_frequencies(NEUROX_OUT, NEUROX_OUT + \"/chrY_hgs_snappy.out\",neurox_males)"
   ]
  },
  {
   "cell_type": "code",
   "execution_count": null,
   "metadata": {},
   "outputs": [],
   "source": [
    "#NABEC\n",
    "nabec_snappy_haplo_freqs, nabec_snappy_haplo_major_freqs = get_snappy_frequencies(NABEC_OUT, NABEC_OUT + \"/snappy.out\",nabec_males)"
   ]
  },
  {
   "cell_type": "code",
   "execution_count": null,
   "metadata": {},
   "outputs": [],
   "source": [
    "#UKBB\n",
    "ukbb_snappy_haplo_freqs, ukbb_snappy_haplo_major_freqs = get_snappy_frequencies(UKBB_OUT, UKBB_OUT + \"/chrY_hgs_snappy.out\",ukbb_males)"
   ]
  },
  {
   "cell_type": "code",
   "execution_count": null,
   "metadata": {},
   "outputs": [],
   "source": [
    "#AMPPD\n",
    "amppd_snappy_haplo_freqs, amppd_snappy_haplo_major_freqs = get_snappy_frequencies(AMPPD_OUT, AMPPD_OUT + \"/chrY_hgs_snappy.out\",amp_males)"
   ]
  },
  {
   "cell_type": "code",
   "execution_count": null,
   "metadata": {},
   "outputs": [],
   "source": []
  },
  {
   "cell_type": "markdown",
   "metadata": {},
   "source": [
    "## 3) YHaplo Tool Results"
   ]
  },
  {
   "cell_type": "code",
   "execution_count": null,
   "metadata": {},
   "outputs": [],
   "source": [
    "def get_yhaplo_frequencies(out_path, haplo_file, sample_names):\n",
    "    yhaplo = pd.read_csv(f\"{haplo_file}\",sep=\"\\s+\",header=None)#pd.read_csv(f\"{OUTDIR}/yhaplo_output/haplogroups.chrY_male_only.txt\",sep=\"\\s+\",header=None)\n",
    "    yhaplo.columns = ['id','haplo_short','haplo_short_rep_snp','haplo_long']\n",
    "    print(yhaplo.shape)\n",
    "    print(yhaplo.head())\n",
    "\n",
    "    #assume samples with \"A\" haplogroup were not assigned one.\n",
    "    #yhaplo_pass = yhaplo[yhaplo['haplo_long']!='A']\n",
    "    yhaplo_pass = yhaplo.copy()\n",
    "    yhaplo_pass.loc[yhaplo_pass.haplo_long=='A','haplo_long'] = 'no match'\n",
    "\n",
    "    yhaplo_male = yhaplo_pass[yhaplo_pass.id.isin(sample_names)]\n",
    "    yhaplo_male['yhaplo_haplo_major'] = yhaplo_male['haplo_long'].str[0]\n",
    "    yhaplo_male.loc[yhaplo_male.haplo_long=='no match','yhaplo_haplo_major'] = 'no match'\n",
    "    yhaplo_male.loc[yhaplo_male.haplo_long!='no match','yhaplo_haplo_major'] = yhaplo_male.loc[yhaplo_male.haplo_long!='no match','haplo_long'].str[0]\n",
    "    \n",
    "    print(yhaplo_male.shape)\n",
    "    print(yhaplo_male.head())\n",
    "\n",
    "    yhaplo_haplo_freqs = yhaplo_male['haplo_long'].value_counts().to_frame()\n",
    "    yhaplo_haplo_freqs.columns = ['yhaplo_haplo_count']\n",
    "    yhaplo_haplo_freqs['haplo']=yhaplo_haplo_freqs.index\n",
    "    yhaplo_haplo_freqs['yhaplo_haplo_percent'] = yhaplo_haplo_freqs['yhaplo_haplo_count'] / len(yhaplo_male.index) * 100\n",
    "    print(yhaplo_haplo_freqs.shape)\n",
    "    print(yhaplo_haplo_freqs.head())\n",
    "\n",
    "    yhaplo_haplo_major_freqs = yhaplo_male['yhaplo_haplo_major'].value_counts().to_frame()\n",
    "    yhaplo_haplo_major_freqs.columns = ['yhaplo_haplo_major_count']\n",
    "    yhaplo_haplo_major_freqs['haplo_major']=yhaplo_haplo_major_freqs.index\n",
    "\n",
    "    yhaplo_haplo_major_freqs['yhaplo_haplo_major_percent'] = yhaplo_haplo_major_freqs['yhaplo_haplo_major_count'] / len(yhaplo_male.index) * 100\n",
    "    print(yhaplo_haplo_major_freqs.shape)\n",
    "    print(yhaplo_haplo_major_freqs.head())\n",
    "    \n",
    "    return yhaplo_haplo_freqs, yhaplo_haplo_major_freqs"
   ]
  },
  {
   "cell_type": "code",
   "execution_count": null,
   "metadata": {
    "tags": []
   },
   "outputs": [],
   "source": [
    "neurox_yhaplo_haplo_freqs, neurox_yhaplo_haplo_major_freqs = get_yhaplo_frequencies(NEUROX_OUT, f\"{NEUROX_OUT}/yhaplo_output/haplogroups.neurox_chrY_male_only.txt\",neurox_males_double_id)"
   ]
  },
  {
   "cell_type": "code",
   "execution_count": null,
   "metadata": {},
   "outputs": [],
   "source": [
    "nabec_yhaplo_haplo_freqs, nabec_yhaplo_haplo_major_freqs = get_yhaplo_frequencies(NABEC_OUT, f\"{NABEC_OUT}/yhaplo_output/haplogroups.nabec_males_only_hg19_chrY.txt\",nabec_males_double_id)"
   ]
  },
  {
   "cell_type": "code",
   "execution_count": null,
   "metadata": {},
   "outputs": [],
   "source": [
    "amppd_yhaplo_haplo_freqs, amppd_yhaplo_haplo_major_freqs = get_yhaplo_frequencies(AMPPD_OUT, f\"{AMPPD_OUT}/output_yhaplo/haplogroups.chrY_male_hemizygous_only_het_filter_hg19_final.txt\",amp_males_double_id)"
   ]
  },
  {
   "cell_type": "code",
   "execution_count": null,
   "metadata": {},
   "outputs": [],
   "source": [
    "ukbb_yhaplo_haplo_freqs, ukbb_yhaplo_haplo_major_freqs = get_yhaplo_frequencies(UKBB_OUT, f\"{UKBB_OUT}/yhaplo_output/haplogroups.chrY_male_only.txt\",ukbb_males_double_id)"
   ]
  },
  {
   "cell_type": "markdown",
   "metadata": {},
   "source": [
    "## 4) Y-LineageTracker Results"
   ]
  },
  {
   "cell_type": "code",
   "execution_count": null,
   "metadata": {},
   "outputs": [],
   "source": [
    "def get_ltrack_frequencies(out_path, haplo_file, sample_names):\n",
    "    #ltrack = pd.read_table(f\"{AMPPD_OUT}/output_ltracker/ltrack_out.hapresult.hg\",sep=\"\\s+\")\n",
    "    ltrack = pd.read_table(f\"{haplo_file}\")\n",
    "    #print(ltrack.shape)\n",
    "    #print(ltrack.head())\n",
    "    ltrack_male = ltrack[ltrack.SampleID.isin(sample_names)]\n",
    "    \n",
    "    ltrack_male.loc[ltrack_male.Haplogroup==\".\",\"Haplogroup\"] = \"no match\"\n",
    "    \n",
    "    ltrack_male['ltrack_haplo_major'] = ltrack_male['Haplogroup'].str[0]#ltrack_male['Haplogroup'].str[0]\n",
    "    ltrack_male.loc[ltrack_male.Haplogroup==\"no match\",\"ltrack_haplo_major\"] = \"no match\"\n",
    "    ltrack_male.loc[ltrack_male.Haplogroup!=\"no match\",\"ltrack_haplo_major\"] = ltrack_male.loc[ltrack_male.Haplogroup!=\"no match\",\"ltrack_haplo_major\"].str[0]\n",
    "    ltrack_male['ltrack_keyhaplo_major'] = ltrack_male['KeyHaplogroup'].str[0]#ltrack_male['Haplogroup'].str[0]\n",
    "    print(ltrack_male.shape)\n",
    "    print(ltrack_male.head())\n",
    "\n",
    "    ltrack_haplo_freqs = ltrack_male['Haplogroup'].value_counts().to_frame()\n",
    "    ltrack_haplo_freqs.columns = ['ltrack_haplo_count']\n",
    "    ltrack_haplo_freqs['haplo']=ltrack_haplo_freqs.index\n",
    "    print(len(ltrack_male.index))\n",
    "    ltrack_haplo_freqs['ltrack_haplo_percent'] = ltrack_haplo_freqs['ltrack_haplo_count'] / len(ltrack_male.index) * 100\n",
    "    print(ltrack_haplo_freqs.shape)\n",
    "    print(ltrack_haplo_freqs.head())\n",
    "\n",
    "    ltrack_haplo_major_freqs = ltrack_male['ltrack_haplo_major'].value_counts().to_frame()\n",
    "    ltrack_haplo_major_freqs.columns = ['ltrack_haplo_major_count']\n",
    "    ltrack_haplo_major_freqs['haplo_major']=ltrack_haplo_major_freqs.index\n",
    "    print(len(ltrack_male.index))\n",
    "    ltrack_haplo_major_freqs['ltrack_haplo_major_percent'] = ltrack_haplo_major_freqs['ltrack_haplo_major_count'] / len(ltrack_male.index) * 100\n",
    "    print(ltrack_haplo_major_freqs.shape)\n",
    "    print(ltrack_haplo_major_freqs.head())\n",
    "    \n",
    "    return ltrack_haplo_freqs, ltrack_haplo_major_freqs"
   ]
  },
  {
   "cell_type": "code",
   "execution_count": null,
   "metadata": {
    "tags": []
   },
   "outputs": [],
   "source": [
    "ukbb_ltrack_haplo_freqs, ukbb_ltrack_haplo_major_freqs = get_ltrack_frequencies(UKBB_OUT, f\"{UKBB_OUT}/ltrack_ukbb_hg19.lineageresult.txt\",ukbb_males_double_id)"
   ]
  },
  {
   "cell_type": "code",
   "execution_count": null,
   "metadata": {
    "tags": []
   },
   "outputs": [],
   "source": [
    "amppd_ltrack_haplo_freqs, amppd_ltrack_haplo_major_freqs = get_ltrack_frequencies(AMPPD_OUT, f\"{AMPPD_OUT}/output_ltracker/ltrack_hg19.lineageresult.txt\",amp_males_double_id)"
   ]
  },
  {
   "cell_type": "code",
   "execution_count": null,
   "metadata": {
    "tags": []
   },
   "outputs": [],
   "source": [
    "nabec_ltrack_haplo_freqs, nabec_ltrack_haplo_major_freqs = get_ltrack_frequencies(NABEC_OUT, f\"{NABEC_OUT}/output_ltrack/ltrack_hg19.lineageresult.txt\",nabec_males_double_id)"
   ]
  },
  {
   "cell_type": "code",
   "execution_count": null,
   "metadata": {
    "tags": []
   },
   "outputs": [],
   "source": [
    "neurox_ltrack_haplo_freqs, neurox_ltrack_haplo_major_freqs = get_ltrack_frequencies(NEUROX_OUT, f\"{NEUROX_OUT}/ltrack_neurox_hg19.lineageresult.txt\",neurox_males_double_id)"
   ]
  },
  {
   "cell_type": "markdown",
   "metadata": {},
   "source": [
    "## 5) Combine by dataset"
   ]
  },
  {
   "cell_type": "markdown",
   "metadata": {},
   "source": [
    "#### AMPPD"
   ]
  },
  {
   "cell_type": "code",
   "execution_count": null,
   "metadata": {},
   "outputs": [],
   "source": [
    "#AMPPD\n",
    "print(len(set(amppd_snappy_haplo_freqs['haplo'].tolist())- set([\"no match\"])))\n",
    "print(len(set(amppd_yhaplo_haplo_freqs['haplo'].tolist())- set([\"no match\"])))\n",
    "print(len(set(amppd_ltrack_haplo_freqs['haplo'].tolist())- set([\"no match\"])))"
   ]
  },
  {
   "cell_type": "code",
   "execution_count": null,
   "metadata": {},
   "outputs": [],
   "source": [
    "amp_haplo_freqs = pd.merge(left = amppd_snappy_haplo_freqs, right = amppd_yhaplo_haplo_freqs, on = 'haplo',how = 'outer')\n",
    "\n",
    "amp_haplo_freqs = pd.merge(left = amp_haplo_freqs, right = amppd_ltrack_haplo_freqs, on = 'haplo',how = 'outer')\n",
    "\n",
    "amp_haplo_freqs=amp_haplo_freqs.sort_values(by=['haplo'])\n",
    "\n",
    "amp_haplo_freqs = amp_haplo_freqs[['haplo','snappy_haplo_count','yhaplo_haplo_count','ltrack_haplo_count','snappy_haplo_percent','yhaplo_haplo_percent','ltrack_haplo_percent']]\n",
    "print(amp_haplo_freqs.shape)\n",
    "print(amp_haplo_freqs.head())\n",
    "amp_haplo_freqs.to_csv(f\"{AMPPD_OUT}/haplotype_full_male_only_new.csv\",index = None)"
   ]
  },
  {
   "cell_type": "code",
   "execution_count": null,
   "metadata": {},
   "outputs": [],
   "source": [
    "print(len(set(amppd_snappy_haplo_major_freqs['haplo_major'].tolist())- set([\"no match\"])))\n",
    "print(len(set(amppd_yhaplo_haplo_major_freqs['haplo_major'].tolist())- set([\"no match\"])))\n",
    "print(len(set(amppd_ltrack_haplo_major_freqs['haplo_major'].tolist())- set([\"no match\"])))"
   ]
  },
  {
   "cell_type": "code",
   "execution_count": null,
   "metadata": {},
   "outputs": [],
   "source": [
    "amp_haplo_major_freqs = pd.merge(left = amppd_snappy_haplo_major_freqs, right = amppd_yhaplo_haplo_major_freqs, on = 'haplo_major',how = 'outer')\n",
    "amp_haplo_major_freqs = pd.merge(left = amp_haplo_major_freqs, right = amppd_ltrack_haplo_major_freqs, on = 'haplo_major',how = 'outer')\n",
    "amp_haplo_major_freqs=amp_haplo_major_freqs.sort_values(by=['haplo_major'])\n",
    "print(amp_haplo_major_freqs.shape)\n",
    "print(amp_haplo_major_freqs.head())\n",
    "amp_haplo_major_freqs = amp_haplo_major_freqs[['haplo_major','snappy_haplo_major_count','yhaplo_haplo_major_count','ltrack_haplo_major_count','snappy_haplo_major_percent','yhaplo_haplo_major_percent','ltrack_haplo_major_percent']]\n",
    "amp_haplo_major_freqs.to_csv(f\"{AMPPD_OUT}/haplotype_major_male_only_new.csv\",index = None)"
   ]
  },
  {
   "cell_type": "markdown",
   "metadata": {},
   "source": [
    "### UKBB"
   ]
  },
  {
   "cell_type": "code",
   "execution_count": null,
   "metadata": {},
   "outputs": [],
   "source": [
    "set(ukbb_snappy_haplo_major_freqs.haplo_major.tolist()) - set([\"no match\"])"
   ]
  },
  {
   "cell_type": "code",
   "execution_count": null,
   "metadata": {
    "tags": []
   },
   "outputs": [],
   "source": [
    "print(len(set(ukbb_snappy_haplo_freqs['haplo'].tolist())- set([\"no match\"])))\n",
    "print(len(set(ukbb_yhaplo_haplo_freqs['haplo'].tolist())- set([\"no match\"])))\n",
    "print(len(set(ukbb_ltrack_haplo_freqs['haplo'].tolist())- set([\"no match\"])))\n",
    "\n",
    "ukbb_haplo_freqs = pd.merge(left = ukbb_snappy_haplo_freqs, right = ukbb_yhaplo_haplo_freqs, on = 'haplo',how = 'outer')\n",
    "\n",
    "ukbb_haplo_freqs = pd.merge(left = ukbb_haplo_freqs, right = ukbb_ltrack_haplo_freqs, on = 'haplo',how = 'outer')\n",
    "\n",
    "ukbb_haplo_freqs=ukbb_haplo_freqs.sort_values(by=['haplo'])\n",
    "\n",
    "ukbb_haplo_freqs = ukbb_haplo_freqs[['haplo','snappy_haplo_count','yhaplo_haplo_count','ltrack_haplo_count','snappy_haplo_percent','yhaplo_haplo_percent','ltrack_haplo_percent']]\n",
    "print(ukbb_haplo_freqs.shape)\n",
    "print(ukbb_haplo_freqs.head())\n",
    "ukbb_haplo_freqs.to_csv(f\"{UKBB_OUT}/haplotype_full_male_only_new.csv\",index = None)\n",
    "\n",
    "print(len(set(ukbb_snappy_haplo_major_freqs['haplo_major'].tolist())- set([\"no match\"])))\n",
    "print(len(set(ukbb_yhaplo_haplo_major_freqs['haplo_major'].tolist())- set([\"no match\"])))\n",
    "print(len(set(ukbb_ltrack_haplo_major_freqs['haplo_major'].tolist())- set([\"no match\"])))\n",
    "\n",
    "ukbb_haplo_major_freqs = pd.merge(left = ukbb_snappy_haplo_major_freqs, right = ukbb_yhaplo_haplo_major_freqs, on = 'haplo_major',how = 'outer')\n",
    "ukbb_haplo_major_freqs = pd.merge(left = ukbb_haplo_major_freqs, right = ukbb_ltrack_haplo_major_freqs, on = 'haplo_major',how = 'outer')\n",
    "ukbb_haplo_major_freqs=ukbb_haplo_major_freqs.sort_values(by=['haplo_major'])\n",
    "print(ukbb_haplo_major_freqs.shape)\n",
    "print(ukbb_haplo_major_freqs.head())\n",
    "ukbb_haplo_major_freqs = ukbb_haplo_major_freqs[['haplo_major','snappy_haplo_major_count','yhaplo_haplo_major_count','ltrack_haplo_major_count','snappy_haplo_major_percent','yhaplo_haplo_major_percent','ltrack_haplo_major_percent']]\n",
    "ukbb_haplo_major_freqs.to_csv(f\"{UKBB_OUT}/haplotype_major_male_only_new.csv\",index = None)"
   ]
  },
  {
   "cell_type": "markdown",
   "metadata": {},
   "source": [
    "### NABEC"
   ]
  },
  {
   "cell_type": "code",
   "execution_count": null,
   "metadata": {},
   "outputs": [],
   "source": [
    "print(len(set(nabec_snappy_haplo_freqs['haplo'].tolist())- set([\"no match\"])))\n",
    "print(len(set(nabec_yhaplo_haplo_freqs['haplo'].tolist())- set([\"no match\"])))\n",
    "print(len(set(nabec_ltrack_haplo_freqs['haplo'].tolist())- set([\"no match\"])))\n",
    "\n",
    "nabec_haplo_freqs = pd.merge(left = nabec_snappy_haplo_freqs, right = nabec_yhaplo_haplo_freqs, on = 'haplo',how = 'outer')\n",
    "\n",
    "nabec_haplo_freqs = pd.merge(left = nabec_haplo_freqs, right = nabec_ltrack_haplo_freqs, on = 'haplo',how = 'outer')\n",
    "\n",
    "nabec_haplo_freqs=nabec_haplo_freqs.sort_values(by=['haplo'])\n",
    "\n",
    "nabec_haplo_freqs = nabec_haplo_freqs[['haplo','snappy_haplo_count','yhaplo_haplo_count','ltrack_haplo_count','snappy_haplo_percent','yhaplo_haplo_percent','ltrack_haplo_percent']]\n",
    "print(nabec_haplo_freqs.shape)\n",
    "print(nabec_haplo_freqs.head())\n",
    "nabec_haplo_freqs.to_csv(f\"{NABEC_OUT}/haplotype_full_male_only_new.csv\",index = None)\n",
    "\n",
    "print(len(set(nabec_snappy_haplo_major_freqs['haplo_major'].tolist())- set([\"no match\"])))\n",
    "print(len(set(nabec_yhaplo_haplo_major_freqs['haplo_major'].tolist())- set([\"no match\"])))\n",
    "print(len(set(nabec_ltrack_haplo_major_freqs['haplo_major'].tolist())- set([\"no match\"])))\n",
    "\n",
    "nabec_haplo_major_freqs = pd.merge(left = nabec_snappy_haplo_major_freqs, right = nabec_yhaplo_haplo_major_freqs, on = 'haplo_major',how = 'outer')\n",
    "nabec_haplo_major_freqs = pd.merge(left = nabec_haplo_major_freqs, right = nabec_ltrack_haplo_major_freqs, on = 'haplo_major',how = 'outer')\n",
    "nabec_haplo_major_freqs=nabec_haplo_major_freqs.sort_values(by=['haplo_major'])\n",
    "print(nabec_haplo_major_freqs.shape)\n",
    "print(nabec_haplo_major_freqs.head())\n",
    "nabec_haplo_major_freqs = nabec_haplo_major_freqs[['haplo_major','snappy_haplo_major_count','yhaplo_haplo_major_count','ltrack_haplo_major_count','snappy_haplo_major_percent','yhaplo_haplo_major_percent','ltrack_haplo_major_percent']]\n",
    "nabec_haplo_major_freqs.to_csv(f\"{NABEC_OUT}/haplotype_major_male_only_new.csv\",index = None)"
   ]
  },
  {
   "cell_type": "markdown",
   "metadata": {},
   "source": [
    "### NEUROX"
   ]
  },
  {
   "cell_type": "code",
   "execution_count": null,
   "metadata": {},
   "outputs": [],
   "source": [
    "print(len(set(neurox_snappy_haplo_freqs['haplo'].tolist())- set([\"no match\"])))\n",
    "print(len(set(neurox_yhaplo_haplo_freqs['haplo'].tolist())- set([\"no match\"])))\n",
    "print(len(set(neurox_ltrack_haplo_freqs['haplo'].tolist())- set([\"no match\"])))\n",
    "\n",
    "neurox_haplo_freqs = pd.merge(left = neurox_snappy_haplo_freqs, right = neurox_yhaplo_haplo_freqs, on = 'haplo',how = 'outer')\n",
    "\n",
    "neurox_haplo_freqs = pd.merge(left = neurox_haplo_freqs, right = neurox_ltrack_haplo_freqs, on = 'haplo',how = 'outer')\n",
    "\n",
    "neurox_haplo_freqs=neurox_haplo_freqs.sort_values(by=['haplo'])\n",
    "\n",
    "neurox_haplo_freqs = neurox_haplo_freqs[['haplo','snappy_haplo_count','yhaplo_haplo_count','ltrack_haplo_count','snappy_haplo_percent','yhaplo_haplo_percent','ltrack_haplo_percent']]\n",
    "print(neurox_haplo_freqs.shape)\n",
    "print(neurox_haplo_freqs.head())\n",
    "neurox_haplo_freqs.to_csv(f\"{NEUROX_OUT}/haplotype_full_male_only_new.csv\",index = None)\n",
    "\n",
    "print(len(set(neurox_snappy_haplo_major_freqs['haplo_major'].tolist())- set([\"no match\"])))\n",
    "print(len(set(neurox_yhaplo_haplo_major_freqs['haplo_major'].tolist())- set([\"no match\"])))\n",
    "print(len(set(neurox_ltrack_haplo_major_freqs['haplo_major'].tolist())- set([\"no match\"])))\n",
    "\n",
    "neurox_haplo_major_freqs = pd.merge(left = neurox_snappy_haplo_major_freqs, right = neurox_yhaplo_haplo_major_freqs, on = 'haplo_major',how = 'outer')\n",
    "neurox_haplo_major_freqs = pd.merge(left = neurox_haplo_major_freqs, right = neurox_ltrack_haplo_major_freqs, on = 'haplo_major',how = 'outer')\n",
    "neurox_haplo_major_freqs=neurox_haplo_major_freqs.sort_values(by=['haplo_major'])\n",
    "print(neurox_haplo_major_freqs.shape)\n",
    "print(neurox_haplo_major_freqs.head())\n",
    "neurox_haplo_major_freqs = neurox_haplo_major_freqs[['haplo_major','snappy_haplo_major_count','yhaplo_haplo_major_count','ltrack_haplo_major_count','snappy_haplo_major_percent','yhaplo_haplo_major_percent','ltrack_haplo_major_percent']]\n",
    "neurox_haplo_major_freqs.to_csv(f\"{NEUROX_OUT}/haplotype_major_male_only_new.csv\",index = None)"
   ]
  },
  {
   "cell_type": "markdown",
   "metadata": {},
   "source": [
    "## Plot"
   ]
  },
  {
   "cell_type": "code",
   "execution_count": null,
   "metadata": {},
   "outputs": [],
   "source": [
    "def make_plot_df(df):\n",
    "    plot_df = pd.DataFrame()\n",
    "\n",
    "    temp = df[['haplo_major','snappy_haplo_major_count']]\n",
    "    temp.columns = ['haplo_major','count']\n",
    "    temp['haplogroup caller'] = 'Snappy'\n",
    "\n",
    "    plot_df = temp.copy()\n",
    "\n",
    "    temp = df[['haplo_major','yhaplo_haplo_major_count']]\n",
    "    temp.columns = ['haplo_major','count']\n",
    "    temp['haplogroup caller'] = 'Yhaplo'\n",
    "\n",
    "    plot_df = plot_df.append(temp)\n",
    "\n",
    "    temp = df[['haplo_major','ltrack_haplo_major_count']]\n",
    "    temp.columns = ['haplo_major','count']\n",
    "    temp['haplogroup caller'] = 'Y-LineageTracker'\n",
    "\n",
    "    plot_df = plot_df.append(temp)\n",
    "    \n",
    "    plot_df.loc[plot_df.haplo_major==\"no match\",\"haplo_major\"] = \"None\"\n",
    "\n",
    "    #plot_df = plot_df.loc[plot_df.haplo_major.isin(list(string.ascii_uppercase[:26]))]\n",
    "    print(plot_df.head())\n",
    "    \n",
    "    return plot_df"
   ]
  },
  {
   "cell_type": "code",
   "execution_count": null,
   "metadata": {},
   "outputs": [],
   "source": [
    "ukbb_plot_df = make_plot_df(ukbb_haplo_major_freqs)"
   ]
  },
  {
   "cell_type": "code",
   "execution_count": null,
   "metadata": {},
   "outputs": [],
   "source": [
    "amp_plot_df = make_plot_df(amp_haplo_major_freqs)"
   ]
  },
  {
   "cell_type": "code",
   "execution_count": null,
   "metadata": {},
   "outputs": [],
   "source": [
    "nabec_plot_df = make_plot_df(nabec_haplo_major_freqs)"
   ]
  },
  {
   "cell_type": "code",
   "execution_count": null,
   "metadata": {},
   "outputs": [],
   "source": [
    "neurox_plot_df = make_plot_df(neurox_haplo_major_freqs)"
   ]
  },
  {
   "cell_type": "code",
   "execution_count": null,
   "metadata": {},
   "outputs": [],
   "source": [
    "\n",
    "fig = plt.figure(figsize=(14, 8), dpi=80)\n",
    "fig.subplots_adjust(hspace=0.5, wspace=0.2)\n",
    "\n",
    "sns.set()\n",
    " #add subplot\n",
    "ax1 = fig.add_subplot(2,2,1)\n",
    "               \n",
    "#plot\n",
    "sns.set()\n",
    "#plt.figure(figsize=(10,10))\n",
    "\n",
    "sns_plot = sns.barplot(x=\"haplo_major\", y=\"count\", hue=\"haplogroup caller\", data=amp_plot_df)\n",
    "sns_plot.get_legend().remove()\n",
    "\n",
    "plt.xlabel(\"Major Haplogroup\")\n",
    "plt.ylabel(\"Sample Count\")\n",
    "plt.title(\"AMP-PD Sample Counts\")\n",
    "            \n",
    "ax2 = fig.add_subplot(2,2,2)\n",
    "               \n",
    "#plot\n",
    "sns.set()\n",
    "#plt.figure(figsize=(10,10))\n",
    "\n",
    "sns_plot = sns.barplot(x=\"haplo_major\", y=\"count\", hue=\"haplogroup caller\", data=ukbb_plot_df)\n",
    "sns_plot.get_legend().remove()\n",
    "\n",
    "plt.xlabel(\"Major Haplogroup\")\n",
    "plt.ylabel(\"Sample Count\")\n",
    "plt.title(\"UKBiobank Sample Counts\")\n",
    "\n",
    " #add subplot\n",
    "#ax3 = fig.add_subplot(2,2,3)\n",
    "               \n",
    "#plot\n",
    "#sns.set()\n",
    "#plt.figure(figsize=(10,10))\n",
    "\n",
    "#sns_plot = sns.barplot(x=\"haplo_major\", y=\"count\", hue=\"haplogroup caller\", data=nabec_plot_df)\n",
    "#sns_plot.get_legend().remove()\n",
    "\n",
    "#plt.xlabel(\"Major Haplogroup\")\n",
    "#plt.ylabel(\"Sample Count\")\n",
    "#plt.title(\"NABEC Sample Counts\")\n",
    "\n",
    " #add subplot\n",
    "ax4 = fig.add_subplot(2,2,3)\n",
    "               \n",
    "#plot\n",
    "sns.set()\n",
    "#plt.figure(figsize=(10,10))\n",
    "\n",
    "sns_plot = sns.barplot(x=\"haplo_major\", y=\"count\", hue=\"haplogroup caller\", data=neurox_plot_df)\n",
    "plt.legend(bbox_to_anchor=(1.1, 1),borderaxespad=0)\n",
    "\n",
    "\n",
    "plt.xlabel(\"Major Haplogroup\")\n",
    "plt.ylabel(\"Sample Count\")\n",
    "plt.title(\"NeuroX Sample Counts\")\n",
    "            \n",
    "fig.suptitle(\"Sample Major Haplogroup Counts\")\n",
    "plt.show()\n",
    "sns_plot.get_figure().savefig(f\"{WRKDIR}/major_haplogroup_count_plot.png\",bbox_inches='tight')  "
   ]
  },
  {
   "cell_type": "code",
   "execution_count": null,
   "metadata": {},
   "outputs": [],
   "source": []
  }
 ],
 "metadata": {
  "kernelspec": {
   "display_name": "python/3.6",
   "language": "python",
   "name": "py3.6"
  },
  "language_info": {
   "codemirror_mode": {
    "name": "ipython",
    "version": 3
   },
   "file_extension": ".py",
   "mimetype": "text/x-python",
   "name": "python",
   "nbconvert_exporter": "python",
   "pygments_lexer": "ipython3",
   "version": "3.6.10"
  }
 },
 "nbformat": 4,
 "nbformat_minor": 4
}
