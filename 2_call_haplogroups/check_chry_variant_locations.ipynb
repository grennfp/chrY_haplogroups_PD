{
 "cells": [
  {
   "cell_type": "markdown",
   "id": "e037129f-ad06-476c-9255-16e006019423",
   "metadata": {},
   "source": [
    "# Check Chromosome Y Reference Data Variant Locations\n",
    "- **Author(s)** - Frank Grenn\n",
    "- **Date Started** - May 2022\n",
    "- **Quick Description:** quick check to see what areas of the gnome are covered by certain y chromosome variant datasets (like if they cover pseudo autosomal regions or heterochromatic regions)"
   ]
  },
  {
   "cell_type": "code",
   "execution_count": null,
   "id": "b32a2142-611f-4ffc-8da7-b216e52e0851",
   "metadata": {},
   "outputs": [],
   "source": [
    "import matplotlib.pyplot as plt\n",
    "import numpy as np\n",
    "import pandas as pd\n",
    "import seaborn as sns"
   ]
  },
  {
   "cell_type": "code",
   "execution_count": null,
   "id": "ea6baa83-2f6e-4baf-b41f-99627ac8f943",
   "metadata": {},
   "outputs": [],
   "source": [
    "WRKDIR = \"$PATH/chrY\"\n",
    "PAR1_hg38 = [10001,2781479]\n",
    "PAR2_hg38 = [56887903,57217415]\n",
    "LONG_ARM_hg38 = [26600001,57227415]\n",
    "PAR1_hg37 = [10001,2649520]\n",
    "PAR2_hg37 = [59034050,59363566]\n",
    "\n",
    "TEMP_FULL = [1,60000000]"
   ]
  },
  {
   "cell_type": "code",
   "execution_count": null,
   "id": "8dc6463d-ef9b-4fa0-af58-4592fced5640",
   "metadata": {},
   "outputs": [],
   "source": [
    "def scatter_plot_region(df, region, pos_col, cat_col):\n",
    "    print(df.shape)\n",
    "    region_df = df.loc[(df[pos_col]>region[0]) & (df[pos_col]<region[1]),]\n",
    "    print(region_df.shape)\n",
    "    \n",
    "    region_df.plot.scatter(x = pos_col, y = cat_col)"
   ]
  },
  {
   "cell_type": "markdown",
   "id": "9f3b05a4-1364-4231-a410-490b1c04b394",
   "metadata": {},
   "source": [
    "## Check Y-LineageTracker Reference\n"
   ]
  },
  {
   "cell_type": "code",
   "execution_count": null,
   "id": "ce177f0d-58d0-46f0-91d3-6df5d106115e",
   "metadata": {},
   "outputs": [],
   "source": [
    "ltrack_haplos = pd.read_csv(f\"{WRKDIR}/../Y-LineageTracker/LineageTracker/Data/HaplogroupInfo.csv\")\n",
    "ltrack_haplos['haplo_major'] = ltrack_haplos['Haplogroup'].str[0]\n",
    "ltrack_haplos['dataset'] = 'Y-LineageTracker Ref'\n",
    "print(ltrack_haplos.shape)\n",
    "print(ltrack_haplos.head())"
   ]
  },
  {
   "cell_type": "code",
   "execution_count": null,
   "id": "45e753a4-dc92-4d97-87f1-1dfc30f9f040",
   "metadata": {},
   "outputs": [],
   "source": [
    "print(ltrack_haplos.Build37.max())\n",
    "print(ltrack_haplos.Build37.min())"
   ]
  },
  {
   "cell_type": "code",
   "execution_count": null,
   "id": "7c44647d-e716-4be3-8f10-500a073208a4",
   "metadata": {
    "tags": []
   },
   "outputs": [],
   "source": [
    "scatter_plot_region(ltrack_haplos, TEMP_FULL, 'Build38', 'haplo_major')\n",
    "scatter_plot_region(ltrack_haplos, PAR1_hg38, 'Build38', 'haplo_major')\n",
    "scatter_plot_region(ltrack_haplos, PAR2_hg38, 'Build38', 'haplo_major')\n",
    "scatter_plot_region(ltrack_haplos, TEMP_FULL, 'Build37', 'haplo_major')\n",
    "scatter_plot_region(ltrack_haplos, PAR1_hg37, 'Build37', 'haplo_major')\n",
    "scatter_plot_region(ltrack_haplos, PAR2_hg37, 'Build37', 'haplo_major')"
   ]
  },
  {
   "cell_type": "markdown",
   "id": "ab6ef43b-6f7b-4c2f-b41f-f6356ceaec98",
   "metadata": {},
   "source": [
    "## Check ISOGG Download"
   ]
  },
  {
   "cell_type": "code",
   "execution_count": null,
   "id": "1d2b5104-c798-4950-8ea8-29c58da09e49",
   "metadata": {},
   "outputs": [],
   "source": [
    "isogg = pd.read_csv(f\"{WRKDIR}/SNP_Index_Human.csv\")\n",
    "isogg['haplo_major'] = isogg['Subgroup Name'].str[0]\n",
    "isogg['dataset'] = 'ISOGG Ref'\n",
    "print(isogg.shape)\n",
    "print(isogg.head())\n"
   ]
  },
  {
   "cell_type": "code",
   "execution_count": null,
   "id": "90654794-1c08-4638-b023-86c31bbcaebd",
   "metadata": {},
   "outputs": [],
   "source": [
    "\n",
    "isogg_37 = isogg.copy()\n",
    "isogg_37['Build 37 Number'] = pd.to_numeric(isogg_37['Build 37 Number'],errors = 'coerce')\n",
    "print(isogg_37.shape)\n",
    "isogg_37.dropna(subset = ['Build 37 Number'],inplace=True)\n",
    "print(isogg_37.shape)\n",
    "#isogg_37 = isogg_37.astype({'Build 37 Number':'Int64'})\n",
    "print(PAR1_hg37)\n",
    "print(PAR2_hg37)\n",
    "print(isogg_37['Build 37 Number'].max())\n",
    "print(isogg_37['Build 37 Number'].min())"
   ]
  },
  {
   "cell_type": "code",
   "execution_count": null,
   "id": "b432226e-6cbc-40d7-8cce-182e35233c34",
   "metadata": {},
   "outputs": [],
   "source": [
    "\n",
    "isogg_38 = isogg.copy()\n",
    "isogg_38['Build 38 Number'] = pd.to_numeric(isogg_38['Build 38 Number'],errors = 'coerce')\n",
    "print(isogg_38.shape)\n",
    "isogg_38 = isogg_38.dropna(subset = ['Build 38 Number'])\n",
    "print(isogg_38.shape)\n",
    "\n",
    "print(PAR1_hg38)\n",
    "print(PAR2_hg38)\n",
    "print(isogg_38['Build 38 Number'].max())\n",
    "print(isogg_38['Build 38 Number'].min())"
   ]
  },
  {
   "cell_type": "code",
   "execution_count": null,
   "id": "bb764a50-3b0b-49f9-8f3e-5d3833579290",
   "metadata": {
    "tags": []
   },
   "outputs": [],
   "source": [
    "scatter_plot_region(isogg_37, TEMP_FULL, 'Build 37 Number', 'haplo_major')\n",
    "scatter_plot_region(isogg_37, PAR1_hg37, 'Build 37 Number', 'haplo_major')\n",
    "scatter_plot_region(isogg_37, PAR1_hg37, 'Build 37 Number', 'haplo_major')\n",
    "scatter_plot_region(isogg_38, TEMP_FULL, 'Build 38 Number', 'haplo_major')\n",
    "scatter_plot_region(isogg_38, PAR1_hg38, 'Build 38 Number', 'haplo_major')\n",
    "scatter_plot_region(isogg_38, PAR2_hg38, 'Build 38 Number', 'haplo_major')"
   ]
  },
  {
   "cell_type": "markdown",
   "id": "4d84aaac-0f6a-4671-96d8-2131278dff89",
   "metadata": {},
   "source": [
    "## Check AMP-PD Data"
   ]
  },
  {
   "cell_type": "code",
   "execution_count": null,
   "id": "2695bfb6-eecb-4359-a91c-e3c1564849da",
   "metadata": {},
   "outputs": [],
   "source": [
    "amppd_38 = pd.read_table(f\"{WRKDIR}/y_male_only_bfiles/amppd_case_control_nogcs_before_liftover.bim\",header=None, names = ['chr','snp','pos','bp','ref','alt'])\n",
    "amppd_38['dataset']='AMP-PD'\n",
    "print(amppd_38.shape)\n",
    "print(amppd_38.head())"
   ]
  },
  {
   "cell_type": "code",
   "execution_count": null,
   "id": "a6faf0f4-3b4c-4b33-82b8-6c723f60cc8e",
   "metadata": {},
   "outputs": [],
   "source": [
    "amppd_38.bp.max()"
   ]
  },
  {
   "cell_type": "code",
   "execution_count": null,
   "id": "366b4ecd-711a-4d8e-8e98-ff99843df8ad",
   "metadata": {},
   "outputs": [],
   "source": [
    "amppd_19 = pd.read_table(f\"{WRKDIR}/y_male_only_bfiles/chrY_male_hemizygous_only_het_filter_hg19_final.bim\",header=None, names = ['chr','snp','pos','bp','ref','alt'])\n",
    "amppd_19['dataset']='AMP-PD'\n",
    "print(amppd_19.shape)\n",
    "print(amppd_19.head())"
   ]
  },
  {
   "cell_type": "code",
   "execution_count": null,
   "id": "0bae111c-1037-4016-ae92-2f0cb5c7b8d3",
   "metadata": {
    "tags": []
   },
   "outputs": [],
   "source": [
    "scatter_plot_region(amppd_19, TEMP_FULL, 'bp', 'chr')\n",
    "scatter_plot_region(amppd_19, PAR1_hg37, 'bp', 'chr')\n",
    "scatter_plot_region(amppd_19, PAR1_hg37, 'bp', 'chr')\n",
    "scatter_plot_region(amppd_38, TEMP_FULL, 'bp', 'chr')\n",
    "scatter_plot_region(amppd_38, PAR1_hg38, 'bp', 'chr')\n",
    "scatter_plot_region(amppd_38, PAR2_hg38, 'bp', 'chr')"
   ]
  },
  {
   "cell_type": "markdown",
   "id": "4e9b4396-907c-458b-a809-86b9a85344e1",
   "metadata": {},
   "source": [
    "## Check UKBB Data"
   ]
  },
  {
   "cell_type": "code",
   "execution_count": null,
   "id": "0b4d7825-398a-4a7b-b6fe-a1f0411b6809",
   "metadata": {},
   "outputs": [],
   "source": [
    "ukbb = pd.read_table(f\"{WRKDIR}/y_ukbb/chrY_male_only.bim\",header=None, names = ['chr','snp','pos','bp','ref','alt'])\n",
    "ukbb['dataset']='UKBB'\n",
    "print(ukbb.shape)\n",
    "print(ukbb.head())"
   ]
  },
  {
   "cell_type": "code",
   "execution_count": null,
   "id": "69a226f9-d43e-4a50-aced-df831f2b733e",
   "metadata": {
    "tags": []
   },
   "outputs": [],
   "source": [
    "scatter_plot_region(ukbb, TEMP_FULL, 'bp', 'chr')\n",
    "scatter_plot_region(ukbb, PAR1_hg37, 'bp', 'chr')\n",
    "scatter_plot_region(ukbb, PAR1_hg37, 'bp', 'chr')"
   ]
  },
  {
   "cell_type": "markdown",
   "id": "923ca2f5-8ff2-47e8-8c5e-ad56f93fe3cd",
   "metadata": {},
   "source": [
    "## Check NeruoX Data"
   ]
  },
  {
   "cell_type": "code",
   "execution_count": null,
   "id": "9e454df5-8b2b-409c-b2ab-d3d02912af02",
   "metadata": {},
   "outputs": [],
   "source": [
    "neurox = pd.read_table(f\"{WRKDIR}/y_neurox/neurox_chrY_male_only.bim\",header=None, names = ['chr','snp','pos','bp','ref','alt'])\n",
    "neurox['dataset']='NeuroX'\n",
    "print(neurox.shape)\n",
    "print(neurox.head())"
   ]
  },
  {
   "cell_type": "code",
   "execution_count": null,
   "id": "a06d0ca7-5248-47fd-b34c-e32e4455fd64",
   "metadata": {
    "tags": []
   },
   "outputs": [],
   "source": [
    "scatter_plot_region(neurox, TEMP_FULL, 'bp', 'chr')\n",
    "scatter_plot_region(neurox, PAR1_hg37, 'bp', 'chr')\n",
    "scatter_plot_region(neurox, PAR1_hg37, 'bp', 'chr')"
   ]
  },
  {
   "cell_type": "markdown",
   "id": "9ddd9b73-d694-48cb-80bc-7de14424c25d",
   "metadata": {},
   "source": [
    "## Make figure with all datasets"
   ]
  },
  {
   "cell_type": "code",
   "execution_count": null,
   "id": "c7d0ab79-1c3a-497a-9b3b-b183720573ab",
   "metadata": {},
   "outputs": [],
   "source": [
    "plot_df = ltrack_haplos[['Build37','dataset']].copy()\n",
    "print(plot_df.shape)\n",
    "plot_df = plot_df.append(isogg_37[['Build 37 Number','dataset']].rename(columns = {'Build 37 Number':'Build37'}))\n",
    "print(plot_df.shape)\n",
    "plot_df = plot_df.append(amppd_19[['bp','dataset']].rename(columns = {'bp':'Build37'}))\n",
    "print(plot_df.shape)\n",
    "plot_df = plot_df.append(neurox[['bp','dataset']].rename(columns = {'bp':'Build37'}))\n",
    "print(plot_df.shape)\n",
    "plot_df = plot_df.append(ukbb[['bp','dataset']].rename(columns = {'bp':'Build37'}))\n",
    "print(plot_df.shape)\n",
    "print(plot_df.head())"
   ]
  },
  {
   "cell_type": "code",
   "execution_count": null,
   "id": "4880692c-9503-4d4b-bed5-1e4b93bd453e",
   "metadata": {},
   "outputs": [],
   "source": [
    "fig = plt.figure(figsize=(12, 6), dpi=80)\n",
    "\n",
    "               \n",
    "#plot\n",
    "sns.set()\n",
    "\n",
    "\n",
    "sns_plot = sns.scatterplot(data = plot_df, x = \"Build37\", y = \"dataset\", hue = \"dataset\", linewidth=0)\n",
    "\n",
    "#sns_plot.fill_between(y1 = 'Y-LineageTracker Ref',y2 = 'UKBB', x = TEMP_FULL, color = 'gray', alpha = 0.4#\n",
    "sns_plot.fill_between(y1 = 'Y-LineageTracker Ref',y2 = 'UKBB', x = PAR1_hg37, color = 'gray', alpha = 0.4)\n",
    "sns_plot.fill_between(y1 = 'Y-LineageTracker Ref',y2 = 'UKBB', x = PAR2_hg37, color = 'gray', alpha = 0.4)\n",
    "\n",
    "locs, labels = plt.xticks()\n",
    "plt.setp(labels, rotation = 30)\n",
    "\n",
    "plt.ticklabel_format(style='plain',axis='x')\n",
    "\n",
    "sns_plot.get_legend().remove()\n",
    "#plt.legend(bbox_to_anchor=(1.25, 1),borderaxespad=0)\n",
    "plt.xlabel(\"Chromosome Y Position (hg19)\")\n",
    "plt.ylabel(\"Dataset\")\n",
    "plt.title(\"Y Chromosome Variant Positions in Datasets\",fontsize = 16)\n",
    "plt.show()           \n",
    "\n",
    "sns_plot.get_figure().savefig(f\"{WRKDIR}/y_variant_dataset_positions.png\",bbox_inches = \"tight\")  "
   ]
  },
  {
   "cell_type": "code",
   "execution_count": null,
   "id": "32b257ba-48a6-4470-a3d7-768e9da28064",
   "metadata": {},
   "outputs": [],
   "source": []
  }
 ],
 "metadata": {
  "kernelspec": {
   "display_name": "python/3.7",
   "language": "python",
   "name": "py3.7"
  },
  "language_info": {
   "codemirror_mode": {
    "name": "ipython",
    "version": 3
   },
   "file_extension": ".py",
   "mimetype": "text/x-python",
   "name": "python",
   "nbconvert_exporter": "python",
   "pygments_lexer": "ipython3",
   "version": "3.7.12"
  }
 },
 "nbformat": 4,
 "nbformat_minor": 5
}
