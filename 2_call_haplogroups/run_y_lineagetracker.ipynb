{
 "cells": [
  {
   "cell_type": "markdown",
   "id": "038131a9-2173-464b-90df-1d4e85cc970d",
   "metadata": {},
   "source": [
    "# Identify Y Chromosome Haplogroups Using Y-LineageTracker\n",
    "- **Author(s)** - Frank Grenn\n",
    "- **Date Started** - May  2021\n",
    "- **Quick Description:** Code to run Y-LineageTrackers and quickly compare results of samples using difference reference genome data."
   ]
  },
  {
   "cell_type": "code",
   "execution_count": null,
   "id": "f63d3408-dea4-4132-b261-dd60f635d879",
   "metadata": {},
   "outputs": [],
   "source": [
    "import pandas as pd"
   ]
  },
  {
   "cell_type": "code",
   "execution_count": null,
   "id": "eac9ec16-2a41-40a5-9d4d-d6ffe7ae686d",
   "metadata": {},
   "outputs": [],
   "source": [
    "WRKDIR = \"\"\n",
    "OUTDIR = \"$PATH/output_ltracker\"\n",
    "VCFDIR = \"\""
   ]
  },
  {
   "cell_type": "markdown",
   "id": "c1e97a4b-6620-4f17-ad5c-a65868d790fd",
   "metadata": {},
   "source": [
    "download from [here](https://www.picb.ac.cn/PGG/resource.php) or [here](https://codeocean.com/capsule/7424381/tree/v2)  \n",
    "note if you are running for the first time you may need to delete ```...``` in the python code to avoid ascii errors"
   ]
  },
  {
   "cell_type": "markdown",
   "id": "8e4655ec-f847-4436-9211-d3b11f07ee0e",
   "metadata": {},
   "source": [
    "## Run\n",
    "\n",
    "on the hg19 vcf:"
   ]
  },
  {
   "cell_type": "markdown",
   "id": "7fd35c6f-6d00-4807-9327-adada795169f",
   "metadata": {},
   "source": [
    "```python $PATH/Y-LineageTracker/LineageTracker/RunLineagerTracker.py classify --vcf $PATH/chrY_male_hemizygous_only_het_filter_hg19_final.vcf --build 37 --output $PATH/output_ltracker/ltrack_hg19```\n",
    "\n",
    "on the hg38 vcf(with more variants):  \n",
    "\n",
    "```python $PATH/RunLineagerTracker.py classify --vcf $PATH/chrY_male_hemizygous_only_het_filter_hg38.vcf --build 38 --output $PATH/output_ltracker/ltrack_hg38```"
   ]
  },
  {
   "cell_type": "markdown",
   "id": "a62eaf39-ec1a-4ee8-8385-ce868b2d0ac2",
   "metadata": {},
   "source": [
    "## Read Output:"
   ]
  },
  {
   "cell_type": "code",
   "execution_count": null,
   "id": "59544da5-7cfc-4f9d-8c30-394a318259ba",
   "metadata": {},
   "outputs": [],
   "source": [
    "hg19_out = pd.read_table(f\"{OUTDIR}/ltrack_hg19.lineageresult.txt\")\n",
    "print(hg19_out.shape)\n",
    "print(hg19_out.head())"
   ]
  },
  {
   "cell_type": "code",
   "execution_count": null,
   "id": "b2f42fbd-ea5e-4bd6-b899-97eb08f013c4",
   "metadata": {},
   "outputs": [],
   "source": [
    "hg19_out.loc[hg19_out.Haplogroup==hg19_out.KeyHaplogroup,].shape"
   ]
  },
  {
   "cell_type": "code",
   "execution_count": null,
   "id": "b2b562dd-af68-499f-8d8b-32f8b21556e8",
   "metadata": {},
   "outputs": [],
   "source": [
    "hg38_out = pd.read_table(f\"{OUTDIR}/ltrack_hg38.lineageresult.txt\")\n",
    "print(hg38_out.shape)\n",
    "print(hg38_out.head())"
   ]
  },
  {
   "cell_type": "code",
   "execution_count": null,
   "id": "6cfbe93f-f2a6-44e3-8e3a-8696c59908f1",
   "metadata": {},
   "outputs": [],
   "source": [
    "hg38_out.loc[hg38_out.Haplogroup==hg38_out.KeyHaplogroup,].shape"
   ]
  },
  {
   "cell_type": "code",
   "execution_count": null,
   "id": "bf4453ae-63aa-4374-b694-4e84e27bc5a7",
   "metadata": {},
   "outputs": [],
   "source": [
    "#try merging to see how much is in common\n",
    "merged = pd.merge(left = hg19_out, right = hg38_out, on = ['SampleID','Haplogroup'],how = 'inner')\n",
    "print(merged.shape)"
   ]
  },
  {
   "cell_type": "code",
   "execution_count": null,
   "id": "7ae16a2b-6f96-434c-b051-47b2b2a1c5e4",
   "metadata": {},
   "outputs": [],
   "source": [
    "merged_samples = list(set(merged.SampleID))\n",
    "print(len(merged_samples))"
   ]
  },
  {
   "cell_type": "code",
   "execution_count": null,
   "id": "e270b498-fcfe-4728-ad31-79de12145a71",
   "metadata": {},
   "outputs": [],
   "source": [
    "differing_samples = list(set(hg38_out.SampleID) ^ set(merged_samples))\n",
    "print(differing_samples)"
   ]
  },
  {
   "cell_type": "code",
   "execution_count": null,
   "id": "f9b05de2-a170-4e79-b0d7-6a003ca5c6f3",
   "metadata": {},
   "outputs": [],
   "source": [
    "for s in differing_samples:\n",
    "    print(\"\")\n",
    "    print(s)\n",
    "    !grep {s} $PATH/output_ltracker/ltrack_hg38.lineageresult.txt\n",
    "    !grep {s} $PATH/output_ltracker/ltrack_hg19.lineageresult.txt"
   ]
  },
  {
   "cell_type": "code",
   "execution_count": null,
   "id": "7a9fdef8-6032-4f8d-86d6-10f6a4ec2377",
   "metadata": {},
   "outputs": [],
   "source": [
    "hg19_out[hg19_out.KeyHaplogroup==\".\"]"
   ]
  },
  {
   "cell_type": "code",
   "execution_count": null,
   "id": "84cf5e1c-8a2e-428b-8839-5b56ae74034a",
   "metadata": {},
   "outputs": [],
   "source": [
    "#try a more strict merge with the KeyHaplogroup\n",
    "mergedboth = pd.merge(left = hg19_out, right = hg38_out, on = ['SampleID','Haplogroup','KeyHaplogroup'],how = 'inner')\n",
    "print(mergedboth.shape)"
   ]
  },
  {
   "cell_type": "code",
   "execution_count": null,
   "id": "efa36d4a-d6e6-445f-97ec-b2e97e6361ff",
   "metadata": {},
   "outputs": [],
   "source": [
    "#try merging but with only KeyHaplogroup and SampleID\n",
    "mergedkey = pd.merge(left = hg19_out, right = hg38_out, on = ['SampleID','KeyHaplogroup'],how = 'inner')\n",
    "print(mergedkey.shape)"
   ]
  },
  {
   "cell_type": "code",
   "execution_count": null,
   "id": "bbe9e0fa-ed14-43d4-9d67-38afaa329122",
   "metadata": {},
   "outputs": [],
   "source": []
  },
  {
   "cell_type": "code",
   "execution_count": null,
   "id": "40cab76f-7ab0-4f55-8ee2-b36a8fd2433f",
   "metadata": {},
   "outputs": [],
   "source": [
    "print(len(set(hg19_out.SampleID)))\n",
    "print(len(set(hg38_out.SampleID)))"
   ]
  },
  {
   "cell_type": "code",
   "execution_count": null,
   "id": "cf33b259-21bf-4535-b8a3-7c68fc8f9178",
   "metadata": {},
   "outputs": [],
   "source": [
    "merged"
   ]
  },
  {
   "cell_type": "code",
   "execution_count": null,
   "id": "83326673-a89f-47ca-a648-327607d94d99",
   "metadata": {},
   "outputs": [],
   "source": []
  }
 ],
 "metadata": {
  "kernelspec": {
   "display_name": "python/3.6",
   "language": "python",
   "name": "py3.6"
  },
  "language_info": {
   "codemirror_mode": {
    "name": "ipython",
    "version": 3
   },
   "file_extension": ".py",
   "mimetype": "text/x-python",
   "name": "python",
   "nbconvert_exporter": "python",
   "pygments_lexer": "ipython3",
   "version": "3.6.10"
  }
 },
 "nbformat": 4,
 "nbformat_minor": 5
}
