{
 "cells": [
  {
   "cell_type": "markdown",
   "id": "778c62de-2635-4b8c-a69f-4676fa653adf",
   "metadata": {},
   "source": [
    "# Get Reference Data for Y Chromosome Haplogroup Calling Tools\n",
    "- **Author(s)** - Frank Grenn\n",
    "- **Date Started** - April 2022\n",
    "- **Quick Description:** compare the reference data available for snappy, yhaplo and y-lineagetracker and attempt to generate reference files with identical data for each tool"
   ]
  },
  {
   "cell_type": "code",
   "execution_count": null,
   "id": "46019a6a-e1e5-4337-a970-da0f6b8e3ce1",
   "metadata": {},
   "outputs": [],
   "source": [
    "import pandas as pd\n",
    "import numpy as np\n",
    "import csv\n",
    "import matplotlib.pyplot as plt\n",
    "import seaborn as sns"
   ]
  },
  {
   "cell_type": "code",
   "execution_count": null,
   "id": "f17e4d71-5a47-4058-9088-4d692d428727",
   "metadata": {},
   "outputs": [],
   "source": [
    "WRKDIR = \"$PATH/chrY\"\n"
   ]
  },
  {
   "cell_type": "markdown",
   "id": "f837d66a-266e-4b56-aa52-047779aa9f04",
   "metadata": {},
   "source": [
    "## 1. Get Reference Data for Each Tool"
   ]
  },
  {
   "cell_type": "markdown",
   "id": "83321745-9e7b-4710-ba94-81a5efe1ce9a",
   "metadata": {},
   "source": [
    "#### snappy  \n",
    "https://github.com/chrisgene/snappy"
   ]
  },
  {
   "cell_type": "code",
   "execution_count": null,
   "id": "08a8352a-9758-4a35-9566-ec9120eb4318",
   "metadata": {},
   "outputs": [],
   "source": [
    "SNAPPY_DIR = f\"{WRKDIR}/snappy\""
   ]
  },
  {
   "cell_type": "code",
   "execution_count": null,
   "id": "f7b758c8-821a-4cb1-a0f4-26d4a1413131",
   "metadata": {},
   "outputs": [],
   "source": [
    "snappy_id_to_pos = pd.read_table(f\"{SNAPPY_DIR}/ref_files/id_to_pos.txt\")\n",
    "print(snappy_id_to_pos.shape)\n",
    "print(snappy_id_to_pos.head())"
   ]
  },
  {
   "cell_type": "code",
   "execution_count": null,
   "id": "c20715d2-84c2-49fe-b2af-d4a4d1bf17f0",
   "metadata": {},
   "outputs": [],
   "source": [
    "snappy_pos_to_allele = pd.read_table(f\"{SNAPPY_DIR}/ref_files/pos_to_allele.txt\",header=None,skiprows=1)\n",
    "snappy_pos_to_allele.columns = ['pos','anc','der']\n",
    "print(snappy_pos_to_allele.shape)\n",
    "print(snappy_pos_to_allele.head())"
   ]
  },
  {
   "cell_type": "code",
   "execution_count": null,
   "id": "cd553e26-13ba-4111-b755-c0397c85f3ee",
   "metadata": {},
   "outputs": [],
   "source": [
    "snappy_tree = pd.read_table(f\"{SNAPPY_DIR}/ref_files/tree_structure.txt\",header=None)\n",
    "snappy_tree.columns = ['parent','child']\n",
    "print(snappy_tree.shape)\n",
    "print(snappy_tree.head())"
   ]
  },
  {
   "cell_type": "code",
   "execution_count": null,
   "id": "5cf35192-bffb-4ff1-ac04-a55e73bd845e",
   "metadata": {},
   "outputs": [],
   "source": [
    "snappy_y_hg_and_snps = pd.read_table(f\"{SNAPPY_DIR}/ref_files/y_hg_and_snps.sort\",header=None,skiprows=1)\n",
    "snappy_y_hg_and_snps.columns = ['haplogroup','SNPs']\n",
    "print(snappy_y_hg_and_snps.shape)\n",
    "print(snappy_y_hg_and_snps.head())"
   ]
  },
  {
   "cell_type": "markdown",
   "id": "3cec9560-163c-4629-8e0c-6d3482c9086b",
   "metadata": {},
   "source": [
    "#### yhaplo  \n",
    "https://github.com/23andMe/yhaplo"
   ]
  },
  {
   "cell_type": "code",
   "execution_count": null,
   "id": "7bb7f232-02e0-4d7c-a477-61f1eb8d464a",
   "metadata": {},
   "outputs": [],
   "source": [
    "YHAPLO_DIR = f\"{WRKDIR}/yhaplo/yhaplo/input\""
   ]
  },
  {
   "cell_type": "code",
   "execution_count": null,
   "id": "4f1abab8-a8d5-42a1-aeaa-2fdc2020f136",
   "metadata": {},
   "outputs": [],
   "source": [
    "yhaplo_pref = pd.read_table(f\"{YHAPLO_DIR}/preferred.snpNames.txt\",header=None)\n",
    "print(yhaplo_pref.shape)\n",
    "print(yhaplo_pref.head())"
   ]
  },
  {
   "cell_type": "code",
   "execution_count": null,
   "id": "2da819b1-5297-4d6b-b5b7-d4d8ce76415b",
   "metadata": {},
   "outputs": [],
   "source": [
    "yhaplo_rep_snp = pd.read_table(f\"{YHAPLO_DIR}/representative.SNPs.isogg.2015tree.txt\",header=None,sep = \"\\s+\")\n",
    "yhaplo_rep_snp.columns = ['haplo','snps']\n",
    "print(yhaplo_rep_snp.shape)\n",
    "print(len(set(yhaplo_rep_snp.haplo)))\n",
    "print(yhaplo_rep_snp.head())"
   ]
  },
  {
   "cell_type": "code",
   "execution_count": null,
   "id": "41b98cb3-faa7-471b-82bd-4a5ee764dfcb",
   "metadata": {},
   "outputs": [],
   "source": [
    "yhaplo_rep_snp_additional = pd.read_table(f\"{YHAPLO_DIR}/representative.SNPs.additional.txt\",header=None,sep = \"\\s+\")\n",
    "yhaplo_rep_snp_additional.columns = ['haplo','snps']\n",
    "print(yhaplo_rep_snp_additional.shape)\n",
    "print(yhaplo_rep_snp_additional.head())"
   ]
  },
  {
   "cell_type": "code",
   "execution_count": null,
   "id": "c7aa7baf-97fb-40fa-9a87-32e31b9138f5",
   "metadata": {},
   "outputs": [],
   "source": [
    "#cut -f 1,2 {WRKDIR}/yhaplo/yhaplo/input/isogg.2016.01.04.txt > temp.isogg.2016.rep.snps.txt\n",
    "yhaplo_snps = pd.read_table(f\"{YHAPLO_DIR}/temp.isogg.2016.rep.snps.txt\")#,header=None,sep = \"\\s+\")\n",
    "#yhaplo_snps.columns = ['haplo','snps']\n",
    "print(yhaplo_snps.shape)\n",
    "print(yhaplo_snps.head())"
   ]
  },
  {
   "cell_type": "code",
   "execution_count": null,
   "id": "a6b9a121-8a87-4fe6-9c6e-b22a5af149dd",
   "metadata": {},
   "outputs": [],
   "source": [
    "yhaplo_snps.columns"
   ]
  },
  {
   "cell_type": "code",
   "execution_count": null,
   "id": "d4b6c493-002d-49a6-b629-ec5f6a34a717",
   "metadata": {},
   "outputs": [],
   "source": [
    "len(set(yhaplo_snps['SNP ']))"
   ]
  },
  {
   "cell_type": "code",
   "execution_count": null,
   "id": "25f36e91-cafa-4e22-a1ef-c5801c4443b9",
   "metadata": {},
   "outputs": [],
   "source": [
    "len(set(yhaplo_snps['Haplogroup ']))"
   ]
  },
  {
   "cell_type": "markdown",
   "id": "0e4b2729-c11b-4f0a-8075-e225d2c3a216",
   "metadata": {},
   "source": [
    "#### y-lineagetracker  \n",
    "https://codeocean.com/capsule/7424381/tree/v2"
   ]
  },
  {
   "cell_type": "code",
   "execution_count": null,
   "id": "86f4644d-a076-47df-9785-d96d5ef2d28a",
   "metadata": {},
   "outputs": [],
   "source": [
    "ltrack_haplos = pd.read_csv(f\"{WRKDIR}/../Y-LineageTracker/LineageTracker/Data/HaplogroupInfo.csv\")\n",
    "print(ltrack_haplos.shape)\n",
    "print(ltrack_haplos.head())"
   ]
  },
  {
   "cell_type": "code",
   "execution_count": null,
   "id": "d2633b01-fc6b-426c-9ed5-417c632faed9",
   "metadata": {},
   "outputs": [],
   "source": [
    "ltrack_haplos[ltrack_haplos.KeyInfo==\"Key\"].shape"
   ]
  },
  {
   "cell_type": "code",
   "execution_count": null,
   "id": "a52ce33f-4bda-4314-9882-ae48779248c8",
   "metadata": {},
   "outputs": [],
   "source": [
    "len(set(ltrack_haplos[ltrack_haplos.KeyInfo==\"Key\"].Haplogroup))"
   ]
  },
  {
   "cell_type": "markdown",
   "id": "8e5027e0-8bcf-4170-aa9b-b9336d71f68d",
   "metadata": {},
   "source": [
    "## 2. Get Newest Haplogroup Data from ISOGG  \n",
    "https://isogg.org/  \n",
    "https://isogg.org/tree/ISOGG_YDNA_SNP_Index.html\n"
   ]
  },
  {
   "cell_type": "code",
   "execution_count": null,
   "id": "5e11f7bd-e938-430d-9b18-ec0bac53610b",
   "metadata": {},
   "outputs": [],
   "source": [
    "isogg_snps = pd.read_csv(f\"{WRKDIR}/SNP_Index_Human.csv\")\n",
    "print(isogg_snps.shape)\n",
    "print(isogg_snps.head())"
   ]
  },
  {
   "cell_type": "markdown",
   "id": "4b17897c-09fc-4fac-967d-486dac31fc35",
   "metadata": {},
   "source": [
    "## 3. Reformat the Reference Data for the Different Tools\n",
    "y-lineageTracker seems to have the most up-to-date data, with data for representative/key variants and haplogroup tree, so we will use that to reformat the reference data used in snappy and yhaplo"
   ]
  },
  {
   "cell_type": "markdown",
   "id": "b4c625e6-bd6b-4973-9638-a8292edb04f6",
   "metadata": {},
   "source": [
    "### Check the Y-LineageTracker Data"
   ]
  },
  {
   "cell_type": "code",
   "execution_count": null,
   "id": "34851a6f-581a-43e1-a5f8-535c6294e863",
   "metadata": {},
   "outputs": [],
   "source": [
    "ltrack_haplos = pd.read_csv(f\"{WRKDIR}/../Y-LineageTracker/LineageTracker/Data/HaplogroupInfo.csv\")\n",
    "print(ltrack_haplos.shape)\n",
    "print(ltrack_haplos.head())"
   ]
  },
  {
   "cell_type": "markdown",
   "id": "11845c3b-606a-4546-b8bd-fa0d0b4b2f06",
   "metadata": {},
   "source": [
    "### Format for Snappy Tool\n",
    "needs:  \n",
    "`id_to_pos.txt` with snp id and hg19 positions  \n",
    "`pos_to_allele.txt` with hg19 position, ref and alt alleles  \n",
    "`tree_structure.txt` with child and parent haplogroups in tree  \n",
    "`y_hg_and_snps.sort` with haplogroup and snps\n"
   ]
  },
  {
   "cell_type": "markdown",
   "id": "4ab6298d-3c4f-4299-a7a8-6936427b7162",
   "metadata": {},
   "source": [
    "#### id_to_pos.txt"
   ]
  },
  {
   "cell_type": "code",
   "execution_count": null,
   "id": "f555af96-9fde-4dde-98f7-016581d9375d",
   "metadata": {},
   "outputs": [],
   "source": [
    "new_id_to_pos = ltrack_haplos[['Mutation','Build37']]\n",
    "new_id_to_pos.columns = ['id','pos']\n"
   ]
  },
  {
   "cell_type": "code",
   "execution_count": null,
   "id": "b32c780f-7532-4153-846f-25e61276df7f",
   "metadata": {},
   "outputs": [],
   "source": [
    "#get rid of random \\n endline characters in the data\n",
    "new_id_to_pos['id']=new_id_to_pos['id'].str.replace(\"\\n\",\"\")"
   ]
  },
  {
   "cell_type": "code",
   "execution_count": null,
   "id": "a00bf121-0c14-44d6-b3b8-94a524ef2c1f",
   "metadata": {},
   "outputs": [],
   "source": [
    "#split id by '/' and create multiple rows\n",
    "temp = new_id_to_pos['id'].str.split('/').apply(pd.Series,1).stack()\n",
    "temp.index = temp.index.droplevel(-1)\n",
    "temp.name = 'id'\n"
   ]
  },
  {
   "cell_type": "code",
   "execution_count": null,
   "id": "b14dc0b9-9651-4c5d-8d43-3050014e2204",
   "metadata": {},
   "outputs": [],
   "source": [
    "del new_id_to_pos['id']\n",
    "new_id_to_pos = new_id_to_pos.join(temp)\n",
    "new_id_to_pos.head()"
   ]
  },
  {
   "cell_type": "code",
   "execution_count": null,
   "id": "58730f62-9d5a-429a-bdb7-b4c7ceb6fb8b",
   "metadata": {},
   "outputs": [],
   "source": [
    "new_id_to_pos[['id','pos']].to_csv(f\"{SNAPPY_DIR}/ref_files_new/id_to_pos.txt\",index=None, sep = \"\\t\")"
   ]
  },
  {
   "cell_type": "markdown",
   "id": "c4664d4d-f9b5-4728-b508-c914d9332000",
   "metadata": {},
   "source": [
    "#### pos_to_allele.txt"
   ]
  },
  {
   "cell_type": "code",
   "execution_count": null,
   "id": "31ea9227-3323-4082-ac74-2ccba0180f91",
   "metadata": {},
   "outputs": [],
   "source": [
    "new_pos_to_allele = ltrack_haplos[['Build37','MutationInfo']]\n",
    "#new_pos_to_allele['MutationInfo'] = new_pos_to_allele['MutationInfo'].str.replace(\"->\",\"\\t\")\n",
    "new_pos_to_allele[['ref','alt']] = new_pos_to_allele['MutationInfo'].str.split(\"->\",1,expand=True)\n",
    "new_pos_to_allele"
   ]
  },
  {
   "cell_type": "code",
   "execution_count": null,
   "id": "62b295ee-c862-463f-a6b7-a7c057d9f9eb",
   "metadata": {},
   "outputs": [],
   "source": [
    "new_pos_to_allele[['Build37','ref','alt']].to_csv(f\"{SNAPPY_DIR}/ref_files_new/pos_to_allele.txt\",index=None,header=None, sep = \"\\t\")#quoting=csv.QUOTE_NONE,escapechar = '')\n",
    "!sed -i '1s/^/id\\tpos\\n/' {SNAPPY_DIR}/ref_files_new/pos_to_allele.txt"
   ]
  },
  {
   "cell_type": "markdown",
   "id": "94a3013e-f36b-4929-afe9-b977ccca7ced",
   "metadata": {},
   "source": [
    "#### tree_structure.txt\n",
    "(converted manually)"
   ]
  },
  {
   "cell_type": "markdown",
   "id": "288f9259-fa71-403a-9c53-938788128d60",
   "metadata": {},
   "source": [
    "#### y_hg_and_snps.sort"
   ]
  },
  {
   "cell_type": "code",
   "execution_count": null,
   "id": "715358a2-edde-4680-8089-9ab9374b3a88",
   "metadata": {},
   "outputs": [],
   "source": [
    "new_hg = ltrack_haplos[['Haplogroup','Mutation']]\n",
    "new_hg"
   ]
  },
  {
   "cell_type": "code",
   "execution_count": null,
   "id": "31caafd0-6ece-40d3-bb21-37b2feb40dc2",
   "metadata": {},
   "outputs": [],
   "source": [
    "#split id by '/' and create multiple rows\n",
    "temp = new_hg['Mutation'].str.split('/').apply(pd.Series,1).stack()\n",
    "temp.index = temp.index.droplevel(-1)\n",
    "temp.name = 'Mutation'\n"
   ]
  },
  {
   "cell_type": "code",
   "execution_count": null,
   "id": "e62c0c17-4c5e-4eb2-bf3a-e0b54339cb8a",
   "metadata": {},
   "outputs": [],
   "source": [
    "del new_hg['Mutation']\n",
    "new_hg = new_hg.join(temp)\n",
    "new_hg.head()"
   ]
  },
  {
   "cell_type": "code",
   "execution_count": null,
   "id": "fd22b115-571b-42ff-91e5-1034621a4b16",
   "metadata": {},
   "outputs": [],
   "source": [
    "new_hg.head()"
   ]
  },
  {
   "cell_type": "code",
   "execution_count": null,
   "id": "b996f2f2-3c5c-494e-89c5-00c5773d6cb5",
   "metadata": {},
   "outputs": [],
   "source": [
    "new_hg['Mutations'] = new_hg.groupby(['Haplogroup'])['Mutation'].transform(lambda x: ','.join(x))\n",
    "new_hg = new_hg[['Haplogroup','Mutations']].drop_duplicates()\n",
    "new_hg.columns = ['#haplogroup','SNPs']\n",
    "new_hg.head()"
   ]
  },
  {
   "cell_type": "code",
   "execution_count": null,
   "id": "9e9343c6-cc30-4bff-8ad2-fb7d5a7ea07a",
   "metadata": {},
   "outputs": [],
   "source": [
    "#get rid of random \\n endline characters in the data\n",
    "new_hg['SNPs']=new_hg['SNPs'].str.replace(\"\\n\",\"\")"
   ]
  },
  {
   "cell_type": "code",
   "execution_count": null,
   "id": "cc1c8fd9-1262-4381-a8fa-28ef9aa597df",
   "metadata": {},
   "outputs": [],
   "source": [
    "new_hg.to_csv(f\"{SNAPPY_DIR}/ref_files_new/y_hg_and_snps.sort\",index=None, sep = \"\\t\")"
   ]
  },
  {
   "cell_type": "markdown",
   "id": "739a2a9c-d75f-4d97-92c4-c8ed63203297",
   "metadata": {},
   "source": [
    "### Format for Yhaplo Tool\n",
    "needs:  \n",
    "`y.tree.primary.[date].nwk` file with haplogroup tree structure, similar to Y-LineageTracker format  \n",
    "`isogg.[date].txt` with variant name, haplogroup, other variant names, rsid, hg19 position, mutation  \n",
    "`isogg.multiallelic.txt` list of variant positions for variants with multiple alleles  \n",
    "`representative.SNPs.isogg.[date]tree.txt` list of haplogroups and their representative SNPs (bold on isogg tables, \"key\" variants in Y-LineageTracker data)  \n",
    "`representative.SNPs.additional.txt` additional list of haplogroups and their representative SNPS. Can probably leave this empty  \n",
    "`preferred.snpNames.txt` list of preferred variant names for variants with multiple names. Can probably leave this empty  "
   ]
  },
  {
   "cell_type": "markdown",
   "id": "b3fff866-08ef-4256-8fa3-cd3899138cdf",
   "metadata": {},
   "source": [
    "#### y.tree.primary.[date].nwk\n",
    "can copy this from y-lineagetracker"
   ]
  },
  {
   "cell_type": "markdown",
   "id": "722fb9e7-4bba-4bb4-974d-25adcd3012b5",
   "metadata": {},
   "source": [
    "#### isogg.[date].txt"
   ]
  },
  {
   "cell_type": "code",
   "execution_count": null,
   "id": "fa5e37e4-98e1-46fd-a14c-65499988e381",
   "metadata": {},
   "outputs": [],
   "source": [
    "!head {YHAPLO_DIR}/isogg.2016.01.04.txt"
   ]
  },
  {
   "cell_type": "code",
   "execution_count": null,
   "id": "32c25757-885a-46a7-aeda-bdaa1bf89d11",
   "metadata": {},
   "outputs": [],
   "source": [
    "ltrack_haplos.head()"
   ]
  },
  {
   "cell_type": "code",
   "execution_count": null,
   "id": "596962f5-b38a-4efa-9fbe-e6d3b4291733",
   "metadata": {},
   "outputs": [],
   "source": [
    "\n",
    "new_isogg = ltrack_haplos[['Mutation','Haplogroup','rs','MutationInfo','Build37']]\n"
   ]
  },
  {
   "cell_type": "code",
   "execution_count": null,
   "id": "e3fcf67a-71ea-47af-81bf-fb183d5f28cb",
   "metadata": {},
   "outputs": [],
   "source": [
    "#get rid of random \\n endline characters in the data\n",
    "new_isogg['Mutation']=new_isogg['Mutation'].str.replace(\"\\n\",\"\")"
   ]
  },
  {
   "cell_type": "code",
   "execution_count": null,
   "id": "d186ee48-bc86-4d39-8639-874ef6df0ef5",
   "metadata": {},
   "outputs": [],
   "source": [
    "#split id by '/' and create multiple rows\n",
    "temp = new_isogg['Mutation'].str.split('/').apply(pd.Series,1).stack()\n",
    "temp.index = temp.index.droplevel(-1)\n",
    "temp.name = 'Mutation'"
   ]
  },
  {
   "cell_type": "code",
   "execution_count": null,
   "id": "7d96a84a-dc6c-4c30-ac5c-f00d4a9c38b2",
   "metadata": {},
   "outputs": [],
   "source": [
    "del new_isogg['Mutation']\n",
    "new_isogg = new_isogg.join(temp)\n",
    "new_isogg.head()"
   ]
  },
  {
   "cell_type": "code",
   "execution_count": null,
   "id": "3df6912d-b79a-4d2f-8ba6-608350c7094f",
   "metadata": {},
   "outputs": [],
   "source": [
    "new_isogg = new_isogg.reset_index(drop = True)\n",
    "new_isogg.head()"
   ]
  },
  {
   "cell_type": "code",
   "execution_count": null,
   "id": "d3225b1e-867f-4c65-bdec-57f41cd163e9",
   "metadata": {},
   "outputs": [],
   "source": [
    "#need to have mutliple lines for variants with multiple names, and add the other names in an additional column\n",
    "\n",
    "#new_isogg['Other_Names'] = new_isogg.groupby(['Haplogroup','rs','MutationInfo','Build37'])['Mutation'].transform(lambda x: '; '.join(x))\n",
    "new_isogg['Other_Names'] = new_isogg.groupby(['Haplogroup','MutationInfo','Build37'])['Mutation'].transform(lambda x: '; '.join(x))\n",
    "\n",
    "print(new_isogg.head())\n",
    "new_isogg['Other_Names'] = new_isogg.apply(lambda x: str(x['Other_Names']).replace(f\"{x['Mutation']}; \",\"\"),axis=1)\n",
    "new_isogg['Other_Names'] = new_isogg.apply(lambda x: str(x['Other_Names']).replace(f\"; {x['Mutation']}\",\"\"),axis=1)\n",
    "#new_isogg['Other_Names'] = new_isogg.apply(lambda x: str(x['Other_Names']).replace(x['Mutation'],\"\"),axis=1)\n",
    "print(new_isogg.head())"
   ]
  },
  {
   "cell_type": "code",
   "execution_count": null,
   "id": "1b668a96-5bf2-43e3-a9db-534bbfc0317f",
   "metadata": {},
   "outputs": [],
   "source": [
    "#check one with three different names\n",
    "new_isogg[new_isogg.Build37==2662361]"
   ]
  },
  {
   "cell_type": "code",
   "execution_count": null,
   "id": "7b4531c1-36f0-4eb5-943d-0a827b40c99b",
   "metadata": {},
   "outputs": [],
   "source": [
    "new_isogg = new_isogg[['Mutation','Haplogroup','Other_Names','rs','Build37','MutationInfo']]\n",
    "new_isogg.columns = ['SNP','Haplogroup','Other Names','RefSNP ID','Y-position (GRCh37)','Mutation']\n",
    "print(new_isogg.head())\n",
    "new_isogg.to_csv(f\"{YHAPLO_DIR}/../input_new/isogg.updated.txt\",index=None,sep = \"\\t\")"
   ]
  },
  {
   "cell_type": "markdown",
   "id": "d9a62470-8062-44fa-85f5-150e3968194f",
   "metadata": {},
   "source": [
    "#### isogg.multiallelic.txt"
   ]
  },
  {
   "cell_type": "code",
   "execution_count": null,
   "id": "e0584feb-3f43-4c35-88f0-22d16bf5776a",
   "metadata": {},
   "outputs": [],
   "source": [
    "new_isogg[new_isogg.duplicated(['Y-position (GRCh37)'],keep=False)].head()"
   ]
  },
  {
   "cell_type": "code",
   "execution_count": null,
   "id": "1c03f22f-2727-41bc-8f7e-2ded4f3a151e",
   "metadata": {},
   "outputs": [],
   "source": [
    "multiallelic = new_isogg.groupby(['Y-position (GRCh37)']).Mutation.nunique().gt(1)\n",
    "multiallelic_variants = new_isogg.loc[new_isogg['Y-position (GRCh37)'].isin(multiallelic[multiallelic].index)]\n",
    "print(multiallelic_variants.shape)\n",
    "print(multiallelic_variants.head())"
   ]
  },
  {
   "cell_type": "code",
   "execution_count": null,
   "id": "fb103366-c1db-4473-b053-538f70f468ba",
   "metadata": {},
   "outputs": [],
   "source": [
    "#check some\n",
    "new_isogg[new_isogg['Y-position (GRCh37)']==14622354]"
   ]
  },
  {
   "cell_type": "code",
   "execution_count": null,
   "id": "8646e76c-6851-4c8b-b4c9-0dcefdec0ed6",
   "metadata": {},
   "outputs": [],
   "source": [
    "multiallelic_variants[['Y-position (GRCh37)']].drop_duplicates().to_csv(f\"{YHAPLO_DIR}/../input_new/isogg.multiallelic.txt\",index=None,header=None,sep = \"\\t\")"
   ]
  },
  {
   "cell_type": "markdown",
   "id": "5fe0ad4f-6952-4d38-a98a-ab7a7d38f7cf",
   "metadata": {},
   "source": [
    "#### representative.SNPs.isogg.[date]tree.txt and representative.SNPs.additional.txt"
   ]
  },
  {
   "cell_type": "code",
   "execution_count": null,
   "id": "23985b33-49fc-4ce6-861f-c421d9ec0d70",
   "metadata": {},
   "outputs": [],
   "source": [
    "ltrack_haplos.head()"
   ]
  },
  {
   "cell_type": "code",
   "execution_count": null,
   "id": "838f801e-42ab-43c2-9aba-aef5edc2f0ac",
   "metadata": {},
   "outputs": [],
   "source": [
    "rep_snps = ltrack_haplos[['Mutation','Haplogroup','KeyInfo']]"
   ]
  },
  {
   "cell_type": "code",
   "execution_count": null,
   "id": "e684245c-a6e2-42b2-b76b-868e0c2c0bb8",
   "metadata": {},
   "outputs": [],
   "source": [
    "#get rid of random \\n endline characters in the data\n",
    "rep_snps['Mutation']=rep_snps['Mutation'].str.replace(\"\\n\",\"\")\n",
    "rep_snps['Haplogroup']=rep_snps['Haplogroup'].str.replace(\"\\n\",\"\")\n",
    "print(rep_snps.head())"
   ]
  },
  {
   "cell_type": "code",
   "execution_count": null,
   "id": "12fc38f5-1ab7-4032-8805-0ffe8693a71f",
   "metadata": {},
   "outputs": [],
   "source": [
    "#split id by '/' and create multiple rows\n",
    "temp = rep_snps['Mutation'].str.split('/').apply(pd.Series,1).stack()\n",
    "temp.index = temp.index.droplevel(-1)\n",
    "temp.name = 'Mutation'\n",
    "\n",
    "del rep_snps['Mutation']\n",
    "rep_snps = rep_snps.join(temp)\n",
    "rep_snps.head()"
   ]
  },
  {
   "cell_type": "code",
   "execution_count": null,
   "id": "5f769d09-240d-48ae-9951-66c4741943b5",
   "metadata": {},
   "outputs": [],
   "source": [
    "rep_snps.loc[rep_snps['KeyInfo'].isna(),'Mutation']='.'\n",
    "print(rep_snps.head())"
   ]
  },
  {
   "cell_type": "code",
   "execution_count": null,
   "id": "16e2e5e7-c11a-4385-9ef4-73043c6ff3e9",
   "metadata": {},
   "outputs": [],
   "source": [
    "key_snps = rep_snps[rep_snps['KeyInfo'].notna()]\n",
    "print(key_snps.shape)\n",
    "print(key_snps.head())"
   ]
  },
  {
   "cell_type": "code",
   "execution_count": null,
   "id": "5d861977-1661-42d8-9745-14a63c7208f7",
   "metadata": {},
   "outputs": [],
   "source": [
    "other_snps = rep_snps[~rep_snps.Haplogroup.isin(key_snps.Haplogroup)].drop_duplicates()\n",
    "print(other_snps.shape)\n",
    "print(other_snps.head())"
   ]
  },
  {
   "cell_type": "code",
   "execution_count": null,
   "id": "541636f7-e32b-47bc-a45f-06fac71623ba",
   "metadata": {},
   "outputs": [],
   "source": [
    "rep_snps = key_snps.append(other_snps).sort_values(['Haplogroup'])\n",
    "print(rep_snps.shape)\n",
    "print(rep_snps.head())"
   ]
  },
  {
   "cell_type": "code",
   "execution_count": null,
   "id": "ada8fe7c-bbc3-43ae-9ecb-fad6a848a20e",
   "metadata": {},
   "outputs": [],
   "source": [
    "rep_snps = rep_snps[['Haplogroup','Mutation']]\n",
    "rep_snps.drop_duplicates().to_csv(f\"{YHAPLO_DIR}/../input_new/representative.SNPs.isogg.txt\",index=None,header=None,sep = \"\\t\")"
   ]
  },
  {
   "cell_type": "code",
   "execution_count": null,
   "id": "78e7666d-bf4b-49a0-8f9d-90852cd25783",
   "metadata": {},
   "outputs": [],
   "source": [
    "!touch {YHAPLO_DIR}/../input_new/representative.SNPs.additional.txt"
   ]
  },
  {
   "cell_type": "markdown",
   "id": "354cc415-554e-438c-90e5-f89fc7b6675c",
   "metadata": {},
   "source": [
    "#### preferred.snpNames.txt"
   ]
  },
  {
   "cell_type": "code",
   "execution_count": null,
   "id": "572f715f-2244-4edf-99e7-e47a6b9ca4f1",
   "metadata": {},
   "outputs": [],
   "source": [
    "!touch {YHAPLO_DIR}/../input_new/preferred.snpNames.txt"
   ]
  },
  {
   "cell_type": "markdown",
   "id": "d18f806e-d781-4bb0-81ef-6ced6a2517b9",
   "metadata": {},
   "source": [
    "## 4. Run Using New Reference Data\n",
    "only need to run snappy and yhaplo since we are using reference data used by Y-LineageTracker.  \n",
    "rerun for all datasets (AMP-PD, UKBB, NeuroX)."
   ]
  },
  {
   "cell_type": "markdown",
   "id": "7e28ed28-9ab0-443a-bb45-3c7e1f810d0c",
   "metadata": {},
   "source": [
    "### Rerun with Snappy"
   ]
  },
  {
   "cell_type": "code",
   "execution_count": null,
   "id": "87cca2aa-ed4a-45e4-ac33-94cc80d9a411",
   "metadata": {},
   "outputs": [],
   "source": [
    "print(f\"cd {SNAPPY_DIR}; module load python/2.7; module load plink; python SNAPPY_v0.2.2.py --infile {WRKDIR}/y_neurox/neurox_chrY_male_only --ref_files_dir ref_files_new --out {WRKDIR}/test_haplo_call/snappy_test/neurox\")"
   ]
  },
  {
   "cell_type": "code",
   "execution_count": null,
   "id": "729bce30-7307-4985-a422-527565a856d7",
   "metadata": {},
   "outputs": [],
   "source": [
    "!echo \"cd {WRKDIR}; module load python/2.7; module load plink; python snappy/SNAPPY_v0.2.2.py --infile y_neurox/neurox_chrY_male_only --ref_files_dir snappy/ref_files_new --out test_haplo_call/snappy_test/neurox\" >> {WRKDIR}/scripts/2_call_haplogroups/run_snappy.swarm\n",
    "!echo \"cd {WRKDIR}; module load python/2.7; module load plink; python snappy/SNAPPY_v0.2.2.py --infile y_nabec_files/nabec_males_only_hg19_chrY --ref_files_dir snappy/ref_files_new --out test_haplo_call/snappy_test/nabec\" >> {WRKDIR}/scripts/2_call_haplogroups/run_snappy.swarm\n",
    "!echo \"cd {WRKDIR}; module load python/2.7; module load plink; python snappy/SNAPPY_v0.2.2.py --infile y_ukbb/chrY_male_only --ref_files_dir snappy/ref_files_new --out test_haplo_call/snappy_test/ukbb\" >> {WRKDIR}/scripts/2_call_haplogroups/run_snappy.swarm\n",
    "!echo \"cd {WRKDIR}; module load python/2.7; module load plink; python snappy/SNAPPY_v0.2.2.py --infile y_male_only_bfiles/chrY_male_hemizygous_only_het_filter_hg19_final --ref_files_dir snappy/ref_files_new --out test_haplo_call/snappy_test/amppd\" >> {WRKDIR}/scripts/2_call_haplogroups/run_snappy.swarm"
   ]
  },
  {
   "cell_type": "code",
   "execution_count": null,
   "id": "6e47f3e3-17f8-40c8-b902-3b9f0c50a482",
   "metadata": {},
   "outputs": [],
   "source": [
    "#swarm -g 100 -f run_snappy.swarm"
   ]
  },
  {
   "cell_type": "markdown",
   "id": "c90e82c9-0fc2-4cde-bc96-ce2baed0090a",
   "metadata": {},
   "source": [
    "### Rerun with Yhaplo\n",
    "need to modify the yhaplo/config.py file with new reference data file paths before running"
   ]
  },
  {
   "cell_type": "code",
   "execution_count": null,
   "id": "edbe8bd2-0c84-4fb8-a02d-cdaf9c4d6046",
   "metadata": {},
   "outputs": [],
   "source": [
    "!echo \"module load python; mkdir {WRKDIR}/test_haplo_call/yhaplo_test/neurox; yhaplo -i {WRKDIR}/y_neurox/neurox_chrY_male_only.vcf -o {WRKDIR}/test_haplo_call/yhaplo_test/neurox\" >> {WRKDIR}/scripts/2_call_haplogroups/run_yhaplo.swarm\n",
    "!echo \"module load python; mkdir {WRKDIR}/test_haplo_call/yhaplo_test/nabec; yhaplo -i {WRKDIR}/y_nabec_files/nabec_males_only_hg19_chrY.vcf -o {WRKDIR}/test_haplo_call/yhaplo_test/nabec\" >> {WRKDIR}/scripts/2_call_haplogroups/run_yhaplo.swarm\n",
    "!echo \"module load python; mkdir {WRKDIR}/test_haplo_call/yhaplo_test/ukbb; yhaplo -i {WRKDIR}/y_ukbb/chrY_male_only.vcf -o {WRKDIR}/test_haplo_call/yhaplo_test/ukbb\" >> {WRKDIR}/scripts/2_call_haplogroups/run_yhaplo.swarm\n",
    "!echo \"module load python; mkdir {WRKDIR}/test_haplo_call/yhaplo_test/amppd; yhaplo -i {WRKDIR}/y_male_only_vcf/chrY_male_hemizygous_only_het_filter_hg19_final.vcf -o {WRKDIR}/test_haplo_call/yhaplo_test/amppd\" >> {WRKDIR}/scripts/2_call_haplogroups/run_yhaplo.swarm"
   ]
  },
  {
   "cell_type": "code",
   "execution_count": null,
   "id": "b0ed8ac3-1040-462a-8f88-d94757ea47ef",
   "metadata": {},
   "outputs": [],
   "source": [
    "#swarm -g 20 -f run_yhaplo.swarm"
   ]
  },
  {
   "cell_type": "markdown",
   "id": "152eaaa2-7c9d-478e-9386-2f6e0e1fe8d4",
   "metadata": {},
   "source": [
    "## 5. Read Old and New Results Before Comapring"
   ]
  },
  {
   "cell_type": "code",
   "execution_count": null,
   "id": "2f7a2430-a234-446d-be70-dd065ef5a4e3",
   "metadata": {},
   "outputs": [],
   "source": [
    "UKBB_BFILE = f\"{WRKDIR}/y_ukbb\"\n",
    "AMPPD_BFILE = f\"{WRKDIR}/y_male_only_bfiles\"\n",
    "NABEC_BFILE = f\"{WRKDIR}/y_nabec_files\"\n",
    "NEUROX_BFILE = f\"{WRKDIR}/y_neurox\"\n",
    "\n",
    "UKBB_OUT = f\"{WRKDIR}/output_ukbb\"\n",
    "AMPPD_OUT = f\"{WRKDIR}/output_male_hemizygous_only_het_filter_run\"\n",
    "NABEC_OUT = f\"{WRKDIR}/output_nabec\"\n",
    "NEUROX_OUT = f\"{WRKDIR}/output_neurox\"\n",
    "\n",
    "NEW_OUT = f\"{WRKDIR}/test_haplo_call\""
   ]
  },
  {
   "cell_type": "markdown",
   "id": "14be1dad-1377-4266-83a5-2c00f3e37491",
   "metadata": {},
   "source": [
    "### Get Sample Names Per Dataset"
   ]
  },
  {
   "cell_type": "code",
   "execution_count": null,
   "id": "b6019756-b33b-4832-8807-4354f9a893a4",
   "metadata": {},
   "outputs": [],
   "source": [
    "#AMP-PD\n",
    "samples = pd.read_csv(f\"{AMPPD_BFILE}/chrY_male_hemizygous_only_het_filter_hg19_final.fam\",sep=\"\\s\",header=None)\n",
    "samples.columns = ['fid','iid','pid','mid','sex','pheno']\n",
    "\n",
    "anc = pd.read_csv(\"$PATH/euro_king_pca_v2.5_July2021/genetic_ancestry_all_pca.csv\")\n",
    "\n",
    "eur_samples = pd.merge(left = samples, right = anc, left_on = \"fid\", right_on = \"IID\")\n",
    "eur_samples = eur_samples[eur_samples.InfPop==\"EUROPE\"]\n",
    "\n",
    "amp_males = list(map(str, eur_samples[eur_samples.sex==1]['fid'].tolist()))\n",
    "print(len(amp_males))\n",
    "\n",
    "amp_males_double_id = [iid+\"_\"+iid for iid in amp_males]\n",
    "print(len(amp_males_double_id))\n",
    "print(amp_males_double_id[0:10])"
   ]
  },
  {
   "cell_type": "code",
   "execution_count": null,
   "id": "1c89c3bb-a1fc-4541-906b-3fff70f951af",
   "metadata": {},
   "outputs": [],
   "source": [
    "#UKBB\n",
    "samples = pd.read_csv(f\"{UKBB_BFILE}/chrY_male_only.fam\",sep=\"\\s\",header=None)\n",
    "samples.columns = ['fid','iid','pid','mid','sex','pheno']\n",
    "\n",
    "anc = pd.read_table(\"$PATH/covariates_phenome_to_use.txt\")\n",
    "\n",
    "eur_samples = pd.merge(left = samples, right = anc, left_on = \"fid\", right_on = \"IID\")\n",
    "eur_samples = eur_samples[eur_samples.EUROPEAN==1]\n",
    "\n",
    "ukbb_males = list(map(str, eur_samples[eur_samples.sex==1]['fid'].tolist()))\n",
    "print(len(ukbb_males))\n",
    "\n",
    "ukbb_males_double_id = [iid+\"_\"+iid for iid in ukbb_males]\n",
    "print(len(ukbb_males_double_id))\n",
    "print(ukbb_males_double_id[0:10])"
   ]
  },
  {
   "cell_type": "code",
   "execution_count": null,
   "id": "cc3a8bb9-b7b9-4521-be04-4f8e6a301575",
   "metadata": {},
   "outputs": [],
   "source": [
    "#NABEC\n",
    "samples = pd.read_csv(f\"{NABEC_BFILE}/nabec_males_only_hg19_chrY.fam\",sep=\"\\s\",header=None)\n",
    "samples.columns = ['fid','iid','pid','mid','sex','pheno']\n",
    "print(samples.shape)\n",
    "print(samples.head())\n",
    "\n",
    "nabec_males = list(map(str, samples[samples.sex==1]['fid'].tolist()))\n",
    "print(len(nabec_males))\n",
    "\n",
    "nabec_males_double_id = [iid+\"_\"+iid for iid in nabec_males]\n",
    "print(len(nabec_males_double_id))"
   ]
  },
  {
   "cell_type": "code",
   "execution_count": null,
   "id": "080a3514-6bbe-4a94-ad04-bb3fbdf58bbc",
   "metadata": {},
   "outputs": [],
   "source": [
    "#NEUROX\n",
    "samples = pd.read_csv(f\"{NEUROX_BFILE}/neurox_chrY_male_only.fam\",sep=\"\\s\",header=None)\n",
    "samples.columns = ['fid','iid','pid','mid','sex','pheno']\n",
    "print(samples.shape)\n",
    "print(samples.head())\n",
    "\n",
    "neurox_males = list(map(str, samples[samples.sex==1]['fid'].tolist()))\n",
    "print(len(neurox_males))\n",
    "\n",
    "neurox_males_double_id = [iid+\"_\"+iid for iid in neurox_males]\n",
    "print(len(neurox_males_double_id))"
   ]
  },
  {
   "cell_type": "markdown",
   "id": "a05f1fe1-0ee0-4d52-a549-dae800e775b5",
   "metadata": {},
   "source": [
    "### Read Snappy Data"
   ]
  },
  {
   "cell_type": "code",
   "execution_count": null,
   "id": "b4fb44ef-de94-4579-883e-058bd19afee9",
   "metadata": {},
   "outputs": [],
   "source": [
    "def get_snappy_frequencies(out_path, haplo_file, sample_names):\n",
    "   # !grep -v \"no match\" {haplo_file} > {out_path}/chrY_hgs_snappy_matches.out\n",
    "#chrY_hgs_snappy.out\n",
    "    snappy = pd.read_csv(f\"{haplo_file}\",sep=\"\\t\",header=None)\n",
    "    \n",
    "    #snappy = pd.read_csv(f\"{out_path}/chrY_hgs_snappy_matches.out\",sep=\"\\t\",header=None)\n",
    "    snappy.columns = ['id','haplo','haplo_score','info_alleles']\n",
    "    snappy['id'] = snappy['id'].astype(str)\n",
    "    \n",
    "    #some samples, like \"PD-PDNZ095VCJ\" have extra data in the \"haplo\" column, like \"B2a1a M109,M152/Page60,P32,P50\", and we only want the \"B2a1a\"\n",
    "    #snappy['haplo']= snappy['haplo'].str.split(\" \").str[0]\n",
    "    snappy.loc[snappy.haplo!=\"no match\",\"haplo\"] = snappy.loc[snappy.haplo!=\"no match\",\"haplo\"].str.split(\" \").str[0]\n",
    "\n",
    "    snappy_male = snappy[snappy.id.isin(sample_names)]\n",
    "    print(sample_names[0:10])\n",
    "    #get major haplogroups, or first character of the haplogroups\n",
    "    snappy_male['snappy_haplo_major'] = snappy_male['haplo'].str[0]\n",
    "    snappy_male.loc[snappy_male.haplo!=\"no match\",\"snappy_haplo_major\"] = snappy_male.loc[snappy_male.haplo!=\"no match\",\"haplo\"].str[0]\n",
    "    snappy_male.loc[snappy_male.haplo==\"no match\",\"snappy_haplo_major\"] = \"no match\"\n",
    "    print(snappy_male.shape)\n",
    "    print(snappy_male.head())\n",
    "\n",
    "    #get counts and percents for full haplogroups\n",
    "    snappy_haplo_freqs = snappy_male['haplo'].value_counts().to_frame()\n",
    "    snappy_haplo_freqs.columns = ['snappy_haplo_count']\n",
    "    snappy_haplo_freqs['haplo']=snappy_haplo_freqs.index\n",
    "\n",
    "    snappy_haplo_freqs['snappy_haplo_percent'] = snappy_haplo_freqs['snappy_haplo_count'] / len(snappy_male.index) * 100\n",
    "\n",
    "\n",
    "    print(snappy_haplo_freqs.shape)\n",
    "    print(snappy_haplo_freqs.head())\n",
    "\n",
    "    #get counts and percents for major haplogroups\n",
    "    snappy_haplo_major_freqs = snappy_male['snappy_haplo_major'].value_counts().to_frame()\n",
    "    snappy_haplo_major_freqs.columns = ['snappy_haplo_major_count']\n",
    "    snappy_haplo_major_freqs['haplo_major']=snappy_haplo_major_freqs.index\n",
    "\n",
    "    snappy_haplo_major_freqs['snappy_haplo_major_percent'] = snappy_haplo_major_freqs['snappy_haplo_major_count'] / len(snappy_male.index) * 100\n",
    "\n",
    "\n",
    "    print(snappy_haplo_major_freqs.shape)\n",
    "    print(snappy_haplo_major_freqs.head())\n",
    "    \n",
    "    return snappy_male, snappy_haplo_freqs, snappy_haplo_major_freqs"
   ]
  },
  {
   "cell_type": "code",
   "execution_count": null,
   "id": "4d37ee88-4070-4277-ac21-1e80419794d2",
   "metadata": {},
   "outputs": [],
   "source": [
    "#NEUROX\n",
    "neurox_snappy_haplos, neurox_snappy_haplo_freqs, neurox_snappy_haplo_major_freqs = get_snappy_frequencies(NEUROX_OUT, NEUROX_OUT + \"/chrY_hgs_snappy.out\",neurox_males)"
   ]
  },
  {
   "cell_type": "code",
   "execution_count": null,
   "id": "49634398-6701-480d-822e-6e2545958bb6",
   "metadata": {},
   "outputs": [],
   "source": [
    "#new NEUROX\n",
    "neurox_new_snappy_haplos, neurox_new_snappy_haplo_freqs, neurox_new_snappy_haplo_major_freqs = get_snappy_frequencies(NEW_OUT, NEW_OUT + \"/snappy_test/neurox.out\",neurox_males)"
   ]
  },
  {
   "cell_type": "code",
   "execution_count": null,
   "id": "9858717d-b1ae-4081-b395-5666cb4204a3",
   "metadata": {},
   "outputs": [],
   "source": [
    "#NABEC\n",
    "nabec_snappy_haplos, nabec_snappy_haplo_freqs, nabec_snappy_haplo_major_freqs = get_snappy_frequencies(NABEC_OUT, NABEC_OUT + \"/snappy.out\",nabec_males)"
   ]
  },
  {
   "cell_type": "code",
   "execution_count": null,
   "id": "2f96c417-d690-4fd8-9be0-b9cd80282318",
   "metadata": {},
   "outputs": [],
   "source": [
    "#new NABEC\n",
    "nabec_new_snappy_haplos, nabec_new_snappy_haplo_freqs, nabec_new_snappy_haplo_major_freqs = get_snappy_frequencies(NEW_OUT, NEW_OUT + \"/snappy_test/nabec.out\",nabec_males)"
   ]
  },
  {
   "cell_type": "code",
   "execution_count": null,
   "id": "0ff448ed-9462-40e6-a710-b67475d834f5",
   "metadata": {},
   "outputs": [],
   "source": [
    "#UKBB\n",
    "ukbb_snappy_haplos, ukbb_snappy_haplo_freqs, ukbb_snappy_haplo_major_freqs = get_snappy_frequencies(UKBB_OUT, UKBB_OUT + \"/chrY_hgs_snappy.out\",ukbb_males)"
   ]
  },
  {
   "cell_type": "code",
   "execution_count": null,
   "id": "d4b68e44-938a-4155-a845-fea945f16fe6",
   "metadata": {},
   "outputs": [],
   "source": [
    "#new UKBB\n",
    "ukbb_new_snappy_haplos, ukbb_new_snappy_haplo_freqs, ukbb_new_snappy_haplo_major_freqs = get_snappy_frequencies(NEW_OUT, NEW_OUT + \"/snappy_test/ukbb.out\",ukbb_males)"
   ]
  },
  {
   "cell_type": "code",
   "execution_count": null,
   "id": "ad45ecb9-a560-46cf-9830-bc3e23e6e05a",
   "metadata": {},
   "outputs": [],
   "source": [
    "ukbb_snappy_haplo_major_freqs"
   ]
  },
  {
   "cell_type": "code",
   "execution_count": null,
   "id": "b36091bd-86ee-4ead-9041-5ffb9e4eba8e",
   "metadata": {},
   "outputs": [],
   "source": [
    "#AMPPD\n",
    "amppd_snappy_haplos, amppd_snappy_haplo_freqs, amppd_snappy_haplo_major_freqs = get_snappy_frequencies(AMPPD_OUT, AMPPD_OUT + \"/chrY_hgs_snappy.out\",amp_males)"
   ]
  },
  {
   "cell_type": "code",
   "execution_count": null,
   "id": "533f8223-859d-47cf-b1a0-38edf2ebe361",
   "metadata": {},
   "outputs": [],
   "source": [
    "#new AMPPD\n",
    "amppd_new_snappy_haplos, amppd_new_snappy_haplo_freqs, amppd_new_snappy_haplo_major_freqs = get_snappy_frequencies(NEW_OUT, NEW_OUT + \"/snappy_test/amppd.out\",amp_males)"
   ]
  },
  {
   "cell_type": "markdown",
   "id": "470961fc-43cd-4b34-99d6-bba9f19b06ed",
   "metadata": {},
   "source": [
    "### Read Yhaplo Data"
   ]
  },
  {
   "cell_type": "code",
   "execution_count": null,
   "id": "ba5ddc08-d628-4cdf-a496-78ab18c38dc7",
   "metadata": {},
   "outputs": [],
   "source": [
    "def get_yhaplo_frequencies(out_path, haplo_file, sample_names):\n",
    "    yhaplo = pd.read_csv(f\"{haplo_file}\",sep=\"\\s+\",header=None,names = ['id','haplo_short','haplo_short_rep_snp','haplo_long'])#pd.read_csv(f\"{OUTDIR}/yhaplo_output/haplogroups.chrY_male_only.txt\",sep=\"\\s+\",header=None)\n",
    "    yhaplo.columns = ['id','haplo_short','haplo_short_rep_snp','haplo_long']\n",
    "    yhaplo['id'] = yhaplo['id'].astype(str)\n",
    "    print(yhaplo.shape)\n",
    "    print(yhaplo.head())\n",
    "\n",
    "    #assume samples with \"A\" haplogroup were not assigned one.\n",
    "    #yhaplo_pass = yhaplo[yhaplo['haplo_long']!='A']\n",
    "    yhaplo_pass = yhaplo.copy()\n",
    "    yhaplo_pass.loc[yhaplo_pass.haplo_long=='A','haplo_long'] = 'no match'\n",
    "\n",
    "    yhaplo_male = yhaplo_pass[yhaplo_pass.id.isin(sample_names)]\n",
    "    yhaplo_male['yhaplo_haplo_major'] = yhaplo_male['haplo_long'].str[0]\n",
    "    yhaplo_male.loc[yhaplo_male.haplo_long=='no match','yhaplo_haplo_major'] = 'no match'\n",
    "    yhaplo_male.loc[yhaplo_male.haplo_long!='no match','yhaplo_haplo_major'] = yhaplo_male.loc[yhaplo_male.haplo_long!='no match','haplo_long'].str[0]\n",
    "    \n",
    "    print(yhaplo_male.shape)\n",
    "    print(yhaplo_male.head())\n",
    "\n",
    "    yhaplo_haplo_freqs = yhaplo_male['haplo_long'].value_counts().to_frame()\n",
    "    yhaplo_haplo_freqs.columns = ['yhaplo_haplo_count']\n",
    "    yhaplo_haplo_freqs['haplo']=yhaplo_haplo_freqs.index\n",
    "    yhaplo_haplo_freqs['yhaplo_haplo_percent'] = yhaplo_haplo_freqs['yhaplo_haplo_count'] / len(yhaplo_male.index) * 100\n",
    "    print(yhaplo_haplo_freqs.shape)\n",
    "    print(yhaplo_haplo_freqs.head())\n",
    "\n",
    "    yhaplo_haplo_major_freqs = yhaplo_male['yhaplo_haplo_major'].value_counts().to_frame()\n",
    "    yhaplo_haplo_major_freqs.columns = ['yhaplo_haplo_major_count']\n",
    "    yhaplo_haplo_major_freqs['haplo_major']=yhaplo_haplo_major_freqs.index\n",
    "\n",
    "    yhaplo_haplo_major_freqs['yhaplo_haplo_major_percent'] = yhaplo_haplo_major_freqs['yhaplo_haplo_major_count'] / len(yhaplo_male.index) * 100\n",
    "    print(yhaplo_haplo_major_freqs.shape)\n",
    "    print(yhaplo_haplo_major_freqs.head())\n",
    "    \n",
    "    return yhaplo_male, yhaplo_haplo_freqs, yhaplo_haplo_major_freqs"
   ]
  },
  {
   "cell_type": "code",
   "execution_count": null,
   "id": "1a5827d5-3344-4d49-9cb0-5d491c479818",
   "metadata": {},
   "outputs": [],
   "source": [
    "neurox_yhaplo_haplos, neurox_yhaplo_haplo_freqs, neurox_yhaplo_haplo_major_freqs = get_yhaplo_frequencies(NEUROX_OUT, f\"{NEUROX_OUT}/yhaplo_output/haplogroups.neurox_chrY_male_only.txt\",neurox_males_double_id)"
   ]
  },
  {
   "cell_type": "code",
   "execution_count": null,
   "id": "46e5a35f-0b39-4ece-8b1e-17c4e4c933a6",
   "metadata": {},
   "outputs": [],
   "source": [
    "neurox_new_yhaplo_haplos, neurox_new_yhaplo_haplo_freqs, neurox_new_yhaplo_haplo_major_freqs = get_yhaplo_frequencies(NEW_OUT, NEW_OUT + \"/yhaplo_test/neurox/haplogroups.neurox_chrY_male_only.txt\",neurox_males_double_id)"
   ]
  },
  {
   "cell_type": "code",
   "execution_count": null,
   "id": "e085cf14-6213-4a98-96ca-917dcae2c582",
   "metadata": {},
   "outputs": [],
   "source": [
    "nabec_yhaplo_haplos, nabec_yhaplo_haplo_freqs, nabec_yhaplo_haplo_major_freqs = get_yhaplo_frequencies(NABEC_OUT, f\"{NABEC_OUT}/yhaplo_output/haplogroups.nabec_males_only_hg19_chrY.txt\",nabec_males_double_id)"
   ]
  },
  {
   "cell_type": "code",
   "execution_count": null,
   "id": "998a7f67-e1fc-4418-be5d-11ff778a1037",
   "metadata": {},
   "outputs": [],
   "source": [
    "nabec_new_yhaplo_haplos, nabec_new_yhaplo_haplo_freqs, nabec_new_yhaplo_haplo_major_freqs = get_yhaplo_frequencies(NEW_OUT, NEW_OUT + \"/yhaplo_test/nabec/haplogroups.nabec_males_only_hg19_chrY.txt\",nabec_males_double_id)"
   ]
  },
  {
   "cell_type": "code",
   "execution_count": null,
   "id": "49ad359e-90c3-4e11-8996-4076972b6ad1",
   "metadata": {},
   "outputs": [],
   "source": [
    "amppd_yhaplo_haplos, amppd_yhaplo_haplo_freqs, amppd_yhaplo_haplo_major_freqs = get_yhaplo_frequencies(AMPPD_OUT, f\"{AMPPD_OUT}/output_yhaplo/haplogroups.chrY_male_hemizygous_only_het_filter_hg19_final.txt\",amp_males_double_id)"
   ]
  },
  {
   "cell_type": "code",
   "execution_count": null,
   "id": "2274eb9f-db2e-46a1-84de-410b2d211b96",
   "metadata": {},
   "outputs": [],
   "source": [
    "amppd_new_yhaplo_haplos, amppd_new_yhaplo_haplo_freqs, amppd_new_yhaplo_haplo_major_freqs = get_yhaplo_frequencies(NEW_OUT, NEW_OUT + \"/yhaplo_test/amppd/haplogroups.chrY_male_hemizygous_only_het_filter_hg19_final.txt\",amp_males_double_id)"
   ]
  },
  {
   "cell_type": "code",
   "execution_count": null,
   "id": "1729fdd9-4c5e-45ed-b281-b8533befe45a",
   "metadata": {},
   "outputs": [],
   "source": [
    "ukbb_yhaplo_haplos, ukbb_yhaplo_haplo_freqs, ukbb_yhaplo_haplo_major_freqs = get_yhaplo_frequencies(UKBB_OUT, f\"{UKBB_OUT}/yhaplo_output/haplogroups.chrY_male_only.txt\",ukbb_males_double_id)"
   ]
  },
  {
   "cell_type": "code",
   "execution_count": null,
   "id": "d9553cee-b7a9-4895-8a95-3d0cad528be6",
   "metadata": {},
   "outputs": [],
   "source": [
    "ukbb_new_yhaplo_haplos, ukbb_new_yhaplo_haplo_freqs, ukbb_new_yhaplo_haplo_major_freqs = get_yhaplo_frequencies(NEW_OUT, NEW_OUT + \"/yhaplo_test/ukbb/haplogroups.chrY_male_only.txt\",ukbb_males_double_id)"
   ]
  },
  {
   "cell_type": "markdown",
   "id": "c6af3fda-e652-4c69-a8bd-49d68387248d",
   "metadata": {},
   "source": [
    "### Read Y-LineageTracker Data"
   ]
  },
  {
   "cell_type": "code",
   "execution_count": null,
   "id": "b7ae9b2f-9400-47e4-9579-7e020d3143b0",
   "metadata": {},
   "outputs": [],
   "source": [
    "def get_ltrack_frequencies(out_path, haplo_file, sample_names):\n",
    "    #ltrack = pd.read_table(f\"{AMPPD_OUT}/output_ltracker/ltrack_out.hapresult.hg\",sep=\"\\s+\")\n",
    "    ltrack = pd.read_table(f\"{haplo_file}\")\n",
    "    ltrack['SampleID'] = ltrack['SampleID'].astype(str)\n",
    "    #print(ltrack.shape)\n",
    "    #print(ltrack.head())\n",
    "    ltrack_male = ltrack[ltrack.SampleID.isin(sample_names)]\n",
    "    \n",
    "    \n",
    "    ltrack_male.loc[ltrack_male.Haplogroup==\".\",\"Haplogroup\"] = \"no match\"\n",
    "    \n",
    "    ltrack_male['ltrack_haplo_major'] = ltrack_male['Haplogroup'].str[0]#ltrack_male['Haplogroup'].str[0]\n",
    "    ltrack_male.loc[ltrack_male.Haplogroup==\"no match\",\"ltrack_haplo_major\"] = \"no match\"\n",
    "    ltrack_male.loc[ltrack_male.Haplogroup!=\"no match\",\"ltrack_haplo_major\"] = ltrack_male.loc[ltrack_male.Haplogroup!=\"no match\",\"ltrack_haplo_major\"].str[0]\n",
    "    ltrack_male['ltrack_keyhaplo_major'] = ltrack_male['KeyHaplogroup'].str[0]#ltrack_male['Haplogroup'].str[0]\n",
    "    print(ltrack_male.shape)\n",
    "    print(ltrack_male.head())\n",
    "\n",
    "    ltrack_haplo_freqs = ltrack_male['Haplogroup'].value_counts().to_frame()\n",
    "    ltrack_haplo_freqs.columns = ['ltrack_haplo_count']\n",
    "    ltrack_haplo_freqs['haplo']=ltrack_haplo_freqs.index\n",
    "    print(len(ltrack_male.index))\n",
    "    ltrack_haplo_freqs['ltrack_haplo_percent'] = ltrack_haplo_freqs['ltrack_haplo_count'] / len(ltrack_male.index) * 100\n",
    "    print(ltrack_haplo_freqs.shape)\n",
    "    print(ltrack_haplo_freqs.head())\n",
    "\n",
    "    ltrack_haplo_major_freqs = ltrack_male['ltrack_haplo_major'].value_counts().to_frame()\n",
    "    ltrack_haplo_major_freqs.columns = ['ltrack_haplo_major_count']\n",
    "    ltrack_haplo_major_freqs['haplo_major']=ltrack_haplo_major_freqs.index\n",
    "    print(len(ltrack_male.index))\n",
    "    ltrack_haplo_major_freqs['ltrack_haplo_major_percent'] = ltrack_haplo_major_freqs['ltrack_haplo_major_count'] / len(ltrack_male.index) * 100\n",
    "    print(ltrack_haplo_major_freqs.shape)\n",
    "    print(ltrack_haplo_major_freqs.head())\n",
    "    \n",
    "    return ltrack_male, ltrack_haplo_freqs, ltrack_haplo_major_freqs"
   ]
  },
  {
   "cell_type": "code",
   "execution_count": null,
   "id": "11010dfd-6705-447f-bf95-1cc20a74b0a8",
   "metadata": {},
   "outputs": [],
   "source": [
    "ukbb_ltrack_haplos, ukbb_ltrack_haplo_freqs, ukbb_ltrack_haplo_major_freqs = get_ltrack_frequencies(UKBB_OUT, f\"{UKBB_OUT}/ltrack_ukbb_hg19.lineageresult.txt\",ukbb_males_double_id)"
   ]
  },
  {
   "cell_type": "code",
   "execution_count": null,
   "id": "325d94cd-94f3-41c6-a928-de6778a282d0",
   "metadata": {},
   "outputs": [],
   "source": [
    "amppd_ltrack_haplos, amppd_ltrack_haplo_freqs, amppd_ltrack_haplo_major_freqs = get_ltrack_frequencies(AMPPD_OUT, f\"{AMPPD_OUT}/output_ltracker/ltrack_hg19.lineageresult.txt\",amp_males_double_id)"
   ]
  },
  {
   "cell_type": "code",
   "execution_count": null,
   "id": "6c2c0772-6f4c-4a2e-985a-c8b27204fd13",
   "metadata": {},
   "outputs": [],
   "source": [
    "nabec_ltrack_haplos, nabec_ltrack_haplo_freqs, nabec_ltrack_haplo_major_freqs = get_ltrack_frequencies(NABEC_OUT, f\"{NABEC_OUT}/output_ltrack/ltrack_hg19.lineageresult.txt\",nabec_males_double_id)"
   ]
  },
  {
   "cell_type": "code",
   "execution_count": null,
   "id": "29ed8eaf-099b-41ac-8de3-0b388a9dee64",
   "metadata": {},
   "outputs": [],
   "source": [
    "neurox_ltrack_haplos, neurox_ltrack_haplo_freqs, neurox_ltrack_haplo_major_freqs = get_ltrack_frequencies(NEUROX_OUT, f\"{NEUROX_OUT}/ltrack_neurox_hg19.lineageresult.txt\",neurox_males_double_id)"
   ]
  },
  {
   "cell_type": "markdown",
   "id": "3e213342-c5c8-46a7-b4c3-eaa46a1a31e3",
   "metadata": {},
   "source": [
    "## 6. Compare New Result to Old Results\n",
    "compare:  \n",
    " - number of identical samples by full haplogroup between refs used\n",
    " - number of identical samples by major haplogroup between refs used \n",
    " - major haplogroup frequencies between refs used\n",
    " - major haplogroup frequencies between tools for new refs only\n",
    " - anything else done in the main paper for haplogroup frequency checks"
   ]
  },
  {
   "cell_type": "markdown",
   "id": "5064b2fb-fc36-439a-872b-2326b53541a5",
   "metadata": {},
   "source": [
    "### Number of Identical Samples by Full and Major Haplogroup Between References Used"
   ]
  },
  {
   "cell_type": "code",
   "execution_count": null,
   "id": "0dd6f34e-5144-4b00-a4a8-9c8efed19a20",
   "metadata": {},
   "outputs": [],
   "source": [
    "comparison_df = pd.DataFrame()"
   ]
  },
  {
   "cell_type": "code",
   "execution_count": null,
   "id": "9a86e714-5a6f-4d8c-9aea-658bd8823f16",
   "metadata": {},
   "outputs": [],
   "source": [
    "def get_snappy_comparison_df(df1,df2,dataset_name):\n",
    "    \n",
    "    df2.columns = ['new_'+c for c in df2.columns]\n",
    "    df2 = df2.rename(columns = {'new_id':'id'})\n",
    "    ref_comp = pd.merge(left = df1, right = df2, on = 'id')\n",
    "    print(ref_comp.head())\n",
    "\n",
    "    ret_dict = dict()\n",
    "    ret_dict['tool']='snappy'\n",
    "    print(ret_dict)\n",
    "\n",
    "    #ret_df = pd.DataFrame()#(columns = ['tool','dataset','sample_count','original_full_haplo_count','new_full_haplo_count','samples_with_same_full_haplo_count','%samples_with_same_full_haplo_count','original_major_haplo_count','new_major_haplo_count','samples_with_same_major_haplo_count','%samples_with_same_major_haplo_count'])\n",
    "    #ret_df['tool'] = 'snappy'\n",
    "    #ret_df.tool = 'snappy'\n",
    "    ret_dict['dataset'] = dataset_name\n",
    "    \n",
    "    ret_dict['sample_count'] = len(df1.index)\n",
    "    \n",
    "    ret_dict['original_full_haplo_count'] = len(set(df1.haplo))\n",
    "    ret_dict['new_full_haplo_count'] = len(set(df2.new_haplo))\n",
    "    \n",
    "\n",
    "    ret_dict['samples_with_same_full_haplo_count'] = len(ref_comp[ref_comp.haplo == ref_comp.new_haplo].index)\n",
    "    ret_dict['%samples_with_same_full_haplo_count'] = (len(ref_comp[ref_comp.haplo == ref_comp.new_haplo].index) / len(df1.index) ) * 100\n",
    "    \n",
    "    ret_dict['original_major_haplo_count'] = len(set(df1.snappy_haplo_major))\n",
    "    ret_dict['new_major_haplo_count'] = len(set(df2.new_snappy_haplo_major))\n",
    "    \n",
    "\n",
    "    ret_dict['samples_with_same_major_haplo_count'] = len(ref_comp[ref_comp.snappy_haplo_major == ref_comp.new_snappy_haplo_major].index)\n",
    "    ret_dict['%samples_with_same_major_haplo_count'] = (len(ref_comp[ref_comp.snappy_haplo_major == ref_comp.new_snappy_haplo_major].index) / len(df1.index) ) * 100\n",
    "    \n",
    "    return pd.DataFrame(data = [ret_dict])"
   ]
  },
  {
   "cell_type": "code",
   "execution_count": null,
   "id": "d0f67203-4c9f-4cf4-9c36-f15e7429992e",
   "metadata": {},
   "outputs": [],
   "source": [
    "def get_yhaplo_comparison_df(df1,df2,dataset_name):\n",
    "    \n",
    "    df2.columns = ['new_'+c for c in df2.columns]\n",
    "    df2 = df2.rename(columns = {'new_id':'id'})\n",
    "    ref_comp = pd.merge(left = df1, right = df2, on = 'id')\n",
    "    print(ref_comp.head())\n",
    "\n",
    "    ret_dict = dict()\n",
    "    ret_dict['tool']='yhaplo'\n",
    "    print(ret_dict)\n",
    "\n",
    "    ret_dict['dataset'] = dataset_name\n",
    "    \n",
    "    ret_dict['sample_count'] = len(df1.index)\n",
    "    \n",
    "    ret_dict['original_full_haplo_count'] = len(set(df1.haplo_long))\n",
    "    ret_dict['new_full_haplo_count'] = len(set(df2.new_haplo_long))\n",
    "    \n",
    "\n",
    "    ret_dict['samples_with_same_full_haplo_count'] = len(ref_comp[ref_comp.haplo_long == ref_comp.new_haplo_long].index)\n",
    "    ret_dict['%samples_with_same_full_haplo_count'] = (len(ref_comp[ref_comp.haplo_long == ref_comp.new_haplo_long].index) / len(df1.index) ) * 100\n",
    "    \n",
    "    ret_dict['original_major_haplo_count'] = len(set(df1.yhaplo_haplo_major))\n",
    "    ret_dict['new_major_haplo_count'] = len(set(df2.new_yhaplo_haplo_major))\n",
    "    \n",
    "\n",
    "    ret_dict['samples_with_same_major_haplo_count'] = len(ref_comp[ref_comp.yhaplo_haplo_major == ref_comp.new_yhaplo_haplo_major].index)\n",
    "    ret_dict['%samples_with_same_major_haplo_count'] = (len(ref_comp[ref_comp.yhaplo_haplo_major == ref_comp.new_yhaplo_haplo_major].index) / len(df1.index) ) * 100\n",
    "    \n",
    "    return pd.DataFrame(data = [ret_dict])"
   ]
  },
  {
   "cell_type": "code",
   "execution_count": null,
   "id": "db60509c-d8cf-42fe-9b09-eff7904c1eeb",
   "metadata": {},
   "outputs": [],
   "source": [
    "def get_ltrack_comparison_df(df1,df2,dataset_name):\n",
    "    \n",
    "    df2.columns = ['new_'+c for c in df2.columns]\n",
    "    df2 = df2.rename(columns = {'new_SampleID':'SampleID'})\n",
    "    ref_comp = pd.merge(left = df1, right = df2, on = 'SampleID')\n",
    "    print(ref_comp.head())\n",
    "\n",
    "    ret_dict = dict()\n",
    "    ret_dict['tool']='ltrack'\n",
    "    print(ret_dict)\n",
    "\n",
    "    ret_dict['dataset'] = dataset_name\n",
    "    \n",
    "    ret_dict['sample_count'] = len(df1.index)\n",
    "    \n",
    "    ret_dict['original_full_haplo_count'] = len(set(df1.Haplogroup))\n",
    "    ret_dict['new_full_haplo_count'] = len(set(df2.new_Haplogroup))\n",
    "    \n",
    "\n",
    "    ret_dict['samples_with_same_full_haplo_count'] = len(ref_comp[ref_comp.Haplogroup == ref_comp.new_Haplogroup].index)\n",
    "    ret_dict['%samples_with_same_full_haplo_count'] = (len(ref_comp[ref_comp.Haplogroup == ref_comp.new_Haplogroup].index) / len(df1.index) ) * 100\n",
    "    \n",
    "    ret_dict['original_major_haplo_count'] = len(set(df1.ltrack_haplo_major))\n",
    "    ret_dict['new_major_haplo_count'] = len(set(df2.new_ltrack_haplo_major))\n",
    "    \n",
    "\n",
    "    ret_dict['samples_with_same_major_haplo_count'] = len(ref_comp[ref_comp.ltrack_haplo_major == ref_comp.new_ltrack_haplo_major].index)\n",
    "    ret_dict['%samples_with_same_major_haplo_count'] = (len(ref_comp[ref_comp.ltrack_haplo_major == ref_comp.new_ltrack_haplo_major].index) / len(df1.index) ) * 100\n",
    "    \n",
    "    return pd.DataFrame(data = [ret_dict])"
   ]
  },
  {
   "cell_type": "code",
   "execution_count": null,
   "id": "9ac7434a-8f23-46e5-a01e-845365d30d33",
   "metadata": {},
   "outputs": [],
   "source": [
    "comparison_df = comparison_df.append(get_snappy_comparison_df(neurox_snappy_haplos.copy(),neurox_new_snappy_haplos.copy(),'neurox'))\n",
    "comparison_df = comparison_df.append(get_snappy_comparison_df(nabec_snappy_haplos.copy(),nabec_new_snappy_haplos.copy(),'nabec'))\n",
    "comparison_df = comparison_df.append(get_snappy_comparison_df(ukbb_snappy_haplos.copy(),ukbb_new_snappy_haplos.copy(),'ukbb'))\n",
    "comparison_df = comparison_df.append(get_snappy_comparison_df(amppd_snappy_haplos.copy(),amppd_new_snappy_haplos.copy(),'amppd'))\n",
    "comparison_df = comparison_df.append(get_yhaplo_comparison_df(neurox_yhaplo_haplos.copy(),neurox_new_yhaplo_haplos.copy(),'neurox'))\n",
    "comparison_df = comparison_df.append(get_yhaplo_comparison_df(nabec_yhaplo_haplos.copy(),nabec_new_yhaplo_haplos.copy(),'nabec'))\n",
    "comparison_df = comparison_df.append(get_yhaplo_comparison_df(ukbb_yhaplo_haplos.copy(),ukbb_new_yhaplo_haplos.copy(),'ukbb'))\n",
    "comparison_df = comparison_df.append(get_yhaplo_comparison_df(amppd_yhaplo_haplos.copy(),amppd_new_yhaplo_haplos.copy(),'amppd'))\n",
    "\n",
    "comparison_df = comparison_df.append(get_ltrack_comparison_df(neurox_ltrack_haplos.copy(),neurox_ltrack_haplos.copy(),'neurox'))\n",
    "comparison_df = comparison_df.append(get_ltrack_comparison_df(nabec_ltrack_haplos.copy(),nabec_ltrack_haplos.copy(),'nabec'))\n",
    "comparison_df = comparison_df.append(get_ltrack_comparison_df(ukbb_ltrack_haplos.copy(),ukbb_ltrack_haplos.copy(),'ukbb'))\n",
    "comparison_df = comparison_df.append(get_ltrack_comparison_df(amppd_ltrack_haplos.copy(),amppd_ltrack_haplos.copy(),'amppd'))"
   ]
  },
  {
   "cell_type": "code",
   "execution_count": null,
   "id": "180d8f33-3b16-4217-b5a5-a5a26c086c12",
   "metadata": {},
   "outputs": [],
   "source": [
    "comparison_df"
   ]
  },
  {
   "cell_type": "code",
   "execution_count": null,
   "id": "8c659ac2-da5f-44b3-a899-16d406c3e0da",
   "metadata": {},
   "outputs": [],
   "source": [
    "comparison_df.to_csv(f\"{WRKDIR}/haplo_caller_ref_comparison.csv\",index=None)"
   ]
  }
 ],
 "metadata": {
  "kernelspec": {
   "display_name": "python/3.7",
   "language": "python",
   "name": "py3.7"
  },
  "language_info": {
   "codemirror_mode": {
    "name": "ipython",
    "version": 3
   },
   "file_extension": ".py",
   "mimetype": "text/x-python",
   "name": "python",
   "nbconvert_exporter": "python",
   "pygments_lexer": "ipython3",
   "version": "3.7.12"
  }
 },
 "nbformat": 4,
 "nbformat_minor": 5
}
