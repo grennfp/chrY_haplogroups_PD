{
 "cells": [
  {
   "cell_type": "markdown",
   "id": "romantic-transformation",
   "metadata": {},
   "source": [
    "# Combine ChrY Haplogroup Analysis Results\n",
    "- **Author(s)** - Frank Grenn\n",
    "- **Date Started** - April  2021\n",
    "- **Quick Description** - combine results for AMPPD PD case control, UKBioBank PD case control, UKBioBank PD proxy control, and NEUROX case control results into one table"
   ]
  },
  {
   "cell_type": "code",
   "execution_count": null,
   "id": "administrative-draft",
   "metadata": {},
   "outputs": [],
   "source": [
    "import pandas as pd"
   ]
  },
  {
   "cell_type": "code",
   "execution_count": null,
   "id": "eligible-training",
   "metadata": {},
   "outputs": [],
   "source": [
    "WRKDIR = \"$PATH/chrY\""
   ]
  },
  {
   "cell_type": "code",
   "execution_count": null,
   "id": "68281c3a-5945-44f0-a047-cd929890a7fb",
   "metadata": {},
   "outputs": [],
   "source": [
    "combine_df = pd.DataFrame()"
   ]
  },
  {
   "cell_type": "markdown",
   "id": "hollywood-mistake",
   "metadata": {},
   "source": [
    "## Major Haplogroup Tests"
   ]
  },
  {
   "cell_type": "code",
   "execution_count": null,
   "id": "attempted-rental",
   "metadata": {},
   "outputs": [],
   "source": [
    "#amppd pd case control\n",
    "amp_pd_cc_major = pd.read_csv(f\"{WRKDIR}/output_male_hemizygous_only_het_filter_run/haplotype_major_case_control_no_gc_new.csv\")\n",
    "print(amp_pd_cc_major.shape)\n",
    "print(amp_pd_cc_major.head())\n",
    "\n",
    "amp_pd_cc_major['cohort'] = 'amp_pd_cc'\n",
    "\n",
    "amp_pd_cc_major = amp_pd_cc_major[['cohort','haplo_major','controls','control_freq','cases','case_freq','p_logreg','beta_logreg','se_logreg']]\n",
    "amp_pd_cc_major.columns = ['cohort','haplo_major','controls','control_freq','cases','case_freq','p_logreg','beta_logreg','se_logreg']\n",
    "\n",
    "combine_df = amp_pd_cc_major.copy()\n",
    "\n",
    "print(combine_df.shape)\n",
    "print(combine_df.head())"
   ]
  },
  {
   "cell_type": "code",
   "execution_count": null,
   "id": "governing-gravity",
   "metadata": {},
   "outputs": [],
   "source": [
    "#ukbb pd case control\n",
    "ukbb_pd_cc_major = pd.read_csv(f\"{WRKDIR}/output_ukbb/haplotype_major_pd_case_control_newest.csv\")\n",
    "print(ukbb_pd_cc_major.shape)\n",
    "print(ukbb_pd_cc_major.head())\n",
    "\n",
    "ukbb_pd_cc_major['cohort'] = 'ukbb_pd_cc'\n",
    "ukbb_pd_cc_major = ukbb_pd_cc_major[['cohort','haplo_major','controls','control_freq','cases','case_freq','p_logreg','beta_logreg','se_logreg']]\n",
    "ukbb_pd_cc_major.columns = ['cohort','haplo_major','controls','control_freq','cases','case_freq','p_logreg','beta_logreg','se_logreg']\n",
    "combine_df = combine_df.append(ukbb_pd_cc_major)\n",
    "print(combine_df.shape)\n",
    "print(combine_df.head())"
   ]
  },
  {
   "cell_type": "code",
   "execution_count": null,
   "id": "judicial-cycle",
   "metadata": {},
   "outputs": [],
   "source": [
    "#ukbb pd proxy control\n",
    "ukbb_pd_pc_major = pd.read_csv(f\"{WRKDIR}/output_ukbb/haplotype_major_pd_proxy_control_newest.csv\")\n",
    "print(ukbb_pd_pc_major.shape)\n",
    "print(ukbb_pd_pc_major.head())\n",
    "\n",
    "ukbb_pd_pc_major['cohort'] = 'ukbb_pd_pc'\n",
    "ukbb_pd_pc_major = ukbb_pd_pc_major[['cohort','haplo_major','controls','control_freq','proxies','proxy_freq','p_logreg','beta_logreg','se_logreg']]\n",
    "ukbb_pd_pc_major.columns = ['cohort','haplo_major','controls','control_freq','cases','case_freq','p_logreg','beta_logreg','se_logreg']\n",
    "combine_df = combine_df.append(ukbb_pd_pc_major)\n",
    "print(combine_df.shape)\n",
    "print(combine_df.head())"
   ]
  },
  {
   "cell_type": "code",
   "execution_count": null,
   "id": "e054f5c3-8c2d-41dd-98d3-0c37b08aa30b",
   "metadata": {},
   "outputs": [],
   "source": [
    "#neurox pd case control\n",
    "neurox_pd_cc_major = pd.read_csv(f\"{WRKDIR}/output_neurox/haplogroup_major_case_control_no_gc_new.csv\")\n",
    "print(neurox_pd_cc_major.shape)\n",
    "print(neurox_pd_cc_major.head())\n",
    "\n",
    "neurox_pd_cc_major['cohort'] = 'neurox_pd_cc'\n",
    "neurox_pd_cc_major = neurox_pd_cc_major[['cohort','haplo_major','controls','control_freq','cases','case_freq','p_logreg','beta_logreg','se_logreg']]\n",
    "neurox_pd_cc_major.columns = ['cohort','haplo_major','controls','control_freq','cases','case_freq','p_logreg','beta_logreg','se_logreg']\n",
    "combine_df = combine_df.append(neurox_pd_cc_major)\n",
    "print(combine_df.shape)\n",
    "print(combine_df.head())"
   ]
  },
  {
   "cell_type": "code",
   "execution_count": null,
   "id": "comparable-restoration",
   "metadata": {},
   "outputs": [],
   "source": [
    "combine_df"
   ]
  },
  {
   "cell_type": "code",
   "execution_count": null,
   "id": "laden-breakdown",
   "metadata": {},
   "outputs": [],
   "source": [
    "combine_df.to_csv(f\"{WRKDIR}/log_reg_results_for_meta_newest.csv\",index=None)"
   ]
  },
  {
   "cell_type": "markdown",
   "id": "03ed6588-9a62-4d05-8f2d-283a4efcf909",
   "metadata": {},
   "source": [
    "### Reformat for Paper"
   ]
  },
  {
   "cell_type": "code",
   "execution_count": null,
   "id": "c08c131a-1430-4293-940f-7b33166c30e7",
   "metadata": {},
   "outputs": [],
   "source": [
    "reformat_df = pd.DataFrame()"
   ]
  },
  {
   "cell_type": "code",
   "execution_count": null,
   "id": "7a837e43-2ff5-4029-8cee-29b09907c78d",
   "metadata": {},
   "outputs": [],
   "source": [
    "#amppd pd case control\n",
    "amp_pd_cc_major = pd.read_csv(f\"{WRKDIR}/output_male_hemizygous_only_het_filter_run/haplotype_major_case_control_no_gc_new.csv\")\n",
    "print(amp_pd_cc_major.shape)\n",
    "print(amp_pd_cc_major.head())\n",
    "\n",
    "\n",
    "amp_pd_cc_major = amp_pd_cc_major[['haplo_major','controls','control_freq','cases','case_freq','p_logreg','beta_logreg','se_logreg']]\n",
    "amp_pd_cc_major.columns = ['haplo_major','amp_pd_cc_controls','amp_pd_cc_control_freq','amp_pd_cc_cases','amp_pd_cc_case_freq','amp_pd_cc_p','amp_pd_cc_beta','amp_pd_cc_se']\n",
    "\n",
    "reformat_df = amp_pd_cc_major.copy()\n",
    "\n",
    "print(reformat_df.shape)\n",
    "print(reformat_df.head())"
   ]
  },
  {
   "cell_type": "code",
   "execution_count": null,
   "id": "b8a953b7-3b90-4d65-a514-f1f554ed5288",
   "metadata": {},
   "outputs": [],
   "source": [
    "#ukbb pd case control\n",
    "ukbb_pd_cc_major = pd.read_csv(f\"{WRKDIR}/output_ukbb/haplotype_major_pd_case_control_newest.csv\")\n",
    "print(ukbb_pd_cc_major.shape)\n",
    "print(ukbb_pd_cc_major.head())\n",
    "\n",
    "ukbb_pd_cc_major= ukbb_pd_cc_major[['haplo_major','controls','control_freq','cases','case_freq','p_logreg','beta_logreg','se_logreg']]\n",
    "ukbb_pd_cc_major.columns = ['haplo_major','ukbb_pd_cc_controls','ukbb_pd_cc_control_freq','ukbb_pd_cc_cases','ukbb_pd_cc_case_freq','ukbb_pd_cc_p','ukbb_pd_cc_beta','ukbb_pd_cc_se']\n",
    "\n",
    "reformat_df = pd.merge(left = reformat_df, right = ukbb_pd_cc_major, on = 'haplo_major', how = 'outer')\n",
    "print(reformat_df.shape)\n",
    "print(reformat_df.head())"
   ]
  },
  {
   "cell_type": "code",
   "execution_count": null,
   "id": "8f14d156-1aa9-4276-bf2f-431567c6f008",
   "metadata": {},
   "outputs": [],
   "source": [
    "#ukbb pd proxy control\n",
    "ukbb_pd_pc_major = pd.read_csv(f\"{WRKDIR}/output_ukbb/haplotype_major_pd_proxy_control_newest.csv\")\n",
    "print(ukbb_pd_pc_major.shape)\n",
    "print(ukbb_pd_pc_major.head())\n",
    "\n",
    "\n",
    "ukbb_pd_pc_major= ukbb_pd_pc_major[['haplo_major','controls','control_freq','proxies','proxy_freq','p_logreg','beta_logreg','se_logreg']]\n",
    "ukbb_pd_pc_major.columns = ['haplo_major','ukbb_pd_pc_controls','ukbb_pd_pc_control_freq','ukbb_pd_pc_proxies','ukbb_pd_pc_proxy_freq','ukbb_pd_pc_p','ukbb_pd_pc_beta','ukbb_pd_pc_se']\n",
    "\n",
    "reformat_df = pd.merge(left = reformat_df, right = ukbb_pd_pc_major, on = 'haplo_major', how = 'outer')\n",
    "print(reformat_df.shape)\n",
    "print(reformat_df.head())"
   ]
  },
  {
   "cell_type": "code",
   "execution_count": null,
   "id": "a471ec9a-478f-430f-9e1e-2b87efeb5da9",
   "metadata": {},
   "outputs": [],
   "source": [
    "#neurox pd proxy control\n",
    "neurox_pd_cc_major = pd.read_csv(f\"{WRKDIR}/output_neurox/haplogroup_major_case_control_no_gc_new.csv\")\n",
    "print(neurox_pd_cc_major.shape)\n",
    "print(neurox_pd_cc_major.head())\n",
    "\n",
    "\n",
    "neurox_pd_cc_major= neurox_pd_cc_major[['haplo_major','controls','control_freq','cases','case_freq','p_logreg','beta_logreg','se_logreg']]\n",
    "neurox_pd_cc_major.columns = ['haplo_major','neurox_pd_cc_controls','neurox_pd_cc_control_freq','neurox_pd_cc_cases','neurox_pd_cc_case_freq','neurox_pd_cc_p','neurox_pd_cc_beta','neurox_pd_cc_se']\n",
    "\n",
    "reformat_df = pd.merge(left = reformat_df, right = neurox_pd_cc_major, on = 'haplo_major', how = 'outer')\n",
    "print(reformat_df.shape)\n",
    "print(reformat_df.head())"
   ]
  },
  {
   "cell_type": "code",
   "execution_count": null,
   "id": "5d110b6d-7ac4-4368-aa40-16be2664ec28",
   "metadata": {},
   "outputs": [],
   "source": [
    "reformat_df.to_csv(f\"{WRKDIR}/log_reg_results_for_meta_reformat_newest.csv\",index=None)"
   ]
  },
  {
   "cell_type": "code",
   "execution_count": null,
   "id": "ec81c718-5d76-4a53-bd70-7241494cfe88",
   "metadata": {},
   "outputs": [],
   "source": []
  }
 ],
 "metadata": {
  "kernelspec": {
   "display_name": "python/3.6",
   "language": "python",
   "name": "py3.6"
  },
  "language_info": {
   "codemirror_mode": {
    "name": "ipython",
    "version": 3
   },
   "file_extension": ".py",
   "mimetype": "text/x-python",
   "name": "python",
   "nbconvert_exporter": "python",
   "pygments_lexer": "ipython3",
   "version": "3.6.10"
  }
 },
 "nbformat": 4,
 "nbformat_minor": 5
}
