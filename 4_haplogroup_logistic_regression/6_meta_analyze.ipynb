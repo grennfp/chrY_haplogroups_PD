{
 "cells": [
  {
   "cell_type": "markdown",
   "id": "751a191c-bdba-4320-bcc0-339d94e5207a",
   "metadata": {},
   "source": [
    "# Meta Analyze PD Haplogroup Data\n",
    "- **Author(s)** - Frank Grenn\n",
    "- **Date Started** - June  2021\n",
    "- **Quick Description:** meta analyze the major haplogroups logistic regression results using R"
   ]
  },
  {
   "cell_type": "code",
   "execution_count": null,
   "id": "fab35627-17a0-408e-ad6a-8b91c28d735e",
   "metadata": {},
   "outputs": [],
   "source": [
    "library(metafor)\n",
    "library(data.table)"
   ]
  },
  {
   "cell_type": "code",
   "execution_count": null,
   "id": "07b01d04-d43c-4a08-87d6-5d10f4b199ea",
   "metadata": {},
   "outputs": [],
   "source": [
    "WRKDIR <- \"$PATH/chrY\"\n",
    "PLOTDIR <- paste0(WRKDIR,\"/meta_analysis_plots/major_haplogroups_covs_adjusted\")"
   ]
  },
  {
   "cell_type": "code",
   "execution_count": null,
   "id": "7a5a6c96-ca84-4357-91b5-baa3fc0793a6",
   "metadata": {},
   "outputs": [],
   "source": [
    "data = fread(paste0(WRKDIR,\"/log_reg_results_for_meta_newest.csv\"))\n",
    "print(dim(data))\n",
    "print(head(data))"
   ]
  },
  {
   "cell_type": "code",
   "execution_count": null,
   "id": "929e80af-0dc8-4ece-815d-16775429e8b1",
   "metadata": {},
   "outputs": [],
   "source": [
    "#try per haplogroup\n",
    "haplos <- unique(data$haplo_major)\n",
    "print(haplos)"
   ]
  },
  {
   "cell_type": "code",
   "execution_count": null,
   "id": "ba3b2cd3-d52d-46f3-89fc-501d2d240ab6",
   "metadata": {
    "tags": []
   },
   "outputs": [],
   "source": [
    "results_df = data.frame()\n",
    "for (haplo in haplos){\n",
    "    haplo_data <- data[data$haplo_major == haplo,]\n",
    "    print(haplo_data)\n",
    "\n",
    "\n",
    "    meta_analysis_reg <- rma(yi=haplo_data$beta_logreg, sei = haplo_data$se_logreg)\n",
    "    print(meta_analysis_reg)\n",
    "    \n",
    "    row = data.frame(beta=meta_analysis_reg$`beta`[,1], se = meta_analysis_reg$`se`, zval = meta_analysis_reg$`zval`, pval = meta_analysis_reg$pval, ci_lb = meta_analysis_reg$`ci.lb`, ci_ub = meta_analysis_reg$`ci.ub`)\n",
    "    rownames(row) <- haplo\n",
    "\n",
    "    results_df <- rbind(results_df, row)\n",
    "}\n",
    "print(results_df)"
   ]
  },
  {
   "cell_type": "code",
   "execution_count": null,
   "id": "9daf3750-6f57-4c68-856e-2ab9ce6a55ef",
   "metadata": {
    "tags": []
   },
   "outputs": [],
   "source": [
    "#try per haplogroup but with no lbd cohort\n",
    "\n",
    "results_df = data.frame()\n",
    "for (haplo in haplos){\n",
    "    haplo_data <- data[which(data$haplo_major == haplo & data$cohort!='amp_lbd_cc'),]\n",
    "    #print(haplo_data)\n",
    "\n",
    "\n",
    "    meta_analysis_reg <- rma(yi=haplo_data$beta_logreg, sei = haplo_data$se_logreg)\n",
    "    #print(meta_analysis_reg)\n",
    "    \n",
    "    row = data.frame(beta=meta_analysis_reg$`beta`[,1], se = meta_analysis_reg$`se`, zval = meta_analysis_reg$`zval`, pval = meta_analysis_reg$pval, ci_lb = meta_analysis_reg$`ci.lb`, ci_ub = meta_analysis_reg$`ci.ub`)\n",
    "    rownames(row) <- haplo\n",
    "\n",
    "    results_df <- rbind(results_df, row)\n",
    "}\n",
    "print(results_df)"
   ]
  },
  {
   "cell_type": "code",
   "execution_count": null,
   "id": "a6d08c56-848c-47bb-b672-cec979639cac",
   "metadata": {
    "tags": []
   },
   "outputs": [],
   "source": [
    "#try per haplogroup but with no lbd cohort and a minimum sample count\n",
    "\n",
    "results_df = data.frame()\n",
    "for (haplo in haplos){\n",
    "    haplo_data <- data[which(data$haplo_major == haplo),]\n",
    "    #print(haplo_data)\n",
    "\n",
    "    filter_haplo_data <- haplo_data[which(haplo_data$cohort!='amp_lbd_cc' & (haplo_data$cases+haplo_data$controls>=50)),]\n",
    "    print(paste0(\"all datasets for \", haplo))\n",
    "    print(haplo_data)\n",
    "    print(\"remove lbd and anything with fewer than 50 samples with the haplogroup\")\n",
    "    print(filter_haplo_data)\n",
    "    if(nrow(filter_haplo_data)!=0){\n",
    "        #rma(yi=haplo_data$beta_logreg, sei = haplo_data$se_logreg,method = \"FE\")\n",
    "        meta_analysis_reg <- rma(yi=filter_haplo_data$beta_logreg, sei = filter_haplo_data$se_logreg)\n",
    "        print(meta_analysis_reg)\n",
    "        png(file = paste0(PLOTDIR,\"/\",haplo,\"_forest.png\"),width = 480, height = 480)\n",
    "        \n",
    "        forest(meta_analysis_reg, slab = filter_haplo_data$cohort, main=paste0(\"Meta Analysis of Major Haplogroup \", haplo),atransf=exp,  mlab = \"Fixed Effects\", xlab = \"Odds Ratio (95% CI) for major haplogroup\", col=\"red\", border = \"red\", cex=.9)\n",
    "        dev.off()\n",
    "        row = data.frame(beta=meta_analysis_reg$`beta`[,1], se = meta_analysis_reg$`se`, zval = meta_analysis_reg$`zval`, pval = meta_analysis_reg$pval, ci_lb = meta_analysis_reg$`ci.lb`, ci_ub = meta_analysis_reg$`ci.ub`)\n",
    "        rownames(row) <- haplo\n",
    "\n",
    "        results_df <- rbind(results_df, row)\n",
    "    }\n",
    "\n",
    "    \n",
    "\n",
    "}\n",
    "\n",
    "print(results_df)"
   ]
  },
  {
   "cell_type": "code",
   "execution_count": null,
   "id": "9654bfe9-12cd-4ffe-8e73-bad4861177e6",
   "metadata": {
    "tags": []
   },
   "outputs": [],
   "source": [
    "results_df$haplo_major <- rownames(results_df)\n",
    "print(results_df)\n",
    "write.csv(results_df, paste0(WRKDIR,\"/meta_analyzed_major_haplo_newest.csv\"), quote=FALSE,row.names=FALSE)"
   ]
  },
  {
   "cell_type": "code",
   "execution_count": null,
   "id": "69be9277-1724-4db2-a254-3895c3f27996",
   "metadata": {},
   "outputs": [],
   "source": []
  }
 ],
 "metadata": {
  "kernelspec": {
   "display_name": "R/3.6",
   "language": "R",
   "name": "ir36"
  },
  "language_info": {
   "codemirror_mode": "r",
   "file_extension": ".r",
   "mimetype": "text/x-r-source",
   "name": "R",
   "pygments_lexer": "r",
   "version": "3.6.3"
  }
 },
 "nbformat": 4,
 "nbformat_minor": 5
}
