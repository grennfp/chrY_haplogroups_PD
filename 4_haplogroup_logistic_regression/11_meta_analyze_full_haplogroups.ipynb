{
 "cells": [
  {
   "cell_type": "markdown",
   "id": "751a191c-bdba-4320-bcc0-339d94e5207a",
   "metadata": {},
   "source": [
    "# Meta Analyze Full Haplogroups\n",
    "- **Author(s)** - Frank Grenn\n",
    "- **Date Started** - December  2021\n",
    "- **Quick Description:** Combine logistic regression results for full haplogroups. Then meta analyze haplogroups in 50 or more samples, and repeat by tool (snappy, yhaplo, ltrack)"
   ]
  },
  {
   "cell_type": "code",
   "execution_count": null,
   "id": "fab35627-17a0-408e-ad6a-8b91c28d735e",
   "metadata": {},
   "outputs": [],
   "source": [
    "library(metafor)\n",
    "library(dplyr)\n",
    "library(data.table)"
   ]
  },
  {
   "cell_type": "code",
   "execution_count": null,
   "id": "07b01d04-d43c-4a08-87d6-5d10f4b199ea",
   "metadata": {},
   "outputs": [],
   "source": [
    "WRKDIR <- \"$PATH/chrY\"\n",
    "PLOTDIR <- paste0(WRKDIR,\"/meta_analysis_plots/full_haplogroups_covs_adjusted_cohort_count\")"
   ]
  },
  {
   "cell_type": "markdown",
   "id": "9694e17f-13e2-4498-aecc-343414247119",
   "metadata": {},
   "source": [
    "## 1) Combine Dataset Results"
   ]
  },
  {
   "cell_type": "code",
   "execution_count": null,
   "id": "da704260-06a3-4e8c-8abd-da2b45f3ae2f",
   "metadata": {},
   "outputs": [],
   "source": [
    "combine_df = data.frame()"
   ]
  },
  {
   "cell_type": "code",
   "execution_count": null,
   "id": "ee73ec19-1acb-421f-9bc8-bb7a313d3189",
   "metadata": {
    "tags": []
   },
   "outputs": [],
   "source": [
    "#amppd pd case control\n",
    "amp_pd_cc_full = fread(paste0(WRKDIR,\"/output_male_hemizygous_only_het_filter_run/haplotype_full_pd_case_control_no_gc_cutoff_50_new.csv\"))\n",
    "print(dim(amp_pd_cc_full))\n",
    "amp_pd_cc_full$cohort = 'amp_pd_cc'\n",
    "amp_pd_cc_full <- amp_pd_cc_full %>% select('cohort','haplo','yhaplo_controls',\n",
    " 'yhaplo_control_freq',\n",
    " 'yhaplo_cases',\n",
    " 'yhaplo_case_freq',\n",
    " 'yhaplo_p_logreg',\n",
    " 'yhaplo_beta_logreg',\n",
    " 'yhaplo_se_logreg',\n",
    " 'snappy_controls',\n",
    " 'snappy_control_freq',\n",
    " 'snappy_cases',\n",
    " 'snappy_case_freq',\n",
    " 'snappy_p_logreg',\n",
    " 'snappy_beta_logreg',\n",
    " 'snappy_se_logreg',\n",
    " 'ltrack_controls',\n",
    " 'ltrack_control_freq',\n",
    " 'ltrack_cases',\n",
    " 'ltrack_case_freq',\n",
    " 'ltrack_p_logreg',\n",
    " 'ltrack_beta_logreg',\n",
    " 'ltrack_se_logreg')\n",
    "print(colnames(amp_pd_cc_full))\n",
    "combine_df = rbind(combine_df,amp_pd_cc_full)\n",
    "print(dim(combine_df))"
   ]
  },
  {
   "cell_type": "code",
   "execution_count": null,
   "id": "418cbc30-1598-4781-92c9-f2ebe2b3b364",
   "metadata": {},
   "outputs": [],
   "source": [
    "#ukbb pd case control\n",
    "ukbb_pd_cc_full = fread(paste0(WRKDIR,\"/output_ukbb/haplotype_full_pd_case_control_cutoff_50_new.csv\"))\n",
    "print(dim(ukbb_pd_cc_full))\n",
    "ukbb_pd_cc_full$cohort = 'ukbb_pd_cc'\n",
    "ukbb_pd_cc_full <- ukbb_pd_cc_full %>% select('cohort','haplo','yhaplo_controls',\n",
    " 'yhaplo_control_freq',\n",
    " 'yhaplo_cases',\n",
    " 'yhaplo_case_freq',\n",
    " 'yhaplo_p_logreg',\n",
    " 'yhaplo_beta_logreg',\n",
    " 'yhaplo_se_logreg',\n",
    " 'snappy_controls',\n",
    " 'snappy_control_freq',\n",
    " 'snappy_cases',\n",
    " 'snappy_case_freq',\n",
    " 'snappy_p_logreg',\n",
    " 'snappy_beta_logreg',\n",
    " 'snappy_se_logreg',\n",
    " 'ltrack_controls',\n",
    " 'ltrack_control_freq',\n",
    " 'ltrack_cases',\n",
    " 'ltrack_case_freq',\n",
    " 'ltrack_p_logreg',\n",
    " 'ltrack_beta_logreg',\n",
    " 'ltrack_se_logreg')\n",
    "print(colnames(ukbb_pd_cc_full))\n",
    "combine_df = rbind(combine_df,ukbb_pd_cc_full)\n",
    "print(dim(combine_df))"
   ]
  },
  {
   "cell_type": "code",
   "execution_count": null,
   "id": "f58aab2c-22f6-4692-b002-fb8cdf8ead16",
   "metadata": {},
   "outputs": [],
   "source": [
    "#ukbb pd proxy control\n",
    "ukbb_pd_pc_full = fread(paste0(WRKDIR,\"/output_ukbb/haplotype_full_pd_proxy_control_cutoff_50_new.csv\"))\n",
    "print(dim(ukbb_pd_pc_full))\n",
    "ukbb_pd_pc_full$cohort = 'ukbb_pd_pc'\n",
    "ukbb_pd_pc_full <- ukbb_pd_pc_full %>% select('cohort','haplo','yhaplo_controls',\n",
    " 'yhaplo_control_freq',\n",
    " 'yhaplo_proxies',\n",
    " 'yhaplo_proxy_freq',\n",
    " 'yhaplo_p_logreg',\n",
    " 'yhaplo_beta_logreg',\n",
    " 'yhaplo_se_logreg',\n",
    " 'snappy_controls',\n",
    " 'snappy_control_freq',\n",
    " 'snappy_proxies',\n",
    " 'snappy_proxy_freq',\n",
    " 'snappy_p_logreg',\n",
    " 'snappy_beta_logreg',\n",
    " 'snappy_se_logreg',\n",
    " 'ltrack_controls',\n",
    " 'ltrack_control_freq',\n",
    " 'ltrack_proxies',\n",
    " 'ltrack_proxy_freq',\n",
    " 'ltrack_p_logreg',\n",
    " 'ltrack_beta_logreg',\n",
    " 'ltrack_se_logreg')\n",
    "colnames(ukbb_pd_pc_full) = c('cohort','haplo','yhaplo_controls',\n",
    " 'yhaplo_control_freq',\n",
    " 'yhaplo_cases',\n",
    " 'yhaplo_case_freq',\n",
    " 'yhaplo_p_logreg',\n",
    " 'yhaplo_beta_logreg',\n",
    " 'yhaplo_se_logreg',\n",
    " 'snappy_controls',\n",
    " 'snappy_control_freq',\n",
    " 'snappy_cases',\n",
    " 'snappy_case_freq',\n",
    " 'snappy_p_logreg',\n",
    " 'snappy_beta_logreg',\n",
    " 'snappy_se_logreg',\n",
    " 'ltrack_controls',\n",
    " 'ltrack_control_freq',\n",
    " 'ltrack_cases',\n",
    " 'ltrack_case_freq',\n",
    " 'ltrack_p_logreg',\n",
    " 'ltrack_beta_logreg',\n",
    " 'ltrack_se_logreg')\n",
    "print(colnames(ukbb_pd_pc_full))\n",
    "combine_df = rbind(combine_df,ukbb_pd_pc_full)\n",
    "print(dim(combine_df))"
   ]
  },
  {
   "cell_type": "code",
   "execution_count": null,
   "id": "f8add39e-c3b9-4d0d-9533-348f11d9cbec",
   "metadata": {},
   "outputs": [],
   "source": [
    "#neurox pd case control\n",
    "neurox_pd_cc_full = fread(paste0(WRKDIR,\"/output_neurox/haplotype_full_pd_case_control_no_gc_cutoff_50_new.csv\"))\n",
    "print(dim(neurox_pd_cc_full))\n",
    "neurox_pd_cc_full$cohort = 'neurox_pd_cc'\n",
    "neurox_pd_cc_full <- neurox_pd_cc_full %>% select('cohort','haplo','yhaplo_controls',\n",
    " 'yhaplo_control_freq',\n",
    " 'yhaplo_cases',\n",
    " 'yhaplo_case_freq',\n",
    " 'yhaplo_p_logreg',\n",
    " 'yhaplo_beta_logreg',\n",
    " 'yhaplo_se_logreg',\n",
    " 'snappy_controls',\n",
    " 'snappy_control_freq',\n",
    " 'snappy_cases',\n",
    " 'snappy_case_freq',\n",
    " 'snappy_p_logreg',\n",
    " 'snappy_beta_logreg',\n",
    " 'snappy_se_logreg',\n",
    " 'ltrack_controls',\n",
    " 'ltrack_control_freq',\n",
    " 'ltrack_cases',\n",
    " 'ltrack_case_freq',\n",
    " 'ltrack_p_logreg',\n",
    " 'ltrack_beta_logreg',\n",
    " 'ltrack_se_logreg')\n",
    "print(colnames(neurox_pd_cc_full))\n",
    "combine_df = rbind(combine_df,neurox_pd_cc_full)\n",
    "print(dim(combine_df))"
   ]
  },
  {
   "cell_type": "code",
   "execution_count": null,
   "id": "a158f6ae-7b2c-4ab9-8853-d1dc819298dc",
   "metadata": {},
   "outputs": [],
   "source": [
    "write.csv(combine_df %>% arrange(haplo), paste0(WRKDIR,\"/full_haplos_50.csv\"), quote=FALSE,row.names=FALSE)"
   ]
  },
  {
   "cell_type": "markdown",
   "id": "6407337f-ef5e-4b4e-8f2f-6f8dc9d60f74",
   "metadata": {},
   "source": [
    "## 2) Meta Analyze"
   ]
  },
  {
   "cell_type": "code",
   "execution_count": null,
   "id": "7a5a6c96-ca84-4357-91b5-baa3fc0793a6",
   "metadata": {
    "tags": []
   },
   "outputs": [],
   "source": [
    "data = as.data.frame(fread(paste0(WRKDIR,\"/full_haplos_50.csv\"))) %>% rename('haplo_full'='haplo')\n",
    "print(dim(data))\n",
    "print(head(data))"
   ]
  },
  {
   "cell_type": "code",
   "execution_count": null,
   "id": "3790dc77-4f6b-4881-8794-58efee9f37af",
   "metadata": {},
   "outputs": [],
   "source": [
    "data$cohort_short <- data$cohort\n",
    "data[data$cohort == \"ukbb_pd_cc\",]$cohort_short <- \"ukbb\"\n",
    "data[data$cohort == \"ukbb_pd_pc\",]$cohort_short <- \"ukbb\"\n",
    "data[data$cohort == \"neurox_pd_cc\",]$cohort_short <- \"neurox\"\n",
    "data[data$cohort == \"amp_pd_cc\",]$cohort_short <- \"amppd\"\n",
    "data$cohort_count <- 0\n",
    "print(head(data))"
   ]
  },
  {
   "cell_type": "code",
   "execution_count": null,
   "id": "344cc218-4b01-4f50-a369-eabc985f2efe",
   "metadata": {},
   "outputs": [],
   "source": [
    "tools = c(\"snappy\",\"yhaplo\",\"ltrack\")"
   ]
  },
  {
   "cell_type": "code",
   "execution_count": null,
   "id": "823e9aea-686d-4340-9e07-c31c60a26b1a",
   "metadata": {},
   "outputs": [],
   "source": []
  },
  {
   "cell_type": "code",
   "execution_count": null,
   "id": "575a5eb4-d222-4d85-9e17-7f901354d48d",
   "metadata": {
    "tags": []
   },
   "outputs": [],
   "source": [
    "results_df = data.frame()\n",
    "for (t in tools){\n",
    "    print(t)\n",
    "    \n",
    "    #get the tool specific columns\n",
    "    grepstring = paste0(t,\"|cohort|haplo_full\")\n",
    "    \n",
    "    tool_data = data[,grepl(grepstring,names(data))]\n",
    "    tool_data = tool_data[complete.cases(tool_data),]\n",
    "\n",
    "    \n",
    "    \n",
    "\n",
    "    #run meta analysis for each full haplogroup\n",
    "    for (haplo in unique(tool_data$haplo_full)){\n",
    "    #for (haplo in unique(tool_data[tool_data$cohort_count>=2,]$haplo_full)){\n",
    "\n",
    "        haplo_data <- tool_data[which(tool_data$haplo_full == haplo & tool_data$cohort!='amp_lbd_cc'),]\n",
    "        \n",
    "        print(haplo)\n",
    "        #print(haplo_data)            \n",
    "        \n",
    "\n",
    "        \n",
    "        meta_analysis_reg <- rma(yi=haplo_data[,8], sei = haplo_data[,9])\n",
    "        #print(meta_analysis_reg)\n",
    "        \n",
    "        png(file = paste0(PLOTDIR,\"/\",haplo,\"_\",t,\"_forest.png\"),width = 480, height = 480)\n",
    "        \n",
    "        forest(meta_analysis_reg, slab = haplo_data$cohort, main=paste0(\"Meta Analysis of Full Haplogroup \", haplo, \" from \", t),atransf=exp,  mlab = \"Fixed Effects\", xlab = \"Odds Ratio (95% CI) for full haplogroup\", col=\"red\", border = \"red\", cex=.9)\n",
    "        dev.off()\n",
    "        \n",
    "        \n",
    "        row = data.frame(beta=meta_analysis_reg$`beta`[,1], se = meta_analysis_reg$`se`, zval = meta_analysis_reg$`zval`, pval = meta_analysis_reg$pval, ci_lb = meta_analysis_reg$`ci.lb`, ci_ub = meta_analysis_reg$`ci.ub`)\n",
    "        row$haplo_full <- haplo\n",
    "        row$tool <- t\n",
    "        row$n_datasets <- nrow(haplo_data)\n",
    "        row$n_cohorts <- length(unique(haplo_data$cohort_short))\n",
    "        #row$datasets <- haplo_data['']\n",
    "        #print(row)\n",
    "        #row.names(row) <- NULL\n",
    "        #print(row)\n",
    "        results_df <- rbind(results_df, row)\n",
    "        \n",
    "    }\n",
    "}"
   ]
  },
  {
   "cell_type": "code",
   "execution_count": null,
   "id": "8583ef35-f359-46a2-9e12-b83669955352",
   "metadata": {
    "tags": []
   },
   "outputs": [],
   "source": [
    "results_df"
   ]
  },
  {
   "cell_type": "code",
   "execution_count": null,
   "id": "b81ce8d5-5a24-4c2b-81d8-2870dc22faf1",
   "metadata": {
    "tags": []
   },
   "outputs": [],
   "source": [
    "results_df[results_df$n_cohorts>=2,]"
   ]
  },
  {
   "cell_type": "code",
   "execution_count": null,
   "id": "18b53fea-35cb-495e-9342-c3d9849fb592",
   "metadata": {},
   "outputs": [],
   "source": [
    "write.csv(results_df %>% arrange(haplo_full), paste0(WRKDIR,\"/meta_analyzed_full_haplo.csv\"), quote=FALSE,row.names=FALSE)\n",
    "write.csv(results_df[results_df$n_cohorts>=2,] %>% arrange(haplo_full), paste0(WRKDIR,\"/meta_analyzed_full_haplo_cohort_count.csv\"), quote=FALSE,row.names=FALSE)"
   ]
  },
  {
   "cell_type": "code",
   "execution_count": null,
   "id": "6bf4b6d4-9625-42be-89a3-c6c1dd869896",
   "metadata": {},
   "outputs": [],
   "source": [
    "results_df <- as.data.frame(fread(paste0(WRKDIR,\"/meta_analyzed_full_haplo_cohort_count.csv\")))\n",
    "print(dim(results_df))"
   ]
  },
  {
   "cell_type": "code",
   "execution_count": null,
   "id": "151fdd6c-e898-4fcc-a1b4-10838c2197b4",
   "metadata": {},
   "outputs": [],
   "source": [
    "print(length(unique(results_df$haplo_full)))"
   ]
  },
  {
   "cell_type": "code",
   "execution_count": null,
   "id": "b948b2bf-3524-4385-8deb-b771d53cab68",
   "metadata": {},
   "outputs": [],
   "source": [
    "dim(results_df[results_df$pval < 0.05,])"
   ]
  },
  {
   "cell_type": "code",
   "execution_count": null,
   "id": "acb56d85-f270-496e-8286-318721448cbb",
   "metadata": {},
   "outputs": [],
   "source": [
    "#what looks significant?\n",
    "results_df[results_df$pval < 0.05,]"
   ]
  },
  {
   "cell_type": "code",
   "execution_count": null,
   "id": "442b3b59-d0c1-4416-be30-75a74fe521ba",
   "metadata": {},
   "outputs": [],
   "source": [
    "results_df[results_df$pval < 0.05/12,]"
   ]
  },
  {
   "cell_type": "code",
   "execution_count": null,
   "id": "edd9b398-780c-4392-bd48-d26c9a0cdf6e",
   "metadata": {},
   "outputs": [],
   "source": []
  }
 ],
 "metadata": {
  "kernelspec": {
   "display_name": "R/3.6",
   "language": "R",
   "name": "ir36"
  },
  "language_info": {
   "codemirror_mode": "r",
   "file_extension": ".r",
   "mimetype": "text/x-r-source",
   "name": "R",
   "pygments_lexer": "r",
   "version": "3.6.3"
  }
 },
 "nbformat": 4,
 "nbformat_minor": 5
}
