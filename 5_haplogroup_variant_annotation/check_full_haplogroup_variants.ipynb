{
 "cells": [
  {
   "cell_type": "markdown",
   "id": "signal-blind",
   "metadata": {},
   "source": [
    "# Check The Variants Making Up Specific Y Chromosome Haplogroups\n",
    "- **Author(s)** - Frank Grenn\n",
    "- **Quick Description:** Get variants associated with all haplogroups that were associated with disease and in 50 or more samples. Use ANNOVAR to annotate these variants to determine if they are coding or not. "
   ]
  },
  {
   "cell_type": "code",
   "execution_count": null,
   "id": "boxed-nowhere",
   "metadata": {},
   "outputs": [],
   "source": [
    "import pandas as pd"
   ]
  },
  {
   "cell_type": "code",
   "execution_count": null,
   "id": "unsigned-integration",
   "metadata": {},
   "outputs": [],
   "source": [
    "WRKDIR = '/PATH/chrY'"
   ]
  },
  {
   "cell_type": "markdown",
   "id": "c1fc091c-6e4d-41af-a7b2-ad4e61d8190f",
   "metadata": {},
   "source": [
    "## 1) Get Significant Haplogroups"
   ]
  },
  {
   "cell_type": "code",
   "execution_count": null,
   "id": "23100378-eb78-4445-a514-103c4abae3de",
   "metadata": {},
   "outputs": [],
   "source": [
    "combine_df = pd.DataFrame()"
   ]
  },
  {
   "cell_type": "code",
   "execution_count": null,
   "id": "8b3add09-e6b5-4db7-b115-c7ba02d9737b",
   "metadata": {
    "tags": []
   },
   "outputs": [],
   "source": [
    "#amppd pd case control\n",
    "amp_pd_cc_full = pd.read_csv(f\"{WRKDIR}/output_male_hemizygous_only_het_filter_run/haplotype_full_pd_case_control_no_gc_cutoff_50_new.csv\")\n",
    "print(amp_pd_cc_full.shape)\n",
    "print(amp_pd_cc_full.head())\n",
    "\n",
    "amp_pd_cc_full['cohort'] = 'amp_pd_cc'\n",
    "\n",
    "amp_pd_cc_full = amp_pd_cc_full[['cohort','haplo','yhaplo_controls',\n",
    " 'yhaplo_control_freq',\n",
    " 'yhaplo_cases',\n",
    " 'yhaplo_case_freq',\n",
    " 'yhaplo_p_logreg',\n",
    " 'yhaplo_beta_logreg',\n",
    " 'yhaplo_se_logreg',\n",
    " 'snappy_controls',\n",
    " 'snappy_control_freq',\n",
    " 'snappy_cases',\n",
    " 'snappy_case_freq',\n",
    " 'snappy_p_logreg',\n",
    " 'snappy_beta_logreg',\n",
    " 'snappy_se_logreg',\n",
    " 'ltrack_controls',\n",
    " 'ltrack_control_freq',\n",
    " 'ltrack_cases',\n",
    " 'ltrack_case_freq',\n",
    " 'ltrack_p_logreg',\n",
    " 'ltrack_beta_logreg',\n",
    " 'ltrack_se_logreg']]\n",
    "#amp_pd_cc_full.columns = ['cohort','haplo','controls','control_freq','cases','case_freq','p_logreg','beta_logreg','se_logreg']\n",
    "\n",
    "combine_df = amp_pd_cc_full.copy()\n",
    "\n",
    "print(combine_df.shape)\n",
    "print(combine_df.head())"
   ]
  },
  {
   "cell_type": "code",
   "execution_count": null,
   "id": "662f9338-17ed-48dd-bd41-5a38f8a9725a",
   "metadata": {
    "tags": []
   },
   "outputs": [],
   "source": [
    "#amppd lbd case control\n",
    "amp_lbd_cc_full = pd.read_csv(f\"{WRKDIR}/output_male_hemizygous_only_het_filter_run/haplotype_full_lbd_case_control_no_gc_cutoff_50_new.csv\")\n",
    "print(amp_lbd_cc_full.shape)\n",
    "print(amp_lbd_cc_full.head())\n",
    "\n",
    "amp_lbd_cc_full['cohort'] = 'amp_lbd_cc'\n",
    "amp_lbd_cc_full = amp_lbd_cc_full[['cohort','haplo','yhaplo_controls',\n",
    " 'yhaplo_control_freq',\n",
    " 'yhaplo_cases',\n",
    " 'yhaplo_case_freq',\n",
    " 'yhaplo_p_logreg',\n",
    " 'yhaplo_beta_logreg',\n",
    " 'yhaplo_se_logreg',\n",
    " 'snappy_controls',\n",
    " 'snappy_control_freq',\n",
    " 'snappy_cases',\n",
    " 'snappy_case_freq',\n",
    " 'snappy_p_logreg',\n",
    " 'snappy_beta_logreg',\n",
    " 'snappy_se_logreg',\n",
    " 'ltrack_controls',\n",
    " 'ltrack_control_freq',\n",
    " 'ltrack_cases',\n",
    " 'ltrack_case_freq',\n",
    " 'ltrack_p_logreg',\n",
    " 'ltrack_beta_logreg',\n",
    " 'ltrack_se_logreg']]\n",
    "\n",
    "combine_df = combine_df.append(amp_lbd_cc_full)\n",
    "\n",
    "\n",
    "print(combine_df.shape)\n",
    "print(combine_df.head())"
   ]
  },
  {
   "cell_type": "code",
   "execution_count": null,
   "id": "5d5a756a-3bcf-469b-81e4-1a2912d3b28a",
   "metadata": {
    "tags": []
   },
   "outputs": [],
   "source": [
    "#ukbb pd case control\n",
    "ukbb_pd_cc_full = pd.read_csv(f\"{WRKDIR}/output_ukbb/haplotype_full_pd_case_control_cutoff_50_new.csv\")\n",
    "print(ukbb_pd_cc_full.shape)\n",
    "print(ukbb_pd_cc_full.head())\n",
    "\n",
    "ukbb_pd_cc_full['cohort'] = 'ukbb_pd_cc'\n",
    "ukbb_pd_cc_full = ukbb_pd_cc_full[['cohort','haplo','yhaplo_controls',\n",
    " 'yhaplo_control_freq',\n",
    " 'yhaplo_cases',\n",
    " 'yhaplo_case_freq',\n",
    " 'yhaplo_p_logreg',\n",
    " 'yhaplo_beta_logreg',\n",
    " 'yhaplo_se_logreg',\n",
    " 'snappy_controls',\n",
    " 'snappy_control_freq',\n",
    " 'snappy_cases',\n",
    " 'snappy_case_freq',\n",
    " 'snappy_p_logreg',\n",
    " 'snappy_beta_logreg',\n",
    " 'snappy_se_logreg',\n",
    " 'ltrack_controls',\n",
    " 'ltrack_control_freq',\n",
    " 'ltrack_cases',\n",
    " 'ltrack_case_freq',\n",
    " 'ltrack_p_logreg',\n",
    " 'ltrack_beta_logreg',\n",
    " 'ltrack_se_logreg']]\n",
    "combine_df = combine_df.append(ukbb_pd_cc_full)\n",
    "print(combine_df.shape)\n",
    "print(combine_df.head())"
   ]
  },
  {
   "cell_type": "code",
   "execution_count": null,
   "id": "9f87c37c-4093-47af-978e-ada53f541fb5",
   "metadata": {
    "tags": []
   },
   "outputs": [],
   "source": [
    "#ukbb pd proxy control\n",
    "ukbb_pd_pc_full = pd.read_csv(f\"{WRKDIR}/output_ukbb/haplotype_full_pd_proxy_control_cutoff_50_new.csv\")\n",
    "print(ukbb_pd_pc_full.shape)\n",
    "print(ukbb_pd_pc_full.head())\n",
    "\n",
    "ukbb_pd_pc_full['cohort'] = 'ukbb_pd_pc'\n",
    "ukbb_pd_pc_full = ukbb_pd_pc_full[['cohort','haplo','yhaplo_controls',\n",
    " 'yhaplo_control_freq',\n",
    " 'yhaplo_proxies',\n",
    " 'yhaplo_proxy_freq',\n",
    " 'yhaplo_p_logreg',\n",
    " 'yhaplo_beta_logreg',\n",
    " 'yhaplo_se_logreg',\n",
    " 'snappy_controls',\n",
    " 'snappy_control_freq',\n",
    " 'snappy_proxies',\n",
    " 'snappy_proxy_freq',\n",
    " 'snappy_p_logreg',\n",
    " 'snappy_beta_logreg',\n",
    " 'snappy_se_logreg',\n",
    " 'ltrack_controls',\n",
    " 'ltrack_control_freq',\n",
    " 'ltrack_proxies',\n",
    " 'ltrack_proxy_freq',\n",
    " 'ltrack_p_logreg',\n",
    " 'ltrack_beta_logreg',\n",
    " 'ltrack_se_logreg']]\n",
    "ukbb_pd_pc_full.columns = ['cohort','haplo','yhaplo_controls',\n",
    " 'yhaplo_control_freq',\n",
    " 'yhaplo_cases',\n",
    " 'yhaplo_case_freq',\n",
    " 'yhaplo_p_logreg',\n",
    " 'yhaplo_beta_logreg',\n",
    " 'yhaplo_se_logreg',\n",
    " 'snappy_controls',\n",
    " 'snappy_control_freq',\n",
    " 'snappy_cases',\n",
    " 'snappy_case_freq',\n",
    " 'snappy_p_logreg',\n",
    " 'snappy_beta_logreg',\n",
    " 'snappy_se_logreg',\n",
    " 'ltrack_controls',\n",
    " 'ltrack_control_freq',\n",
    " 'ltrack_cases',\n",
    " 'ltrack_case_freq',\n",
    " 'ltrack_p_logreg',\n",
    " 'ltrack_beta_logreg',\n",
    " 'ltrack_se_logreg']\n",
    "combine_df = combine_df.append(ukbb_pd_pc_full)\n",
    "print(combine_df.shape)\n",
    "print(combine_df.head())"
   ]
  },
  {
   "cell_type": "code",
   "execution_count": null,
   "id": "dba73eec-8a96-4527-bfd0-c59b2f621df7",
   "metadata": {},
   "outputs": [],
   "source": [
    "#neurox pd case control\n",
    "neurox_pd_cc_full = pd.read_csv(f\"{WRKDIR}/output_neurox/haplotype_full_pd_case_control_no_gc_cutoff_50_new.csv\")\n",
    "print(neurox_pd_cc_full.shape)\n",
    "print(neurox_pd_cc_full.head())\n",
    "\n",
    "neurox_pd_cc_full['cohort'] = 'neurox_pd_cc'\n",
    "neurox_pd_cc_full = neurox_pd_cc_full[['cohort','haplo','yhaplo_controls',\n",
    " 'yhaplo_control_freq',\n",
    " 'yhaplo_cases',\n",
    " 'yhaplo_case_freq',\n",
    " 'yhaplo_p_logreg',\n",
    " 'yhaplo_beta_logreg',\n",
    " 'yhaplo_se_logreg',\n",
    " 'snappy_controls',\n",
    " 'snappy_control_freq',\n",
    " 'snappy_cases',\n",
    " 'snappy_case_freq',\n",
    " 'snappy_p_logreg',\n",
    " 'snappy_beta_logreg',\n",
    " 'snappy_se_logreg',\n",
    " 'ltrack_controls',\n",
    " 'ltrack_control_freq',\n",
    " 'ltrack_cases',\n",
    " 'ltrack_case_freq',\n",
    " 'ltrack_p_logreg',\n",
    " 'ltrack_beta_logreg',\n",
    " 'ltrack_se_logreg']]\n",
    "combine_df = combine_df.append(neurox_pd_cc_full)\n",
    "print(combine_df.shape)\n",
    "print(combine_df.head())"
   ]
  },
  {
   "cell_type": "code",
   "execution_count": null,
   "id": "95c558d0-74d5-4195-abe7-fd4590d83715",
   "metadata": {},
   "outputs": [],
   "source": [
    "combine_df.columns"
   ]
  },
  {
   "cell_type": "code",
   "execution_count": null,
   "id": "514b4586-85da-4e11-ab67-d5929d9646cd",
   "metadata": {},
   "outputs": [],
   "source": [
    "len(set(combine_df.haplo))"
   ]
  },
  {
   "cell_type": "markdown",
   "id": "83d6e8cc-e9d8-4fad-9776-cdaaf698d837",
   "metadata": {},
   "source": [
    "### Multiple Test Correction"
   ]
  },
  {
   "cell_type": "code",
   "execution_count": null,
   "id": "ea49b23d-4bd7-4a27-8077-767d04135214",
   "metadata": {},
   "outputs": [],
   "source": [
    "sig_full_haplo_multi = combine_df[(combine_df.snappy_p_logreg<0.05/144) | (combine_df.ltrack_p_logreg<0.05/144) | (combine_df.yhaplo_p_logreg<0.05/144)]\n",
    "print(sig_full_haplo_multi.shape)\n",
    "print(sig_full_haplo_multi.head())"
   ]
  },
  {
   "cell_type": "code",
   "execution_count": null,
   "id": "0b99e745-32bb-4233-9d7d-0218862f766f",
   "metadata": {},
   "outputs": [],
   "source": [
    "combine_df.shape"
   ]
  },
  {
   "cell_type": "code",
   "execution_count": null,
   "id": "5a927b91-58ee-4b76-b4ac-eb935b7f5471",
   "metadata": {},
   "outputs": [],
   "source": [
    "sig_full_haplo = combine_df[(combine_df.snappy_p_logreg<0.05) | (combine_df.ltrack_p_logreg<0.05) | (combine_df.yhaplo_p_logreg<0.05)]\n",
    "print(sig_full_haplo.shape)\n",
    "print(sig_full_haplo.head())"
   ]
  },
  {
   "cell_type": "code",
   "execution_count": null,
   "id": "d13a8e4c-4366-46ff-afe5-983494ca722f",
   "metadata": {},
   "outputs": [],
   "source": [
    "sig_full_haplo.sort_values(\"haplo\").to_csv(f\"{WRKDIR}/sig_full_haplos_new.csv\",index=None)"
   ]
  },
  {
   "cell_type": "code",
   "execution_count": null,
   "id": "243c2abd-33d5-454a-b32b-1bff1b311a60",
   "metadata": {},
   "outputs": [],
   "source": [
    "sig_full_haplo"
   ]
  },
  {
   "cell_type": "code",
   "execution_count": null,
   "id": "eeb9ff3e-b377-41ff-b620-4584ac4d2c83",
   "metadata": {},
   "outputs": [],
   "source": [
    "print(len(set(combine_df.haplo.tolist())))"
   ]
  },
  {
   "cell_type": "code",
   "execution_count": null,
   "id": "c3413a78-5ace-490d-805f-db2b7303834b",
   "metadata": {},
   "outputs": [],
   "source": [
    "print(len(set(sig_full_haplo.haplo.tolist())))"
   ]
  },
  {
   "cell_type": "code",
   "execution_count": null,
   "id": "2fbe6a85-a575-49e7-a5c8-c2ce6aecf30d",
   "metadata": {},
   "outputs": [],
   "source": [
    "set(merge_snp_info.tool_haplo_name) ^set(sig_full_haplo.haplo.tolist())"
   ]
  },
  {
   "cell_type": "markdown",
   "id": "a4123bec-37b7-42bb-afaf-14b5b43ecdd9",
   "metadata": {},
   "source": [
    "## 2) Get Haplogroup SNP Names\n",
    "use reference file used in each haplogroup calling tool"
   ]
  },
  {
   "cell_type": "code",
   "execution_count": null,
   "id": "allied-jonathan",
   "metadata": {},
   "outputs": [],
   "source": [
    "snappy_tree = pd.read_table(f\"{WRKDIR}/snappy/ref_files/y_hg_and_snps.sort\",skiprows=1,sep=\"\\t\",header=None)\n",
    "snappy_tree.columns = ['haplo','snps']\n",
    "print(snappy_tree.shape)\n",
    "print(snappy_tree.head())"
   ]
  },
  {
   "cell_type": "code",
   "execution_count": null,
   "id": "chicken-graduation",
   "metadata": {},
   "outputs": [],
   "source": [
    "#cut -f 1,2 {WRKDIR}/yhaplo/yhaplo/input/isogg.2016.01.04.txt > temp.isogg.2016.rep.snps.txt\n",
    "yhaplo_tree =  pd.read_table(f\"{WRKDIR}/yhaplo/yhaplo/input/temp.isogg.2016.rep.snps.txt\",sep=\"\\t\")\n",
    "yhaplo_tree.columns = ['snps','haplo']\n",
    "yhaplo_tree['haplo'] = yhaplo_tree['haplo'].str.strip()\n",
    "yhaplo_tree['snps'] = yhaplo_tree['snps'].str.strip()\n",
    "\n",
    "#yhaplo_tree = pd.read_table(f\"{WRKDIR}/yhaplo/yhaplo/input/representative.SNPs.isogg.2015tree.txt\",sep=\"\\s+\",header=None)\n",
    "#yhaplo_tree.columns = ['haplo','snps']\n",
    "print(yhaplo_tree.shape)\n",
    "print(yhaplo_tree.head())"
   ]
  },
  {
   "cell_type": "code",
   "execution_count": null,
   "id": "f9d9b4d9-1d36-4ed5-b16a-0124db5866a8",
   "metadata": {},
   "outputs": [],
   "source": [
    "ltrack_tree = pd.read_csv(f\"{WRKDIR}/../Y-LineageTracker/LineageTracker/Data/HaplogroupInfo.csv\")\n",
    "print(ltrack_tree.shape)\n",
    "print(ltrack_tree.head())"
   ]
  },
  {
   "cell_type": "code",
   "execution_count": null,
   "id": "informed-cemetery",
   "metadata": {},
   "outputs": [],
   "source": [
    "# table downloaded from isogg https://isogg.org/tree/ISOGG_YDNA_SNP_Index.html\n",
    "snps = pd.read_csv(\"/PATH/SNP_Index_Human.csv\",skiprows=1)\n",
    "snps['Subgroup_no_tilde']  = snps['Subgroup Name'].str.replace('~','')\n",
    "print(snps.shape)\n",
    "print(snps.head())"
   ]
  },
  {
   "cell_type": "code",
   "execution_count": null,
   "id": "unexpected-compensation",
   "metadata": {},
   "outputs": [],
   "source": [
    "sig_full_haplo"
   ]
  },
  {
   "cell_type": "code",
   "execution_count": null,
   "id": "608ee523-d4cd-484c-9fd1-deb59cf3b4be",
   "metadata": {},
   "outputs": [],
   "source": [
    "yhaplo_tree.head()"
   ]
  },
  {
   "cell_type": "code",
   "execution_count": null,
   "id": "bcee4f0b-7ac1-4068-a263-80117764465c",
   "metadata": {},
   "outputs": [],
   "source": [
    "snappy_tree.head()"
   ]
  },
  {
   "cell_type": "code",
   "execution_count": null,
   "id": "37318981-d676-479f-99bb-1d4e3855235e",
   "metadata": {},
   "outputs": [],
   "source": [
    "ltrack_tree.tail()"
   ]
  },
  {
   "cell_type": "code",
   "execution_count": null,
   "id": "8c0b374d-fa26-4176-819d-2c55ab87406b",
   "metadata": {},
   "outputs": [],
   "source": [
    "def get_ltrack_snps(haplo):\n",
    "    #print(haplo)\n",
    "    #print(ltrack_tree[ltrack_tree.Haplogroup ==haplo])\n",
    "    ltrack_snps = list(set(ltrack_tree[ltrack_tree.Haplogroup ==haplo].Mutation))\n",
    "    #print(ltrack_snps)\n",
    "    \n",
    "    full_list = []\n",
    "    for snp in ltrack_snps:\n",
    "        full_list = full_list + snp.split(\"/\")\n",
    "    \n",
    "\n",
    "    return list(set(full_list))"
   ]
  },
  {
   "cell_type": "code",
   "execution_count": null,
   "id": "c96e06d5-c3a4-4ab5-bcf5-541e1df11500",
   "metadata": {},
   "outputs": [],
   "source": [
    "def get_snappy_snps(haplo):\n",
    "    snappy_haplo_snps = list(set(snappy_tree[snappy_tree.haplo==haplo].snps))\n",
    "    print(snappy_haplo_snps)\n",
    "    if(len(snappy_haplo_snps)==1):\n",
    "        snappy_haplo_snps = snappy_haplo_snps[0].split(',')\n",
    "        print(snappy_haplo_snps)\n",
    "    \n",
    "\n",
    "    return list(set(snappy_haplo_snps))"
   ]
  },
  {
   "cell_type": "code",
   "execution_count": null,
   "id": "5f0c34d2-2169-4712-b7d3-a2d736a60eaf",
   "metadata": {},
   "outputs": [],
   "source": [
    "def get_yhaplo_snps(haplo):\n",
    "    yhaplo_haplo_snps = list(set(yhaplo_tree[yhaplo_tree.haplo==haplo].snps))\n",
    "    print(yhaplo_haplo_snps)\n",
    "    if(len(yhaplo_haplo_snps)==1):\n",
    "        yhaplo_haplo_snps = yhaplo_haplo_snps[0].split('/')\n",
    "        print(yhaplo_haplo_snps)\n",
    "    \n",
    "\n",
    "    return list(set(yhaplo_haplo_snps))"
   ]
  },
  {
   "cell_type": "code",
   "execution_count": null,
   "id": "35dc448e-cd93-4223-8245-b7760f5cbe5e",
   "metadata": {
    "tags": []
   },
   "outputs": [],
   "source": [
    "snps_df = pd.DataFrame()\n",
    "for h in sig_full_haplo.haplo:\n",
    "    print(h)\n",
    "    ltrack_snps= []\n",
    "    if(sig_full_haplo[sig_full_haplo.haplo==h].ltrack_p_logreg.isna().tolist()[0]==False):\n",
    "        ltrack_snps = get_ltrack_snps(h)\n",
    "        if(len(ltrack_snps)==0):\n",
    "            ltrack_snps = get_ltrack_snps(h+'~')\n",
    "        print(ltrack_snps)\n",
    "    \n",
    "    ltrack_snp_df = pd.DataFrame(data={'snp':ltrack_snps})\n",
    "    ltrack_snp_df['haplo'] = h\n",
    "    ltrack_snp_df['tool'] = 'ltrack'\n",
    "    print(ltrack_snp_df.shape)\n",
    "    print(ltrack_snp_df.head())\n",
    "    \n",
    "    snps_df = snps_df.append(ltrack_snp_df).drop_duplicates()\n",
    "    \n",
    "    snappy_snps= []\n",
    "    if(sig_full_haplo[sig_full_haplo.haplo==h].snappy_p_logreg.isna().tolist()[0]==False):\n",
    "        snappy_snps = get_snappy_snps(h)\n",
    "        if(len(snappy_snps)==0):\n",
    "            snappy_snps = get_snappy_snps(h+'~')\n",
    "        print(snappy_snps)\n",
    "    \n",
    "    snappy_snp_df = pd.DataFrame(data={'snp':snappy_snps})\n",
    "    snappy_snp_df['haplo'] = h\n",
    "    snappy_snp_df['tool'] = 'snappy'\n",
    "    print(snappy_snp_df.shape)\n",
    "    print(snappy_snp_df.head())\n",
    "    \n",
    "    snps_df = snps_df.append(snappy_snp_df).drop_duplicates()\n",
    "    \n",
    "    yhaplo_snps= []\n",
    "    if(sig_full_haplo[sig_full_haplo.haplo==h].yhaplo_p_logreg.isna().tolist()[0]==False):\n",
    "        yhaplo_snps = get_yhaplo_snps(h)\n",
    "        if(len(yhaplo_snps)==0):\n",
    "            yhaplo_snps = get_yhaplo_snps(h+'~')\n",
    "        print(yhaplo_snps)\n",
    "    \n",
    "    yhaplo_snp_df = pd.DataFrame(data={'snp':yhaplo_snps})\n",
    "    yhaplo_snp_df['haplo'] = h\n",
    "    yhaplo_snp_df['tool'] = 'yhaplo'\n",
    "    print(yhaplo_snp_df.shape)\n",
    "    print(yhaplo_snp_df.head())\n",
    "    \n",
    "    snps_df = snps_df.append(yhaplo_snp_df).drop_duplicates()\n",
    "\n",
    "    print(snps_df.shape)\n",
    "    print(snps_df.head())\n",
    "    "
   ]
  },
  {
   "cell_type": "code",
   "execution_count": null,
   "id": "18ffedf0-3750-4964-8fa8-2dea9b5fb904",
   "metadata": {},
   "outputs": [],
   "source": [
    "snps_df.shape"
   ]
  },
  {
   "cell_type": "code",
   "execution_count": null,
   "id": "1f306016-edcc-4fea-a58c-a3e1ec48a8f3",
   "metadata": {},
   "outputs": [],
   "source": [
    "snps_df.shape"
   ]
  },
  {
   "cell_type": "code",
   "execution_count": null,
   "id": "609e6a94-7122-40dd-93ad-ed2ad155633e",
   "metadata": {},
   "outputs": [],
   "source": [
    "snps_df.head()"
   ]
  },
  {
   "cell_type": "code",
   "execution_count": null,
   "id": "a0b416ef-fc67-46d9-b656-b8bae219a2a3",
   "metadata": {},
   "outputs": [],
   "source": [
    "snps_df.tail()"
   ]
  },
  {
   "cell_type": "code",
   "execution_count": null,
   "id": "85338ecd-e99a-49ff-a5d6-eb6884fa86d2",
   "metadata": {},
   "outputs": [],
   "source": [
    "snps_df.head()"
   ]
  },
  {
   "cell_type": "code",
   "execution_count": null,
   "id": "9e2def7b-0e1d-4645-90c1-22715a0a064a",
   "metadata": {},
   "outputs": [],
   "source": [
    "snps.head()"
   ]
  },
  {
   "cell_type": "code",
   "execution_count": null,
   "id": "51f1f472-93a7-4f71-ae15-263233298e65",
   "metadata": {},
   "outputs": [],
   "source": [
    "merge_snps_df = pd.merge(left = snps_df, right = snps, left_on = 'snp', right_on = 'Name',how = 'inner')\n",
    "print(merge_snps_df.shape)\n",
    "print(merge_snps_df.head())"
   ]
  },
  {
   "cell_type": "code",
   "execution_count": null,
   "id": "c80cd7bc-e8e1-4116-8877-11d3d587c779",
   "metadata": {},
   "outputs": [],
   "source": [
    "print(len(set(merge_snps_df.snp)))\n",
    "print(len(set(snps_df.snp)))\n",
    "print(set(merge_snps_df.snp)^set(snps_df.snp))"
   ]
  },
  {
   "cell_type": "code",
   "execution_count": null,
   "id": "b1123ae2-d204-46fc-b0da-b7ab0fd9471e",
   "metadata": {},
   "outputs": [],
   "source": [
    "merge_snps_df = pd.merge(left = snps_df, right = snps, left_on = 'snp', right_on = 'Name',how = 'inner')\n",
    "print(merge_snps_df.shape)\n",
    "print(merge_snps_df.head())"
   ]
  },
  {
   "cell_type": "code",
   "execution_count": null,
   "id": "59e39b97-3fa8-478b-80b7-c53580ed9ae6",
   "metadata": {},
   "outputs": [],
   "source": [
    "merge_snps_df.tail()"
   ]
  },
  {
   "cell_type": "code",
   "execution_count": null,
   "id": "aa109b33-51b6-415f-92ff-f4baa86928f7",
   "metadata": {},
   "outputs": [],
   "source": [
    "merge_snps_df.columns = ['snp','tool_haplo_name','tool','Name','isogg_subgroup_name','alt_snp_names','rsid','hg19_bp','hg38_bp','mutation','isogg_subgroup_name_no_tilde']\n",
    "#merge_snps_df.to_csv(f\"{WRKDIR}/sig_haplo_variants_newest.csv\",index=None)"
   ]
  },
  {
   "cell_type": "code",
   "execution_count": null,
   "id": "ed816b89-a33c-45ea-aeb7-e48955f15f5a",
   "metadata": {},
   "outputs": [],
   "source": [
    "print(len(set(snps_df['haplo'])))\n",
    "print(len(set(merge_snps_df['tool_haplo_name'])))\n",
    "print(len(set(merge_snps_df['isogg_subgroup_name_no_tilde'])))\n",
    "print(set(snps_df['haplo']) ^ set(merge_snps_df['tool_haplo_name']))"
   ]
  },
  {
   "cell_type": "code",
   "execution_count": null,
   "id": "a4b11d15-610e-48f4-9438-788ec6a01181",
   "metadata": {},
   "outputs": [],
   "source": [
    "print(len(set(snps_df['snp'])))\n",
    "print(len(set(merge_snps_df['Name'])))\n",
    "print(set(snps_df['snp']) ^ set(merge_snps_df['Name']))"
   ]
  },
  {
   "cell_type": "code",
   "execution_count": null,
   "id": "1478b747-ce5d-4c88-a64f-a52274ae5605",
   "metadata": {},
   "outputs": [],
   "source": []
  },
  {
   "cell_type": "markdown",
   "id": "4548d170-c5af-4c36-870b-5efc2d52e00b",
   "metadata": {},
   "source": [
    "## 3) Annotate with ANNOVAR\n",
    "may need to reformat some values first"
   ]
  },
  {
   "cell_type": "code",
   "execution_count": null,
   "id": "fb214b53-9a70-4da6-b18b-db263e6c2e15",
   "metadata": {},
   "outputs": [],
   "source": [
    "#some may have *_bp as a string\n",
    "print(merge_snps_df[merge_snps_df['hg38_bp'].str.contains(\"..\",regex=False)])"
   ]
  },
  {
   "cell_type": "code",
   "execution_count": null,
   "id": "737348b7-0f79-404e-9d27-553211c85700",
   "metadata": {},
   "outputs": [],
   "source": [
    "merge_snps_df.loc[merge_snps_df['hg19_bp'].str.contains(\"..\",regex=False),'hg19_bp'] = merge_snps_df.loc[merge_snps_df['hg19_bp'].str.contains(\"..\",regex=False),'hg19_bp'].str.split(\"\\.\\.\").str[0]\n",
    "merge_snps_df.loc[merge_snps_df['hg38_bp'].str.contains(\"..\",regex=False),'hg38_bp'] = merge_snps_df.loc[merge_snps_df['hg38_bp'].str.contains(\"..\",regex=False),'hg38_bp'].str.split(\"\\.\\.\").str[0]"
   ]
  },
  {
   "cell_type": "code",
   "execution_count": null,
   "id": "adf3a7f5-6d78-40d5-af24-88c0720e61a9",
   "metadata": {},
   "outputs": [],
   "source": [
    "#chr\tstart\tend\tref\talt\tsnp\n",
    "avinput_hg19 = merge_snps_df[['hg19_bp','mutation','snp']]\n",
    "avinput_hg19['chr'] = 'Y'\n",
    "avinput_hg19['ref'] = avinput_hg19['mutation'].str.split('->').str[0]\n",
    "avinput_hg19['alt'] = avinput_hg19['mutation'].str.split('->').str[1]\n",
    "avinput_hg19['start'] = avinput_hg19['hg19_bp']\n",
    "avinput_hg19['end'] = avinput_hg19['hg19_bp']\n",
    "avinput_hg19 = avinput_hg19[['chr','start','end','ref','alt','snp']]\n",
    "\n",
    "\n",
    "\n",
    "#need to adjust end positions for ref alleles with more than one nucleotide\n",
    "avinput_hg19['end'] = avinput_hg19['start'].astype('int64') + avinput_hg19['ref'].str.len()-1\n",
    "#replace * with - for annovar syntax\n",
    "avinput_hg19['ref'] = avinput_hg19['ref'].replace('*','-')\n",
    "avinput_hg19['alt'] = avinput_hg19['alt'].replace('*','-')\n",
    "\n",
    "\n",
    "print(avinput_hg19.head())\n",
    "print(avinput_hg19.tail())\n",
    "avinput_hg19.drop_duplicates().to_csv(f\"{WRKDIR}/annotation/sig_snp_hg19_new.avinput\",index=None,sep=\"\\t\")"
   ]
  },
  {
   "cell_type": "markdown",
   "id": "882ac024-8dfc-4607-b6fd-5759ee99eed2",
   "metadata": {},
   "source": [
    "``` table_annovar.pl /PATH/sig_snp_hg19_new.avinput $ANNOVAR_DATA/hg19/ -buildver hg19 --thread 16  -out /PATH/sig_snp_hg19_new.annovar  -remove -protocol refGene,avsnp150  -operation g,f  -nastring . ```"
   ]
  },
  {
   "cell_type": "code",
   "execution_count": null,
   "id": "0c639568-c6ee-45e9-9463-cf6dc3c80582",
   "metadata": {},
   "outputs": [],
   "source": [
    "annotation_hg19 = pd.read_table(f\"{WRKDIR}/annotation/sig_snp_hg19_new.annovar.hg19_multianno.txt\").drop_duplicates()\n",
    "annotation_hg19['mut'] = annotation_hg19['Ref']+'->'+annotation_hg19['Alt']\n",
    "print(set(annotation_hg19['Func.refGene'].tolist()))\n",
    "print(set(annotation_hg19['ExonicFunc.refGene'].tolist()))\n",
    "print(annotation_hg19.shape)\n",
    "print(annotation_hg19.head())"
   ]
  },
  {
   "cell_type": "markdown",
   "id": "f84b02a5-b610-40dc-9c2d-b03517b435b5",
   "metadata": {},
   "source": [
    "## 4) Combine Annotation Results With SNP Data"
   ]
  },
  {
   "cell_type": "code",
   "execution_count": null,
   "id": "42cded97-983a-494c-aa5f-f9ad553228c5",
   "metadata": {
    "tags": []
   },
   "outputs": [],
   "source": [
    "merge_snp_info = pd.merge(left = merge_snps_df, right = annotation_hg19, left_on = ['hg19_bp','mutation'],right_on = ['Start','mut'])\n",
    "print(merge_snp_info.shape)\n",
    "print(len(set(merge_snps_df['hg19_bp'].tolist())))\n",
    "print(len(set(annotation_hg19['Start'].tolist())))\n",
    "print(len(set(merge_snp_info['Start'].tolist())))\n",
    "print(merge_snp_info.head())"
   ]
  },
  {
   "cell_type": "code",
   "execution_count": null,
   "id": "4504116b-9f81-4528-bb50-2db7f024a99e",
   "metadata": {},
   "outputs": [],
   "source": [
    "merge_snp_info.to_csv(f\"{WRKDIR}/sig_haplo_variants_annotated_newest.csv\",index=None)"
   ]
  },
  {
   "cell_type": "code",
   "execution_count": null,
   "id": "63e35f1f-957d-4d25-9af5-cfa471ea5e9a",
   "metadata": {},
   "outputs": [],
   "source": [
    "merge_snp_info['tool_snp_names'] = merge_snp_info.groupby(['Start','End','Ref','Alt'])['snp'].transform(lambda x: ','.join(x))\n",
    "merge_snp_info['tool_haplo_names'] = merge_snp_info.groupby(['Start','End','Ref','Alt'])['tool_haplo_name'].transform(lambda x: ','.join(x))\n",
    "merge_snp_info['tool_names'] = merge_snp_info.groupby(['Start','End','Ref','Alt'])['tool'].transform(lambda x: ','.join(x))"
   ]
  },
  {
   "cell_type": "code",
   "execution_count": null,
   "id": "141ec323-66a2-4419-a6c1-5e3f7ca74276",
   "metadata": {},
   "outputs": [],
   "source": [
    "merge_reduced = merge_snp_info[['Chr','Start','End','Ref','Alt','avsnp150','Func.refGene','Gene.refGene','GeneDetail.refGene','ExonicFunc.refGene','isogg_subgroup_name','tool_haplo_names','tool_snp_names','tool_names']].copy()\n",
    "merge_reduced.columns = ['Chr','Start','End','Ref','Alt','rsid','Func.refGene','Gene.refGene','GeneDetail.refGene','ExonicFunc.refGene','isogg_haplo_name','tool_haplo_names','tool_snp_names','tool_names']\n",
    "print(merge_reduced.shape)\n",
    "merge_reduced = merge_reduced.drop_duplicates()\n",
    "print(merge_reduced.shape)"
   ]
  },
  {
   "cell_type": "code",
   "execution_count": null,
   "id": "fdf372f6-84f0-4bda-82eb-bffbfb761c63",
   "metadata": {},
   "outputs": [],
   "source": [
    "set(merge_reduced['Func.refGene'])"
   ]
  },
  {
   "cell_type": "code",
   "execution_count": null,
   "id": "5b3405d9-a625-4cbd-a527-ff3e447bff08",
   "metadata": {},
   "outputs": [],
   "source": [
    "print(len(set(merge_reduced.isogg_haplo_name.tolist())))"
   ]
  },
  {
   "cell_type": "code",
   "execution_count": null,
   "id": "dceff36e-0571-4df3-9027-70806f3b62dd",
   "metadata": {},
   "outputs": [],
   "source": [
    "merge_reduced.to_csv(f\"{WRKDIR}/sig_haplo_variants_annotated_reduced_newest.csv\",index=None)"
   ]
  },
  {
   "cell_type": "code",
   "execution_count": null,
   "id": "66e2575f-6f55-4996-9de9-beff12e0abb8",
   "metadata": {},
   "outputs": [],
   "source": [
    "merge_reduced[merge_reduced['Func.refGene'] == 'exonic']"
   ]
  },
  {
   "cell_type": "code",
   "execution_count": null,
   "id": "6dc7bba0-2ea0-47fe-ab90-63b501b684f5",
   "metadata": {},
   "outputs": [],
   "source": [
    "merge_reduced[merge_reduced['Func.refGene'] == 'ncRNA_exonic']"
   ]
  },
  {
   "cell_type": "code",
   "execution_count": null,
   "id": "4028d8cf-d1d4-42ee-887d-1ea33dcb58f7",
   "metadata": {},
   "outputs": [],
   "source": [
    "merge_reduced.shape"
   ]
  },
  {
   "cell_type": "code",
   "execution_count": null,
   "id": "785b953b-fc9d-4236-abc0-79d2376f5d15",
   "metadata": {},
   "outputs": [],
   "source": []
  }
 ],
 "metadata": {
  "kernelspec": {
   "display_name": "python/3.6",
   "language": "python",
   "name": "py3.6"
  },
  "language_info": {
   "codemirror_mode": {
    "name": "ipython",
    "version": 3
   },
   "file_extension": ".py",
   "mimetype": "text/x-python",
   "name": "python",
   "nbconvert_exporter": "python",
   "pygments_lexer": "ipython3",
   "version": "3.6.10"
  }
 },
 "nbformat": 4,
 "nbformat_minor": 5
}
