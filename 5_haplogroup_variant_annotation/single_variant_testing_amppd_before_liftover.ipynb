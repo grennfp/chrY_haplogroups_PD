{
 "cells": [
  {
   "cell_type": "markdown",
   "id": "6d669bf6-fc8c-4e6f-8b6a-b609f40a44b7",
   "metadata": {},
   "source": [
    "# Single Variant Testing \n",
    "- **Author(s)** - Frank Grenn\n",
    "- **Date Started** - August 2021\n",
    "- **Quick Description:** Y chromosome single variant tests using AMPPD data before liftover from hg38 to hg19 was done (to include more variants)."
   ]
  },
  {
   "cell_type": "code",
   "execution_count": null,
   "id": "83a1bfdd-a5b6-4fac-b779-d0ab9c40e3bf",
   "metadata": {},
   "outputs": [],
   "source": [
    "import pandas as pd\n",
    "import seaborn as sns\n",
    "from scipy.stats import pearsonr\n",
    "import matplotlib.pyplot as plt\n",
    "import numpy as np\n",
    "import sys"
   ]
  },
  {
   "cell_type": "code",
   "execution_count": null,
   "id": "58489f6c-7389-4427-91e2-1d2b48bc73dd",
   "metadata": {},
   "outputs": [],
   "source": [
    "WRKDIR = \"$PATH/chrY\""
   ]
  },
  {
   "cell_type": "markdown",
   "id": "5943c37f-fcc1-47a4-a24a-50e8d150fe4b",
   "metadata": {},
   "source": [
    "## Get AMPPD Covariate Data"
   ]
  },
  {
   "cell_type": "code",
   "execution_count": null,
   "id": "38dfdd75-6f1f-40f4-96fe-0bcc47f20e3a",
   "metadata": {},
   "outputs": [],
   "source": [
    "fam = pd.read_csv(f\"{WRKDIR}/y_male_only_bfiles/amppd_case_control_nogcs.fam\",sep=\"\\s+\",header=None)\n",
    "fam.columns = ['fid','iid','pid','mid','sex','pheno']\n",
    "print(fam.shape)\n",
    "print(fam.head())"
   ]
  },
  {
   "cell_type": "code",
   "execution_count": null,
   "id": "88aa3b9f-32bf-4d11-b260-a3d73ff94f44",
   "metadata": {},
   "outputs": [],
   "source": [
    "fam.pheno.value_counts()"
   ]
  },
  {
   "cell_type": "code",
   "execution_count": null,
   "id": "5b43087e-ada5-4de8-a8ae-0dcf1b3dc466",
   "metadata": {},
   "outputs": [],
   "source": [
    "auto_pcs = pd.read_csv(f\"{WRKDIR}/y_male_only_bfiles/amppd_case_control_autosome_pcs.eigenvec\",sep=\"\\s+\",header=None)\n",
    "auto_pcs.columns = ['fid','iid'] + ['pc'+str(n) for n in range(1,21)]\n",
    "print(auto_pcs.shape)\n",
    "print(auto_pcs.head())"
   ]
  },
  {
   "cell_type": "code",
   "execution_count": null,
   "id": "238c21ed-8e46-43a2-97bf-f7b937f4ac44",
   "metadata": {},
   "outputs": [],
   "source": []
  },
  {
   "cell_type": "code",
   "execution_count": null,
   "id": "1a9c7601-1e1f-4701-bd23-68b06731ebce",
   "metadata": {},
   "outputs": [],
   "source": [
    "#check yhaplo haplogroups\n",
    "yhaplo = pd.read_csv(f\"{WRKDIR}/output_male_hemizygous_only_het_filter_run/output_yhaplo/haplogroups.chrY_male_hemizygous_only_het_filter_hg19_final.txt\",sep=\"\\s+\",header=None)\n",
    "yhaplo.columns = ['id','yhaplo_haplo_short','yhaplo_haplo_short_rep_snp','yhaplo_haplo']\n",
    "yhaplo['yhaplo_haplo_major'] = yhaplo['yhaplo_haplo'].str[0]\n",
    "yhaplo['id'] = [i[:len(i)//2] for i in yhaplo.id]\n",
    "#yhaplo = yhaplo[yhaplo['haplo_long']!='A']#assume samples with \"A\" haplogroup were not assigned one.\n",
    "print(yhaplo.shape)\n",
    "print(yhaplo.head())"
   ]
  },
  {
   "cell_type": "code",
   "execution_count": null,
   "id": "4ebed28c-15e6-4ec1-a54d-2ac3a1bd5a9a",
   "metadata": {},
   "outputs": [],
   "source": [
    "#use Ylineagetracker haplogroups since that tool assigned the most unique haplogroups compared to other tools\n",
    "ltrack = pd.read_csv(f\"{WRKDIR}/output_male_hemizygous_only_het_filter_run/output_ltracker/ltrack_hg19.hapresult.hg\",sep=\"\\s+\")\n",
    "ltrack.columns = ['id','ltrack_haplo']#['id','haplo_short','haplo_short_rep_snp','haplo_long']\n",
    "ltrack['ltrack_haplo_major'] = ltrack['ltrack_haplo'].str[0]\n",
    "ltrack['id'] = [i[:len(i)//2] for i in ltrack.id]\n",
    "print(ltrack.shape)\n",
    "print(ltrack.head())\n",
    "print(len(set(ltrack.ltrack_haplo)))"
   ]
  },
  {
   "cell_type": "code",
   "execution_count": null,
   "id": "db1aa41c-588d-4491-94f8-3ae3ddd03f96",
   "metadata": {},
   "outputs": [],
   "source": [
    "meta = pd.read_csv(\"$PATH/AMPPD_releasev2_covariates_Feb2021.csv\")\n",
    "print(meta.shape)\n",
    "print(meta.head())"
   ]
  },
  {
   "cell_type": "code",
   "execution_count": null,
   "id": "2e115afc-52bb-47bb-956b-8e03482883a1",
   "metadata": {},
   "outputs": [],
   "source": [
    "#merge\n",
    "merge1 = pd.merge(left = fam[['fid','iid','sex','pheno']], right = auto_pcs[['fid','iid','pc1','pc2','pc3','pc4','pc5']], left_on = ['fid','iid'], right_on = ['fid','iid'])\n",
    "print(merge1.shape)\n",
    "merge2 = pd.merge(left = merge1, right = meta[['ID','AGE_BASELINE']], left_on = ['fid'], right_on = ['ID'])\n",
    "print(merge2.shape)\n",
    "merge3 = pd.merge(left = merge2, right = ltrack[['id','ltrack_haplo','ltrack_haplo_major']], left_on = ['fid'], right_on = 'id')\n",
    "print(merge3.shape)\n",
    "merge4 = pd.merge(left = merge3, right = yhaplo[['id','yhaplo_haplo','yhaplo_haplo_major']], left_on = ['fid'], right_on = 'id')\n",
    "print(merge4.shape)\n",
    "print(merge4.head())\n",
    "meta_merge = merge4[['fid','iid','pheno','pc1','pc2','pc3','pc4','pc5','AGE_BASELINE','ltrack_haplo','ltrack_haplo_major','yhaplo_haplo','yhaplo_haplo_major']].copy()"
   ]
  },
  {
   "cell_type": "code",
   "execution_count": null,
   "id": "f4db1a31-ff45-4834-a7d7-6d9ef2b73416",
   "metadata": {},
   "outputs": [],
   "source": [
    "meta_merge.loc[meta_merge.yhaplo_haplo_major == meta_merge.ltrack_haplo_major,].shape"
   ]
  },
  {
   "cell_type": "code",
   "execution_count": null,
   "id": "c7fbe22e-2fdc-4d03-a80c-14dbfdd93cf4",
   "metadata": {},
   "outputs": [],
   "source": [
    "meta_merge.loc[meta_merge.yhaplo_haplo_major != meta_merge.ltrack_haplo_major,]"
   ]
  },
  {
   "cell_type": "code",
   "execution_count": null,
   "id": "5fc58ee5-0d13-4241-af68-f04d446e8751",
   "metadata": {},
   "outputs": [],
   "source": [
    "meta_merge.yhaplo_haplo_major.value_counts()"
   ]
  },
  {
   "cell_type": "code",
   "execution_count": null,
   "id": "37ce9e66-7e20-46c8-9839-d8925bd8ea64",
   "metadata": {},
   "outputs": [],
   "source": [
    "meta_merge.ltrack_haplo_major.value_counts()"
   ]
  },
  {
   "cell_type": "code",
   "execution_count": null,
   "id": "2ed611d2-5dd2-4c22-872f-00aae6976977",
   "metadata": {},
   "outputs": [],
   "source": [
    "\n",
    "meta_merge['yhaplo_haplo_major_orig'] = meta_merge['yhaplo_haplo_major']\n",
    "meta_merge = pd.get_dummies(meta_merge, columns = ['yhaplo_haplo_major'])\n",
    "meta_merge['ltrack_haplo_major_orig'] = meta_merge['ltrack_haplo_major']\n",
    "meta_merge = pd.get_dummies(meta_merge, columns = ['ltrack_haplo_major'])\n",
    "print(meta_merge.head())\n",
    "#meta_merge.pheno = meta_merge.pheno - 1"
   ]
  },
  {
   "cell_type": "code",
   "execution_count": null,
   "id": "ceddd48c-b98d-4959-b982-5d4983f1b88e",
   "metadata": {},
   "outputs": [],
   "source": [
    "meta_merge['PHENO_PLINK'] = meta_merge['pheno']-1\n",
    "meta_merge = meta_merge.rename(columns={\"fid\": \"FID\", \"iid\": \"IID\"})\n",
    "print(meta_merge.head())"
   ]
  },
  {
   "cell_type": "code",
   "execution_count": null,
   "id": "3c3abe20-a882-41e5-ad65-1ccea76fb76c",
   "metadata": {},
   "outputs": [],
   "source": [
    "meta_merge['PHENO_PLINK'].value_counts()"
   ]
  },
  {
   "cell_type": "code",
   "execution_count": null,
   "id": "5bf56b1d-53a4-4a17-98de-b332a4ae50c5",
   "metadata": {},
   "outputs": [],
   "source": [
    "meta_merge.dtypes"
   ]
  },
  {
   "cell_type": "code",
   "execution_count": null,
   "id": "cb5f4feb-4fb6-4942-a828-9257f37a2d0a",
   "metadata": {},
   "outputs": [],
   "source": [
    "\",\".join(meta_merge.columns)"
   ]
  },
  {
   "cell_type": "code",
   "execution_count": null,
   "id": "3db5ff45-011f-4eb8-8a99-b63392bb2c49",
   "metadata": {},
   "outputs": [],
   "source": [
    "meta_merge.to_csv(f\"{WRKDIR}/y_male_only_bfiles/amppd_case_control_nogcs_covars.txt\",sep=\"\\t\",index=None)"
   ]
  },
  {
   "cell_type": "markdown",
   "id": "3cabf161-63de-4152-aa4e-893ee611acf7",
   "metadata": {},
   "source": [
    "## Filter SNPs"
   ]
  },
  {
   "cell_type": "markdown",
   "id": "eeb5dc56-1705-4bcf-aeaa-998ffb59ba6b",
   "metadata": {},
   "source": [
    "### try using data with no liftover (hg38)"
   ]
  },
  {
   "cell_type": "markdown",
   "id": "4a78d742-fd6b-471b-bd9d-548845334c25",
   "metadata": {},
   "source": [
    "#### filter out multiallelic variants, deletions/insertions and *"
   ]
  },
  {
   "cell_type": "code",
   "execution_count": null,
   "id": "ee50ffc0-6586-4c7f-a563-b5c05bfb2a0e",
   "metadata": {},
   "outputs": [],
   "source": [
    "snps = pd.read_table(f\"{WRKDIR}/y_male_only_bfiles/amppd_case_control_nogcs_before_liftover.bim\",header=None, names = ['chr','snp','pos','bp','ref','alt'])\n",
    "print(snps.shape)"
   ]
  },
  {
   "cell_type": "code",
   "execution_count": null,
   "id": "2b7e5ab1-916d-4b34-89dc-51066ac2c59d",
   "metadata": {},
   "outputs": [],
   "source": [
    "#remove *\n",
    "snps_filter = snps.loc[(snps.ref!=\"*\") & (snps.alt!=\"*\"),]\n",
    "print(snps_filter.shape)"
   ]
  },
  {
   "cell_type": "code",
   "execution_count": null,
   "id": "404b3327-d584-4ae2-b4e4-610941197984",
   "metadata": {},
   "outputs": [],
   "source": [
    "#remove insertions/deletions\n",
    "snps_filter = snps_filter.loc[(snps_filter.ref.str.len()==1) & (snps_filter.alt.str.len()==1),]\n",
    "print(snps_filter.shape)"
   ]
  },
  {
   "cell_type": "code",
   "execution_count": null,
   "id": "37c3cc21-0882-4c76-9b02-ab3e0346c6ff",
   "metadata": {},
   "outputs": [],
   "source": [
    "#remove multiallelic based on identical BP\n",
    "snps_filter = snps_filter.drop_duplicates(subset = \"bp\", keep = False)\n",
    "print(snps_filter.shape)"
   ]
  },
  {
   "cell_type": "code",
   "execution_count": null,
   "id": "61f1d8ce-67fe-4007-a9bf-c119e8906a5e",
   "metadata": {},
   "outputs": [],
   "source": [
    "print(snps_filter.head())\n",
    "print(snps_filter.tail())"
   ]
  },
  {
   "cell_type": "code",
   "execution_count": null,
   "id": "92dca7f3-8e69-4c70-a7eb-e2b5125f1ee9",
   "metadata": {},
   "outputs": [],
   "source": [
    "len(set(snps_filter.snp))"
   ]
  },
  {
   "cell_type": "code",
   "execution_count": null,
   "id": "f71f8bc6-9776-49b1-b8de-e0ca3d0c7c57",
   "metadata": {},
   "outputs": [],
   "source": [
    "snps_filter[['snp']].to_csv(f\"{WRKDIR}/y_male_only_bfiles/amppd_case_control_nogcs_before_liftover_snps_only.txt\",header=None,index=None)"
   ]
  },
  {
   "cell_type": "markdown",
   "id": "6fc62a57-dac0-4cd9-a97b-3a076e3706c6",
   "metadata": {},
   "source": [
    "#### filter for only the snps we want"
   ]
  },
  {
   "cell_type": "code",
   "execution_count": null,
   "id": "e791c4aa-c7d2-4d9e-917b-866148bbb53c",
   "metadata": {},
   "outputs": [],
   "source": [
    "print(f\"plink --bfile {WRKDIR}/y_male_only_bfiles/amppd_case_control_nogcs_before_liftover \\\n",
    "--extract {WRKDIR}/y_male_only_bfiles/amppd_case_control_nogcs_before_liftover_snps_only.txt \\\n",
    "--make-bed --out {WRKDIR}/y_male_only_bfiles/amppd_case_control_nogcs_before_liftover_snps_only\")"
   ]
  },
  {
   "cell_type": "markdown",
   "id": "4874cb12-d30c-4bf5-96bb-682fd2f21b41",
   "metadata": {},
   "source": [
    "#### do the logistic regression\n"
   ]
  },
  {
   "cell_type": "code",
   "execution_count": null,
   "id": "0cf29454-ea3d-451a-b65d-bb7544e26b50",
   "metadata": {},
   "outputs": [],
   "source": [
    "#,ltrack_haplo_major_E,ltrack_haplo_major_G,ltrack_haplo_major_I,ltrack_haplo_major_J,ltrack_haplo_major_R\n",
    "#,yhaplo_haplo_major_E,yhaplo_haplo_major_G,yhaplo_haplo_major_I,yhaplo_haplo_major_J,yhaplo_haplo_major_R\n",
    "print(f\"plink --bfile {WRKDIR}/y_male_only_bfiles/amppd_case_control_nogcs_before_liftover_snps_only \\\n",
    "--maf 0.05 \\\n",
    "--covar {WRKDIR}/y_male_only_bfiles/amppd_case_control_nogcs_covars.txt \\\n",
    "--covar-name pc1,pc2,pc3,pc4,pc5,AGE_BASELINE,ltrack_haplo_major_G,ltrack_haplo_major_I,ltrack_haplo_major_J \\\n",
    "--pheno {WRKDIR}/y_male_only_bfiles/amppd_case_control_nogcs_covars.txt --pheno-name pheno \\\n",
    "--freq \\\n",
    "--logistic hide-covar --ci 0.95 --out {WRKDIR}/y_male_only_bfiles/amppd_case_control_nogcs_before_liftover_snps_only_logreg\")"
   ]
  },
  {
   "cell_type": "code",
   "execution_count": null,
   "id": "869b7b3a-1ec8-4239-87b2-0395c7584d98",
   "metadata": {},
   "outputs": [],
   "source": [
    "logistic_results = pd.read_table(f\"{WRKDIR}/y_male_only_bfiles/amppd_case_control_nogcs_before_liftover_snps_only_logreg.assoc.logistic\", sep = \"\\s+\")\n",
    "print(logistic_results.shape)\n",
    "print(logistic_results.sort_values(\"P\").head())\n"
   ]
  },
  {
   "cell_type": "code",
   "execution_count": null,
   "id": "63b615bc-3a35-4e4a-8d47-7beee74e10d8",
   "metadata": {},
   "outputs": [],
   "source": []
  },
  {
   "cell_type": "code",
   "execution_count": null,
   "id": "9df06a7f-a89e-4507-a320-5287ceddf1a8",
   "metadata": {},
   "outputs": [],
   "source": [
    "maf = pd.read_csv(f\"{WRKDIR}/y_male_only_bfiles/amppd_case_control_nogcs_before_liftover_snps_only_logreg.frq\",sep = \"\\s+\")\n",
    "print(maf.shape)\n",
    "print(maf.head())"
   ]
  },
  {
   "cell_type": "code",
   "execution_count": null,
   "id": "3bed30e2-6696-4421-b5fa-a36ea863f50c",
   "metadata": {},
   "outputs": [],
   "source": [
    "bim = pd.read_csv(f\"{WRKDIR}/y_male_only_bfiles/amppd_case_control_nogcs_before_liftover.bim\",sep=\"\\s+\",header=None)\n",
    "bim.columns = ['chr','snp','pos','bp','a1','a2']\n",
    "print(bim.shape)\n",
    "print(bim.head())\n",
    "\n"
   ]
  },
  {
   "cell_type": "code",
   "execution_count": null,
   "id": "b1626e48-dc04-4665-8aa7-b0c23334fc86",
   "metadata": {},
   "outputs": [],
   "source": [
    "snp_mafs = pd.merge(left = maf, right = bim, left_on = ['SNP','A1'],right_on = ['snp','a1'])\n",
    "snp_mafs = snp_mafs[['CHR','SNP','bp','a1','a2','MAF']]\n",
    "print(snp_mafs.shape)\n",
    "print(snp_mafs.head())"
   ]
  },
  {
   "cell_type": "code",
   "execution_count": null,
   "id": "afc2b141-dc3f-4de4-a042-800fe88e2a77",
   "metadata": {},
   "outputs": [],
   "source": [
    "logistic_merge = pd.merge(left = logistic_results, right = snp_mafs[['SNP','bp','a1','a2','MAF']], left_on = ['SNP','BP','A1'],right_on = ['SNP','bp','a1'])\n",
    "logistic_merge = logistic_merge[['CHR','SNP','BP','a1','a2','MAF','TEST','NMISS','OR','SE','L95','U95','STAT','P']]\n",
    "print(logistic_merge.dtypes)\n",
    "logistic_merge['CHR_BP_A1_A2'] = logistic_merge['CHR'].astype(str)+\"_\"+logistic_merge['BP'].astype(str)+\"_\"+logistic_merge['a1'].astype(str)+\"_\"+logistic_merge['a2'].astype(str)\n",
    "print(logistic_merge.shape)\n",
    "print(logistic_merge.head())\n"
   ]
  },
  {
   "cell_type": "code",
   "execution_count": null,
   "id": "4f168351-a996-4957-8e4f-95286877dae2",
   "metadata": {},
   "outputs": [],
   "source": [
    "logistic_merge_filter = logistic_merge.copy()"
   ]
  },
  {
   "cell_type": "code",
   "execution_count": null,
   "id": "e30607a0-5175-4fdc-b4a9-2a3e34b53388",
   "metadata": {},
   "outputs": [],
   "source": []
  },
  {
   "cell_type": "markdown",
   "id": "bdb8244e-0518-4d4b-8392-ddf5c6abb6bc",
   "metadata": {},
   "source": [
    "#### annotate"
   ]
  },
  {
   "cell_type": "code",
   "execution_count": null,
   "id": "e777d184-fea0-4058-9853-fc083c54ac86",
   "metadata": {},
   "outputs": [],
   "source": [
    "avinput = logistic_merge_filter.copy()\n",
    "avinput['chr']='Y'\n",
    "avinput['start'] = avinput['CHR_BP_A1_A2'].str.split(\"_\").str[1].astype('int32')\n",
    "avinput['ref'] = avinput['CHR_BP_A1_A2'].str.split(\"_\").str[2]\n",
    "avinput['alt'] = avinput['CHR_BP_A1_A2'].str.split(\"_\").str[3]\n",
    "\n",
    "#need to adjust end positions for ref alleles with more than one nucleotide\n",
    "avinput['end'] = avinput['start'] + avinput['ref'].str.len()-1\n",
    "#replace * with - for annovar syntax\n",
    "avinput['ref'] = avinput['ref'].replace('*','-')\n",
    "avinput['alt'] = avinput['alt'].replace('*','-')\n",
    "\n",
    "\n",
    "avinput = avinput[['chr','start','end','ref','alt','CHR_BP_A1_A2']]\n",
    "avinput.columns = ['chr','start','end','ref','alt','snp']\n",
    "\n",
    "print(avinput.shape)\n",
    "print(avinput.head())\n",
    "avinput.to_csv(f\"{WRKDIR}/amppd_case_control_before_liftover_filter_alleles.avinput\",index=None, sep = \"\\t\")"
   ]
  },
  {
   "cell_type": "code",
   "execution_count": null,
   "id": "26235852-9088-442c-8b3b-1e14db868236",
   "metadata": {},
   "outputs": [],
   "source": [
    "print(f\"table_annovar.pl {WRKDIR}/amppd_case_control_before_liftover_filter_alleles.avinput $ANNOVAR_DATA/hg38/ -buildver hg38 --thread 16  -out {WRKDIR}/amppd_case_control_before_liftover_filter_alleles.annovar  -remove -protocol avsnp150,refGene,ensGene,gnomad211_genome  -operation f,g,g,f  -nastring .\")\n"
   ]
  },
  {
   "cell_type": "code",
   "execution_count": null,
   "id": "e25dd637-ce45-45fb-848a-8766c9d3c46f",
   "metadata": {},
   "outputs": [],
   "source": [
    "anno = pd.read_table(f\"{WRKDIR}/amppd_case_control_before_liftover_filter_alleles.annovar.hg38_multianno.txt\").drop_duplicates()\n",
    "anno = anno.iloc[1:len(anno.index),:]\n",
    "anno = anno.astype({'Start': 'int64'})\n",
    "\n",
    "anno['Ref'] = anno['Ref'].replace('-','*')\n",
    "anno['Alt'] = anno['Alt'].replace('-','*')\n",
    "anno['CHR_BP_A1_A2'] = \"24_\"+anno['Start'].astype(str)+\"_\"+anno['Ref'].astype(str)+\"_\"+anno['Alt'].astype(str)\n",
    "\n",
    "\n",
    "#print(metal_anno.dtypes)\n",
    "print(anno.shape)\n",
    "print(anno.head())"
   ]
  },
  {
   "cell_type": "code",
   "execution_count": null,
   "id": "fa1d9b76-3f77-4b4a-aef9-6e94243ef9c1",
   "metadata": {},
   "outputs": [],
   "source": [
    "#merge\n",
    "merge_filter = pd.merge(left = logistic_merge_filter, right = anno[['CHR_BP_A1_A2','avsnp150','Func.refGene','Gene.refGene','GeneDetail.refGene','ExonicFunc.refGene']], on  = \"CHR_BP_A1_A2\")\n",
    "print(merge_filter.shape)\n",
    "print(merge_filter.head())"
   ]
  },
  {
   "cell_type": "code",
   "execution_count": null,
   "id": "827c40f5-8f6b-4cf3-88fa-138c5526ab25",
   "metadata": {},
   "outputs": [],
   "source": [
    "merge_filter.sort_values(\"P\").to_csv(f\"{WRKDIR}/y_male_only_bfiles/amppd_case_control_nogcs_before_liftover_logreg_filter_alleles_new_annotated.assoc.logistic\",index=None,sep=\"\\t\")"
   ]
  },
  {
   "cell_type": "code",
   "execution_count": null,
   "id": "1c835337-aca0-4ae7-8f1f-53bab3182abb",
   "metadata": {},
   "outputs": [],
   "source": []
  }
 ],
 "metadata": {
  "kernelspec": {
   "display_name": "python/3.6",
   "language": "python",
   "name": "py3.6"
  },
  "language_info": {
   "codemirror_mode": {
    "name": "ipython",
    "version": 3
   },
   "file_extension": ".py",
   "mimetype": "text/x-python",
   "name": "python",
   "nbconvert_exporter": "python",
   "pygments_lexer": "ipython3",
   "version": "3.6.10"
  }
 },
 "nbformat": 4,
 "nbformat_minor": 5
}
