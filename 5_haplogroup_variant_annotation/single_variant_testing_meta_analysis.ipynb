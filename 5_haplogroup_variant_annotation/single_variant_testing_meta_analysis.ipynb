{
 "cells": [
  {
   "cell_type": "markdown",
   "id": "6d669bf6-fc8c-4e6f-8b6a-b609f40a44b7",
   "metadata": {},
   "source": [
    "# Single Variant Testing \n",
    "- **Author(s)** - Frank Grenn\n",
    "- **Date Started** - August 2021\n",
    "- **Quick Description:** Y chromosome single variant tests using plink and metal."
   ]
  },
  {
   "cell_type": "code",
   "execution_count": null,
   "id": "83a1bfdd-a5b6-4fac-b779-d0ab9c40e3bf",
   "metadata": {},
   "outputs": [],
   "source": [
    "import pandas as pd\n",
    "import seaborn as sns\n",
    "from scipy.stats import pearsonr\n",
    "import matplotlib.pyplot as plt\n",
    "import numpy as np\n",
    "import sys"
   ]
  },
  {
   "cell_type": "code",
   "execution_count": null,
   "id": "58489f6c-7389-4427-91e2-1d2b48bc73dd",
   "metadata": {},
   "outputs": [],
   "source": [
    "WRKDIR = \"$PATH/chrY\""
   ]
  },
  {
   "cell_type": "markdown",
   "id": "5943c37f-fcc1-47a4-a24a-50e8d150fe4b",
   "metadata": {},
   "source": [
    "## AMP-PD PD Case Control"
   ]
  },
  {
   "cell_type": "markdown",
   "id": "3abc78b7-54f3-457a-a095-8b4f916df00f",
   "metadata": {},
   "source": [
    "### try with data from liftover to hg19"
   ]
  },
  {
   "cell_type": "code",
   "execution_count": null,
   "id": "38dfdd75-6f1f-40f4-96fe-0bcc47f20e3a",
   "metadata": {},
   "outputs": [],
   "source": [
    "fam = pd.read_csv(f\"{WRKDIR}/y_male_only_bfiles/amppd_case_control_nogcs.fam\",sep=\"\\s+\",header=None)\n",
    "fam.columns = ['fid','iid','pid','mid','sex','pheno']\n",
    "print(fam.shape)\n",
    "print(fam.head())"
   ]
  },
  {
   "cell_type": "code",
   "execution_count": null,
   "id": "88aa3b9f-32bf-4d11-b260-a3d73ff94f44",
   "metadata": {},
   "outputs": [],
   "source": [
    "fam.pheno.value_counts()"
   ]
  },
  {
   "cell_type": "code",
   "execution_count": null,
   "id": "5b43087e-ada5-4de8-a8ae-0dcf1b3dc466",
   "metadata": {},
   "outputs": [],
   "source": [
    "auto_pcs = pd.read_csv(f\"{WRKDIR}/y_male_only_bfiles/amppd_case_control_autosome_pcs.eigenvec\",sep=\"\\s+\",header=None)\n",
    "auto_pcs.columns = ['fid','iid'] + ['pc'+str(n) for n in range(1,21)]\n",
    "print(auto_pcs.shape)\n",
    "print(auto_pcs.head())"
   ]
  },
  {
   "cell_type": "code",
   "execution_count": null,
   "id": "238c21ed-8e46-43a2-97bf-f7b937f4ac44",
   "metadata": {},
   "outputs": [],
   "source": []
  },
  {
   "cell_type": "code",
   "execution_count": null,
   "id": "1a9c7601-1e1f-4701-bd23-68b06731ebce",
   "metadata": {},
   "outputs": [],
   "source": [
    "#check yhaplo haplogroups\n",
    "yhaplo = pd.read_csv(f\"{WRKDIR}/output_male_hemizygous_only_het_filter_run/output_yhaplo/haplogroups.chrY_male_hemizygous_only_het_filter_hg19_final.txt\",sep=\"\\s+\",header=None)\n",
    "yhaplo.columns = ['id','haplo_short','haplo_short_rep_snp','haplo']\n",
    "yhaplo['haplo_major'] = yhaplo['haplo'].str[0]\n",
    "yhaplo['id'] = [i[:len(i)//2] for i in yhaplo.id]\n",
    "#yhaplo = yhaplo[yhaplo['haplo_long']!='A']#assume samples with \"A\" haplogroup were not assigned one.\n",
    "print(yhaplo.shape)\n",
    "print(yhaplo.head())"
   ]
  },
  {
   "cell_type": "code",
   "execution_count": null,
   "id": "4ebed28c-15e6-4ec1-a54d-2ac3a1bd5a9a",
   "metadata": {},
   "outputs": [],
   "source": [
    "#use Ylineagetracker haplogroups since that tool assigned the most unique haplogroups compared to other tools\n",
    "ltrack = pd.read_csv(f\"{WRKDIR}/output_male_hemizygous_only_het_filter_run/output_ltracker/ltrack_hg19.hapresult.hg\",sep=\"\\s+\")\n",
    "ltrack.columns = ['id','haplo']#['id','haplo_short','haplo_short_rep_snp','haplo_long']\n",
    "ltrack['haplo_major'] = ltrack['haplo'].str[0]\n",
    "ltrack['id'] = [i[:len(i)//2] for i in ltrack.id]\n",
    "print(ltrack.shape)\n",
    "print(ltrack.head())\n",
    "print(len(set(ltrack.haplo)))"
   ]
  },
  {
   "cell_type": "code",
   "execution_count": null,
   "id": "db1aa41c-588d-4491-94f8-3ae3ddd03f96",
   "metadata": {},
   "outputs": [],
   "source": [
    "meta = pd.read_csv(\"$PATH/AMPPD_releasev2_covariates_Feb2021.csv\")\n",
    "print(meta.shape)\n",
    "print(meta.head())"
   ]
  },
  {
   "cell_type": "code",
   "execution_count": null,
   "id": "2e115afc-52bb-47bb-956b-8e03482883a1",
   "metadata": {},
   "outputs": [],
   "source": [
    "#merge\n",
    "merge1 = pd.merge(left = fam[['fid','iid','sex','pheno']], right = auto_pcs[['fid','iid','pc1','pc2','pc3','pc4','pc5']], left_on = ['fid','iid'], right_on = ['fid','iid'])\n",
    "print(merge1.shape)\n",
    "merge2 = pd.merge(left = merge1, right = meta[['ID','AGE_BASELINE']], left_on = ['fid'], right_on = ['ID'])\n",
    "print(merge2.shape)\n",
    "merge3 = pd.merge(left = merge2, right = ltrack[['id','haplo_major']], left_on = ['fid'], right_on = 'id')\n",
    "print(merge3.shape)\n",
    "print(merge3.head())\n",
    "meta_merge = merge3[['fid','iid','pheno','pc1','pc2','pc3','pc4','pc5','AGE_BASELINE','haplo_major']].copy()"
   ]
  },
  {
   "cell_type": "code",
   "execution_count": null,
   "id": "2ed611d2-5dd2-4c22-872f-00aae6976977",
   "metadata": {},
   "outputs": [],
   "source": [
    "\n",
    "meta_merge['haplo_major_orig'] = meta_merge['haplo_major']\n",
    "meta_merge = pd.get_dummies(meta_merge, columns = ['haplo_major'])\n",
    "print(meta_merge.head())\n",
    "#meta_merge.pheno = meta_merge.pheno - 1"
   ]
  },
  {
   "cell_type": "code",
   "execution_count": null,
   "id": "ceddd48c-b98d-4959-b982-5d4983f1b88e",
   "metadata": {},
   "outputs": [],
   "source": [
    "meta_merge['PHENO_PLINK'] = meta_merge['pheno']-1\n",
    "meta_merge = meta_merge.rename(columns={\"fid\": \"FID\", \"iid\": \"IID\"})\n",
    "print(meta_merge.head())"
   ]
  },
  {
   "cell_type": "code",
   "execution_count": null,
   "id": "3c3abe20-a882-41e5-ad65-1ccea76fb76c",
   "metadata": {},
   "outputs": [],
   "source": [
    "meta_merge['PHENO_PLINK'].value_counts()"
   ]
  },
  {
   "cell_type": "code",
   "execution_count": null,
   "id": "5bf56b1d-53a4-4a17-98de-b332a4ae50c5",
   "metadata": {},
   "outputs": [],
   "source": [
    "meta_merge.dtypes"
   ]
  },
  {
   "cell_type": "code",
   "execution_count": null,
   "id": "69c0d991-b2e6-4e1f-844d-fe17577ddd4c",
   "metadata": {
    "tags": []
   },
   "outputs": [],
   "source": [
    "#check pc haplogroup correlations\n",
    "#corrs= np.corrcoef(meta_merge[['pc1','pc2','pc3','pc4','pc5','haplo_major_A','haplo_major_B','haplo_major_C','haplo_major_E','haplo_major_G','haplo_major_H','haplo_major_I','haplo_major_J','haplo_major_L','haplo_major_N','haplo_major_Q','haplo_major_R','haplo_major_T']].T)\n",
    "corrs= np.corrcoef(meta_merge[['pc1','pc2','pc3','pc4','pc5','haplo_major_A','haplo_major_C','haplo_major_E','haplo_major_G','haplo_major_H','haplo_major_I','haplo_major_J','haplo_major_K','haplo_major_L','haplo_major_N','haplo_major_Q','haplo_major_R','haplo_major_T']].T)\n",
    "corrdf = pd.DataFrame(corrs)\n",
    "corrdf.columns = ['pc1','pc2','pc3','pc4','pc5','haplo_major_A','haplo_major_C','haplo_major_E','haplo_major_G','haplo_major_H','haplo_major_I','haplo_major_J','haplo_major_K','haplo_major_L','haplo_major_N','haplo_major_Q','haplo_major_R','haplo_major_T']\n",
    "corrdf.index = ['pc1','pc2','pc3','pc4','pc5','haplo_major_A','haplo_major_C','haplo_major_E','haplo_major_G','haplo_major_H','haplo_major_I','haplo_major_J','haplo_major_K','haplo_major_L','haplo_major_N','haplo_major_Q','haplo_major_R','haplo_major_T']\n",
    "corrdf"
   ]
  },
  {
   "cell_type": "code",
   "execution_count": null,
   "id": "cb5f4feb-4fb6-4942-a828-9257f37a2d0a",
   "metadata": {},
   "outputs": [],
   "source": [
    "\",\".join(meta_merge.columns)"
   ]
  },
  {
   "cell_type": "code",
   "execution_count": null,
   "id": "3db5ff45-011f-4eb8-8a99-b63392bb2c49",
   "metadata": {},
   "outputs": [],
   "source": [
    "meta_merge.to_csv(f\"{WRKDIR}/y_male_only_bfiles/amppd_case_control_nogcs_covars.txt\",sep=\"\\t\",index=None)"
   ]
  },
  {
   "cell_type": "code",
   "execution_count": null,
   "id": "06cec28b-2c08-4ae9-9e96-3639b579c21b",
   "metadata": {},
   "outputs": [],
   "source": [
    "meta_merge.pheno.value_counts()"
   ]
  },
  {
   "cell_type": "code",
   "execution_count": null,
   "id": "94c3827d-f11f-4906-a21d-85c548ade98f",
   "metadata": {},
   "outputs": [],
   "source": [
    "meta_merge.haplo_major_orig.value_counts()"
   ]
  },
  {
   "cell_type": "code",
   "execution_count": null,
   "id": "19b76141-be08-4f3e-993e-664b38daf218",
   "metadata": {},
   "outputs": [],
   "source": [
    "print(f\"plink --bfile {WRKDIR}/y_male_only_bfiles/amppd_case_control_nogcs \\\n",
    "--maf 0.05 \\\n",
    "--covar {WRKDIR}/y_male_only_bfiles/amppd_case_control_nogcs_covars.txt \\\n",
    "--covar-name pc1,pc2,pc3,pc4,pc5,AGE_BASELINE,haplo_major_E,haplo_major_G,haplo_major_I,haplo_major_J,haplo_major_R \\\n",
    "--pheno {WRKDIR}/y_male_only_bfiles/amppd_case_control_nogcs_covars.txt --pheno-name pheno \\\n",
    "--freq \\\n",
    "--logistic hide-covar --ci 0.95 --out {WRKDIR}/y_male_only_bfiles/amppd_case_control_nogcs_logreg\")"
   ]
  },
  {
   "cell_type": "code",
   "execution_count": null,
   "id": "22d4cfa6-cd1f-425e-a746-38501088e4c6",
   "metadata": {},
   "outputs": [],
   "source": [
    "logistic = pd.read_csv(f\"{WRKDIR}/y_male_only_bfiles/amppd_case_control_nogcs_logreg.assoc.logistic\",sep = \"\\s+\").sort_values(\"P\")\n",
    "\n",
    "print(logistic.shape)\n",
    "print(logistic.head())\n",
    "print(logistic.tail())\n",
    "logistic = logistic.dropna()\n",
    "print(logistic.shape)\n",
    "print(logistic[(logistic['P']!=0)].shape)\n",
    "print(logistic[(logistic['P']!=0) & (logistic['P']<0.05)].shape)"
   ]
  },
  {
   "cell_type": "code",
   "execution_count": null,
   "id": "084f51f8-3773-48ff-b0ef-ce3f1967e8f3",
   "metadata": {},
   "outputs": [],
   "source": [
    "maf = pd.read_csv(f\"{WRKDIR}/y_male_only_bfiles/amppd_case_control_nogcs_logreg.frq\",sep = \"\\s+\")\n",
    "print(maf.shape)\n",
    "print(maf.head())"
   ]
  },
  {
   "cell_type": "code",
   "execution_count": null,
   "id": "10d8e6f5-a54b-4924-a34d-9072c36f4bfc",
   "metadata": {},
   "outputs": [],
   "source": [
    "bim = pd.read_csv(f\"{WRKDIR}/y_male_only_bfiles/amppd_case_control_nogcs.bim\",sep=\"\\s+\",header=None)\n",
    "bim.columns = ['chr','snp','pos','bp','a1','a2']\n",
    "print(bim.shape)\n",
    "print(bim.head())\n",
    "print(logistic.shape)\n",
    "\n",
    "logistic_merge = pd.merge(left = maf, right = bim, left_on = ['SNP','A1'],right_on = ['snp','a1'])\n",
    "logistic_merge = logistic_merge[['CHR','SNP','bp','a1','a2','MAF']]\n",
    "print(logistic_merge.shape)\n",
    "print(logistic_merge.head())\n",
    "\n",
    "logistic_merge = pd.merge(left = logistic, right = logistic_merge[['SNP','bp','a1','a2','MAF']], left_on = ['SNP','BP','A1'],right_on = ['SNP','bp','a1'])\n",
    "logistic_merge = logistic_merge[['CHR','SNP','BP','a1','a2','MAF','TEST','NMISS','OR','SE','L95','U95','STAT','P']]\n",
    "print(logistic_merge.dtypes)\n",
    "logistic_merge['CHR_BP_A1_A2'] = logistic_merge['CHR'].astype(str)+\"_\"+logistic_merge['BP'].astype(str)+\"_\"+logistic_merge['a1'].astype(str)+\"_\"+logistic_merge['a2'].astype(str)\n",
    "print(logistic_merge.shape)\n",
    "print(logistic_merge.head())\n",
    "\n",
    "logistic_merge.to_csv(f\"{WRKDIR}/y_male_only_bfiles/amppd_case_control_nogcs_logreg_filter.assoc.logistic\",index=None,sep=\"\\t\")"
   ]
  },
  {
   "cell_type": "code",
   "execution_count": null,
   "id": "e142ceb8-b6dd-4dab-bf7e-704bac752e28",
   "metadata": {},
   "outputs": [],
   "source": [
    "#check for duplicates\n",
    "logistic_merge[logistic_merge.duplicated(subset = 'CHR_BP_A1_A2',keep=False)].sort_values('CHR_BP_A1_A2')"
   ]
  },
  {
   "cell_type": "code",
   "execution_count": null,
   "id": "0f65a7ae-4eb0-45b9-af10-ecd68c354c66",
   "metadata": {},
   "outputs": [],
   "source": [
    "#remove duplicates\n",
    "logistic_merge_edit = logistic_merge.drop_duplicates(subset = 'CHR_BP_A1_A2',keep=False)\n",
    "logistic_merge_edit = logistic_merge.loc[logistic_merge.OR!=float('inf'),]\n",
    "\n",
    "logistic_merge_edit.to_csv(f\"{WRKDIR}/y_male_only_bfiles/amppd_case_control_nogcs_logreg_filter.assoc.logistic\",index=None,sep=\"\\t\")"
   ]
  },
  {
   "cell_type": "markdown",
   "id": "572d50ad-e948-4c43-84ec-a48dcdb97086",
   "metadata": {},
   "source": [
    "## AMP-PD LBD Case Control"
   ]
  },
  {
   "cell_type": "code",
   "execution_count": null,
   "id": "34b5bac5-2f6e-4947-addb-876d84324e7c",
   "metadata": {
    "tags": []
   },
   "outputs": [],
   "source": [
    "fam = pd.read_csv(f\"{WRKDIR}/y_male_only_bfiles/amppd_lbd_case_control_nogcs.fam\",sep=\"\\s+\",header=None)\n",
    "fam.columns = ['fid','iid','pid','mid','sex','pheno']\n",
    "print(fam.shape)\n",
    "print(fam.head())\n",
    "\n",
    "fam.loc[fam['pheno']==-9,'pheno']=2\n",
    "\n",
    "auto_pcs = pd.read_csv(f\"{WRKDIR}/y_male_only_bfiles/amppd_lbd_case_control_autosome_pcs.eigenvec\",sep=\"\\s+\",header=None)\n",
    "auto_pcs.columns = ['fid','iid'] + ['pc'+str(n) for n in range(1,21)]\n",
    "print(auto_pcs.shape)\n",
    "print(auto_pcs.head())\n",
    "\n",
    "#just get yhaplo data for now because first character of haplogroup for all samples is the same between the yhaplo and snappy tools\n",
    "yhaplo = pd.read_csv(f\"{WRKDIR}/output_male_hemizygous_only_het_filter_run/output_yhaplo/haplogroups.chrY_male_hemizygous_only_het_filter_hg19_final.txt\",sep=\"\\s+\",header=None)\n",
    "yhaplo.columns = ['id','haplo_short','haplo_short_rep_snp','haplo']\n",
    "yhaplo['haplo_major'] = yhaplo['haplo'].str[0]\n",
    "yhaplo['id'] = [i[:len(i)//2] for i in yhaplo.id]\n",
    "#yhaplo = yhaplo[yhaplo['haplo_long']!='A']#assume samples with \"A\" haplogroup were not assigned one.\n",
    "print(yhaplo.shape)\n",
    "print(yhaplo.head())\n",
    "\n",
    "meta = pd.read_csv(\"$PATH/AMPPD_releasev2_covariates_Feb2021.csv\")\n",
    "print(meta.shape)\n",
    "print(meta.head())\n",
    "\n",
    "\n",
    "#merge\n",
    "merge1 = pd.merge(left = fam[['fid','iid','sex','pheno']], right = auto_pcs[['fid','iid','pc1','pc2','pc3','pc4','pc5']], left_on = ['fid','iid'], right_on = ['fid','iid'])\n",
    "print(merge1.shape)\n",
    "merge2 = pd.merge(left = merge1, right = meta[['ID','AGE_BASELINE']], left_on = ['fid'], right_on = ['ID'])\n",
    "print(merge2.shape)\n",
    "merge3 = pd.merge(left = merge2, right = yhaplo[['id','haplo_major']], left_on = ['fid'], right_on = 'id')\n",
    "print(merge3.shape)\n",
    "print(merge3.head())\n",
    "meta_merge = merge3[['fid','iid','pheno','pc1','pc2','pc3','pc4','pc5','AGE_BASELINE','haplo_major']].copy()\n",
    "\n",
    "\n",
    "meta_merge['haplo_major_orig'] = meta_merge['haplo_major']\n",
    "meta_merge = pd.get_dummies(meta_merge, columns = ['haplo_major'])\n",
    "print(meta_merge.head())\n",
    "#meta_merge.pheno = meta_merge.pheno - 1\n",
    "\n",
    "meta_merge['PHENO_PLINK'] = meta_merge['pheno']-1\n",
    "meta_merge = meta_merge.rename(columns={\"fid\": \"FID\", \"iid\": \"IID\"})\n",
    "print(meta_merge.head())\n",
    "\n",
    "#check pc haplogroup correlations\n",
    "corrs= np.corrcoef(meta_merge[['pc1','pc2','pc3','pc4','pc5','haplo_major_C','haplo_major_E','haplo_major_G','haplo_major_H','haplo_major_I','haplo_major_J','haplo_major_L','haplo_major_N','haplo_major_Q','haplo_major_R','haplo_major_T']].T)\n",
    "corrdf = pd.DataFrame(corrs)\n",
    "corrdf.columns = ['pc1','pc2','pc3','pc4','pc5','haplo_major_C','haplo_major_E','haplo_major_G','haplo_major_H','haplo_major_I','haplo_major_J','haplo_major_L','haplo_major_N','haplo_major_Q','haplo_major_R','haplo_major_T']\n",
    "corrdf.index = ['pc1','pc2','pc3','pc4','pc5','haplo_major_C','haplo_major_E','haplo_major_G','haplo_major_H','haplo_major_I','haplo_major_J','haplo_major_L','haplo_major_N','haplo_major_Q','haplo_major_R','haplo_major_T']\n",
    "corrdf\n",
    "\n",
    "print(meta_merge.pheno.value_counts())\n",
    "meta_merge.to_csv(f\"{WRKDIR}/y_male_only_bfiles/amppd_lbd_case_control_nogcs_covars.txt\",sep=\"\\t\",index=None)"
   ]
  },
  {
   "cell_type": "code",
   "execution_count": null,
   "id": "c6495428-2cbd-4c05-816b-48ff78f2b3cc",
   "metadata": {},
   "outputs": [],
   "source": [
    "corrdf"
   ]
  },
  {
   "cell_type": "code",
   "execution_count": null,
   "id": "382b4208-496d-45f5-811f-41f72cea2e18",
   "metadata": {},
   "outputs": [],
   "source": [
    "meta_merge['haplo_major_orig'].value_counts()"
   ]
  },
  {
   "cell_type": "code",
   "execution_count": null,
   "id": "874ab48e-0683-4646-b48c-6615d2b7abb1",
   "metadata": {},
   "outputs": [],
   "source": [
    "print(f\"plink --bfile {WRKDIR}/y_male_only_bfiles/amppd_lbd_case_control_nogcs \\\n",
    "--maf 0.05 \\\n",
    "--covar {WRKDIR}/y_male_only_bfiles/amppd_lbd_case_control_nogcs_covars.txt \\\n",
    "--covar-name pc1,pc2,pc3,pc4,pc5,AGE_BASELINE,haplo_major_E,haplo_major_G,haplo_major_I,haplo_major_J,haplo_major_R \\\n",
    "--pheno {WRKDIR}/y_male_only_bfiles/amppd_lbd_case_control_nogcs_covars.txt --pheno-name pheno \\\n",
    "--freq \\\n",
    "--logistic hide-covar --ci 0.95 --out {WRKDIR}/y_male_only_bfiles/amppd_lbd_case_control_nogcs_logreg\")"
   ]
  },
  {
   "cell_type": "code",
   "execution_count": null,
   "id": "7e4b03c2-3b5f-4586-a1a9-f21cd1ac008c",
   "metadata": {},
   "outputs": [],
   "source": [
    "log_lbd = pd.read_csv(f\"{WRKDIR}/y_male_only_bfiles/amppd_lbd_case_control_nogcs_logreg.assoc.logistic\",sep = \"\\s+\").sort_values(\"P\")\n",
    "\n",
    "print(log_lbd.shape)\n",
    "print(log_lbd.head())\n",
    "\n",
    "log_lbd = log_lbd.dropna()\n",
    "print(log_lbd.shape)\n",
    "\n",
    "print(log_lbd[(log_lbd['P']!=0)].shape)\n",
    "print(log_lbd[(log_lbd['P']!=0) & (log_lbd['P']<0.05)].shape)"
   ]
  },
  {
   "cell_type": "code",
   "execution_count": null,
   "id": "cc8a0d88-1f6a-41a4-bc1e-3148dd22b6a6",
   "metadata": {},
   "outputs": [],
   "source": [
    "maf = pd.read_csv(f\"{WRKDIR}/y_male_only_bfiles/amppd_lbd_case_control_nogcs_logreg.frq\",sep = \"\\s+\")\n",
    "print(maf.shape)\n",
    "print(maf.head())"
   ]
  },
  {
   "cell_type": "code",
   "execution_count": null,
   "id": "c75dafbe-9f18-43d9-a360-e79d52c16bab",
   "metadata": {},
   "outputs": [],
   "source": [
    "bim = pd.read_csv(f\"{WRKDIR}/y_male_only_bfiles/amppd_lbd_case_control_nogcs.bim\",sep=\"\\s+\",header=None)\n",
    "bim.columns = ['chr','snp','pos','bp','a1','a2']\n",
    "print(bim.shape)\n",
    "print(bim.head())\n",
    "\n",
    "log_lbd_merge = pd.merge(left = maf, right = bim, left_on = ['SNP','A1'],right_on = ['snp','a1'])\n",
    "log_lbd_merge = log_lbd_merge[['CHR','SNP','bp','a1','a2','MAF']]\n",
    "print(log_lbd_merge.shape)\n",
    "print(log_lbd_merge.head())\n",
    "\n",
    "log_lbd_merge = pd.merge(left = log_lbd, right = log_lbd_merge[['SNP','bp','a1','a2','MAF']], left_on = ['SNP','BP','A1'],right_on = ['SNP','bp','a1'])\n",
    "log_lbd_merge = log_lbd_merge[['CHR','SNP','BP','a1','a2','MAF','TEST','NMISS','OR','SE','L95','U95','STAT','P']]\n",
    "print(log_lbd_merge.shape)\n",
    "print(log_lbd_merge.head())\n",
    "\n",
    "log_lbd_merge['CHR_BP_A1_A2'] = log_lbd_merge['CHR'].astype(str)+\"_\"+log_lbd_merge['BP'].astype(str)+\"_\"+log_lbd_merge['a1'].astype(str)+\"_\"+log_lbd_merge['a2'].astype(str)\n",
    "\n",
    "log_lbd_merge.to_csv(f\"{WRKDIR}/y_male_only_bfiles/amppd_lbd_case_control_nogcs_logreg_filter.assoc.logistic\",index=None,sep=\"\\t\")"
   ]
  },
  {
   "cell_type": "markdown",
   "id": "41fe8dd7-5a66-4a84-948c-83428da9a1f0",
   "metadata": {},
   "source": [
    "## NeuroX"
   ]
  },
  {
   "cell_type": "code",
   "execution_count": null,
   "id": "fbf5b8f6-26a6-447e-a90b-2a5ad17926ba",
   "metadata": {
    "tags": []
   },
   "outputs": [],
   "source": [
    "fam = pd.read_csv(f\"{WRKDIR}/y_neurox/neurox_chrY_male_only.fam\",sep=\"\\s+\",header=None)\n",
    "fam.columns = ['fid','iid','pid','mid','sex','pheno']\n",
    "print(fam.shape)\n",
    "print(fam.head())\n",
    "\n",
    "auto_pcs = pd.read_csv(f\"{WRKDIR}/y_neurox/neurox_case_control_allchr_pruned_pcs.eigenvec\",sep=\"\\s+\",header=None)\n",
    "auto_pcs.columns = ['fid','iid'] + ['pc'+str(n) for n in range(1,21)]\n",
    "print(auto_pcs.shape)\n",
    "print(auto_pcs.head())\n",
    "\n",
    "\n",
    "#yhaplo = pd.read_csv(f\"{WRKDIR}/output_neurox/yhaplo_output/haplogroups.neurox_chrY_male_only.txt\",sep=\"\\s+\",header=None)\n",
    "#yhaplo.columns = ['id','haplo_short','haplo_short_rep_snp','haplo']\n",
    "#yhaplo['haplo_major'] = yhaplo['haplo'].str[0]\n",
    "#yhaplo['id'] = [i[:len(i)//2] for i in yhaplo.id]\n",
    "#print(yhaplo.shape)\n",
    "#print(yhaplo.head())\n",
    "\n",
    "\n",
    "#use Ylineagetracker haplogroups since that tool assigned the most unique haplogroups compared to other tools\n",
    "ltrack = pd.read_csv(f\"{WRKDIR}/output_neurox/ltrack_neurox_hg19.hapresult.hg\",sep=\"\\s+\")\n",
    "ltrack.columns = ['id','haplo']\n",
    "ltrack['haplo_major'] = ltrack['haplo'].str[0]\n",
    "ltrack.loc[ltrack.haplo==\".\",\"haplo\"] = \"no_match\"\n",
    "ltrack.loc[ltrack.haplo_major==\".\",\"haplo_major\"] = \"no_match\"\n",
    "ltrack['id'] = [i[:len(i)//2] for i in ltrack.id]\n",
    "print(ltrack.shape)\n",
    "print(ltrack.head())\n",
    "print(len(set(ltrack.haplo)))\n",
    "\n",
    "meta = pd.read_table(\"$PATH/IPDGC_all_samples_covariates.txt\")\n",
    "print(meta.shape)\n",
    "print(meta.head())\n",
    "\n",
    "\n",
    "#merge\n",
    "merge1 = pd.merge(left = fam[['fid','iid','sex','pheno']], right = auto_pcs[['fid','iid','pc1','pc2','pc3','pc4','pc5']], left_on = ['fid','iid'], right_on = ['fid','iid'])\n",
    "print(merge1.shape)\n",
    "merge2 = pd.merge(left = merge1, right = meta[['FID','AGE']], left_on = ['fid'], right_on = ['FID'])\n",
    "print(merge2.shape)\n",
    "merge3 = pd.merge(left = merge2, right = ltrack[['id','haplo_major']], left_on = ['fid'], right_on = 'id')\n",
    "print(merge3.shape)\n",
    "print(merge3.head())\n",
    "meta_merge = merge3[['fid','iid','pheno','pc1','pc2','pc3','pc4','pc5','AGE','haplo_major']].copy()\n",
    "\n",
    "\n",
    "meta_merge['haplo_major_orig'] = meta_merge['haplo_major']\n",
    "meta_merge = pd.get_dummies(meta_merge, columns = ['haplo_major'])\n",
    "print(meta_merge.head())\n",
    "#meta_merge.pheno = meta_merge.pheno - 1\n",
    "\n",
    "meta_merge['PHENO_PLINK'] = meta_merge['pheno']-1\n",
    "meta_merge = meta_merge.rename(columns={\"fid\": \"FID\", \"iid\": \"IID\"})\n",
    "print(meta_merge.head())\n",
    "\n",
    "print(meta_merge.haplo_major_orig.value_counts())\n",
    "\n",
    "print(\",\".join(meta_merge.columns))\n",
    "\n",
    "#check pc haplogroup correlations\n",
    "#corrs= np.corrcoef(meta_merge[['pc1','pc2','pc3','pc4','pc5','haplo_major_A','haplo_major_E','haplo_major_G','haplo_major_H','haplo_major_I','haplo_major_J','haplo_major_L','haplo_major_N','haplo_major_Q','haplo_major_R','haplo_major_T']].T)\n",
    "corrs= np.corrcoef(meta_merge[['pc1','pc2','pc3','pc4','pc5','haplo_major_D','haplo_major_E','haplo_major_G','haplo_major_I','haplo_major_J','haplo_major_K','haplo_major_P','haplo_major_R','haplo_major_T','haplo_major_no_match']].T)\n",
    "corrdf = pd.DataFrame(corrs)\n",
    "corrdf.columns = ['pc1','pc2','pc3','pc4','pc5','haplo_major_D','haplo_major_E','haplo_major_G','haplo_major_I','haplo_major_J','haplo_major_K','haplo_major_P','haplo_major_R','haplo_major_T','haplo_major_no_match']\n",
    "corrdf.index = ['pc1','pc2','pc3','pc4','pc5','haplo_major_D','haplo_major_E','haplo_major_G','haplo_major_I','haplo_major_J','haplo_major_K','haplo_major_P','haplo_major_R','haplo_major_T','haplo_major_no_match']\n",
    "print(corrdf)\n",
    "\n",
    "print(meta_merge.pheno.value_counts())\n",
    "meta_merge.to_csv(f\"{WRKDIR}/y_neurox/neurox_chrY_male_only_covars.txt\",sep=\"\\t\",index=None)"
   ]
  },
  {
   "cell_type": "code",
   "execution_count": null,
   "id": "6a2ec326-61a9-456e-896f-f9e4395a0aa7",
   "metadata": {},
   "outputs": [],
   "source": [
    "print(meta_merge.haplo_major_orig.value_counts())"
   ]
  },
  {
   "cell_type": "code",
   "execution_count": null,
   "id": "5c554ba3-0e06-4d4f-836e-1ba310d2bcca",
   "metadata": {},
   "outputs": [],
   "source": [
    "print(meta_merge.haplo_major_orig.value_counts())"
   ]
  },
  {
   "cell_type": "code",
   "execution_count": null,
   "id": "5e4e80b4-2c53-4f80-8952-5d2efefdb993",
   "metadata": {},
   "outputs": [],
   "source": [
    "#--covar-name pc1,pc2,pc3,pc4,pc5,AGE,haplo_major_E,haplo_major_F,haplo_major_G,haplo_major_I,haplo_major_J,haplo_major_R,haplo_major_T \\\n",
    "print(f\"plink --bfile {WRKDIR}/y_neurox/neurox_chrY_male_only \\\n",
    "--maf 0.05 \\\n",
    "--covar {WRKDIR}/y_neurox/neurox_chrY_male_only_covars.txt \\\n",
    "--covar-name pc1,pc2,pc3,pc4,pc5,AGE,haplo_major_P,haplo_major_T,haplo_major_E,haplo_major_J,haplo_major_I,haplo_major_K,haplo_major_R \\\n",
    "--pheno {WRKDIR}/y_neurox/neurox_chrY_male_only_covars.txt --pheno-name pheno \\\n",
    "--freq \\\n",
    "--logistic hide-covar --ci 0.95 --out {WRKDIR}/y_neurox/neurox_chrY_male_only_logreg\")"
   ]
  },
  {
   "cell_type": "code",
   "execution_count": null,
   "id": "5f91b10a-99d8-48ca-b48d-c488b3935144",
   "metadata": {},
   "outputs": [],
   "source": [
    "log_neurox = pd.read_csv(f\"{WRKDIR}/y_neurox/neurox_chrY_male_only_logreg.assoc.logistic\",sep = \"\\s+\").sort_values(\"P\")\n",
    "\n",
    "print(log_neurox.shape)\n",
    "print(log_neurox.head())\n",
    "\n",
    "log_neurox = log_neurox.dropna()\n",
    "print(log_neurox.shape)\n",
    "\n",
    "print(log_neurox[(log_neurox['P']!=0)].shape)\n",
    "print(log_neurox[(log_neurox['P']!=0) & (log_neurox['P']<0.05)].shape)"
   ]
  },
  {
   "cell_type": "code",
   "execution_count": null,
   "id": "f2d2d81f-f8e6-4a9e-8ab3-bb5e67e29497",
   "metadata": {},
   "outputs": [],
   "source": [
    "maf = pd.read_csv(f\"{WRKDIR}/y_neurox/neurox_chrY_male_only_logreg.frq\",sep = \"\\s+\")\n",
    "print(maf.shape)\n",
    "print(maf.head())"
   ]
  },
  {
   "cell_type": "code",
   "execution_count": null,
   "id": "1f8547dd-8186-4807-a464-faa77e0fdab4",
   "metadata": {},
   "outputs": [],
   "source": [
    "bim = pd.read_csv(f\"{WRKDIR}/y_neurox/neurox_chrY_male_only.bim\",sep=\"\\s+\",header=None)\n",
    "bim.columns = ['chr','snp','pos','bp','a1','a2']\n",
    "print(bim.shape)\n",
    "print(bim.head())\n",
    "\n",
    "log_neurox_merge = pd.merge(left = maf, right = bim, left_on = ['SNP','A1'],right_on = ['snp','a1'])\n",
    "log_neurox_merge = log_neurox_merge[['CHR','SNP','bp','a1','a2','MAF']]\n",
    "print(log_neurox_merge.shape)\n",
    "print(log_neurox_merge.head())\n",
    "\n",
    "log_neurox_merge = pd.merge(left = log_neurox, right = log_neurox_merge[['SNP','bp','a1','a2','MAF']], left_on = ['SNP','BP','A1'],right_on = ['SNP','bp','a1'])\n",
    "log_neurox_merge = log_neurox_merge[['CHR','SNP','BP','a1','a2','MAF','TEST','NMISS','OR','SE','L95','U95','STAT','P']]\n",
    "print(log_neurox_merge.shape)\n",
    "print(log_neurox_merge.head())\n",
    "\n",
    "log_neurox_merge['CHR_BP_A1_A2'] = log_neurox_merge['CHR'].astype(str)+\"_\"+log_neurox_merge['BP'].astype(str)+\"_\"+log_neurox_merge['a1'].astype(str)+\"_\"+log_neurox_merge['a2'].astype(str)\n",
    "\n",
    "\n",
    "log_neurox_merge.to_csv(f\"{WRKDIR}/y_neurox/neurox_chrY_male_only_logreg_filter.assoc.logistic\",index=None,sep=\"\\t\")"
   ]
  },
  {
   "cell_type": "markdown",
   "id": "11b72032-6936-4b8b-a478-9f0418f8ecaf",
   "metadata": {},
   "source": [
    "## UKBB Case Control"
   ]
  },
  {
   "cell_type": "code",
   "execution_count": null,
   "id": "c9a0fbdb-8369-4a5d-a138-0eb8bbc33966",
   "metadata": {},
   "outputs": [],
   "source": [
    "fam = pd.read_csv(f\"{WRKDIR}/y_ukbb/chrY_male_only.fam\",sep=\"\\s+\",header=None)\n",
    "fam.columns = ['fid','iid','pid','mid','sex','pheno']\n",
    "print(fam.shape)\n",
    "print(fam.head())\n",
    "print(fam.pheno.value_counts())"
   ]
  },
  {
   "cell_type": "code",
   "execution_count": null,
   "id": "96976895-a8e3-4847-8a8b-662f300bec7b",
   "metadata": {},
   "outputs": [],
   "source": [
    "print(f\"plink --bfile {WRKDIR}/y_ukbb/chrY_male_only --keep {WRKDIR}/y_ukbb/ukbb_case_control_samples.txt --make-bed --out {WRKDIR}/y_ukbb/chrY_male_only_case_control\")"
   ]
  },
  {
   "cell_type": "code",
   "execution_count": null,
   "id": "e45315ad-114d-4112-9858-e43db46f0ba9",
   "metadata": {},
   "outputs": [],
   "source": [
    "fam = pd.read_csv(f\"{WRKDIR}/y_ukbb/chrY_male_only_case_control.fam\",sep=\"\\s+\",header=None)\n",
    "fam.columns = ['fid','iid','pid','mid','sex','pheno']\n",
    "print(fam.shape)\n",
    "print(fam.head())\n",
    "print(fam.pheno.value_counts())"
   ]
  },
  {
   "cell_type": "code",
   "execution_count": null,
   "id": "9de6bda5-e86c-45bb-8833-168b939a5ea1",
   "metadata": {},
   "outputs": [],
   "source": [
    "auto_pcs = pd.read_csv(f\"{CARDDIR}/projects/chromosome_y_expression/ukbb/pcs_case_control_pca.txt\",sep=\"\\s+\")#,header=None)\n",
    "#auto_pcs.columns = ['fid','iid'] + ['pc'+str(n) for n in range(1,21)]\n",
    "print(auto_pcs.shape)\n",
    "print(auto_pcs.head())"
   ]
  },
  {
   "cell_type": "code",
   "execution_count": null,
   "id": "b02f029a-b77d-4de2-b25b-5ea2ae5fad81",
   "metadata": {},
   "outputs": [],
   "source": [
    "yhaplo = pd.read_csv(f\"{WRKDIR}/output_ukbb/yhaplo_output/haplogroups.chrY_male_only.txt\",sep=\"\\s+\",header=None)\n",
    "yhaplo.columns = ['id','haplo_short','haplo_short_rep_snp','haplo_long']\n",
    "yhaplo['haplo_major'] = yhaplo['haplo_long'].str[0]\n",
    "yhaplo['id'] = [i[:len(i)//2] for i in yhaplo.id]\n",
    "yhaplo['id'] = yhaplo['id'].astype('int64')\n",
    "print(yhaplo.shape)\n",
    "print(yhaplo.head())"
   ]
  },
  {
   "cell_type": "code",
   "execution_count": null,
   "id": "6712f01f-cc5c-48fe-9368-9a5fa46dfede",
   "metadata": {},
   "outputs": [],
   "source": [
    "#use Ylineagetracker haplogroups since that tool assigned the most unique haplogroups compared to other tools\n",
    "ltrack = pd.read_csv(f\"{WRKDIR}/output_ukbb/ltrack_ukbb_hg19.hapresult.hg\",sep=\"\\s+\")\n",
    "ltrack.columns = ['id','haplo']\n",
    "ltrack['haplo_major'] = ltrack['haplo'].str[0]\n",
    "#ltrack.loc[ltrack.haplo==\".\",\"haplo\"] = \"no_match\"\n",
    "#ltrack.loc[ltrack.haplo_major==\".\",\"haplo_major\"] = \"no_match\"\n",
    "ltrack['id'] = [i[:len(i)//2] for i in ltrack.id]\n",
    "ltrack['id'] = ltrack['id'].astype('int64')\n",
    "print(ltrack.shape)\n",
    "print(ltrack.head())\n",
    "print(len(set(ltrack.haplo)))\n",
    "print((set(ltrack.haplo_major)))"
   ]
  },
  {
   "cell_type": "code",
   "execution_count": null,
   "id": "aca32025-82c8-4015-b3f8-59b39687cc04",
   "metadata": {},
   "outputs": [],
   "source": [
    "meta = pd.read_table(f\"{CARDDIR}/UKBIOBANK/PHENOTYPE_DATA/covariates_phenome_to_use.txt\")\n",
    "print(meta.shape)\n",
    "print(meta.head())"
   ]
  },
  {
   "cell_type": "code",
   "execution_count": null,
   "id": "25562d28-a218-42b3-abdd-a0c72fe17b64",
   "metadata": {
    "tags": []
   },
   "outputs": [],
   "source": [
    "#merge\n",
    "merge1 = pd.merge(left = fam[['fid','iid','sex','pheno']], right = auto_pcs[['FID','IID','PC1','PC2','PC3','PC4','PC5']], left_on = ['fid','iid'], right_on = ['FID','IID'])\n",
    "print(merge1.shape)\n",
    "merge2 = pd.merge(left = merge1, right = meta[['FID','AGE_OF_RECRUIT']], left_on = ['fid'], right_on = ['FID'])\n",
    "print(merge2.shape)\n",
    "merge3 = pd.merge(left = merge2, right = ltrack[['id','haplo_major']], left_on = ['fid'], right_on = 'id')\n",
    "print(merge3.shape)\n",
    "print(merge3.head())\n",
    "meta_merge = merge3[['fid','iid','pheno','PC1','PC2','PC3','PC4','PC5','AGE_OF_RECRUIT','haplo_major']].copy()\n",
    "\n",
    "\n",
    "meta_merge['haplo_major_orig'] = meta_merge['haplo_major']\n",
    "meta_merge = pd.get_dummies(meta_merge, columns = ['haplo_major'])\n",
    "print(meta_merge.head())\n",
    "#meta_merge.pheno = meta_merge.pheno - 1\n",
    "\n",
    "meta_merge['PHENO_PLINK'] = meta_merge['pheno']-1\n",
    "meta_merge = meta_merge.rename(columns={\"fid\": \"FID\", \"iid\": \"IID\"})\n",
    "print(meta_merge.head())\n",
    "\n",
    "print(meta_merge.haplo_major_orig.value_counts())\n",
    "\n",
    "print(\",\".join(meta_merge.columns))\n",
    "#check pc haplogroup correlations\n",
    "#\n",
    "#corrs= np.corrcoef(meta_merge[['PC1','PC2','PC3','PC4','PC5','haplo_major_A','haplo_major_C','haplo_major_E','haplo_major_G','haplo_major_H','haplo_major_I','haplo_major_J','haplo_major_L','haplo_major_N','haplo_major_Q','haplo_major_R','haplo_major_T']].T)\n",
    "corrs= np.corrcoef(meta_merge[['PC1','PC2','PC3','PC4','PC5','haplo_major_A','haplo_major_E','haplo_major_G','haplo_major_H','haplo_major_I','haplo_major_J','haplo_major_K','haplo_major_N','haplo_major_O','haplo_major_P','haplo_major_R','haplo_major_T']].T)\n",
    "corrdf = pd.DataFrame(corrs)\n",
    "corrdf.columns = ['PC1','PC2','PC3','PC4','PC5','haplo_major_A','haplo_major_E','haplo_major_G','haplo_major_H','haplo_major_I','haplo_major_J','haplo_major_K','haplo_major_N','haplo_major_O','haplo_major_P','haplo_major_R','haplo_major_T']\n",
    "corrdf.index = ['PC1','PC2','PC3','PC4','PC5','haplo_major_A','haplo_major_E','haplo_major_G','haplo_major_H','haplo_major_I','haplo_major_J','haplo_major_K','haplo_major_N','haplo_major_O','haplo_major_P','haplo_major_R','haplo_major_T']\n",
    "print(corrdf)\n",
    "\n",
    "print(meta_merge.pheno.value_counts())\n",
    "meta_merge.to_csv(f\"{WRKDIR}/y_ukbb/ukbb_chrY_case_control_covars.txt\",sep=\"\\t\",index=None)"
   ]
  },
  {
   "cell_type": "code",
   "execution_count": null,
   "id": "7e88aad1-3e50-44f9-92aa-dd5ac5f408a9",
   "metadata": {},
   "outputs": [],
   "source": [
    "print(meta_merge.haplo_major_orig.value_counts())"
   ]
  },
  {
   "cell_type": "code",
   "execution_count": null,
   "id": "2ec73751-684b-4952-a979-9df58d5b420c",
   "metadata": {},
   "outputs": [],
   "source": [
    "print(f\"plink --bfile {WRKDIR}/y_ukbb/chrY_male_only_case_control \\\n",
    "--maf 0.05 \\\n",
    "--covar {WRKDIR}/y_ukbb/ukbb_chrY_case_control_covars.txt \\\n",
    "--covar-name PC1,PC2,PC3,PC4,PC5,AGE_OF_RECRUIT,haplo_major_J,haplo_major_G,haplo_major_E,haplo_major_K,haplo_major_O,haplo_major_I,haplo_major_R \\\n",
    "--pheno {WRKDIR}/y_ukbb/ukbb_chrY_case_control_covars.txt --pheno-name pheno \\\n",
    "--freq \\\n",
    "--logistic hide-covar --ci 0.95 --out {WRKDIR}/y_ukbb/ukbb_chrY_case_control_logreg\")"
   ]
  },
  {
   "cell_type": "code",
   "execution_count": null,
   "id": "60890db9-e1c4-477e-9a57-18e96f6eb6b2",
   "metadata": {},
   "outputs": [],
   "source": [
    "log_ukbb_cc = pd.read_csv(f\"{WRKDIR}/y_ukbb/ukbb_chrY_case_control_logreg.assoc.logistic\",sep = \"\\s+\").sort_values(\"P\")\n",
    "\n",
    "print(log_ukbb_cc.shape)\n",
    "print(log_ukbb_cc.head())\n",
    "\n",
    "log_ukbb_cc = log_ukbb_cc.dropna()\n",
    "print(log_ukbb_cc.shape)\n",
    "\n",
    "print(log_ukbb_cc[(log_ukbb_cc['P']!=0)].shape)\n",
    "print(log_ukbb_cc[(log_ukbb_cc['P']!=0) & (log_ukbb_cc['P']<0.05)].shape)\n",
    "print(log_ukbb_cc[(log_ukbb_cc['P']!=0) & (log_ukbb_cc['P']<0.05)])"
   ]
  },
  {
   "cell_type": "code",
   "execution_count": null,
   "id": "3b9220ba-ef1b-478e-b42a-5ea1afe2f4d5",
   "metadata": {},
   "outputs": [],
   "source": [
    "maf = pd.read_csv(f\"{WRKDIR}/y_ukbb/ukbb_chrY_case_control_logreg.frq\",sep = \"\\s+\")\n",
    "print(maf.shape)\n",
    "print(maf.head())"
   ]
  },
  {
   "cell_type": "code",
   "execution_count": null,
   "id": "27f6bc65-b8ae-42d9-939a-e153a5d78b3d",
   "metadata": {},
   "outputs": [],
   "source": [
    "bim = pd.read_csv(f\"{WRKDIR}/y_ukbb/chrY_male_only_case_control.bim\",sep=\"\\s+\",header=None)\n",
    "bim.columns = ['chr','snp','pos','bp','a1','a2']\n",
    "print(bim.shape)\n",
    "print(bim.head())\n",
    "\n",
    "log_ukbb_cc_merge = pd.merge(left = maf, right = bim, left_on = ['SNP','A1'],right_on = ['snp','a1'])\n",
    "log_ukbb_cc_merge = log_ukbb_cc_merge[['CHR','SNP','bp','a1','a2','MAF']]\n",
    "print(log_ukbb_cc_merge.shape)\n",
    "print(log_ukbb_cc_merge.head())\n",
    "\n",
    "log_ukbb_cc_merge = pd.merge(left = log_ukbb_cc, right = log_ukbb_cc_merge[['SNP','bp','a1','a2','MAF']], left_on = ['SNP','BP','A1'],right_on = ['SNP','bp','a1'])\n",
    "log_ukbb_cc_merge = log_ukbb_cc_merge[['CHR','SNP','BP','a1','a2','MAF','TEST','NMISS','OR','SE','L95','U95','STAT','P']]\n",
    "print(log_ukbb_cc_merge.shape)\n",
    "print(log_ukbb_cc_merge.head())\n",
    "\n",
    "log_ukbb_cc_merge['CHR_BP_A1_A2'] = log_ukbb_cc_merge['CHR'].astype(str)+\"_\"+log_ukbb_cc_merge['BP'].astype(str)+\"_\"+log_ukbb_cc_merge['a1'].astype(str)+\"_\"+log_ukbb_cc_merge['a2'].astype(str)\n",
    "\n",
    "\n",
    "log_ukbb_cc_merge.to_csv(f\"{WRKDIR}/y_ukbb/ukbb_chrY_case_control_logreg_filter.assoc.logistic\",index=None,sep=\"\\t\")"
   ]
  },
  {
   "cell_type": "markdown",
   "id": "17bdea19-44a8-4660-8b6e-9baf1a7f20c5",
   "metadata": {},
   "source": [
    "## UKBB Proxy Control"
   ]
  },
  {
   "cell_type": "code",
   "execution_count": null,
   "id": "3a89d2bf-3fd2-4001-b203-b9b3cd42313a",
   "metadata": {},
   "outputs": [],
   "source": []
  },
  {
   "cell_type": "code",
   "execution_count": null,
   "id": "91ede584-d1f8-481e-bccf-515b7e454f5d",
   "metadata": {},
   "outputs": [],
   "source": [
    "print(f\"plink --bfile {WRKDIR}/y_ukbb/chrY_male_only --keep {WRKDIR}/y_ukbb/ukbb_proxy_control_samples.txt --make-bed --out {WRKDIR}/y_ukbb/chrY_male_only_proxy_control\")"
   ]
  },
  {
   "cell_type": "code",
   "execution_count": null,
   "id": "d22b97c8-6fc1-4881-9721-9c913436f819",
   "metadata": {},
   "outputs": [],
   "source": [
    "recode_fam = pd.read_csv(f\"{WRKDIR}/y_ukbb/chrY_male_only_proxy_control.fam\",sep=\"\\s+\",header=None)\n",
    "recode_fam.columns = ['fid','iid','pid','mid','sex','pheno']\n",
    "print(recode_fam.pheno.value_counts())\n",
    "recode_fam.loc[recode_fam['pheno']==3,'pheno']=2\n",
    "print(recode_fam.pheno.value_counts())\n",
    "recode_fam.to_csv(f\"{WRKDIR}/y_ukbb/chrY_male_only_proxy_control.fam\",sep=\"\\t\",header=None, index=None)"
   ]
  },
  {
   "cell_type": "code",
   "execution_count": null,
   "id": "b48cf161-85a5-4916-9b29-3f7854332e96",
   "metadata": {
    "tags": []
   },
   "outputs": [],
   "source": [
    "fam = pd.read_csv(f\"{WRKDIR}/y_ukbb/chrY_male_only_proxy_control.fam\",sep=\"\\s+\",header=None)\n",
    "fam.columns = ['fid','iid','pid','mid','sex','pheno']\n",
    "print(fam.shape)\n",
    "print(fam.head())\n",
    "print(fam.pheno.value_counts())\n",
    "\n",
    "auto_pcs = pd.read_csv(f\"{CARDDIR}/projects/chromosome_y_expression/ukbb/pcs_proxy_control_pca.txt\",sep=\"\\s+\")#,header=None)\n",
    "#auto_pcs.columns = ['fid','iid'] + ['pc'+str(n) for n in range(1,21)]\n",
    "print(auto_pcs.shape)\n",
    "print(auto_pcs.head())\n",
    "\n",
    "#yhaplo = pd.read_csv(f\"{WRKDIR}/output_ukbb/yhaplo_output/haplogroups.chrY_male_only.txt\",sep=\"\\s+\",header=None)\n",
    "#yhaplo.columns = ['id','haplo_short','haplo_short_rep_snp','haplo_long']\n",
    "#yhaplo['haplo_major'] = yhaplo['haplo_long'].str[0]\n",
    "#yhaplo['id'] = [i[:len(i)//2] for i in yhaplo.id]\n",
    "#yhaplo['id'] = yhaplo['id'].astype('int64')\n",
    "#print(yhaplo.shape)\n",
    "#print(yhaplo.head())\n",
    "\n",
    "#use Ylineagetracker haplogroups since that tool assigned the most unique haplogroups compared to other tools\n",
    "ltrack = pd.read_csv(f\"{WRKDIR}/output_ukbb/ltrack_ukbb_hg19.hapresult.hg\",sep=\"\\s+\")\n",
    "ltrack.columns = ['id','haplo']\n",
    "ltrack['haplo_major'] = ltrack['haplo'].str[0]\n",
    "#ltrack.loc[ltrack.haplo==\".\",\"haplo\"] = \"no_match\"\n",
    "#ltrack.loc[ltrack.haplo_major==\".\",\"haplo_major\"] = \"no_match\"\n",
    "ltrack['id'] = [i[:len(i)//2] for i in ltrack.id]\n",
    "ltrack['id'] = ltrack['id'].astype('int64')\n",
    "print(ltrack.shape)\n",
    "print(ltrack.head())\n",
    "print(len(set(ltrack.haplo)))\n",
    "print((set(ltrack.haplo_major)))\n",
    "\n",
    "meta = pd.read_table(f\"{CARDDIR}/UKBIOBANK/PHENOTYPE_DATA/covariates_phenome_to_use.txt\")\n",
    "print(meta.shape)\n",
    "print(meta.head())\n",
    "\n",
    "#merge\n",
    "merge1 = pd.merge(left = fam[['fid','iid','sex','pheno']], right = auto_pcs[['FID','IID','PC1','PC2','PC3','PC4','PC5']], left_on = ['fid','iid'], right_on = ['FID','IID'])\n",
    "print(merge1.shape)\n",
    "merge2 = pd.merge(left = merge1, right = meta[['FID','AGE_OF_RECRUIT']], left_on = ['fid'], right_on = ['FID'])\n",
    "print(merge2.shape)\n",
    "merge3 = pd.merge(left = merge2, right = ltrack[['id','haplo_major']], left_on = ['fid'], right_on = 'id')\n",
    "print(merge3.shape)\n",
    "print(merge3.head())\n",
    "meta_merge = merge3[['fid','iid','pheno','PC1','PC2','PC3','PC4','PC5','AGE_OF_RECRUIT','haplo_major']].copy()\n",
    "\n",
    "\n",
    "meta_merge['haplo_major_orig'] = meta_merge['haplo_major']\n",
    "meta_merge = pd.get_dummies(meta_merge, columns = ['haplo_major'])\n",
    "print(meta_merge.head())\n",
    "#meta_merge.pheno = meta_merge.pheno - 1\n",
    "\n",
    "meta_merge['PHENO_PLINK'] = meta_merge['pheno']-1\n",
    "meta_merge = meta_merge.rename(columns={\"fid\": \"FID\", \"iid\": \"IID\"})\n",
    "print(meta_merge.head())\n",
    "\n",
    "print(meta_merge.haplo_major_orig.value_counts())\n",
    "\n",
    "print(\",\".join(meta_merge.columns))\n",
    "\n",
    "#check pc haplogroup correlations\n",
    "#\n",
    "#corrs= np.corrcoef(meta_merge[['PC1','PC2','PC3','PC4','PC5','haplo_major_A','haplo_major_C','haplo_major_E','haplo_major_G','haplo_major_H','haplo_major_I','haplo_major_J','haplo_major_L','haplo_major_N','haplo_major_Q','haplo_major_R','haplo_major_T']].T)\n",
    "corrs= np.corrcoef(meta_merge[['PC1','PC2','PC3','PC4','PC5','haplo_major_A','haplo_major_C','haplo_major_E','haplo_major_G','haplo_major_H','haplo_major_I','haplo_major_J','haplo_major_K','haplo_major_N','haplo_major_O','haplo_major_P','haplo_major_R','haplo_major_T']].T)\n",
    "corrdf = pd.DataFrame(corrs)\n",
    "corrdf.columns = ['PC1','PC2','PC3','PC4','PC5','haplo_major_A','haplo_major_C','haplo_major_E','haplo_major_G','haplo_major_H','haplo_major_I','haplo_major_J','haplo_major_K','haplo_major_N','haplo_major_O','haplo_major_P','haplo_major_R','haplo_major_T']\n",
    "corrdf.index = ['PC1','PC2','PC3','PC4','PC5','haplo_major_A','haplo_major_C','haplo_major_E','haplo_major_G','haplo_major_H','haplo_major_I','haplo_major_J','haplo_major_K','haplo_major_N','haplo_major_O','haplo_major_P','haplo_major_R','haplo_major_T']\n",
    "print(corrdf)\n",
    "\n",
    "print(meta_merge.pheno.value_counts())\n",
    "meta_merge.to_csv(f\"{WRKDIR}/y_ukbb/ukbb_chrY_proxy_control_covars.txt\",sep=\"\\t\",index=None)"
   ]
  },
  {
   "cell_type": "code",
   "execution_count": null,
   "id": "d693eb26-42fd-4a93-9ba8-f06d953e248e",
   "metadata": {},
   "outputs": [],
   "source": [
    "print(meta_merge.haplo_major_orig.value_counts())"
   ]
  },
  {
   "cell_type": "code",
   "execution_count": null,
   "id": "0bbeb262-d5ad-438f-8917-333c7039dde9",
   "metadata": {},
   "outputs": [],
   "source": [
    "print(f\"plink --bfile {WRKDIR}/y_ukbb/chrY_male_only_proxy_control \\\n",
    "--maf 0.05 \\\n",
    "--covar {WRKDIR}/y_ukbb/ukbb_chrY_proxy_control_covars.txt \\\n",
    "--covar-name PC1,PC2,PC3,PC4,PC5,AGE_OF_RECRUIT,haplo_major_T,haplo_major_N,haplo_major_J,haplo_major_G,haplo_major_E,haplo_major_K,haplo_major_O,haplo_major_I,haplo_major_R \\\n",
    "--pheno {WRKDIR}/y_ukbb/ukbb_chrY_proxy_control_covars.txt --pheno-name pheno \\\n",
    "--freq \\\n",
    "--logistic hide-covar --ci 0.95 --out {WRKDIR}/y_ukbb/ukbb_chrY_proxy_control_logreg\")"
   ]
  },
  {
   "cell_type": "code",
   "execution_count": null,
   "id": "beb5ada2-90da-42ac-abd7-bc0e32c9211c",
   "metadata": {},
   "outputs": [],
   "source": [
    "log_ukbb_pc = pd.read_csv(f\"{WRKDIR}/y_ukbb/ukbb_chrY_proxy_control_logreg.assoc.logistic\",sep = \"\\s+\").sort_values(\"P\")\n",
    "\n",
    "print(log_ukbb_pc.shape)\n",
    "print(log_ukbb_pc.head())\n",
    "\n",
    "log_ukbb_pc = log_ukbb_pc.dropna()\n",
    "print(log_ukbb_pc.shape)\n",
    "\n",
    "print(log_ukbb_pc[(log_ukbb_pc['P']!=0)].shape)\n",
    "print(log_ukbb_pc[(log_ukbb_pc['P']!=0) & (log_ukbb_pc['P']<0.05)].shape)\n",
    "print(log_ukbb_pc[(log_ukbb_pc['P']!=0) & (log_ukbb_pc['P']<0.05)])"
   ]
  },
  {
   "cell_type": "code",
   "execution_count": null,
   "id": "947f62c4-a8ef-47a5-8dd8-c294b5b23171",
   "metadata": {},
   "outputs": [],
   "source": [
    "maf = pd.read_csv(f\"{WRKDIR}/y_ukbb/ukbb_chrY_proxy_control_logreg.frq\",sep = \"\\s+\")\n",
    "print(maf.shape)\n",
    "print(maf.head())"
   ]
  },
  {
   "cell_type": "code",
   "execution_count": null,
   "id": "c651b946-a9fe-4a04-9c01-275ce8097765",
   "metadata": {},
   "outputs": [],
   "source": [
    "bim = pd.read_csv(f\"{WRKDIR}/y_ukbb/chrY_male_only_proxy_control.bim\",sep=\"\\s+\",header=None)\n",
    "bim.columns = ['chr','snp','pos','bp','a1','a2']\n",
    "print(bim.shape)\n",
    "print(bim.head())\n",
    "\n",
    "log_ukbb_pc_merge = pd.merge(left = maf, right = bim, left_on = ['SNP','A1'],right_on = ['snp','a1'])\n",
    "log_ukbb_pc_merge = log_ukbb_pc_merge[['CHR','SNP','bp','a1','a2','MAF']]\n",
    "print(log_ukbb_pc_merge.shape)\n",
    "print(log_ukbb_pc_merge.head())\n",
    "\n",
    "log_ukbb_pc_merge = pd.merge(left = log_ukbb_pc, right = log_ukbb_pc_merge[['SNP','bp','a1','a2','MAF']], left_on = ['SNP','BP','A1'],right_on = ['SNP','bp','a1'])\n",
    "log_ukbb_pc_merge = log_ukbb_pc_merge[['CHR','SNP','BP','a1','a2','MAF','TEST','NMISS','OR','SE','L95','U95','STAT','P']]\n",
    "print(log_ukbb_pc_merge.shape)\n",
    "print(log_ukbb_pc_merge.head())\n",
    "\n",
    "log_ukbb_pc_merge['CHR_BP_A1_A2'] = log_ukbb_pc_merge['CHR'].astype(str)+\"_\"+log_ukbb_pc_merge['BP'].astype(str)+\"_\"+log_ukbb_pc_merge['a1'].astype(str)+\"_\"+log_ukbb_pc_merge['a2'].astype(str)\n",
    "\n",
    "\n",
    "log_ukbb_pc_merge.to_csv(f\"{WRKDIR}/y_ukbb/ukbb_chrY_proxy_control_logreg_filter.assoc.logistic\",index=None,sep=\"\\t\")"
   ]
  },
  {
   "cell_type": "code",
   "execution_count": null,
   "id": "2480ac75-446e-4a28-bafe-570d6bf98db1",
   "metadata": {},
   "outputs": [],
   "source": []
  },
  {
   "cell_type": "markdown",
   "id": "03697b64-efb6-4e6a-bac4-fd0c5d370497",
   "metadata": {},
   "source": [
    "##### Check common variants\n"
   ]
  },
  {
   "cell_type": "code",
   "execution_count": null,
   "id": "037cfd98-96a7-4a12-9119-018cae113bfb",
   "metadata": {},
   "outputs": [],
   "source": [
    "log_amp_pd = pd.read_table(f\"{WRKDIR}/y_male_only_bfiles/amppd_case_control_nogcs_logreg_filter.assoc.logistic\")\n",
    "print(log_amp_pd.shape)\n",
    "log_amp_lbd = pd.read_table(f\"{WRKDIR}/y_male_only_bfiles/amppd_lbd_case_control_nogcs_logreg_filter.assoc.logistic\")\n",
    "print(log_amp_lbd.shape)\n",
    "log_neurox = pd.read_table(f\"{WRKDIR}/y_neurox/neurox_chrY_male_only_logreg_filter.assoc.logistic\")\n",
    "print(log_neurox.shape)\n",
    "log_ukbb_cc = pd.read_table(f\"{WRKDIR}/y_ukbb/ukbb_chrY_case_control_logreg_filter.assoc.logistic\")\n",
    "print(log_ukbb_cc.shape)\n",
    "log_ukbb_pc = pd.read_table(f\"{WRKDIR}/y_ukbb/ukbb_chrY_proxy_control_logreg_filter.assoc.logistic\")\n",
    "print(log_ukbb_pc.shape)\n",
    "print(log_ukbb_pc.head())"
   ]
  },
  {
   "cell_type": "code",
   "execution_count": null,
   "id": "993ed8c2-5c38-407e-bcb8-7f8d4f1e022a",
   "metadata": {},
   "outputs": [],
   "source": [
    "len(set(log_amp_pd.CHR_BP_A1_A2) | set(log_neurox.CHR_BP_A1_A2) | set(log_ukbb_cc.CHR_BP_A1_A2) | set(log_ukbb_pc.CHR_BP_A1_A2))\n"
   ]
  },
  {
   "cell_type": "markdown",
   "id": "bbc5959e-0ad7-4f3b-9f69-24aac7c16841",
   "metadata": {},
   "source": [
    "## Meta Analyze with METAL"
   ]
  },
  {
   "cell_type": "markdown",
   "id": "0741a302-5b61-492a-be73-19f12f7591cc",
   "metadata": {},
   "source": [
    "#### make metal file:\n",
    "(may want to remove the lbd dataset)   \n",
    "```\n",
    "SCHEME STDERR\n",
    "AVERAGEFREQ ON\n",
    "MINMAXFREQ ON\n",
    "FREQLABEL MAF\n",
    "\n",
    "MARKER CHR_BP_A1_A2\n",
    "ALLELE a1 a2\n",
    "EFFECT log(OR)\n",
    "STDERR SE\n",
    "PVALUE P \n",
    "WEIGHT NMISS\n",
    "PROCESS $PATH/amppd_case_control_nogcs_logreg_filter.assoc.logistic\n",
    "\n",
    "MARKER CHR_BP_A1_A2\n",
    "ALLELE a1 a2\n",
    "EFFECT log(OR)\n",
    "STDERR SE\n",
    "PVALUE P \n",
    "WEIGHT NMISS\n",
    "PROCESS $PATH/amppd_lbd_case_control_nogcs_logreg_filter.assoc.logistic\n",
    "\n",
    "MARKER CHR_BP_A1_A2\n",
    "ALLELE a1 a2\n",
    "EFFECT log(OR)\n",
    "STDERR SE\n",
    "PVALUE P \n",
    "WEIGHT NMISS\n",
    "PROCESS $PATH/neurox_chrY_male_only_logreg_filter.assoc.logistic\n",
    "\n",
    "MARKER CHR_BP_A1_A2\n",
    "ALLELE a1 a2\n",
    "EFFECT log(OR)\n",
    "STDERR SE\n",
    "PVALUE P \n",
    "WEIGHT NMISS\n",
    "PROCESS $PATH/ukbb_chrY_case_control_logreg_filter.assoc.logistic\n",
    "\n",
    "MARKER CHR_BP_A1_A2\n",
    "ALLELE a1 a2\n",
    "EFFECT log(OR)\n",
    "STDERR SE\n",
    "PVALUE P \n",
    "WEIGHT NMISS\n",
    "PROCESS $PATH/ukbb_chrY_proxy_control_logreg_filter.assoc.logistic\n",
    "\n",
    "OUTFILE CHRY_SINGLE_VARIANT_TEST_METAL_NEW .tbl\n",
    "ANALYZE HETEROGENEITY\n",
    "\n",
    "\n",
    "QUIT\n",
    "```"
   ]
  },
  {
   "cell_type": "code",
   "execution_count": null,
   "id": "682f5132-8c76-43a5-94e0-5eccb25a8048",
   "metadata": {},
   "outputs": [],
   "source": [
    "metal_results = pd.read_table(f\"{WRKDIR}/CHRY_SINGLE_VARIANT_TEST_METAL_NEW1.tbl\").sort_values(\"P-value\")\n",
    "print(metal_results.shape)\n",
    "print(metal_results.head())"
   ]
  },
  {
   "cell_type": "code",
   "execution_count": null,
   "id": "5828e79c-dad6-438e-a0c5-d694334b620c",
   "metadata": {
    "tags": []
   },
   "outputs": [],
   "source": [
    "metal_results[metal_results.MinFreq!=metal_results.MaxFreq].shape"
   ]
  },
  {
   "cell_type": "code",
   "execution_count": null,
   "id": "b95ad284-515c-4927-aa6d-7088bbb08308",
   "metadata": {},
   "outputs": [],
   "source": [
    "metal_results.loc[metal_results.HetDf >0].shape"
   ]
  },
  {
   "cell_type": "markdown",
   "id": "2be4ac80-f7d7-4e30-937f-7ca2bdbe4e12",
   "metadata": {},
   "source": [
    "### Get Variant Positions and Annotate"
   ]
  },
  {
   "cell_type": "code",
   "execution_count": null,
   "id": "5868f74f-aeb6-4471-ba54-95ef92917f36",
   "metadata": {},
   "outputs": [],
   "source": [
    "avinput = metal_results.copy()\n",
    "avinput['chr']='Y'\n",
    "avinput['start'] = avinput['MarkerName'].str.split(\"_\").str[1].astype('int32')\n",
    "avinput['ref'] = avinput['MarkerName'].str.split(\"_\").str[2]\n",
    "avinput['alt'] = avinput['MarkerName'].str.split(\"_\").str[3]\n",
    "\n",
    "#need to adjust end positions for ref alleles with more than one nucleotide\n",
    "avinput['end'] = avinput['start'] + avinput['ref'].str.len()-1\n",
    "#replace * with - for annovar syntax\n",
    "avinput['ref'] = avinput['ref'].replace('*','-')\n",
    "avinput['alt'] = avinput['alt'].replace('*','-')\n",
    "\n",
    "\n",
    "avinput = avinput[['chr','start','end','ref','alt','MarkerName']]\n",
    "avinput.columns = ['chr','start','end','ref','alt','snp']\n",
    "\n",
    "print(avinput.shape)\n",
    "print(avinput.head())\n",
    "avinput.to_csv(f\"{WRKDIR}/metal_results.avinput\",index=None, sep = \"\\t\")"
   ]
  },
  {
   "cell_type": "code",
   "execution_count": null,
   "id": "43c6057a-0994-4d66-82ac-faebc92b4ec7",
   "metadata": {},
   "outputs": [],
   "source": [
    "print(f\"table_annovar.pl {WRKDIR}/metal_results.avinput $ANNOVAR_DATA/hg19/ -buildver hg19 --thread 16  -out {WRKDIR}/metal_results.annovar  -remove -protocol avsnp150,refGene,ensGene,gnomad211_genome  -operation f,g,g,f  -nastring .\")"
   ]
  },
  {
   "cell_type": "code",
   "execution_count": null,
   "id": "ad5fa0bf-b06c-4f0b-b569-d33172584773",
   "metadata": {},
   "outputs": [],
   "source": [
    "metal_anno = pd.read_table(f\"{WRKDIR}/metal_results.annovar.hg19_multianno.txt\").drop_duplicates()\n",
    "metal_anno = metal_anno.iloc[1:len(metal_anno.index),:]\n",
    "metal_anno = metal_anno.astype({'Start': 'int64'})\n",
    "\n",
    "metal_anno['Ref'] = metal_anno['Ref'].replace('-','*')\n",
    "metal_anno['Alt'] = metal_anno['Alt'].replace('-','*')\n",
    "metal_anno['CHR_BP_A1_A2'] = \"24_\"+metal_anno['Start'].astype(str)+\"_\"+metal_anno['Ref'].astype(str)+\"_\"+metal_anno['Alt'].astype(str)\n",
    "\n",
    "\n",
    "#print(metal_anno.dtypes)\n",
    "print(metal_anno.shape)\n",
    "print(metal_anno.head())"
   ]
  },
  {
   "cell_type": "code",
   "execution_count": null,
   "id": "6eb1518e-1e27-44f1-9df0-7720b347b3ad",
   "metadata": {},
   "outputs": [],
   "source": [
    "print(metal_anno.columns)"
   ]
  },
  {
   "cell_type": "code",
   "execution_count": null,
   "id": "828e9724-7230-4cda-a38d-cfcda20304fa",
   "metadata": {},
   "outputs": [],
   "source": [
    "print(set(metal_anno['Func.refGene']))"
   ]
  },
  {
   "cell_type": "code",
   "execution_count": null,
   "id": "4c37c63d-e105-4f9a-90f8-64ee5aaa3d17",
   "metadata": {},
   "outputs": [],
   "source": [
    "print(metal_anno[metal_anno['Func.refGene']=='exonic'])"
   ]
  },
  {
   "cell_type": "code",
   "execution_count": null,
   "id": "58c884f0-d814-4158-aaa2-fb21fd07d130",
   "metadata": {},
   "outputs": [],
   "source": [
    "metal_anno.columns"
   ]
  },
  {
   "cell_type": "code",
   "execution_count": null,
   "id": "6f211988-d163-4371-aa6c-ab0eb6e790cb",
   "metadata": {},
   "outputs": [],
   "source": [
    "metal_results_anno = pd.merge(left = metal_results, right = metal_anno, left_on ='MarkerName', right_on = 'CHR_BP_A1_A2').drop_duplicates()\n",
    "\n",
    "print(metal_anno.shape)\n",
    "print(metal_results_anno.shape)\n",
    "print(metal_results_anno.head())"
   ]
  },
  {
   "cell_type": "code",
   "execution_count": null,
   "id": "722bc21b-7d85-4410-aa23-166c50f8b107",
   "metadata": {},
   "outputs": [],
   "source": [
    "metal_results_anno.columns"
   ]
  },
  {
   "cell_type": "code",
   "execution_count": null,
   "id": "af11cd32-145d-47be-9c69-18104b2cad6b",
   "metadata": {},
   "outputs": [],
   "source": [
    "metal_results_anno = metal_results_anno[['Chr','Start','Allele1','Allele2','Ref','Alt','Freq1','MinFreq','MaxFreq','Effect','StdErr','P-value','Direction','HetISq','HetChiSq','HetDf','HetPVal','avsnp150','Func.refGene','Gene.refGene','GeneDetail.refGene','ExonicFunc.refGene']].sort_values('P-value')\n",
    "metal_results_anno['Allele1'] = metal_results_anno['Allele1'].str.upper()\n",
    "metal_results_anno['Allele2'] = metal_results_anno['Allele2'].str.upper()\n",
    "print(metal_results_anno.shape)\n",
    "print(metal_results_anno.head())\n",
    "metal_results_anno.to_csv(f\"{WRKDIR}/metal_results_annotated_new.csv\",index=None)"
   ]
  },
  {
   "cell_type": "code",
   "execution_count": null,
   "id": "74b09940-a24d-4155-ac03-e5991543fb1d",
   "metadata": {},
   "outputs": [],
   "source": [
    "print(metal_results_anno.loc[metal_results_anno['P-value']<0.05,'Func.refGene'].shape)\n",
    "print(set(metal_results_anno.loc[metal_results_anno['P-value']<0.05,'Func.refGene']))"
   ]
  },
  {
   "cell_type": "code",
   "execution_count": null,
   "id": "2dc301f5-f4eb-46e9-81e7-bd3b7f57e037",
   "metadata": {},
   "outputs": [],
   "source": [
    "print(metal_results_anno.loc[(metal_results_anno['P-value']<0.05) ,])"
   ]
  },
  {
   "cell_type": "markdown",
   "id": "d8f78eaf-0bc9-4151-a8a8-2684732c79b3",
   "metadata": {},
   "source": [
    "## Filter annotation by variants in multiple datasets"
   ]
  },
  {
   "cell_type": "code",
   "execution_count": null,
   "id": "9ed7269b-1343-4766-9afd-5fccd8d0ee50",
   "metadata": {},
   "outputs": [],
   "source": [
    "metal_results_anno = pd.read_csv(f\"{WRKDIR}/metal_results_annotated_new.csv\")\n",
    "print(metal_results_anno.shape)\n",
    "print(metal_results_anno.head())"
   ]
  },
  {
   "cell_type": "code",
   "execution_count": null,
   "id": "23ee0ee0-91e6-4c89-adf1-3c0e9b6a2426",
   "metadata": {
    "tags": []
   },
   "outputs": [],
   "source": [
    "\n",
    "print(metal_results_anno[metal_results_anno.HetDf>=1].shape)\n"
   ]
  },
  {
   "cell_type": "code",
   "execution_count": null,
   "id": "d628194a-a313-4e5c-816b-5bc2a0420112",
   "metadata": {},
   "outputs": [],
   "source": [
    "metal_results_anno.head()"
   ]
  },
  {
   "cell_type": "code",
   "execution_count": null,
   "id": "a408c91a-45aa-46e8-aab4-937fb362dec0",
   "metadata": {},
   "outputs": [],
   "source": [
    "metal_results_anno[metal_results_anno.HetDf>=1].to_csv(f\"{WRKDIR}/metal_results_annotated_new_multiple_datasets.csv\",index=None)"
   ]
  },
  {
   "cell_type": "markdown",
   "id": "eb2dda2b-665a-484e-aaed-9ca40f5d7d23",
   "metadata": {
    "tags": []
   },
   "source": [
    "## Check if top hits in all datasets"
   ]
  },
  {
   "cell_type": "code",
   "execution_count": null,
   "id": "7cda7286-85b8-4e51-bb41-a04081e943f8",
   "metadata": {},
   "outputs": [],
   "source": [
    "metal_results_anno = pd.read_csv(f\"{WRKDIR}/metal_results_annotated_new.csv\")\n",
    "print(metal_results_anno.head())"
   ]
  },
  {
   "cell_type": "code",
   "execution_count": null,
   "id": "db6e7d40-e189-4ebc-9807-4bbdfca2c3e6",
   "metadata": {},
   "outputs": [],
   "source": [
    "print(metal_results_anno.loc[(metal_results_anno['P-value']<0.05) ,].shape)\n",
    "print(metal_results_anno.loc[(metal_results_anno['P-value']<0.05/3387) ,].shape)"
   ]
  },
  {
   "cell_type": "code",
   "execution_count": null,
   "id": "5337badd-8027-4d30-8421-523af457c3b9",
   "metadata": {
    "tags": []
   },
   "outputs": [],
   "source": [
    "metal_results_anno.loc[(metal_results_anno['P-value']<0.05/3387) ,]"
   ]
  },
  {
   "cell_type": "code",
   "execution_count": null,
   "id": "7c069732-585c-40dc-9cad-bbee7ff43556",
   "metadata": {
    "tags": []
   },
   "outputs": [],
   "source": [
    "top_hits = metal_results_anno.loc[(metal_results_anno['P-value']<0.05/3320) ,]\n",
    "for index, row in top_hits.iterrows():\n",
    "\n",
    "    var = f\"{row.Start}_{row.Ref}_{row.Alt}\"\n",
    "    print(index)\n",
    "    print(var)\n",
    "    print(\"amppd\")\n",
    "    !grep {var} {WRKDIR}/y_male_only_bfiles/amppd_case_control_nogcs_logreg_filter.assoc.logistic\n",
    "    #!grep {var} {WRKDIR}/y_male_only_bfiles/amppd_lbd_case_control_nogcs_logreg_filter.assoc.logistic\n",
    "    print(\"neurox\")\n",
    "    !grep {var} {WRKDIR}/y_neurox/neurox_chrY_male_only_logreg_filter.assoc.logistic\n",
    "    print(\"ukbb cc\")\n",
    "    !grep {var} {WRKDIR}/y_ukbb/ukbb_chrY_case_control_logreg_filter.assoc.logistic\n",
    "    print(\"ukbb pc\")\n",
    "    !grep {var} {WRKDIR}/y_ukbb/ukbb_chrY_proxy_control_logreg_filter.assoc.logistic\n",
    "    print(\"\\n\")\n",
    "    \n",
    "    "
   ]
  },
  {
   "cell_type": "markdown",
   "id": "9876536c-2c0a-4f39-9bb0-f719f8bf734d",
   "metadata": {},
   "source": [
    "## Identify variants in multiple datasets"
   ]
  },
  {
   "cell_type": "code",
   "execution_count": null,
   "id": "70c42967-12fa-4dcb-98fd-61d6510652fe",
   "metadata": {},
   "outputs": [],
   "source": [
    "vars_df = pd.DataFrame()"
   ]
  },
  {
   "cell_type": "code",
   "execution_count": null,
   "id": "02aabea5-b649-4bd3-be96-b47c7d5dbc58",
   "metadata": {
    "tags": []
   },
   "outputs": [],
   "source": [
    "amp_pd = pd.read_table(f\"{WRKDIR}/y_male_only_bfiles/amppd_case_control_nogcs_logreg_filter.assoc.logistic\")\n",
    "amp_pd = amp_pd[['CHR_BP_A1_A2']]\n",
    "amp_pd['dataset'] = 'amp_pd'\n",
    "print(amp_pd.shape)\n",
    "print(amp_pd.head())\n",
    "\n",
    "vars_df = vars_df.append(amp_pd)\n",
    "print(vars_df.shape)"
   ]
  },
  {
   "cell_type": "code",
   "execution_count": null,
   "id": "8f83a5f7-7f5a-44ee-bd14-1a497466c4fa",
   "metadata": {
    "tags": []
   },
   "outputs": [],
   "source": [
    "neurox = pd.read_table(f\"{WRKDIR}/y_neurox/neurox_chrY_male_only_logreg_filter.assoc.logistic\")\n",
    "neurox = neurox[['CHR_BP_A1_A2']]\n",
    "neurox['dataset'] = 'neurox'\n",
    "print(neurox.shape)\n",
    "print(neurox.head())\n",
    "\n",
    "vars_df = vars_df.append(neurox)\n",
    "print(vars_df.shape)"
   ]
  },
  {
   "cell_type": "code",
   "execution_count": null,
   "id": "a05728fd-9da6-4764-b40d-5dfbf9e922a1",
   "metadata": {},
   "outputs": [],
   "source": [
    "ukbb_cc = pd.read_table(f\"{WRKDIR}/y_ukbb/ukbb_chrY_case_control_logreg_filter.assoc.logistic\")\n",
    "ukbb_cc = ukbb_cc[['CHR_BP_A1_A2']]\n",
    "ukbb_cc['dataset'] = 'ukbb_cc'\n",
    "print(ukbb_cc.shape)\n",
    "print(ukbb_cc.head())\n",
    "\n",
    "vars_df = vars_df.append(ukbb_cc)\n",
    "print(vars_df.shape)"
   ]
  },
  {
   "cell_type": "code",
   "execution_count": null,
   "id": "3d5b9a9c-7c0a-4cdc-9270-19315af80032",
   "metadata": {},
   "outputs": [],
   "source": [
    "ukbb_pc = pd.read_table(f\"{WRKDIR}/y_ukbb/ukbb_chrY_proxy_control_logreg_filter.assoc.logistic\")\n",
    "ukbb_pc = ukbb_pc[['CHR_BP_A1_A2']]\n",
    "ukbb_pc['dataset'] = 'ukbb_pc'\n",
    "print(ukbb_pc.shape)\n",
    "print(ukbb_pc.head())\n",
    "\n",
    "vars_df = vars_df.append(ukbb_pc)\n",
    "print(vars_df.shape)"
   ]
  },
  {
   "cell_type": "code",
   "execution_count": null,
   "id": "913aae3b-7c75-422a-9ca7-1200320ff46a",
   "metadata": {},
   "outputs": [],
   "source": [
    "freqs = pd.DataFrame(vars_df['CHR_BP_A1_A2'].value_counts())\n",
    "freqs"
   ]
  },
  {
   "cell_type": "code",
   "execution_count": null,
   "id": "fa466f13-a948-4076-8dee-256d8b88e6d2",
   "metadata": {},
   "outputs": [],
   "source": [
    "freqs[freqs['CHR_BP_A1_A2']==4]"
   ]
  },
  {
   "cell_type": "code",
   "execution_count": null,
   "id": "b16f311d-5a59-466f-991f-9a71a5e3d7a0",
   "metadata": {},
   "outputs": [],
   "source": [
    "freqs[freqs['CHR_BP_A1_A2']==3]"
   ]
  },
  {
   "cell_type": "code",
   "execution_count": null,
   "id": "f85137a7-21fa-4f2c-9f5a-5abccfaa3e3f",
   "metadata": {},
   "outputs": [],
   "source": [
    "freqs[freqs['CHR_BP_A1_A2']==2].shape"
   ]
  }
 ],
 "metadata": {
  "kernelspec": {
   "display_name": "python/3.6",
   "language": "python",
   "name": "py3.6"
  },
  "language_info": {
   "codemirror_mode": {
    "name": "ipython",
    "version": 3
   },
   "file_extension": ".py",
   "mimetype": "text/x-python",
   "name": "python",
   "nbconvert_exporter": "python",
   "pygments_lexer": "ipython3",
   "version": "3.6.10"
  }
 },
 "nbformat": 4,
 "nbformat_minor": 5
}
